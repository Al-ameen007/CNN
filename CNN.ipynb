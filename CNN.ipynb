{
  "cells": [
    {
      "cell_type": "markdown",
      "metadata": {
        "id": "view-in-github",
        "colab_type": "text"
      },
      "source": [
        "<a href=\"https://colab.research.google.com/github/Al-ameen007/CNN/blob/main/CNN.ipynb\" target=\"_parent\"><img src=\"https://colab.research.google.com/assets/colab-badge.svg\" alt=\"Open In Colab\"/></a>"
      ]
    },
    {
      "cell_type": "markdown",
      "source": [
        "#Importing the data and some preprocessing"
      ],
      "metadata": {
        "id": "8_zCodYOt9Kd"
      },
      "id": "8_zCodYOt9Kd"
    },
    {
      "cell_type": "code",
      "execution_count": 1,
      "id": "794a1cd9",
      "metadata": {
        "id": "794a1cd9"
      },
      "outputs": [],
      "source": [
        "import numpy as np\n",
        "from matplotlib import pyplot as plt\n",
        "import tensorflow\n",
        "from tensorflow import keras"
      ]
    },
    {
      "cell_type": "code",
      "execution_count": 2,
      "id": "1fee0949",
      "metadata": {
        "id": "1fee0949"
      },
      "outputs": [],
      "source": [
        "from tensorflow.keras.datasets import mnist\n",
        "(X_train, y_train), (X_test, y_test) = mnist.load_data()"
      ]
    },
    {
      "cell_type": "code",
      "execution_count": 3,
      "id": "66db5679",
      "metadata": {
        "id": "66db5679"
      },
      "outputs": [],
      "source": [
        "# Normalizing the data and one-hot encoding the labels\n",
        "from tensorflow.keras.utils import to_categorical\n",
        "X_train = X_train.astype('float32') / 255.0\n",
        "X_test = X_test.astype('float32') / 255.0\n",
        "y_train = to_categorical(y_train)\n",
        "y_test = to_categorical(y_test)"
      ]
    },
    {
      "cell_type": "code",
      "execution_count": 4,
      "id": "c506d3b4",
      "metadata": {
        "id": "c506d3b4"
      },
      "outputs": [],
      "source": [
        "# Splitting the data into training and validation sets as we want to save the test set for the evaluation of the best model\n",
        "from sklearn.model_selection import train_test_split\n",
        "X_train, X_val, y_train, y_val = train_test_split(X_train, y_train, test_size=0.15, random_state=42)"
      ]
    },
    {
      "cell_type": "code",
      "execution_count": 5,
      "id": "24e242ff",
      "metadata": {
        "id": "24e242ff"
      },
      "outputs": [],
      "source": [
        "from keras import models\n",
        "from keras import layers\n",
        "from tensorflow.keras import optimizers"
      ]
    },
    {
      "cell_type": "code",
      "source": [
        "saved_models = []\n",
        "accuracies = []"
      ],
      "metadata": {
        "id": "w09_wooZP5os"
      },
      "id": "w09_wooZP5os",
      "execution_count": 6,
      "outputs": []
    },
    {
      "cell_type": "markdown",
      "source": [
        "#Base Model"
      ],
      "metadata": {
        "id": "oXfn9o7xuijs"
      },
      "id": "oXfn9o7xuijs"
    },
    {
      "cell_type": "code",
      "execution_count": 7,
      "id": "46791caf",
      "metadata": {
        "id": "46791caf"
      },
      "outputs": [],
      "source": [
        "model = models.Sequential()\n",
        "model.add(layers.Conv2D(64, (5, 5), strides=(2, 2),activation='relu', kernel_initializer='truncated_normal', input_shape=(28, 28, 1)))\n",
        "model.add(layers.MaxPooling2D(pool_size=(2, 2), strides=(2, 2)))\n",
        "model.add(layers.Flatten())\n",
        "model.add(layers.Dense(64, activation='relu', kernel_initializer='he_uniform'))\n",
        "model.add(layers.Dense(10, activation='softmax'))"
      ]
    },
    {
      "cell_type": "code",
      "source": [
        "opt = optimizers.SGD(learning_rate=0.0001, momentum=0.9)\n",
        "opt_1 = optimizers.SGD(learning_rate=0.05, momentum=0.9)\n",
        "opt_2 = optimizers.SGD(learning_rate=0.001, momentum=0.9)\n",
        "opt_3 = optimizers.SGD(learning_rate=0.01, momentum=0.9)\n",
        "opt_4 = optimizers.Adam(learning_rate=0.01, beta_1=0.9, beta_2=0.999)\n",
        "opt_5 = optimizers.RMSprop(learning_rate=0.01, rho=0.9, momentum=0.1,)"
      ],
      "metadata": {
        "id": "o2qwrmHo8erm"
      },
      "id": "o2qwrmHo8erm",
      "execution_count": 8,
      "outputs": []
    },
    {
      "cell_type": "code",
      "source": [
        "def evaluate_model(saved_models, X, y):\n",
        "  best_model, best_model_idx = saved_models[0], 0\n",
        "  best_accuracy= (best_model.evaluate(X, y, verbose=1))[1]\n",
        "  for i in range(1, len(saved_models)):\n",
        "    loss, acc = saved_models[i].evaluate(X, y, verbose=1)\n",
        "    if acc > best_accuracy:\n",
        "      best_model, best_model_idx , best_accuracy= saved_models[i], i, acc\n",
        "  print('model: ' + str(best_model_idx + 1), 'accuracy: ' + str('%.2f'%(best_accuracy * 100) + ' %'))\n",
        "  return best_model, acc"
      ],
      "metadata": {
        "id": "YB5JmuuzDpiU"
      },
      "id": "YB5JmuuzDpiU",
      "execution_count": 37,
      "outputs": []
    },
    {
      "cell_type": "code",
      "source": [
        "def summaries(saved_models):\n",
        "  for model in saved_models:\n",
        "    model.summary()"
      ],
      "metadata": {
        "id": "DTy9l7jbaR3u"
      },
      "id": "DTy9l7jbaR3u",
      "execution_count": 10,
      "outputs": []
    },
    {
      "cell_type": "markdown",
      "source": [
        "#Trying differnt number of epochs"
      ],
      "metadata": {
        "id": "3J8hwjmlCxtp"
      },
      "id": "3J8hwjmlCxtp"
    },
    {
      "cell_type": "code",
      "source": [
        "model_1 = keras.models.clone_model(model)\n",
        "model_1.compile(optimizer=opt, loss='categorical_crossentropy', metrics=['accuracy'])\n",
        "history = model_1.fit(X_train, y_train, epochs=10, batch_size=32, shuffle=True,validation_data=(X_val, y_val), verbose=1)\n",
        "saved_models.append(model_1)"
      ],
      "metadata": {
        "colab": {
          "base_uri": "https://localhost:8080/"
        },
        "id": "3JLhPzqhC-v7",
        "outputId": "4e6b65ae-6606-4a7f-d72a-3cced45213a7"
      },
      "id": "3JLhPzqhC-v7",
      "execution_count": 11,
      "outputs": [
        {
          "output_type": "stream",
          "name": "stdout",
          "text": [
            "Epoch 1/10\n",
            "1594/1594 [==============================] - 20s 12ms/step - loss: 2.0366 - accuracy: 0.4922 - val_loss: 1.6412 - val_accuracy: 0.6759\n",
            "Epoch 2/10\n",
            "1594/1594 [==============================] - 14s 9ms/step - loss: 1.1477 - accuracy: 0.7566 - val_loss: 0.7950 - val_accuracy: 0.8073\n",
            "Epoch 3/10\n",
            "1594/1594 [==============================] - 14s 9ms/step - loss: 0.6402 - accuracy: 0.8387 - val_loss: 0.5403 - val_accuracy: 0.8599\n",
            "Epoch 4/10\n",
            "1594/1594 [==============================] - 13s 8ms/step - loss: 0.4833 - accuracy: 0.8723 - val_loss: 0.4399 - val_accuracy: 0.8812\n",
            "Epoch 5/10\n",
            "1594/1594 [==============================] - 14s 9ms/step - loss: 0.4127 - accuracy: 0.8871 - val_loss: 0.3872 - val_accuracy: 0.8922\n",
            "Epoch 6/10\n",
            "1594/1594 [==============================] - 13s 8ms/step - loss: 0.3714 - accuracy: 0.8967 - val_loss: 0.3513 - val_accuracy: 0.9024\n",
            "Epoch 7/10\n",
            "1594/1594 [==============================] - 13s 8ms/step - loss: 0.3436 - accuracy: 0.9023 - val_loss: 0.3270 - val_accuracy: 0.9083\n",
            "Epoch 8/10\n",
            "1594/1594 [==============================] - 15s 9ms/step - loss: 0.3228 - accuracy: 0.9075 - val_loss: 0.3090 - val_accuracy: 0.9142\n",
            "Epoch 9/10\n",
            "1594/1594 [==============================] - 14s 9ms/step - loss: 0.3059 - accuracy: 0.9128 - val_loss: 0.2929 - val_accuracy: 0.9170\n",
            "Epoch 10/10\n",
            "1594/1594 [==============================] - 14s 9ms/step - loss: 0.2917 - accuracy: 0.9160 - val_loss: 0.2801 - val_accuracy: 0.9209\n"
          ]
        }
      ]
    },
    {
      "cell_type": "code",
      "source": [
        "model_2 = keras.models.clone_model(model)\n",
        "model_2.compile(optimizer=opt, loss='categorical_crossentropy', metrics=['accuracy'])\n",
        "history = model_2.fit(X_train, y_train, epochs=15, batch_size=32, shuffle=True,validation_data=(X_val, y_val), verbose=1)\n",
        "saved_models.append(model_2)"
      ],
      "metadata": {
        "colab": {
          "base_uri": "https://localhost:8080/"
        },
        "id": "32hYEF52DLGJ",
        "outputId": "268fd239-7765-445a-9280-c186f6cba818"
      },
      "id": "32hYEF52DLGJ",
      "execution_count": 12,
      "outputs": [
        {
          "output_type": "stream",
          "name": "stdout",
          "text": [
            "Epoch 1/15\n",
            "1594/1594 [==============================] - 14s 9ms/step - loss: 2.0773 - accuracy: 0.3959 - val_loss: 1.6823 - val_accuracy: 0.6861\n",
            "Epoch 2/15\n",
            "1594/1594 [==============================] - 13s 8ms/step - loss: 1.1483 - accuracy: 0.7729 - val_loss: 0.7674 - val_accuracy: 0.8137\n",
            "Epoch 3/15\n",
            "1594/1594 [==============================] - 13s 8ms/step - loss: 0.6175 - accuracy: 0.8436 - val_loss: 0.5194 - val_accuracy: 0.8616\n",
            "Epoch 4/15\n",
            "1594/1594 [==============================] - 13s 8ms/step - loss: 0.4685 - accuracy: 0.8723 - val_loss: 0.4268 - val_accuracy: 0.8834\n",
            "Epoch 5/15\n",
            "1594/1594 [==============================] - 14s 9ms/step - loss: 0.4027 - accuracy: 0.8880 - val_loss: 0.3769 - val_accuracy: 0.8974\n",
            "Epoch 6/15\n",
            "1594/1594 [==============================] - 13s 8ms/step - loss: 0.3643 - accuracy: 0.8966 - val_loss: 0.3452 - val_accuracy: 0.9037\n",
            "Epoch 7/15\n",
            "1594/1594 [==============================] - 14s 9ms/step - loss: 0.3385 - accuracy: 0.9030 - val_loss: 0.3217 - val_accuracy: 0.9088\n",
            "Epoch 8/15\n",
            "1594/1594 [==============================] - 14s 9ms/step - loss: 0.3186 - accuracy: 0.9076 - val_loss: 0.3026 - val_accuracy: 0.9141\n",
            "Epoch 9/15\n",
            "1594/1594 [==============================] - 14s 9ms/step - loss: 0.3028 - accuracy: 0.9128 - val_loss: 0.2878 - val_accuracy: 0.9167\n",
            "Epoch 10/15\n",
            "1594/1594 [==============================] - 13s 8ms/step - loss: 0.2892 - accuracy: 0.9162 - val_loss: 0.2751 - val_accuracy: 0.9212\n",
            "Epoch 11/15\n",
            "1594/1594 [==============================] - 13s 8ms/step - loss: 0.2773 - accuracy: 0.9195 - val_loss: 0.2634 - val_accuracy: 0.9253\n",
            "Epoch 12/15\n",
            "1594/1594 [==============================] - 13s 8ms/step - loss: 0.2668 - accuracy: 0.9229 - val_loss: 0.2540 - val_accuracy: 0.9279\n",
            "Epoch 13/15\n",
            "1594/1594 [==============================] - 13s 8ms/step - loss: 0.2569 - accuracy: 0.9249 - val_loss: 0.2435 - val_accuracy: 0.9310\n",
            "Epoch 14/15\n",
            "1594/1594 [==============================] - 13s 8ms/step - loss: 0.2481 - accuracy: 0.9277 - val_loss: 0.2358 - val_accuracy: 0.9338\n",
            "Epoch 15/15\n",
            "1594/1594 [==============================] - 14s 9ms/step - loss: 0.2398 - accuracy: 0.9303 - val_loss: 0.2272 - val_accuracy: 0.9347\n"
          ]
        }
      ]
    },
    {
      "cell_type": "code",
      "source": [
        "model_3 = keras.models.clone_model(model)\n",
        "model_3.compile(optimizer=opt, loss='categorical_crossentropy', metrics=['accuracy'])\n",
        "history = model_3.fit(X_train, y_train, epochs=20, batch_size=32, shuffle=True,validation_data=(X_val, y_val), verbose=1)\n",
        "saved_models.append(model_3)"
      ],
      "metadata": {
        "colab": {
          "base_uri": "https://localhost:8080/"
        },
        "id": "Dy6ABdwbDLzB",
        "outputId": "e4135a24-06ae-4a73-aba7-7f39f4c7a6bc"
      },
      "id": "Dy6ABdwbDLzB",
      "execution_count": 13,
      "outputs": [
        {
          "output_type": "stream",
          "name": "stdout",
          "text": [
            "Epoch 1/20\n",
            "1594/1594 [==============================] - 14s 8ms/step - loss: 2.1850 - accuracy: 0.3206 - val_loss: 1.9642 - val_accuracy: 0.5496\n",
            "Epoch 2/20\n",
            "1594/1594 [==============================] - 13s 8ms/step - loss: 1.4464 - accuracy: 0.7207 - val_loss: 0.9474 - val_accuracy: 0.7947\n",
            "Epoch 3/20\n",
            "1594/1594 [==============================] - 13s 8ms/step - loss: 0.7138 - accuracy: 0.8301 - val_loss: 0.5720 - val_accuracy: 0.8520\n",
            "Epoch 4/20\n",
            "1594/1594 [==============================] - 14s 9ms/step - loss: 0.5036 - accuracy: 0.8665 - val_loss: 0.4529 - val_accuracy: 0.8750\n",
            "Epoch 5/20\n",
            "1594/1594 [==============================] - 13s 8ms/step - loss: 0.4225 - accuracy: 0.8846 - val_loss: 0.3943 - val_accuracy: 0.8904\n",
            "Epoch 6/20\n",
            "1594/1594 [==============================] - 14s 9ms/step - loss: 0.3781 - accuracy: 0.8937 - val_loss: 0.3585 - val_accuracy: 0.9003\n",
            "Epoch 7/20\n",
            "1594/1594 [==============================] - 14s 9ms/step - loss: 0.3490 - accuracy: 0.9006 - val_loss: 0.3341 - val_accuracy: 0.9066\n",
            "Epoch 8/20\n",
            "1594/1594 [==============================] - 14s 8ms/step - loss: 0.3274 - accuracy: 0.9054 - val_loss: 0.3141 - val_accuracy: 0.9090\n",
            "Epoch 9/20\n",
            "1594/1594 [==============================] - 13s 8ms/step - loss: 0.3102 - accuracy: 0.9101 - val_loss: 0.2976 - val_accuracy: 0.9143\n",
            "Epoch 10/20\n",
            "1594/1594 [==============================] - 14s 9ms/step - loss: 0.2955 - accuracy: 0.9139 - val_loss: 0.2843 - val_accuracy: 0.9191\n",
            "Epoch 11/20\n",
            "1594/1594 [==============================] - 14s 9ms/step - loss: 0.2824 - accuracy: 0.9179 - val_loss: 0.2717 - val_accuracy: 0.9232\n",
            "Epoch 12/20\n",
            "1594/1594 [==============================] - 13s 8ms/step - loss: 0.2707 - accuracy: 0.9215 - val_loss: 0.2609 - val_accuracy: 0.9263\n",
            "Epoch 13/20\n",
            "1594/1594 [==============================] - 14s 9ms/step - loss: 0.2602 - accuracy: 0.9244 - val_loss: 0.2516 - val_accuracy: 0.9284\n",
            "Epoch 14/20\n",
            "1594/1594 [==============================] - 13s 8ms/step - loss: 0.2503 - accuracy: 0.9272 - val_loss: 0.2425 - val_accuracy: 0.9310\n",
            "Epoch 15/20\n",
            "1594/1594 [==============================] - 14s 9ms/step - loss: 0.2414 - accuracy: 0.9297 - val_loss: 0.2331 - val_accuracy: 0.9328\n",
            "Epoch 16/20\n",
            "1594/1594 [==============================] - 14s 9ms/step - loss: 0.2329 - accuracy: 0.9321 - val_loss: 0.2248 - val_accuracy: 0.9351\n",
            "Epoch 17/20\n",
            "1594/1594 [==============================] - 13s 8ms/step - loss: 0.2249 - accuracy: 0.9350 - val_loss: 0.2173 - val_accuracy: 0.9364\n",
            "Epoch 18/20\n",
            "1594/1594 [==============================] - 13s 8ms/step - loss: 0.2173 - accuracy: 0.9367 - val_loss: 0.2104 - val_accuracy: 0.9393\n",
            "Epoch 19/20\n",
            "1594/1594 [==============================] - 13s 8ms/step - loss: 0.2101 - accuracy: 0.9386 - val_loss: 0.2039 - val_accuracy: 0.9414\n",
            "Epoch 20/20\n",
            "1594/1594 [==============================] - 13s 8ms/step - loss: 0.2034 - accuracy: 0.9405 - val_loss: 0.1988 - val_accuracy: 0.9428\n"
          ]
        }
      ]
    },
    {
      "cell_type": "code",
      "source": [
        "best_model, best_accuracy = evaluate_model(saved_models, X_test, y_test)"
      ],
      "metadata": {
        "colab": {
          "base_uri": "https://localhost:8080/"
        },
        "id": "sVzI96YfOMi8",
        "outputId": "bbd178f3-1b26-4dfe-8c92-a36a45edab42"
      },
      "id": "sVzI96YfOMi8",
      "execution_count": 14,
      "outputs": [
        {
          "output_type": "stream",
          "name": "stdout",
          "text": [
            "313/313 [==============================] - 1s 3ms/step - loss: 0.2686 - accuracy: 0.9252\n",
            "313/313 [==============================] - 1s 3ms/step - loss: 0.2191 - accuracy: 0.9382\n",
            "313/313 [==============================] - 1s 3ms/step - loss: 0.1862 - accuracy: 0.9476\n",
            "model: 3 accuracy: 94.76 %\n"
          ]
        }
      ]
    },
    {
      "cell_type": "code",
      "source": [
        "summaries(saved_models)"
      ],
      "metadata": {
        "colab": {
          "base_uri": "https://localhost:8080/"
        },
        "id": "TUYb6WQoaPiD",
        "outputId": "7aff05b2-bddc-4f35-9fc8-770a2a3e67f7"
      },
      "id": "TUYb6WQoaPiD",
      "execution_count": 15,
      "outputs": [
        {
          "output_type": "stream",
          "name": "stdout",
          "text": [
            "Model: \"sequential\"\n",
            "_________________________________________________________________\n",
            " Layer (type)                Output Shape              Param #   \n",
            "=================================================================\n",
            " conv2d (Conv2D)             (None, 12, 12, 64)        1664      \n",
            "                                                                 \n",
            " max_pooling2d (MaxPooling2D  (None, 6, 6, 64)         0         \n",
            " )                                                               \n",
            "                                                                 \n",
            " flatten (Flatten)           (None, 2304)              0         \n",
            "                                                                 \n",
            " dense (Dense)               (None, 64)                147520    \n",
            "                                                                 \n",
            " dense_1 (Dense)             (None, 10)                650       \n",
            "                                                                 \n",
            "=================================================================\n",
            "Total params: 149,834\n",
            "Trainable params: 149,834\n",
            "Non-trainable params: 0\n",
            "_________________________________________________________________\n",
            "Model: \"sequential\"\n",
            "_________________________________________________________________\n",
            " Layer (type)                Output Shape              Param #   \n",
            "=================================================================\n",
            " conv2d (Conv2D)             (None, 12, 12, 64)        1664      \n",
            "                                                                 \n",
            " max_pooling2d (MaxPooling2D  (None, 6, 6, 64)         0         \n",
            " )                                                               \n",
            "                                                                 \n",
            " flatten (Flatten)           (None, 2304)              0         \n",
            "                                                                 \n",
            " dense (Dense)               (None, 64)                147520    \n",
            "                                                                 \n",
            " dense_1 (Dense)             (None, 10)                650       \n",
            "                                                                 \n",
            "=================================================================\n",
            "Total params: 149,834\n",
            "Trainable params: 149,834\n",
            "Non-trainable params: 0\n",
            "_________________________________________________________________\n",
            "Model: \"sequential\"\n",
            "_________________________________________________________________\n",
            " Layer (type)                Output Shape              Param #   \n",
            "=================================================================\n",
            " conv2d (Conv2D)             (None, 12, 12, 64)        1664      \n",
            "                                                                 \n",
            " max_pooling2d (MaxPooling2D  (None, 6, 6, 64)         0         \n",
            " )                                                               \n",
            "                                                                 \n",
            " flatten (Flatten)           (None, 2304)              0         \n",
            "                                                                 \n",
            " dense (Dense)               (None, 64)                147520    \n",
            "                                                                 \n",
            " dense_1 (Dense)             (None, 10)                650       \n",
            "                                                                 \n",
            "=================================================================\n",
            "Total params: 149,834\n",
            "Trainable params: 149,834\n",
            "Non-trainable params: 0\n",
            "_________________________________________________________________\n"
          ]
        }
      ]
    },
    {
      "cell_type": "markdown",
      "source": [
        "#Trying different learning rates"
      ],
      "metadata": {
        "id": "14UIOoXWzq_P"
      },
      "id": "14UIOoXWzq_P"
    },
    {
      "cell_type": "markdown",
      "source": [
        "Model 3 was our best model so far, using 20 epochs, so we take it and apply different learning rates to see if we can get better results."
      ],
      "metadata": {
        "id": "RPMCVs8lcWSY"
      },
      "id": "RPMCVs8lcWSY"
    },
    {
      "cell_type": "code",
      "source": [
        "model_4 = keras.models.clone_model(best_model)\n",
        "opt_1 = optimizers.SGD(learning_rate=0.05, momentum=0.9)\n",
        "model_4.compile(optimizer=opt_1, loss='categorical_crossentropy', metrics=['accuracy'])\n",
        "history = model_4.fit(X_train, y_train, epochs=20, batch_size=32, shuffle=True,validation_data=(X_val, y_val), verbose=1)\n",
        "saved_models.append(model_4)"
      ],
      "metadata": {
        "colab": {
          "base_uri": "https://localhost:8080/"
        },
        "id": "inBcvI_-uvbt",
        "outputId": "616dbce0-1e76-4eed-b4f5-84855377b30b"
      },
      "id": "inBcvI_-uvbt",
      "execution_count": 16,
      "outputs": [
        {
          "output_type": "stream",
          "name": "stdout",
          "text": [
            "Epoch 1/20\n",
            "1594/1594 [==============================] - 13s 8ms/step - loss: 0.1658 - accuracy: 0.9486 - val_loss: 0.0748 - val_accuracy: 0.9759\n",
            "Epoch 2/20\n",
            "1594/1594 [==============================] - 13s 8ms/step - loss: 0.0634 - accuracy: 0.9802 - val_loss: 0.0999 - val_accuracy: 0.9727\n",
            "Epoch 3/20\n",
            "1594/1594 [==============================] - 13s 8ms/step - loss: 0.0476 - accuracy: 0.9852 - val_loss: 0.0667 - val_accuracy: 0.9789\n",
            "Epoch 4/20\n",
            "1594/1594 [==============================] - 13s 8ms/step - loss: 0.0352 - accuracy: 0.9890 - val_loss: 0.0562 - val_accuracy: 0.9852\n",
            "Epoch 5/20\n",
            "1594/1594 [==============================] - 13s 8ms/step - loss: 0.0293 - accuracy: 0.9905 - val_loss: 0.0540 - val_accuracy: 0.9856\n",
            "Epoch 6/20\n",
            "1594/1594 [==============================] - 13s 8ms/step - loss: 0.0228 - accuracy: 0.9926 - val_loss: 0.0696 - val_accuracy: 0.9839\n",
            "Epoch 7/20\n",
            "1594/1594 [==============================] - 13s 8ms/step - loss: 0.0167 - accuracy: 0.9946 - val_loss: 0.0629 - val_accuracy: 0.9852\n",
            "Epoch 8/20\n",
            "1594/1594 [==============================] - 13s 8ms/step - loss: 0.0164 - accuracy: 0.9947 - val_loss: 0.0994 - val_accuracy: 0.9809\n",
            "Epoch 9/20\n",
            "1594/1594 [==============================] - 13s 8ms/step - loss: 0.0213 - accuracy: 0.9933 - val_loss: 0.0864 - val_accuracy: 0.9847\n",
            "Epoch 10/20\n",
            "1594/1594 [==============================] - 13s 8ms/step - loss: 0.0160 - accuracy: 0.9949 - val_loss: 0.0657 - val_accuracy: 0.9878\n",
            "Epoch 11/20\n",
            "1594/1594 [==============================] - 13s 8ms/step - loss: 0.0099 - accuracy: 0.9968 - val_loss: 0.0780 - val_accuracy: 0.9872\n",
            "Epoch 12/20\n",
            "1594/1594 [==============================] - 13s 8ms/step - loss: 0.0167 - accuracy: 0.9953 - val_loss: 0.0715 - val_accuracy: 0.9864\n",
            "Epoch 13/20\n",
            "1594/1594 [==============================] - 13s 8ms/step - loss: 0.0116 - accuracy: 0.9964 - val_loss: 0.0862 - val_accuracy: 0.9879\n",
            "Epoch 14/20\n",
            "1594/1594 [==============================] - 13s 8ms/step - loss: 0.0085 - accuracy: 0.9974 - val_loss: 0.0756 - val_accuracy: 0.9890\n",
            "Epoch 15/20\n",
            "1594/1594 [==============================] - 13s 8ms/step - loss: 0.0130 - accuracy: 0.9959 - val_loss: 0.0986 - val_accuracy: 0.9856\n",
            "Epoch 16/20\n",
            "1594/1594 [==============================] - 13s 8ms/step - loss: 0.0182 - accuracy: 0.9948 - val_loss: 0.1022 - val_accuracy: 0.9846\n",
            "Epoch 17/20\n",
            "1594/1594 [==============================] - 13s 8ms/step - loss: 0.0218 - accuracy: 0.9945 - val_loss: 0.1447 - val_accuracy: 0.9803\n",
            "Epoch 18/20\n",
            "1594/1594 [==============================] - 13s 8ms/step - loss: 0.0122 - accuracy: 0.9966 - val_loss: 0.1284 - val_accuracy: 0.9849\n",
            "Epoch 19/20\n",
            "1594/1594 [==============================] - 13s 8ms/step - loss: 0.0179 - accuracy: 0.9954 - val_loss: 0.1258 - val_accuracy: 0.9839\n",
            "Epoch 20/20\n",
            "1594/1594 [==============================] - 13s 8ms/step - loss: 0.0230 - accuracy: 0.9937 - val_loss: 0.1435 - val_accuracy: 0.9798\n"
          ]
        }
      ]
    },
    {
      "cell_type": "code",
      "execution_count": 17,
      "id": "25816a3d",
      "metadata": {
        "colab": {
          "base_uri": "https://localhost:8080/"
        },
        "id": "25816a3d",
        "outputId": "7c7f5c9a-54c5-495a-d30a-4bb5cc9c402c"
      },
      "outputs": [
        {
          "output_type": "stream",
          "name": "stdout",
          "text": [
            "Epoch 1/20\n",
            "1594/1594 [==============================] - 14s 8ms/step - loss: 0.7059 - accuracy: 0.8079 - val_loss: 0.2941 - val_accuracy: 0.9141\n",
            "Epoch 2/20\n",
            "1594/1594 [==============================] - 13s 8ms/step - loss: 0.2603 - accuracy: 0.9233 - val_loss: 0.2177 - val_accuracy: 0.9383\n",
            "Epoch 3/20\n",
            "1594/1594 [==============================] - 13s 8ms/step - loss: 0.1897 - accuracy: 0.9447 - val_loss: 0.1551 - val_accuracy: 0.9551\n",
            "Epoch 4/20\n",
            "1594/1594 [==============================] - 13s 8ms/step - loss: 0.1459 - accuracy: 0.9577 - val_loss: 0.1273 - val_accuracy: 0.9638\n",
            "Epoch 5/20\n",
            "1594/1594 [==============================] - 13s 8ms/step - loss: 0.1197 - accuracy: 0.9651 - val_loss: 0.1077 - val_accuracy: 0.9691\n",
            "Epoch 6/20\n",
            "1594/1594 [==============================] - 13s 8ms/step - loss: 0.1024 - accuracy: 0.9705 - val_loss: 0.0990 - val_accuracy: 0.9707\n",
            "Epoch 7/20\n",
            "1594/1594 [==============================] - 13s 8ms/step - loss: 0.0913 - accuracy: 0.9733 - val_loss: 0.0905 - val_accuracy: 0.9738\n",
            "Epoch 8/20\n",
            "1594/1594 [==============================] - 14s 9ms/step - loss: 0.0823 - accuracy: 0.9751 - val_loss: 0.0799 - val_accuracy: 0.9762\n",
            "Epoch 9/20\n",
            "1594/1594 [==============================] - 14s 9ms/step - loss: 0.0753 - accuracy: 0.9780 - val_loss: 0.0752 - val_accuracy: 0.9771\n",
            "Epoch 10/20\n",
            "1594/1594 [==============================] - 13s 8ms/step - loss: 0.0695 - accuracy: 0.9797 - val_loss: 0.0684 - val_accuracy: 0.9798\n",
            "Epoch 11/20\n",
            "1594/1594 [==============================] - 13s 8ms/step - loss: 0.0641 - accuracy: 0.9809 - val_loss: 0.0689 - val_accuracy: 0.9796\n",
            "Epoch 12/20\n",
            "1594/1594 [==============================] - 13s 8ms/step - loss: 0.0601 - accuracy: 0.9820 - val_loss: 0.0645 - val_accuracy: 0.9803\n",
            "Epoch 13/20\n",
            "1594/1594 [==============================] - 14s 9ms/step - loss: 0.0565 - accuracy: 0.9835 - val_loss: 0.0632 - val_accuracy: 0.9814\n",
            "Epoch 14/20\n",
            "1594/1594 [==============================] - 13s 8ms/step - loss: 0.0536 - accuracy: 0.9846 - val_loss: 0.0616 - val_accuracy: 0.9823\n",
            "Epoch 15/20\n",
            "1594/1594 [==============================] - 14s 8ms/step - loss: 0.0503 - accuracy: 0.9852 - val_loss: 0.0573 - val_accuracy: 0.9830\n",
            "Epoch 16/20\n",
            "1594/1594 [==============================] - 14s 9ms/step - loss: 0.0480 - accuracy: 0.9859 - val_loss: 0.0560 - val_accuracy: 0.9837\n",
            "Epoch 17/20\n",
            "1594/1594 [==============================] - 13s 8ms/step - loss: 0.0456 - accuracy: 0.9870 - val_loss: 0.0523 - val_accuracy: 0.9850\n",
            "Epoch 18/20\n",
            "1594/1594 [==============================] - 13s 8ms/step - loss: 0.0439 - accuracy: 0.9871 - val_loss: 0.0535 - val_accuracy: 0.9839\n",
            "Epoch 19/20\n",
            "1594/1594 [==============================] - 13s 8ms/step - loss: 0.0416 - accuracy: 0.9877 - val_loss: 0.0542 - val_accuracy: 0.9848\n",
            "Epoch 20/20\n",
            "1594/1594 [==============================] - 13s 8ms/step - loss: 0.0399 - accuracy: 0.9885 - val_loss: 0.0512 - val_accuracy: 0.9858\n"
          ]
        }
      ],
      "source": [
        "model_5 = keras.models.clone_model(best_model)\n",
        "model_5.compile(optimizer=opt_2, loss='categorical_crossentropy', metrics=['accuracy'])\n",
        "history = model_5.fit(X_train, y_train, epochs=20, batch_size=32, shuffle=True,validation_data=(X_val, y_val), verbose=1)\n",
        "saved_models.append(model_5)"
      ]
    },
    {
      "cell_type": "code",
      "execution_count": 18,
      "id": "b4585d13",
      "metadata": {
        "colab": {
          "base_uri": "https://localhost:8080/"
        },
        "id": "b4585d13",
        "outputId": "8f4ac4e4-0539-48e9-dc35-d0502740f23b"
      },
      "outputs": [
        {
          "output_type": "stream",
          "name": "stdout",
          "text": [
            "Epoch 1/20\n",
            "1594/1594 [==============================] - 14s 9ms/step - loss: 0.2466 - accuracy: 0.9250 - val_loss: 0.0920 - val_accuracy: 0.9708\n",
            "Epoch 2/20\n",
            "1594/1594 [==============================] - 13s 8ms/step - loss: 0.0718 - accuracy: 0.9785 - val_loss: 0.0598 - val_accuracy: 0.9824\n",
            "Epoch 3/20\n",
            "1594/1594 [==============================] - 13s 8ms/step - loss: 0.0514 - accuracy: 0.9838 - val_loss: 0.0460 - val_accuracy: 0.9868\n",
            "Epoch 4/20\n",
            "1594/1594 [==============================] - 13s 8ms/step - loss: 0.0405 - accuracy: 0.9875 - val_loss: 0.0466 - val_accuracy: 0.9864\n",
            "Epoch 5/20\n",
            "1594/1594 [==============================] - 13s 8ms/step - loss: 0.0317 - accuracy: 0.9906 - val_loss: 0.0412 - val_accuracy: 0.9874\n",
            "Epoch 6/20\n",
            "1594/1594 [==============================] - 13s 8ms/step - loss: 0.0267 - accuracy: 0.9918 - val_loss: 0.0388 - val_accuracy: 0.9891\n",
            "Epoch 7/20\n",
            "1594/1594 [==============================] - 13s 8ms/step - loss: 0.0204 - accuracy: 0.9937 - val_loss: 0.0400 - val_accuracy: 0.9884\n",
            "Epoch 8/20\n",
            "1594/1594 [==============================] - 13s 8ms/step - loss: 0.0180 - accuracy: 0.9948 - val_loss: 0.0409 - val_accuracy: 0.9882\n",
            "Epoch 9/20\n",
            "1594/1594 [==============================] - 13s 8ms/step - loss: 0.0137 - accuracy: 0.9963 - val_loss: 0.0385 - val_accuracy: 0.9897\n",
            "Epoch 10/20\n",
            "1594/1594 [==============================] - 13s 8ms/step - loss: 0.0111 - accuracy: 0.9967 - val_loss: 0.0387 - val_accuracy: 0.9898\n",
            "Epoch 11/20\n",
            "1594/1594 [==============================] - 13s 8ms/step - loss: 0.0093 - accuracy: 0.9977 - val_loss: 0.0424 - val_accuracy: 0.9896\n",
            "Epoch 12/20\n",
            "1594/1594 [==============================] - 13s 8ms/step - loss: 0.0078 - accuracy: 0.9978 - val_loss: 0.0414 - val_accuracy: 0.9898\n",
            "Epoch 13/20\n",
            "1594/1594 [==============================] - 14s 8ms/step - loss: 0.0057 - accuracy: 0.9987 - val_loss: 0.0425 - val_accuracy: 0.9897\n",
            "Epoch 14/20\n",
            "1594/1594 [==============================] - 13s 8ms/step - loss: 0.0055 - accuracy: 0.9986 - val_loss: 0.0421 - val_accuracy: 0.9899\n",
            "Epoch 15/20\n",
            "1594/1594 [==============================] - 13s 8ms/step - loss: 0.0038 - accuracy: 0.9993 - val_loss: 0.0451 - val_accuracy: 0.9893\n",
            "Epoch 16/20\n",
            "1594/1594 [==============================] - 13s 8ms/step - loss: 0.0030 - accuracy: 0.9995 - val_loss: 0.0418 - val_accuracy: 0.9902\n",
            "Epoch 17/20\n",
            "1594/1594 [==============================] - 13s 8ms/step - loss: 0.0025 - accuracy: 0.9995 - val_loss: 0.0440 - val_accuracy: 0.9896\n",
            "Epoch 18/20\n",
            "1594/1594 [==============================] - 13s 8ms/step - loss: 0.0022 - accuracy: 0.9997 - val_loss: 0.0423 - val_accuracy: 0.9907\n",
            "Epoch 19/20\n",
            "1594/1594 [==============================] - 13s 8ms/step - loss: 0.0013 - accuracy: 0.9999 - val_loss: 0.0446 - val_accuracy: 0.9903\n",
            "Epoch 20/20\n",
            "1594/1594 [==============================] - 13s 8ms/step - loss: 0.0011 - accuracy: 0.9999 - val_loss: 0.0461 - val_accuracy: 0.9896\n"
          ]
        }
      ],
      "source": [
        "model_6 = keras.models.clone_model(best_model)\n",
        "model_6.compile(optimizer=opt_3, loss='categorical_crossentropy', metrics=['accuracy'])\n",
        "history = model_6.fit(X_train, y_train, epochs=20, batch_size=32, shuffle=True,validation_data=(X_val, y_val), verbose=1)\n",
        "saved_models.append(model_6)"
      ]
    },
    {
      "cell_type": "code",
      "source": [
        "best_model, best_accuracy = evaluate_model(saved_models, X_test, y_test)"
      ],
      "metadata": {
        "colab": {
          "base_uri": "https://localhost:8080/"
        },
        "id": "ee9Ub2DSQ-1r",
        "outputId": "f10d2071-bcc3-4bb4-d19f-237daa511b44"
      },
      "id": "ee9Ub2DSQ-1r",
      "execution_count": 19,
      "outputs": [
        {
          "output_type": "stream",
          "name": "stdout",
          "text": [
            "313/313 [==============================] - 1s 3ms/step - loss: 0.2686 - accuracy: 0.9252\n",
            "313/313 [==============================] - 1s 3ms/step - loss: 0.2191 - accuracy: 0.9382\n",
            "313/313 [==============================] - 1s 3ms/step - loss: 0.1862 - accuracy: 0.9476\n",
            "313/313 [==============================] - 1s 3ms/step - loss: 0.1311 - accuracy: 0.9809\n",
            "313/313 [==============================] - 1s 3ms/step - loss: 0.0436 - accuracy: 0.9853\n",
            "313/313 [==============================] - 1s 3ms/step - loss: 0.0385 - accuracy: 0.9891\n",
            "model: 6 accuracy: 98.91 %\n"
          ]
        }
      ]
    },
    {
      "cell_type": "code",
      "source": [
        "summaries(saved_models)"
      ],
      "metadata": {
        "colab": {
          "base_uri": "https://localhost:8080/"
        },
        "id": "c4P7K806chhN",
        "outputId": "ebe98c26-7b58-4cfc-83f5-8dd2fbaa19aa"
      },
      "id": "c4P7K806chhN",
      "execution_count": 20,
      "outputs": [
        {
          "output_type": "stream",
          "name": "stdout",
          "text": [
            "Model: \"sequential\"\n",
            "_________________________________________________________________\n",
            " Layer (type)                Output Shape              Param #   \n",
            "=================================================================\n",
            " conv2d (Conv2D)             (None, 12, 12, 64)        1664      \n",
            "                                                                 \n",
            " max_pooling2d (MaxPooling2D  (None, 6, 6, 64)         0         \n",
            " )                                                               \n",
            "                                                                 \n",
            " flatten (Flatten)           (None, 2304)              0         \n",
            "                                                                 \n",
            " dense (Dense)               (None, 64)                147520    \n",
            "                                                                 \n",
            " dense_1 (Dense)             (None, 10)                650       \n",
            "                                                                 \n",
            "=================================================================\n",
            "Total params: 149,834\n",
            "Trainable params: 149,834\n",
            "Non-trainable params: 0\n",
            "_________________________________________________________________\n",
            "Model: \"sequential\"\n",
            "_________________________________________________________________\n",
            " Layer (type)                Output Shape              Param #   \n",
            "=================================================================\n",
            " conv2d (Conv2D)             (None, 12, 12, 64)        1664      \n",
            "                                                                 \n",
            " max_pooling2d (MaxPooling2D  (None, 6, 6, 64)         0         \n",
            " )                                                               \n",
            "                                                                 \n",
            " flatten (Flatten)           (None, 2304)              0         \n",
            "                                                                 \n",
            " dense (Dense)               (None, 64)                147520    \n",
            "                                                                 \n",
            " dense_1 (Dense)             (None, 10)                650       \n",
            "                                                                 \n",
            "=================================================================\n",
            "Total params: 149,834\n",
            "Trainable params: 149,834\n",
            "Non-trainable params: 0\n",
            "_________________________________________________________________\n",
            "Model: \"sequential\"\n",
            "_________________________________________________________________\n",
            " Layer (type)                Output Shape              Param #   \n",
            "=================================================================\n",
            " conv2d (Conv2D)             (None, 12, 12, 64)        1664      \n",
            "                                                                 \n",
            " max_pooling2d (MaxPooling2D  (None, 6, 6, 64)         0         \n",
            " )                                                               \n",
            "                                                                 \n",
            " flatten (Flatten)           (None, 2304)              0         \n",
            "                                                                 \n",
            " dense (Dense)               (None, 64)                147520    \n",
            "                                                                 \n",
            " dense_1 (Dense)             (None, 10)                650       \n",
            "                                                                 \n",
            "=================================================================\n",
            "Total params: 149,834\n",
            "Trainable params: 149,834\n",
            "Non-trainable params: 0\n",
            "_________________________________________________________________\n",
            "Model: \"sequential\"\n",
            "_________________________________________________________________\n",
            " Layer (type)                Output Shape              Param #   \n",
            "=================================================================\n",
            " conv2d (Conv2D)             (None, 12, 12, 64)        1664      \n",
            "                                                                 \n",
            " max_pooling2d (MaxPooling2D  (None, 6, 6, 64)         0         \n",
            " )                                                               \n",
            "                                                                 \n",
            " flatten (Flatten)           (None, 2304)              0         \n",
            "                                                                 \n",
            " dense (Dense)               (None, 64)                147520    \n",
            "                                                                 \n",
            " dense_1 (Dense)             (None, 10)                650       \n",
            "                                                                 \n",
            "=================================================================\n",
            "Total params: 149,834\n",
            "Trainable params: 149,834\n",
            "Non-trainable params: 0\n",
            "_________________________________________________________________\n",
            "Model: \"sequential\"\n",
            "_________________________________________________________________\n",
            " Layer (type)                Output Shape              Param #   \n",
            "=================================================================\n",
            " conv2d (Conv2D)             (None, 12, 12, 64)        1664      \n",
            "                                                                 \n",
            " max_pooling2d (MaxPooling2D  (None, 6, 6, 64)         0         \n",
            " )                                                               \n",
            "                                                                 \n",
            " flatten (Flatten)           (None, 2304)              0         \n",
            "                                                                 \n",
            " dense (Dense)               (None, 64)                147520    \n",
            "                                                                 \n",
            " dense_1 (Dense)             (None, 10)                650       \n",
            "                                                                 \n",
            "=================================================================\n",
            "Total params: 149,834\n",
            "Trainable params: 149,834\n",
            "Non-trainable params: 0\n",
            "_________________________________________________________________\n",
            "Model: \"sequential\"\n",
            "_________________________________________________________________\n",
            " Layer (type)                Output Shape              Param #   \n",
            "=================================================================\n",
            " conv2d (Conv2D)             (None, 12, 12, 64)        1664      \n",
            "                                                                 \n",
            " max_pooling2d (MaxPooling2D  (None, 6, 6, 64)         0         \n",
            " )                                                               \n",
            "                                                                 \n",
            " flatten (Flatten)           (None, 2304)              0         \n",
            "                                                                 \n",
            " dense (Dense)               (None, 64)                147520    \n",
            "                                                                 \n",
            " dense_1 (Dense)             (None, 10)                650       \n",
            "                                                                 \n",
            "=================================================================\n",
            "Total params: 149,834\n",
            "Trainable params: 149,834\n",
            "Non-trainable params: 0\n",
            "_________________________________________________________________\n"
          ]
        }
      ]
    },
    {
      "cell_type": "markdown",
      "source": [
        "#Trying different architectures"
      ],
      "metadata": {
        "id": "lfacKEPLzw8o"
      },
      "id": "lfacKEPLzw8o"
    },
    {
      "cell_type": "markdown",
      "source": [
        "Our last model was our best model, with 20 epochs and a learning rate of 0.01, we will try and explore different architectures."
      ],
      "metadata": {
        "id": "-rpxMJOFdCvL"
      },
      "id": "-rpxMJOFdCvL"
    },
    {
      "cell_type": "code",
      "execution_count": 21,
      "id": "42f32926",
      "metadata": {
        "id": "42f32926"
      },
      "outputs": [],
      "source": [
        "model_7 = models.Sequential()\n",
        "model_7.add(layers.Conv2D(32, (3, 3), activation='relu', kernel_initializer='he_uniform', input_shape=(28, 28, 1)))\n",
        "model_7.add(layers.MaxPooling2D(pool_size=(2, 2), strides=(2, 2)))\n",
        "model_7.add(layers.Conv2D(32, (3, 3), activation='relu', kernel_initializer='he_uniform'))\n",
        "model_7.add(layers.MaxPooling2D(pool_size=(2, 2), strides=(2, 2)))\n",
        "model_7.add(layers.Flatten())\n",
        "model_7.add(layers.Dense(64, activation='relu', kernel_initializer='he_uniform'))\n",
        "model_7.add(layers.Dense(32, activation='relu', kernel_initializer='he_uniform'))\n",
        "model_7.add(layers.Dense(10, activation='softmax'))"
      ]
    },
    {
      "cell_type": "code",
      "source": [
        "model_7.compile(optimizer=opt_3, loss='categorical_crossentropy', metrics=['accuracy'])\n",
        "history = model_7.fit(X_train, y_train, epochs=20, batch_size=32, shuffle=True,validation_data=(X_val, y_val), verbose=1)\n",
        "saved_models.append(model_7)"
      ],
      "metadata": {
        "colab": {
          "base_uri": "https://localhost:8080/"
        },
        "id": "DwmF_ats2X5c",
        "outputId": "4b92fc2d-e39f-4054-b3f4-4d9d9809d03c"
      },
      "id": "DwmF_ats2X5c",
      "execution_count": 22,
      "outputs": [
        {
          "output_type": "stream",
          "name": "stdout",
          "text": [
            "Epoch 1/20\n",
            "1594/1594 [==============================] - 35s 21ms/step - loss: 0.1805 - accuracy: 0.9434 - val_loss: 0.0621 - val_accuracy: 0.9809\n",
            "Epoch 2/20\n",
            "1594/1594 [==============================] - 34s 22ms/step - loss: 0.0592 - accuracy: 0.9818 - val_loss: 0.0594 - val_accuracy: 0.9829\n",
            "Epoch 3/20\n",
            "1594/1594 [==============================] - 36s 22ms/step - loss: 0.0423 - accuracy: 0.9863 - val_loss: 0.0421 - val_accuracy: 0.9877\n",
            "Epoch 4/20\n",
            "1594/1594 [==============================] - 35s 22ms/step - loss: 0.0332 - accuracy: 0.9894 - val_loss: 0.0491 - val_accuracy: 0.9858\n",
            "Epoch 5/20\n",
            "1594/1594 [==============================] - 35s 22ms/step - loss: 0.0262 - accuracy: 0.9917 - val_loss: 0.0643 - val_accuracy: 0.9812\n",
            "Epoch 6/20\n",
            "1594/1594 [==============================] - 35s 22ms/step - loss: 0.0206 - accuracy: 0.9933 - val_loss: 0.0454 - val_accuracy: 0.9881\n",
            "Epoch 7/20\n",
            "1594/1594 [==============================] - 35s 22ms/step - loss: 0.0174 - accuracy: 0.9947 - val_loss: 0.0415 - val_accuracy: 0.9892\n",
            "Epoch 8/20\n",
            "1594/1594 [==============================] - 35s 22ms/step - loss: 0.0150 - accuracy: 0.9953 - val_loss: 0.0584 - val_accuracy: 0.9853\n",
            "Epoch 9/20\n",
            "1594/1594 [==============================] - 35s 22ms/step - loss: 0.0117 - accuracy: 0.9962 - val_loss: 0.0613 - val_accuracy: 0.9854\n",
            "Epoch 10/20\n",
            "1594/1594 [==============================] - 35s 22ms/step - loss: 0.0109 - accuracy: 0.9961 - val_loss: 0.0545 - val_accuracy: 0.9873\n",
            "Epoch 11/20\n",
            "1594/1594 [==============================] - 46s 29ms/step - loss: 0.0088 - accuracy: 0.9971 - val_loss: 0.0439 - val_accuracy: 0.9906\n",
            "Epoch 12/20\n",
            "1594/1594 [==============================] - 38s 24ms/step - loss: 0.0074 - accuracy: 0.9977 - val_loss: 0.0530 - val_accuracy: 0.9892\n",
            "Epoch 13/20\n",
            "1594/1594 [==============================] - 39s 24ms/step - loss: 0.0091 - accuracy: 0.9971 - val_loss: 0.0559 - val_accuracy: 0.9892\n",
            "Epoch 14/20\n",
            "1594/1594 [==============================] - 35s 22ms/step - loss: 0.0058 - accuracy: 0.9981 - val_loss: 0.0545 - val_accuracy: 0.9898\n",
            "Epoch 15/20\n",
            "1594/1594 [==============================] - 37s 23ms/step - loss: 0.0033 - accuracy: 0.9989 - val_loss: 0.0479 - val_accuracy: 0.9900\n",
            "Epoch 16/20\n",
            "1594/1594 [==============================] - 46s 29ms/step - loss: 0.0044 - accuracy: 0.9987 - val_loss: 0.0646 - val_accuracy: 0.9896\n",
            "Epoch 17/20\n",
            "1594/1594 [==============================] - 37s 23ms/step - loss: 0.0076 - accuracy: 0.9975 - val_loss: 0.0563 - val_accuracy: 0.9903\n",
            "Epoch 18/20\n",
            "1594/1594 [==============================] - 35s 22ms/step - loss: 0.0041 - accuracy: 0.9987 - val_loss: 0.0543 - val_accuracy: 0.9909\n",
            "Epoch 19/20\n",
            "1594/1594 [==============================] - 35s 22ms/step - loss: 0.0011 - accuracy: 0.9997 - val_loss: 0.0541 - val_accuracy: 0.9910\n",
            "Epoch 20/20\n",
            "1594/1594 [==============================] - 35s 22ms/step - loss: 9.1099e-04 - accuracy: 0.9997 - val_loss: 0.0576 - val_accuracy: 0.9904\n"
          ]
        }
      ]
    },
    {
      "cell_type": "code",
      "source": [
        "model_8 = models.Sequential()\n",
        "model_8.add(layers.Conv2D(16, (3, 3), strides = (2, 2),activation='relu', kernel_initializer='he_uniform', input_shape=(28, 28, 1)))\n",
        "model_8.add(layers.MaxPooling2D(pool_size=(2, 2), strides=(2, 2)))\n",
        "model_8.add(layers.Conv2D(32, (3, 3), strides = (2, 2),activation='relu', kernel_initializer='he_uniform'))\n",
        "model_8.add(layers.MaxPooling2D(pool_size=(2, 2), strides=(2, 2)))\n",
        "model_8.add(layers.Flatten())\n",
        "model_8.add(layers.Dense(64, activation='relu', kernel_initializer='he_uniform'))\n",
        "model_8.add(layers.Dense(32, activation='relu', kernel_initializer='he_uniform'))\n",
        "model_8.add(layers.Dense(10, activation='softmax'))"
      ],
      "metadata": {
        "id": "WqT_Zr8uQUK2"
      },
      "id": "WqT_Zr8uQUK2",
      "execution_count": 23,
      "outputs": []
    },
    {
      "cell_type": "code",
      "source": [
        "model_8.compile(optimizer=opt_3, loss='categorical_crossentropy', metrics=['accuracy'])\n",
        "history = model_8.fit(X_train, y_train, epochs=20, batch_size=32, shuffle=True,validation_data=(X_val, y_val), verbose=1)\n",
        "saved_models.append(model_8)"
      ],
      "metadata": {
        "colab": {
          "base_uri": "https://localhost:8080/"
        },
        "id": "3-k560kDQVps",
        "outputId": "f31de7b0-dad8-46bf-83ac-127e10808562"
      },
      "id": "3-k560kDQVps",
      "execution_count": 24,
      "outputs": [
        {
          "output_type": "stream",
          "name": "stdout",
          "text": [
            "Epoch 1/20\n",
            "1594/1594 [==============================] - 8s 5ms/step - loss: 0.4609 - accuracy: 0.8489 - val_loss: 0.2070 - val_accuracy: 0.9363\n",
            "Epoch 2/20\n",
            "1594/1594 [==============================] - 8s 5ms/step - loss: 0.1761 - accuracy: 0.9468 - val_loss: 0.1362 - val_accuracy: 0.9594\n",
            "Epoch 3/20\n",
            "1594/1594 [==============================] - 8s 5ms/step - loss: 0.1358 - accuracy: 0.9589 - val_loss: 0.1484 - val_accuracy: 0.9524\n",
            "Epoch 4/20\n",
            "1594/1594 [==============================] - 8s 5ms/step - loss: 0.1218 - accuracy: 0.9624 - val_loss: 0.1166 - val_accuracy: 0.9636\n",
            "Epoch 5/20\n",
            "1594/1594 [==============================] - 8s 5ms/step - loss: 0.1063 - accuracy: 0.9671 - val_loss: 0.1374 - val_accuracy: 0.9586\n",
            "Epoch 6/20\n",
            "1594/1594 [==============================] - 8s 5ms/step - loss: 0.0995 - accuracy: 0.9686 - val_loss: 0.1316 - val_accuracy: 0.9609\n",
            "Epoch 7/20\n",
            "1594/1594 [==============================] - 9s 5ms/step - loss: 0.0907 - accuracy: 0.9718 - val_loss: 0.1318 - val_accuracy: 0.9608\n",
            "Epoch 8/20\n",
            "1594/1594 [==============================] - 8s 5ms/step - loss: 0.0822 - accuracy: 0.9743 - val_loss: 0.1259 - val_accuracy: 0.9606\n",
            "Epoch 9/20\n",
            "1594/1594 [==============================] - 9s 5ms/step - loss: 0.0789 - accuracy: 0.9753 - val_loss: 0.1371 - val_accuracy: 0.9614\n",
            "Epoch 10/20\n",
            "1594/1594 [==============================] - 8s 5ms/step - loss: 0.0778 - accuracy: 0.9755 - val_loss: 0.1177 - val_accuracy: 0.9674\n",
            "Epoch 11/20\n",
            "1594/1594 [==============================] - 8s 5ms/step - loss: 0.0709 - accuracy: 0.9770 - val_loss: 0.1283 - val_accuracy: 0.9620\n",
            "Epoch 12/20\n",
            "1594/1594 [==============================] - 8s 5ms/step - loss: 0.0696 - accuracy: 0.9776 - val_loss: 0.1024 - val_accuracy: 0.9706\n",
            "Epoch 13/20\n",
            "1594/1594 [==============================] - 8s 5ms/step - loss: 0.0646 - accuracy: 0.9788 - val_loss: 0.1164 - val_accuracy: 0.9690\n",
            "Epoch 14/20\n",
            "1594/1594 [==============================] - 7s 5ms/step - loss: 0.0632 - accuracy: 0.9797 - val_loss: 0.1140 - val_accuracy: 0.9688\n",
            "Epoch 15/20\n",
            "1594/1594 [==============================] - 7s 5ms/step - loss: 0.0593 - accuracy: 0.9805 - val_loss: 0.1117 - val_accuracy: 0.9698\n",
            "Epoch 16/20\n",
            "1594/1594 [==============================] - 7s 5ms/step - loss: 0.0576 - accuracy: 0.9816 - val_loss: 0.1227 - val_accuracy: 0.9663\n",
            "Epoch 17/20\n",
            "1594/1594 [==============================] - 7s 5ms/step - loss: 0.0560 - accuracy: 0.9818 - val_loss: 0.0990 - val_accuracy: 0.9722\n",
            "Epoch 18/20\n",
            "1594/1594 [==============================] - 8s 5ms/step - loss: 0.0521 - accuracy: 0.9828 - val_loss: 0.1203 - val_accuracy: 0.9667\n",
            "Epoch 19/20\n",
            "1594/1594 [==============================] - 7s 5ms/step - loss: 0.0513 - accuracy: 0.9828 - val_loss: 0.1231 - val_accuracy: 0.9669\n",
            "Epoch 20/20\n",
            "1594/1594 [==============================] - 7s 5ms/step - loss: 0.0496 - accuracy: 0.9836 - val_loss: 0.1089 - val_accuracy: 0.9718\n"
          ]
        }
      ]
    },
    {
      "cell_type": "code",
      "source": [
        "model_9 = models.Sequential()\n",
        "model_9.add(layers.Conv2D(32, (3, 3), activation='relu', kernel_initializer='he_uniform', input_shape=(28, 28, 1)))\n",
        "model_9.add(layers.MaxPooling2D(pool_size=(2, 2), strides=(2, 2)))\n",
        "model_9.add(layers.Conv2D(32, (5, 5), activation='relu', kernel_initializer='he_uniform'))\n",
        "model_9.add(layers.MaxPooling2D(pool_size=(2, 2), strides=(2, 2)))\n",
        "model_9.add(layers.Flatten())\n",
        "model_9.add(layers.Dense(32, activation='relu', kernel_initializer='he_uniform'))\n",
        "model_9.add(layers.Dense(10, activation='softmax'))"
      ],
      "metadata": {
        "id": "abGTXD6xQWJy"
      },
      "id": "abGTXD6xQWJy",
      "execution_count": 25,
      "outputs": []
    },
    {
      "cell_type": "code",
      "source": [
        "model_9.compile(optimizer=opt_3, loss='categorical_crossentropy', metrics=['accuracy'])\n",
        "history = model_9.fit(X_train, y_train, epochs=20, batch_size=32, shuffle=True,validation_data=(X_val, y_val), verbose=1)\n",
        "saved_models.append(model_9)"
      ],
      "metadata": {
        "colab": {
          "base_uri": "https://localhost:8080/"
        },
        "id": "5S8gC_2vQXXQ",
        "outputId": "31474fe1-84fe-4929-d484-839583b151c8"
      },
      "id": "5S8gC_2vQXXQ",
      "execution_count": 26,
      "outputs": [
        {
          "output_type": "stream",
          "name": "stdout",
          "text": [
            "Epoch 1/20\n",
            "1594/1594 [==============================] - 45s 28ms/step - loss: 0.1753 - accuracy: 0.9451 - val_loss: 0.0895 - val_accuracy: 0.9714\n",
            "Epoch 2/20\n",
            "1594/1594 [==============================] - 51s 32ms/step - loss: 0.0638 - accuracy: 0.9802 - val_loss: 0.0550 - val_accuracy: 0.9858\n",
            "Epoch 3/20\n",
            "1594/1594 [==============================] - 45s 28ms/step - loss: 0.0443 - accuracy: 0.9867 - val_loss: 0.0461 - val_accuracy: 0.9871\n",
            "Epoch 4/20\n",
            "1594/1594 [==============================] - 45s 28ms/step - loss: 0.0356 - accuracy: 0.9885 - val_loss: 0.0413 - val_accuracy: 0.9890\n",
            "Epoch 5/20\n",
            "1594/1594 [==============================] - 45s 28ms/step - loss: 0.0285 - accuracy: 0.9910 - val_loss: 0.0545 - val_accuracy: 0.9850\n",
            "Epoch 6/20\n",
            "1594/1594 [==============================] - 45s 28ms/step - loss: 0.0234 - accuracy: 0.9928 - val_loss: 0.0488 - val_accuracy: 0.9863\n",
            "Epoch 7/20\n",
            "1594/1594 [==============================] - 45s 28ms/step - loss: 0.0195 - accuracy: 0.9935 - val_loss: 0.0508 - val_accuracy: 0.9876\n",
            "Epoch 8/20\n",
            "1594/1594 [==============================] - 45s 28ms/step - loss: 0.0147 - accuracy: 0.9953 - val_loss: 0.0454 - val_accuracy: 0.9877\n",
            "Epoch 9/20\n",
            "1594/1594 [==============================] - 45s 28ms/step - loss: 0.0151 - accuracy: 0.9952 - val_loss: 0.0432 - val_accuracy: 0.9908\n",
            "Epoch 10/20\n",
            "1594/1594 [==============================] - 45s 28ms/step - loss: 0.0113 - accuracy: 0.9963 - val_loss: 0.0406 - val_accuracy: 0.9907\n",
            "Epoch 11/20\n",
            "1594/1594 [==============================] - 45s 28ms/step - loss: 0.0089 - accuracy: 0.9972 - val_loss: 0.0503 - val_accuracy: 0.9881\n",
            "Epoch 12/20\n",
            "1594/1594 [==============================] - 48s 30ms/step - loss: 0.0066 - accuracy: 0.9981 - val_loss: 0.0456 - val_accuracy: 0.9907\n",
            "Epoch 13/20\n",
            "1594/1594 [==============================] - 48s 30ms/step - loss: 0.0076 - accuracy: 0.9976 - val_loss: 0.0484 - val_accuracy: 0.9894\n",
            "Epoch 14/20\n",
            "1594/1594 [==============================] - 45s 28ms/step - loss: 0.0052 - accuracy: 0.9984 - val_loss: 0.0451 - val_accuracy: 0.9903\n",
            "Epoch 15/20\n",
            "1594/1594 [==============================] - 45s 28ms/step - loss: 0.0027 - accuracy: 0.9994 - val_loss: 0.0488 - val_accuracy: 0.9918\n",
            "Epoch 16/20\n",
            "1594/1594 [==============================] - 45s 28ms/step - loss: 0.0022 - accuracy: 0.9995 - val_loss: 0.0479 - val_accuracy: 0.9911\n",
            "Epoch 17/20\n",
            "1594/1594 [==============================] - 45s 28ms/step - loss: 0.0013 - accuracy: 0.9997 - val_loss: 0.0499 - val_accuracy: 0.9909\n",
            "Epoch 18/20\n",
            "1594/1594 [==============================] - 45s 28ms/step - loss: 0.0013 - accuracy: 0.9998 - val_loss: 0.0518 - val_accuracy: 0.9910\n",
            "Epoch 19/20\n",
            "1594/1594 [==============================] - 45s 28ms/step - loss: 6.3686e-04 - accuracy: 1.0000 - val_loss: 0.0522 - val_accuracy: 0.9918\n",
            "Epoch 20/20\n",
            "1594/1594 [==============================] - 45s 28ms/step - loss: 3.7139e-04 - accuracy: 1.0000 - val_loss: 0.0539 - val_accuracy: 0.9914\n"
          ]
        }
      ]
    },
    {
      "cell_type": "code",
      "source": [
        "model_10 = models.Sequential()\n",
        "model_10.add(layers.Conv2D(128, (3, 3), activation='relu', kernel_initializer='he_uniform', input_shape=(28, 28, 1)))\n",
        "model_10.add(layers.MaxPooling2D(pool_size=(2, 2), strides=(2, 2)))\n",
        "model_10.add(layers.Flatten())\n",
        "model_10.add(layers.Dense(32, activation='relu', kernel_initializer='he_uniform'))\n",
        "model_10.add(layers.Dense(10, activation='softmax'))"
      ],
      "metadata": {
        "id": "2vhZDIUxcxL8"
      },
      "id": "2vhZDIUxcxL8",
      "execution_count": 27,
      "outputs": []
    },
    {
      "cell_type": "code",
      "source": [
        "model_10.compile(optimizer=opt_3, loss='categorical_crossentropy', metrics=['accuracy'])\n",
        "history = model_10.fit(X_train, y_train, epochs=20, batch_size=32, shuffle=True,validation_data=(X_val, y_val), verbose=1)\n",
        "saved_models.append(model_10)"
      ],
      "metadata": {
        "colab": {
          "base_uri": "https://localhost:8080/"
        },
        "id": "k1en4O-Rc2Ny",
        "outputId": "3a0ceee5-33bb-4caa-ba39-444dc9a2baab"
      },
      "id": "k1en4O-Rc2Ny",
      "execution_count": 28,
      "outputs": [
        {
          "output_type": "stream",
          "name": "stdout",
          "text": [
            "Epoch 1/20\n",
            "1594/1594 [==============================] - 57s 36ms/step - loss: 0.2544 - accuracy: 0.9241 - val_loss: 0.1064 - val_accuracy: 0.9677\n",
            "Epoch 2/20\n",
            "1594/1594 [==============================] - 56s 35ms/step - loss: 0.0859 - accuracy: 0.9742 - val_loss: 0.0722 - val_accuracy: 0.9779\n",
            "Epoch 3/20\n",
            "1594/1594 [==============================] - 55s 35ms/step - loss: 0.0572 - accuracy: 0.9825 - val_loss: 0.0715 - val_accuracy: 0.9768\n",
            "Epoch 4/20\n",
            "1594/1594 [==============================] - 55s 35ms/step - loss: 0.0414 - accuracy: 0.9874 - val_loss: 0.0562 - val_accuracy: 0.9827\n",
            "Epoch 5/20\n",
            "1594/1594 [==============================] - 55s 35ms/step - loss: 0.0295 - accuracy: 0.9906 - val_loss: 0.0657 - val_accuracy: 0.9809\n",
            "Epoch 6/20\n",
            "1594/1594 [==============================] - 55s 35ms/step - loss: 0.0229 - accuracy: 0.9930 - val_loss: 0.0678 - val_accuracy: 0.9802\n",
            "Epoch 7/20\n",
            "1594/1594 [==============================] - 55s 35ms/step - loss: 0.0167 - accuracy: 0.9949 - val_loss: 0.0557 - val_accuracy: 0.9854\n",
            "Epoch 8/20\n",
            "1594/1594 [==============================] - 55s 35ms/step - loss: 0.0111 - accuracy: 0.9969 - val_loss: 0.0544 - val_accuracy: 0.9859\n",
            "Epoch 9/20\n",
            "1594/1594 [==============================] - 55s 35ms/step - loss: 0.0074 - accuracy: 0.9984 - val_loss: 0.0582 - val_accuracy: 0.9844\n",
            "Epoch 10/20\n",
            "1594/1594 [==============================] - 55s 35ms/step - loss: 0.0057 - accuracy: 0.9988 - val_loss: 0.0560 - val_accuracy: 0.9868\n",
            "Epoch 11/20\n",
            "1594/1594 [==============================] - 55s 35ms/step - loss: 0.0038 - accuracy: 0.9993 - val_loss: 0.0573 - val_accuracy: 0.9868\n",
            "Epoch 12/20\n",
            "1594/1594 [==============================] - 55s 35ms/step - loss: 0.0025 - accuracy: 0.9997 - val_loss: 0.0562 - val_accuracy: 0.9864\n",
            "Epoch 13/20\n",
            "1594/1594 [==============================] - 55s 35ms/step - loss: 0.0015 - accuracy: 0.9999 - val_loss: 0.0556 - val_accuracy: 0.9874\n",
            "Epoch 14/20\n",
            "1594/1594 [==============================] - 55s 35ms/step - loss: 0.0011 - accuracy: 1.0000 - val_loss: 0.0562 - val_accuracy: 0.9881\n",
            "Epoch 15/20\n",
            "1594/1594 [==============================] - 55s 35ms/step - loss: 8.4790e-04 - accuracy: 1.0000 - val_loss: 0.0578 - val_accuracy: 0.9883\n",
            "Epoch 16/20\n",
            "1594/1594 [==============================] - 55s 35ms/step - loss: 7.0284e-04 - accuracy: 1.0000 - val_loss: 0.0588 - val_accuracy: 0.9881\n",
            "Epoch 17/20\n",
            "1594/1594 [==============================] - 55s 35ms/step - loss: 6.4202e-04 - accuracy: 1.0000 - val_loss: 0.0602 - val_accuracy: 0.9873\n",
            "Epoch 18/20\n",
            "1594/1594 [==============================] - 55s 35ms/step - loss: 5.5989e-04 - accuracy: 1.0000 - val_loss: 0.0606 - val_accuracy: 0.9883\n",
            "Epoch 19/20\n",
            "1594/1594 [==============================] - 56s 35ms/step - loss: 4.8748e-04 - accuracy: 1.0000 - val_loss: 0.0619 - val_accuracy: 0.9872\n",
            "Epoch 20/20\n",
            "1594/1594 [==============================] - 56s 35ms/step - loss: 4.4499e-04 - accuracy: 1.0000 - val_loss: 0.0620 - val_accuracy: 0.9878\n"
          ]
        }
      ]
    },
    {
      "cell_type": "code",
      "source": [
        "best_model, best_accuracy = evaluate_model(saved_models, X_test, y_test)\n",
        "summaries(saved_models)"
      ],
      "metadata": {
        "colab": {
          "base_uri": "https://localhost:8080/"
        },
        "id": "l6M7d0Bhc6x6",
        "outputId": "60c15d9d-41e8-4873-9f3f-0a3c6a7c14b1"
      },
      "id": "l6M7d0Bhc6x6",
      "execution_count": 32,
      "outputs": [
        {
          "output_type": "stream",
          "name": "stdout",
          "text": [
            "313/313 [==============================] - 1s 3ms/step - loss: 0.2686 - accuracy: 0.9252\n",
            "313/313 [==============================] - 1s 3ms/step - loss: 0.2191 - accuracy: 0.9382\n",
            "313/313 [==============================] - 1s 3ms/step - loss: 0.1862 - accuracy: 0.9476\n",
            "313/313 [==============================] - 1s 3ms/step - loss: 0.1311 - accuracy: 0.9809\n",
            "313/313 [==============================] - 1s 3ms/step - loss: 0.0436 - accuracy: 0.9853\n",
            "313/313 [==============================] - 1s 3ms/step - loss: 0.0385 - accuracy: 0.9891\n",
            "313/313 [==============================] - 2s 7ms/step - loss: 0.0449 - accuracy: 0.9893\n",
            "313/313 [==============================] - 1s 2ms/step - loss: 0.0998 - accuracy: 0.9721\n",
            "313/313 [==============================] - 2s 8ms/step - loss: 0.0360 - accuracy: 0.9930\n",
            "313/313 [==============================] - 3s 8ms/step - loss: 0.0634 - accuracy: 0.9849\n",
            "model: 9 accuracy: 99.30 %\n"
          ]
        }
      ]
    },
    {
      "cell_type": "code",
      "source": [
        "summaries(saved_models)"
      ],
      "metadata": {
        "colab": {
          "base_uri": "https://localhost:8080/"
        },
        "id": "A7XjHDqsc-9e",
        "outputId": "42e63fa6-50f9-4480-c99c-65f98a415c9c"
      },
      "id": "A7XjHDqsc-9e",
      "execution_count": 30,
      "outputs": [
        {
          "output_type": "stream",
          "name": "stdout",
          "text": [
            "Model: \"sequential\"\n",
            "_________________________________________________________________\n",
            " Layer (type)                Output Shape              Param #   \n",
            "=================================================================\n",
            " conv2d (Conv2D)             (None, 12, 12, 64)        1664      \n",
            "                                                                 \n",
            " max_pooling2d (MaxPooling2D  (None, 6, 6, 64)         0         \n",
            " )                                                               \n",
            "                                                                 \n",
            " flatten (Flatten)           (None, 2304)              0         \n",
            "                                                                 \n",
            " dense (Dense)               (None, 64)                147520    \n",
            "                                                                 \n",
            " dense_1 (Dense)             (None, 10)                650       \n",
            "                                                                 \n",
            "=================================================================\n",
            "Total params: 149,834\n",
            "Trainable params: 149,834\n",
            "Non-trainable params: 0\n",
            "_________________________________________________________________\n",
            "Model: \"sequential\"\n",
            "_________________________________________________________________\n",
            " Layer (type)                Output Shape              Param #   \n",
            "=================================================================\n",
            " conv2d (Conv2D)             (None, 12, 12, 64)        1664      \n",
            "                                                                 \n",
            " max_pooling2d (MaxPooling2D  (None, 6, 6, 64)         0         \n",
            " )                                                               \n",
            "                                                                 \n",
            " flatten (Flatten)           (None, 2304)              0         \n",
            "                                                                 \n",
            " dense (Dense)               (None, 64)                147520    \n",
            "                                                                 \n",
            " dense_1 (Dense)             (None, 10)                650       \n",
            "                                                                 \n",
            "=================================================================\n",
            "Total params: 149,834\n",
            "Trainable params: 149,834\n",
            "Non-trainable params: 0\n",
            "_________________________________________________________________\n",
            "Model: \"sequential\"\n",
            "_________________________________________________________________\n",
            " Layer (type)                Output Shape              Param #   \n",
            "=================================================================\n",
            " conv2d (Conv2D)             (None, 12, 12, 64)        1664      \n",
            "                                                                 \n",
            " max_pooling2d (MaxPooling2D  (None, 6, 6, 64)         0         \n",
            " )                                                               \n",
            "                                                                 \n",
            " flatten (Flatten)           (None, 2304)              0         \n",
            "                                                                 \n",
            " dense (Dense)               (None, 64)                147520    \n",
            "                                                                 \n",
            " dense_1 (Dense)             (None, 10)                650       \n",
            "                                                                 \n",
            "=================================================================\n",
            "Total params: 149,834\n",
            "Trainable params: 149,834\n",
            "Non-trainable params: 0\n",
            "_________________________________________________________________\n",
            "Model: \"sequential\"\n",
            "_________________________________________________________________\n",
            " Layer (type)                Output Shape              Param #   \n",
            "=================================================================\n",
            " conv2d (Conv2D)             (None, 12, 12, 64)        1664      \n",
            "                                                                 \n",
            " max_pooling2d (MaxPooling2D  (None, 6, 6, 64)         0         \n",
            " )                                                               \n",
            "                                                                 \n",
            " flatten (Flatten)           (None, 2304)              0         \n",
            "                                                                 \n",
            " dense (Dense)               (None, 64)                147520    \n",
            "                                                                 \n",
            " dense_1 (Dense)             (None, 10)                650       \n",
            "                                                                 \n",
            "=================================================================\n",
            "Total params: 149,834\n",
            "Trainable params: 149,834\n",
            "Non-trainable params: 0\n",
            "_________________________________________________________________\n",
            "Model: \"sequential\"\n",
            "_________________________________________________________________\n",
            " Layer (type)                Output Shape              Param #   \n",
            "=================================================================\n",
            " conv2d (Conv2D)             (None, 12, 12, 64)        1664      \n",
            "                                                                 \n",
            " max_pooling2d (MaxPooling2D  (None, 6, 6, 64)         0         \n",
            " )                                                               \n",
            "                                                                 \n",
            " flatten (Flatten)           (None, 2304)              0         \n",
            "                                                                 \n",
            " dense (Dense)               (None, 64)                147520    \n",
            "                                                                 \n",
            " dense_1 (Dense)             (None, 10)                650       \n",
            "                                                                 \n",
            "=================================================================\n",
            "Total params: 149,834\n",
            "Trainable params: 149,834\n",
            "Non-trainable params: 0\n",
            "_________________________________________________________________\n",
            "Model: \"sequential\"\n",
            "_________________________________________________________________\n",
            " Layer (type)                Output Shape              Param #   \n",
            "=================================================================\n",
            " conv2d (Conv2D)             (None, 12, 12, 64)        1664      \n",
            "                                                                 \n",
            " max_pooling2d (MaxPooling2D  (None, 6, 6, 64)         0         \n",
            " )                                                               \n",
            "                                                                 \n",
            " flatten (Flatten)           (None, 2304)              0         \n",
            "                                                                 \n",
            " dense (Dense)               (None, 64)                147520    \n",
            "                                                                 \n",
            " dense_1 (Dense)             (None, 10)                650       \n",
            "                                                                 \n",
            "=================================================================\n",
            "Total params: 149,834\n",
            "Trainable params: 149,834\n",
            "Non-trainable params: 0\n",
            "_________________________________________________________________\n",
            "Model: \"sequential_1\"\n",
            "_________________________________________________________________\n",
            " Layer (type)                Output Shape              Param #   \n",
            "=================================================================\n",
            " conv2d_1 (Conv2D)           (None, 26, 26, 32)        320       \n",
            "                                                                 \n",
            " max_pooling2d_1 (MaxPooling  (None, 13, 13, 32)       0         \n",
            " 2D)                                                             \n",
            "                                                                 \n",
            " conv2d_2 (Conv2D)           (None, 11, 11, 32)        9248      \n",
            "                                                                 \n",
            " max_pooling2d_2 (MaxPooling  (None, 5, 5, 32)         0         \n",
            " 2D)                                                             \n",
            "                                                                 \n",
            " flatten_1 (Flatten)         (None, 800)               0         \n",
            "                                                                 \n",
            " dense_2 (Dense)             (None, 64)                51264     \n",
            "                                                                 \n",
            " dense_3 (Dense)             (None, 32)                2080      \n",
            "                                                                 \n",
            " dense_4 (Dense)             (None, 10)                330       \n",
            "                                                                 \n",
            "=================================================================\n",
            "Total params: 63,242\n",
            "Trainable params: 63,242\n",
            "Non-trainable params: 0\n",
            "_________________________________________________________________\n",
            "Model: \"sequential_2\"\n",
            "_________________________________________________________________\n",
            " Layer (type)                Output Shape              Param #   \n",
            "=================================================================\n",
            " conv2d_3 (Conv2D)           (None, 13, 13, 16)        160       \n",
            "                                                                 \n",
            " max_pooling2d_3 (MaxPooling  (None, 6, 6, 16)         0         \n",
            " 2D)                                                             \n",
            "                                                                 \n",
            " conv2d_4 (Conv2D)           (None, 2, 2, 32)          4640      \n",
            "                                                                 \n",
            " max_pooling2d_4 (MaxPooling  (None, 1, 1, 32)         0         \n",
            " 2D)                                                             \n",
            "                                                                 \n",
            " flatten_2 (Flatten)         (None, 32)                0         \n",
            "                                                                 \n",
            " dense_5 (Dense)             (None, 64)                2112      \n",
            "                                                                 \n",
            " dense_6 (Dense)             (None, 32)                2080      \n",
            "                                                                 \n",
            " dense_7 (Dense)             (None, 10)                330       \n",
            "                                                                 \n",
            "=================================================================\n",
            "Total params: 9,322\n",
            "Trainable params: 9,322\n",
            "Non-trainable params: 0\n",
            "_________________________________________________________________\n",
            "Model: \"sequential_3\"\n",
            "_________________________________________________________________\n",
            " Layer (type)                Output Shape              Param #   \n",
            "=================================================================\n",
            " conv2d_5 (Conv2D)           (None, 26, 26, 32)        320       \n",
            "                                                                 \n",
            " max_pooling2d_5 (MaxPooling  (None, 13, 13, 32)       0         \n",
            " 2D)                                                             \n",
            "                                                                 \n",
            " conv2d_6 (Conv2D)           (None, 9, 9, 32)          25632     \n",
            "                                                                 \n",
            " max_pooling2d_6 (MaxPooling  (None, 4, 4, 32)         0         \n",
            " 2D)                                                             \n",
            "                                                                 \n",
            " flatten_3 (Flatten)         (None, 512)               0         \n",
            "                                                                 \n",
            " dense_8 (Dense)             (None, 32)                16416     \n",
            "                                                                 \n",
            " dense_9 (Dense)             (None, 10)                330       \n",
            "                                                                 \n",
            "=================================================================\n",
            "Total params: 42,698\n",
            "Trainable params: 42,698\n",
            "Non-trainable params: 0\n",
            "_________________________________________________________________\n",
            "Model: \"sequential_4\"\n",
            "_________________________________________________________________\n",
            " Layer (type)                Output Shape              Param #   \n",
            "=================================================================\n",
            " conv2d_7 (Conv2D)           (None, 26, 26, 128)       1280      \n",
            "                                                                 \n",
            " max_pooling2d_7 (MaxPooling  (None, 13, 13, 128)      0         \n",
            " 2D)                                                             \n",
            "                                                                 \n",
            " flatten_4 (Flatten)         (None, 21632)             0         \n",
            "                                                                 \n",
            " dense_10 (Dense)            (None, 32)                692256    \n",
            "                                                                 \n",
            " dense_11 (Dense)            (None, 10)                330       \n",
            "                                                                 \n",
            "=================================================================\n",
            "Total params: 693,866\n",
            "Trainable params: 693,866\n",
            "Non-trainable params: 0\n",
            "_________________________________________________________________\n"
          ]
        }
      ]
    },
    {
      "cell_type": "markdown",
      "source": [
        "#Trying different batch sizes"
      ],
      "metadata": {
        "id": "1DOv_IDKZ1-G"
      },
      "id": "1DOv_IDKZ1-G"
    },
    {
      "cell_type": "markdown",
      "source": [
        "Our last model always seem to be our best model, reaching an accuarcy of 99.3,\n",
        "we used 20 epochs, a learning rate of 0.01 and our architecture was a single convultion layer containing 128 filters of size (3, 3) and a max pooling layer followed by a densle layer of 32 neurons.\n",
        "we will countinue with it and decide to change the batch size this time around."
      ],
      "metadata": {
        "id": "oQIAn-kv7pjt"
      },
      "id": "oQIAn-kv7pjt"
    },
    {
      "cell_type": "code",
      "source": [
        "model_11 = keras.models.clone_model(best_model)\n",
        "model_11.compile(optimizer=opt_3, loss='categorical_crossentropy', metrics=['accuracy'])\n",
        "history = model_11.fit(X_train, y_train, epochs=20, batch_size=16, shuffle=True,validation_data=(X_val, y_val), verbose=1)\n",
        "saved_models.append(model_11)"
      ],
      "metadata": {
        "id": "MGGK_G4aaFf1",
        "colab": {
          "base_uri": "https://localhost:8080/"
        },
        "outputId": "7993b38e-58cd-4fe9-ba0a-22fc796f3f72"
      },
      "id": "MGGK_G4aaFf1",
      "execution_count": 33,
      "outputs": [
        {
          "output_type": "stream",
          "name": "stdout",
          "text": [
            "Epoch 1/20\n",
            "3188/3188 [==============================] - 55s 17ms/step - loss: 0.1383 - accuracy: 0.9569 - val_loss: 0.0786 - val_accuracy: 0.9759\n",
            "Epoch 2/20\n",
            "3188/3188 [==============================] - 51s 16ms/step - loss: 0.0491 - accuracy: 0.9849 - val_loss: 0.0419 - val_accuracy: 0.9876\n",
            "Epoch 3/20\n",
            "3188/3188 [==============================] - 51s 16ms/step - loss: 0.0342 - accuracy: 0.9892 - val_loss: 0.0430 - val_accuracy: 0.9881\n",
            "Epoch 4/20\n",
            "3188/3188 [==============================] - 51s 16ms/step - loss: 0.0272 - accuracy: 0.9911 - val_loss: 0.0451 - val_accuracy: 0.9871\n",
            "Epoch 5/20\n",
            "3188/3188 [==============================] - 50s 16ms/step - loss: 0.0181 - accuracy: 0.9946 - val_loss: 0.0462 - val_accuracy: 0.9873\n",
            "Epoch 6/20\n",
            "3188/3188 [==============================] - 51s 16ms/step - loss: 0.0151 - accuracy: 0.9950 - val_loss: 0.0480 - val_accuracy: 0.9883\n",
            "Epoch 7/20\n",
            "3188/3188 [==============================] - 51s 16ms/step - loss: 0.0141 - accuracy: 0.9955 - val_loss: 0.0473 - val_accuracy: 0.9884\n",
            "Epoch 8/20\n",
            "3188/3188 [==============================] - 51s 16ms/step - loss: 0.0107 - accuracy: 0.9965 - val_loss: 0.0431 - val_accuracy: 0.9902\n",
            "Epoch 9/20\n",
            "3188/3188 [==============================] - 51s 16ms/step - loss: 0.0080 - accuracy: 0.9975 - val_loss: 0.0496 - val_accuracy: 0.9894\n",
            "Epoch 10/20\n",
            "3188/3188 [==============================] - 51s 16ms/step - loss: 0.0065 - accuracy: 0.9978 - val_loss: 0.0524 - val_accuracy: 0.9897\n",
            "Epoch 11/20\n",
            "3188/3188 [==============================] - 51s 16ms/step - loss: 0.0037 - accuracy: 0.9990 - val_loss: 0.0438 - val_accuracy: 0.9916\n",
            "Epoch 12/20\n",
            "3188/3188 [==============================] - 51s 16ms/step - loss: 0.0027 - accuracy: 0.9992 - val_loss: 0.0493 - val_accuracy: 0.9906\n",
            "Epoch 13/20\n",
            "3188/3188 [==============================] - 50s 16ms/step - loss: 0.0026 - accuracy: 0.9992 - val_loss: 0.0487 - val_accuracy: 0.9908\n",
            "Epoch 14/20\n",
            "3188/3188 [==============================] - 50s 16ms/step - loss: 0.0013 - accuracy: 0.9997 - val_loss: 0.0510 - val_accuracy: 0.9911\n",
            "Epoch 15/20\n",
            "3188/3188 [==============================] - 50s 16ms/step - loss: 0.0039 - accuracy: 0.9987 - val_loss: 0.0606 - val_accuracy: 0.9880\n",
            "Epoch 16/20\n",
            "3188/3188 [==============================] - 50s 16ms/step - loss: 0.0034 - accuracy: 0.9989 - val_loss: 0.0660 - val_accuracy: 0.9866\n",
            "Epoch 17/20\n",
            "3188/3188 [==============================] - 50s 16ms/step - loss: 0.0079 - accuracy: 0.9972 - val_loss: 0.0632 - val_accuracy: 0.9908\n",
            "Epoch 18/20\n",
            "3188/3188 [==============================] - 49s 15ms/step - loss: 0.0120 - accuracy: 0.9961 - val_loss: 0.0752 - val_accuracy: 0.9862\n",
            "Epoch 19/20\n",
            "3188/3188 [==============================] - 50s 16ms/step - loss: 0.0045 - accuracy: 0.9985 - val_loss: 0.0558 - val_accuracy: 0.9902\n",
            "Epoch 20/20\n",
            "3188/3188 [==============================] - 50s 16ms/step - loss: 0.0072 - accuracy: 0.9975 - val_loss: 0.0568 - val_accuracy: 0.9898\n"
          ]
        }
      ]
    },
    {
      "cell_type": "code",
      "source": [
        "model_12 = keras.models.clone_model(best_model)\n",
        "model_12.compile(optimizer=opt_3, loss='categorical_crossentropy', metrics=['accuracy'])\n",
        "history = model_12.fit(X_train, y_train, epochs=20, batch_size=64, shuffle=True,validation_data=(X_val, y_val), verbose=1)\n",
        "saved_models.append(model_12)"
      ],
      "metadata": {
        "id": "59tn-mJbaVjM",
        "colab": {
          "base_uri": "https://localhost:8080/"
        },
        "outputId": "aaf8ed0e-6f80-4943-a934-f907aa4e4056"
      },
      "id": "59tn-mJbaVjM",
      "execution_count": 34,
      "outputs": [
        {
          "output_type": "stream",
          "name": "stdout",
          "text": [
            "Epoch 1/20\n",
            "797/797 [==============================] - 41s 50ms/step - loss: 0.1911 - accuracy: 0.9400 - val_loss: 0.0716 - val_accuracy: 0.9778\n",
            "Epoch 2/20\n",
            "797/797 [==============================] - 40s 50ms/step - loss: 0.0657 - accuracy: 0.9798 - val_loss: 0.0645 - val_accuracy: 0.9803\n",
            "Epoch 3/20\n",
            "797/797 [==============================] - 40s 50ms/step - loss: 0.0470 - accuracy: 0.9855 - val_loss: 0.0580 - val_accuracy: 0.9826\n",
            "Epoch 4/20\n",
            "797/797 [==============================] - 40s 50ms/step - loss: 0.0369 - accuracy: 0.9886 - val_loss: 0.0413 - val_accuracy: 0.9880\n",
            "Epoch 5/20\n",
            "797/797 [==============================] - 40s 50ms/step - loss: 0.0298 - accuracy: 0.9910 - val_loss: 0.0432 - val_accuracy: 0.9866\n",
            "Epoch 6/20\n",
            "797/797 [==============================] - 40s 50ms/step - loss: 0.0254 - accuracy: 0.9921 - val_loss: 0.0458 - val_accuracy: 0.9868\n",
            "Epoch 7/20\n",
            "797/797 [==============================] - 40s 50ms/step - loss: 0.0211 - accuracy: 0.9937 - val_loss: 0.0535 - val_accuracy: 0.9854\n",
            "Epoch 8/20\n",
            "797/797 [==============================] - 40s 50ms/step - loss: 0.0185 - accuracy: 0.9944 - val_loss: 0.0451 - val_accuracy: 0.9869\n",
            "Epoch 9/20\n",
            "797/797 [==============================] - 40s 50ms/step - loss: 0.0144 - accuracy: 0.9957 - val_loss: 0.0409 - val_accuracy: 0.9889\n",
            "Epoch 10/20\n",
            "797/797 [==============================] - 40s 50ms/step - loss: 0.0114 - accuracy: 0.9969 - val_loss: 0.0439 - val_accuracy: 0.9893\n",
            "Epoch 11/20\n",
            "797/797 [==============================] - 40s 50ms/step - loss: 0.0115 - accuracy: 0.9964 - val_loss: 0.0450 - val_accuracy: 0.9886\n",
            "Epoch 12/20\n",
            "797/797 [==============================] - 40s 50ms/step - loss: 0.0110 - accuracy: 0.9964 - val_loss: 0.0399 - val_accuracy: 0.9894\n",
            "Epoch 13/20\n",
            "797/797 [==============================] - 40s 50ms/step - loss: 0.0082 - accuracy: 0.9978 - val_loss: 0.0437 - val_accuracy: 0.9886\n",
            "Epoch 14/20\n",
            "797/797 [==============================] - 40s 50ms/step - loss: 0.0059 - accuracy: 0.9986 - val_loss: 0.0456 - val_accuracy: 0.9896\n",
            "Epoch 15/20\n",
            "797/797 [==============================] - 40s 50ms/step - loss: 0.0054 - accuracy: 0.9986 - val_loss: 0.0469 - val_accuracy: 0.9898\n",
            "Epoch 16/20\n",
            "797/797 [==============================] - 40s 50ms/step - loss: 0.0044 - accuracy: 0.9991 - val_loss: 0.0435 - val_accuracy: 0.9898\n",
            "Epoch 17/20\n",
            "797/797 [==============================] - 40s 50ms/step - loss: 0.0030 - accuracy: 0.9994 - val_loss: 0.0420 - val_accuracy: 0.9910\n",
            "Epoch 18/20\n",
            "797/797 [==============================] - 40s 50ms/step - loss: 0.0025 - accuracy: 0.9996 - val_loss: 0.0443 - val_accuracy: 0.9910\n",
            "Epoch 19/20\n",
            "797/797 [==============================] - 40s 50ms/step - loss: 0.0021 - accuracy: 0.9998 - val_loss: 0.0454 - val_accuracy: 0.9909\n",
            "Epoch 20/20\n",
            "797/797 [==============================] - 40s 50ms/step - loss: 0.0019 - accuracy: 0.9997 - val_loss: 0.0458 - val_accuracy: 0.9899\n"
          ]
        }
      ]
    },
    {
      "cell_type": "code",
      "source": [
        "best_model, best_accuracy = evaluate_model(saved_models, X_test, y_test)"
      ],
      "metadata": {
        "colab": {
          "base_uri": "https://localhost:8080/"
        },
        "id": "yvFNxuR-8OB4",
        "outputId": "c5d656f5-371e-4d6f-ebca-a55e972f46ab"
      },
      "id": "yvFNxuR-8OB4",
      "execution_count": 38,
      "outputs": [
        {
          "output_type": "stream",
          "name": "stdout",
          "text": [
            "313/313 [==============================] - 1s 3ms/step - loss: 0.2686 - accuracy: 0.9252\n",
            "313/313 [==============================] - 1s 3ms/step - loss: 0.2191 - accuracy: 0.9382\n",
            "313/313 [==============================] - 1s 3ms/step - loss: 0.1862 - accuracy: 0.9476\n",
            "313/313 [==============================] - 1s 3ms/step - loss: 0.1311 - accuracy: 0.9809\n",
            "313/313 [==============================] - 1s 3ms/step - loss: 0.0436 - accuracy: 0.9853\n",
            "313/313 [==============================] - 1s 3ms/step - loss: 0.0385 - accuracy: 0.9891\n",
            "313/313 [==============================] - 2s 6ms/step - loss: 0.0449 - accuracy: 0.9893\n",
            "313/313 [==============================] - 1s 2ms/step - loss: 0.0998 - accuracy: 0.9721\n",
            "313/313 [==============================] - 2s 8ms/step - loss: 0.0360 - accuracy: 0.9930\n",
            "313/313 [==============================] - 3s 8ms/step - loss: 0.0634 - accuracy: 0.9849\n",
            "313/313 [==============================] - 2s 8ms/step - loss: 0.0478 - accuracy: 0.9888\n",
            "313/313 [==============================] - 2s 8ms/step - loss: 0.0385 - accuracy: 0.9901\n",
            "model: 9 accuracy: 99.30 %\n"
          ]
        }
      ]
    },
    {
      "cell_type": "code",
      "source": [
        "summaries(saved_models)"
      ],
      "metadata": {
        "colab": {
          "base_uri": "https://localhost:8080/"
        },
        "id": "Jf-_4uEK8TMT",
        "outputId": "16721f95-1a70-4b12-8c72-186b529292b4"
      },
      "id": "Jf-_4uEK8TMT",
      "execution_count": 36,
      "outputs": [
        {
          "output_type": "stream",
          "name": "stdout",
          "text": [
            "Model: \"sequential\"\n",
            "_________________________________________________________________\n",
            " Layer (type)                Output Shape              Param #   \n",
            "=================================================================\n",
            " conv2d (Conv2D)             (None, 12, 12, 64)        1664      \n",
            "                                                                 \n",
            " max_pooling2d (MaxPooling2D  (None, 6, 6, 64)         0         \n",
            " )                                                               \n",
            "                                                                 \n",
            " flatten (Flatten)           (None, 2304)              0         \n",
            "                                                                 \n",
            " dense (Dense)               (None, 64)                147520    \n",
            "                                                                 \n",
            " dense_1 (Dense)             (None, 10)                650       \n",
            "                                                                 \n",
            "=================================================================\n",
            "Total params: 149,834\n",
            "Trainable params: 149,834\n",
            "Non-trainable params: 0\n",
            "_________________________________________________________________\n",
            "Model: \"sequential\"\n",
            "_________________________________________________________________\n",
            " Layer (type)                Output Shape              Param #   \n",
            "=================================================================\n",
            " conv2d (Conv2D)             (None, 12, 12, 64)        1664      \n",
            "                                                                 \n",
            " max_pooling2d (MaxPooling2D  (None, 6, 6, 64)         0         \n",
            " )                                                               \n",
            "                                                                 \n",
            " flatten (Flatten)           (None, 2304)              0         \n",
            "                                                                 \n",
            " dense (Dense)               (None, 64)                147520    \n",
            "                                                                 \n",
            " dense_1 (Dense)             (None, 10)                650       \n",
            "                                                                 \n",
            "=================================================================\n",
            "Total params: 149,834\n",
            "Trainable params: 149,834\n",
            "Non-trainable params: 0\n",
            "_________________________________________________________________\n",
            "Model: \"sequential\"\n",
            "_________________________________________________________________\n",
            " Layer (type)                Output Shape              Param #   \n",
            "=================================================================\n",
            " conv2d (Conv2D)             (None, 12, 12, 64)        1664      \n",
            "                                                                 \n",
            " max_pooling2d (MaxPooling2D  (None, 6, 6, 64)         0         \n",
            " )                                                               \n",
            "                                                                 \n",
            " flatten (Flatten)           (None, 2304)              0         \n",
            "                                                                 \n",
            " dense (Dense)               (None, 64)                147520    \n",
            "                                                                 \n",
            " dense_1 (Dense)             (None, 10)                650       \n",
            "                                                                 \n",
            "=================================================================\n",
            "Total params: 149,834\n",
            "Trainable params: 149,834\n",
            "Non-trainable params: 0\n",
            "_________________________________________________________________\n",
            "Model: \"sequential\"\n",
            "_________________________________________________________________\n",
            " Layer (type)                Output Shape              Param #   \n",
            "=================================================================\n",
            " conv2d (Conv2D)             (None, 12, 12, 64)        1664      \n",
            "                                                                 \n",
            " max_pooling2d (MaxPooling2D  (None, 6, 6, 64)         0         \n",
            " )                                                               \n",
            "                                                                 \n",
            " flatten (Flatten)           (None, 2304)              0         \n",
            "                                                                 \n",
            " dense (Dense)               (None, 64)                147520    \n",
            "                                                                 \n",
            " dense_1 (Dense)             (None, 10)                650       \n",
            "                                                                 \n",
            "=================================================================\n",
            "Total params: 149,834\n",
            "Trainable params: 149,834\n",
            "Non-trainable params: 0\n",
            "_________________________________________________________________\n",
            "Model: \"sequential\"\n",
            "_________________________________________________________________\n",
            " Layer (type)                Output Shape              Param #   \n",
            "=================================================================\n",
            " conv2d (Conv2D)             (None, 12, 12, 64)        1664      \n",
            "                                                                 \n",
            " max_pooling2d (MaxPooling2D  (None, 6, 6, 64)         0         \n",
            " )                                                               \n",
            "                                                                 \n",
            " flatten (Flatten)           (None, 2304)              0         \n",
            "                                                                 \n",
            " dense (Dense)               (None, 64)                147520    \n",
            "                                                                 \n",
            " dense_1 (Dense)             (None, 10)                650       \n",
            "                                                                 \n",
            "=================================================================\n",
            "Total params: 149,834\n",
            "Trainable params: 149,834\n",
            "Non-trainable params: 0\n",
            "_________________________________________________________________\n",
            "Model: \"sequential\"\n",
            "_________________________________________________________________\n",
            " Layer (type)                Output Shape              Param #   \n",
            "=================================================================\n",
            " conv2d (Conv2D)             (None, 12, 12, 64)        1664      \n",
            "                                                                 \n",
            " max_pooling2d (MaxPooling2D  (None, 6, 6, 64)         0         \n",
            " )                                                               \n",
            "                                                                 \n",
            " flatten (Flatten)           (None, 2304)              0         \n",
            "                                                                 \n",
            " dense (Dense)               (None, 64)                147520    \n",
            "                                                                 \n",
            " dense_1 (Dense)             (None, 10)                650       \n",
            "                                                                 \n",
            "=================================================================\n",
            "Total params: 149,834\n",
            "Trainable params: 149,834\n",
            "Non-trainable params: 0\n",
            "_________________________________________________________________\n",
            "Model: \"sequential_1\"\n",
            "_________________________________________________________________\n",
            " Layer (type)                Output Shape              Param #   \n",
            "=================================================================\n",
            " conv2d_1 (Conv2D)           (None, 26, 26, 32)        320       \n",
            "                                                                 \n",
            " max_pooling2d_1 (MaxPooling  (None, 13, 13, 32)       0         \n",
            " 2D)                                                             \n",
            "                                                                 \n",
            " conv2d_2 (Conv2D)           (None, 11, 11, 32)        9248      \n",
            "                                                                 \n",
            " max_pooling2d_2 (MaxPooling  (None, 5, 5, 32)         0         \n",
            " 2D)                                                             \n",
            "                                                                 \n",
            " flatten_1 (Flatten)         (None, 800)               0         \n",
            "                                                                 \n",
            " dense_2 (Dense)             (None, 64)                51264     \n",
            "                                                                 \n",
            " dense_3 (Dense)             (None, 32)                2080      \n",
            "                                                                 \n",
            " dense_4 (Dense)             (None, 10)                330       \n",
            "                                                                 \n",
            "=================================================================\n",
            "Total params: 63,242\n",
            "Trainable params: 63,242\n",
            "Non-trainable params: 0\n",
            "_________________________________________________________________\n",
            "Model: \"sequential_2\"\n",
            "_________________________________________________________________\n",
            " Layer (type)                Output Shape              Param #   \n",
            "=================================================================\n",
            " conv2d_3 (Conv2D)           (None, 13, 13, 16)        160       \n",
            "                                                                 \n",
            " max_pooling2d_3 (MaxPooling  (None, 6, 6, 16)         0         \n",
            " 2D)                                                             \n",
            "                                                                 \n",
            " conv2d_4 (Conv2D)           (None, 2, 2, 32)          4640      \n",
            "                                                                 \n",
            " max_pooling2d_4 (MaxPooling  (None, 1, 1, 32)         0         \n",
            " 2D)                                                             \n",
            "                                                                 \n",
            " flatten_2 (Flatten)         (None, 32)                0         \n",
            "                                                                 \n",
            " dense_5 (Dense)             (None, 64)                2112      \n",
            "                                                                 \n",
            " dense_6 (Dense)             (None, 32)                2080      \n",
            "                                                                 \n",
            " dense_7 (Dense)             (None, 10)                330       \n",
            "                                                                 \n",
            "=================================================================\n",
            "Total params: 9,322\n",
            "Trainable params: 9,322\n",
            "Non-trainable params: 0\n",
            "_________________________________________________________________\n",
            "Model: \"sequential_3\"\n",
            "_________________________________________________________________\n",
            " Layer (type)                Output Shape              Param #   \n",
            "=================================================================\n",
            " conv2d_5 (Conv2D)           (None, 26, 26, 32)        320       \n",
            "                                                                 \n",
            " max_pooling2d_5 (MaxPooling  (None, 13, 13, 32)       0         \n",
            " 2D)                                                             \n",
            "                                                                 \n",
            " conv2d_6 (Conv2D)           (None, 9, 9, 32)          25632     \n",
            "                                                                 \n",
            " max_pooling2d_6 (MaxPooling  (None, 4, 4, 32)         0         \n",
            " 2D)                                                             \n",
            "                                                                 \n",
            " flatten_3 (Flatten)         (None, 512)               0         \n",
            "                                                                 \n",
            " dense_8 (Dense)             (None, 32)                16416     \n",
            "                                                                 \n",
            " dense_9 (Dense)             (None, 10)                330       \n",
            "                                                                 \n",
            "=================================================================\n",
            "Total params: 42,698\n",
            "Trainable params: 42,698\n",
            "Non-trainable params: 0\n",
            "_________________________________________________________________\n",
            "Model: \"sequential_4\"\n",
            "_________________________________________________________________\n",
            " Layer (type)                Output Shape              Param #   \n",
            "=================================================================\n",
            " conv2d_7 (Conv2D)           (None, 26, 26, 128)       1280      \n",
            "                                                                 \n",
            " max_pooling2d_7 (MaxPooling  (None, 13, 13, 128)      0         \n",
            " 2D)                                                             \n",
            "                                                                 \n",
            " flatten_4 (Flatten)         (None, 21632)             0         \n",
            "                                                                 \n",
            " dense_10 (Dense)            (None, 32)                692256    \n",
            "                                                                 \n",
            " dense_11 (Dense)            (None, 10)                330       \n",
            "                                                                 \n",
            "=================================================================\n",
            "Total params: 693,866\n",
            "Trainable params: 693,866\n",
            "Non-trainable params: 0\n",
            "_________________________________________________________________\n",
            "Model: \"sequential_3\"\n",
            "_________________________________________________________________\n",
            " Layer (type)                Output Shape              Param #   \n",
            "=================================================================\n",
            " conv2d_5 (Conv2D)           (None, 26, 26, 32)        320       \n",
            "                                                                 \n",
            " max_pooling2d_5 (MaxPooling  (None, 13, 13, 32)       0         \n",
            " 2D)                                                             \n",
            "                                                                 \n",
            " conv2d_6 (Conv2D)           (None, 9, 9, 32)          25632     \n",
            "                                                                 \n",
            " max_pooling2d_6 (MaxPooling  (None, 4, 4, 32)         0         \n",
            " 2D)                                                             \n",
            "                                                                 \n",
            " flatten_3 (Flatten)         (None, 512)               0         \n",
            "                                                                 \n",
            " dense_8 (Dense)             (None, 32)                16416     \n",
            "                                                                 \n",
            " dense_9 (Dense)             (None, 10)                330       \n",
            "                                                                 \n",
            "=================================================================\n",
            "Total params: 42,698\n",
            "Trainable params: 42,698\n",
            "Non-trainable params: 0\n",
            "_________________________________________________________________\n",
            "Model: \"sequential_3\"\n",
            "_________________________________________________________________\n",
            " Layer (type)                Output Shape              Param #   \n",
            "=================================================================\n",
            " conv2d_5 (Conv2D)           (None, 26, 26, 32)        320       \n",
            "                                                                 \n",
            " max_pooling2d_5 (MaxPooling  (None, 13, 13, 32)       0         \n",
            " 2D)                                                             \n",
            "                                                                 \n",
            " conv2d_6 (Conv2D)           (None, 9, 9, 32)          25632     \n",
            "                                                                 \n",
            " max_pooling2d_6 (MaxPooling  (None, 4, 4, 32)         0         \n",
            " 2D)                                                             \n",
            "                                                                 \n",
            " flatten_3 (Flatten)         (None, 512)               0         \n",
            "                                                                 \n",
            " dense_8 (Dense)             (None, 32)                16416     \n",
            "                                                                 \n",
            " dense_9 (Dense)             (None, 10)                330       \n",
            "                                                                 \n",
            "=================================================================\n",
            "Total params: 42,698\n",
            "Trainable params: 42,698\n",
            "Non-trainable params: 0\n",
            "_________________________________________________________________\n"
          ]
        }
      ]
    },
    {
      "cell_type": "markdown",
      "source": [
        "#Trying different activation functions"
      ],
      "metadata": {
        "id": "pSu91m-_bCB-"
      },
      "id": "pSu91m-_bCB-"
    },
    {
      "cell_type": "markdown",
      "source": [
        "It seems taht we lucked out and started with the perfect batch size, because model 9 is still our best model, we will try and experiment with different activation functions to see if we can get a better result."
      ],
      "metadata": {
        "id": "vkUZVPpzEEGn"
      },
      "id": "vkUZVPpzEEGn"
    },
    {
      "cell_type": "code",
      "source": [
        "model_13 = models.Sequential()\n",
        "model_13.add(layers.Conv2D(32, (3, 3), activation='tanh', kernel_initializer='he_uniform', input_shape=(28, 28, 1)))\n",
        "model_13.add(layers.MaxPooling2D(pool_size=(2, 2), strides=(2, 2)))\n",
        "model_13.add(layers.Conv2D(32, (5, 5), activation='tanh', kernel_initializer='he_uniform'))\n",
        "model_13.add(layers.MaxPooling2D(pool_size=(2, 2), strides=(2, 2)))\n",
        "model_13.add(layers.Flatten())\n",
        "model_13.add(layers.Dense(32, activation='tanh', kernel_initializer='he_uniform'))\n",
        "model_13.add(layers.Dense(10, activation='softmax'))"
      ],
      "metadata": {
        "id": "hu_Q_iaabE3E"
      },
      "id": "hu_Q_iaabE3E",
      "execution_count": 32,
      "outputs": []
    },
    {
      "cell_type": "code",
      "source": [
        "model_13.compile(optimizer=opt_3, loss='categorical_crossentropy', metrics=['accuracy'])\n",
        "history = model_13.fit(X_train, y_train, epochs=10, batch_size=32, shuffle=True,validation_data=(X_val, y_val), verbose=1)\n",
        "saved_models.append(model_13)"
      ],
      "metadata": {
        "colab": {
          "base_uri": "https://localhost:8080/"
        },
        "id": "3LDVjCGabHQr",
        "outputId": "3693a457-cf2f-43c2-8492-ca05879da935"
      },
      "id": "3LDVjCGabHQr",
      "execution_count": 33,
      "outputs": [
        {
          "output_type": "stream",
          "name": "stdout",
          "text": [
            "Epoch 1/10\n",
            "1594/1594 [==============================] - 57s 36ms/step - loss: 0.1839 - accuracy: 0.9484 - val_loss: 0.0678 - val_accuracy: 0.9802\n",
            "Epoch 2/10\n",
            "1594/1594 [==============================] - 50s 31ms/step - loss: 0.0630 - accuracy: 0.9818 - val_loss: 0.0536 - val_accuracy: 0.9831\n",
            "Epoch 3/10\n",
            "1594/1594 [==============================] - 51s 32ms/step - loss: 0.0440 - accuracy: 0.9869 - val_loss: 0.0436 - val_accuracy: 0.9880\n",
            "Epoch 4/10\n",
            "1594/1594 [==============================] - 53s 33ms/step - loss: 0.0326 - accuracy: 0.9905 - val_loss: 0.0440 - val_accuracy: 0.9864\n",
            "Epoch 5/10\n",
            "1594/1594 [==============================] - 47s 29ms/step - loss: 0.0242 - accuracy: 0.9933 - val_loss: 0.0510 - val_accuracy: 0.9862\n",
            "Epoch 6/10\n",
            "1594/1594 [==============================] - 47s 29ms/step - loss: 0.0189 - accuracy: 0.9950 - val_loss: 0.0428 - val_accuracy: 0.9871\n",
            "Epoch 7/10\n",
            "1594/1594 [==============================] - 47s 29ms/step - loss: 0.0141 - accuracy: 0.9967 - val_loss: 0.0423 - val_accuracy: 0.9863\n",
            "Epoch 8/10\n",
            "1594/1594 [==============================] - 47s 29ms/step - loss: 0.0109 - accuracy: 0.9978 - val_loss: 0.0419 - val_accuracy: 0.9882\n",
            "Epoch 9/10\n",
            "1594/1594 [==============================] - 47s 29ms/step - loss: 0.0083 - accuracy: 0.9983 - val_loss: 0.0407 - val_accuracy: 0.9876\n",
            "Epoch 10/10\n",
            "1594/1594 [==============================] - 47s 29ms/step - loss: 0.0061 - accuracy: 0.9991 - val_loss: 0.0417 - val_accuracy: 0.9886\n"
          ]
        }
      ]
    },
    {
      "cell_type": "code",
      "source": [
        "model_14 = models.Sequential()\n",
        "model_14.add(layers.Conv2D(32, (3, 3), activation='selu', kernel_initializer='he_uniform', input_shape=(28, 28, 1)))\n",
        "model_14.add(layers.MaxPooling2D(pool_size=(2, 2), strides=(2, 2)))\n",
        "model_14.add(layers.Conv2D(32, (5, 5), activation='selu', kernel_initializer='he_uniform'))\n",
        "model_14.add(layers.MaxPooling2D(pool_size=(2, 2), strides=(2, 2)))\n",
        "model_14.add(layers.Flatten())\n",
        "model_14.add(layers.Dense(32, activation='selu', kernel_initializer='he_uniform'))\n",
        "model_14.add(layers.Dense(10, activation='softmax'))"
      ],
      "metadata": {
        "id": "EmwGbP4dbyuj"
      },
      "id": "EmwGbP4dbyuj",
      "execution_count": 35,
      "outputs": []
    },
    {
      "cell_type": "code",
      "source": [
        "model_14.compile(optimizer=opt_3, loss='categorical_crossentropy', metrics=['accuracy'])\n",
        "history = model_14.fit(X_train, y_train, epochs=10, batch_size=32, shuffle=True,validation_data=(X_val, y_val), verbose=1)\n",
        "saved_models.append(model_14)"
      ],
      "metadata": {
        "colab": {
          "base_uri": "https://localhost:8080/"
        },
        "id": "eMhfWfi1bzqT",
        "outputId": "af8a9ee8-e9cf-469d-fdfa-ccd7faaf5484"
      },
      "id": "eMhfWfi1bzqT",
      "execution_count": 36,
      "outputs": [
        {
          "output_type": "stream",
          "name": "stdout",
          "text": [
            "Epoch 1/10\n",
            "1594/1594 [==============================] - 51s 32ms/step - loss: 0.1583 - accuracy: 0.9529 - val_loss: 0.0946 - val_accuracy: 0.9739\n",
            "Epoch 2/10\n",
            "1594/1594 [==============================] - 50s 31ms/step - loss: 0.0604 - accuracy: 0.9807 - val_loss: 0.0617 - val_accuracy: 0.9821\n",
            "Epoch 3/10\n",
            "1594/1594 [==============================] - 50s 31ms/step - loss: 0.0428 - accuracy: 0.9871 - val_loss: 0.0558 - val_accuracy: 0.9842\n",
            "Epoch 4/10\n",
            "1594/1594 [==============================] - 50s 31ms/step - loss: 0.0299 - accuracy: 0.9905 - val_loss: 0.0528 - val_accuracy: 0.9854\n",
            "Epoch 5/10\n",
            "1594/1594 [==============================] - 50s 31ms/step - loss: 0.0224 - accuracy: 0.9930 - val_loss: 0.0643 - val_accuracy: 0.9829\n",
            "Epoch 6/10\n",
            "1594/1594 [==============================] - 50s 31ms/step - loss: 0.0165 - accuracy: 0.9941 - val_loss: 0.0497 - val_accuracy: 0.9878\n",
            "Epoch 7/10\n",
            "1594/1594 [==============================] - 50s 31ms/step - loss: 0.0131 - accuracy: 0.9957 - val_loss: 0.0526 - val_accuracy: 0.9878\n",
            "Epoch 8/10\n",
            "1594/1594 [==============================] - 50s 31ms/step - loss: 0.0117 - accuracy: 0.9959 - val_loss: 0.0618 - val_accuracy: 0.9846\n",
            "Epoch 9/10\n",
            "1594/1594 [==============================] - 49s 31ms/step - loss: 0.0077 - accuracy: 0.9974 - val_loss: 0.0601 - val_accuracy: 0.9886\n",
            "Epoch 10/10\n",
            "1594/1594 [==============================] - 50s 31ms/step - loss: 0.0054 - accuracy: 0.9983 - val_loss: 0.0641 - val_accuracy: 0.9873\n"
          ]
        }
      ]
    },
    {
      "cell_type": "code",
      "source": [
        "from keras.layers.advanced_activations import LeakyReLU\n",
        "model_15 = models.Sequential()\n",
        "model_15.add(layers.Conv2D(32, (3, 3), kernel_initializer='he_uniform', input_shape=(28, 28, 1)))\n",
        "model_15.add(LeakyReLU(alpha=0.05))\n",
        "model_15.add(layers.MaxPooling2D(pool_size=(2, 2), strides=(2, 2)))\n",
        "model_15.add(layers.Conv2D(32, (5, 5), kernel_initializer='he_uniform'))\n",
        "model_15.add(LeakyReLU(alpha=0.05))\n",
        "model_15.add(layers.MaxPooling2D(pool_size=(2, 2), strides=(2, 2)))\n",
        "model_15.add(layers.Flatten())\n",
        "model_15.add(layers.Dense(32, kernel_initializer='he_uniform'))\n",
        "model_15.add(LeakyReLU(alpha=0.05))\n",
        "model_15.add(layers.Dense(10, activation='softmax'))"
      ],
      "metadata": {
        "id": "r2GVQUDQb0TF"
      },
      "id": "r2GVQUDQb0TF",
      "execution_count": 37,
      "outputs": []
    },
    {
      "cell_type": "code",
      "source": [
        "model_15.compile(optimizer=opt_3, loss='categorical_crossentropy', metrics=['accuracy'])\n",
        "history = model_15.fit(X_train, y_train, epochs=10, batch_size=32, shuffle=True,validation_data=(X_val, y_val), verbose=1)\n",
        "saved_models.append(model_15)"
      ],
      "metadata": {
        "colab": {
          "base_uri": "https://localhost:8080/"
        },
        "id": "Ml_LF3C5b1Oc",
        "outputId": "79d2e2b8-2595-4641-cd11-ab0d389dbaac"
      },
      "id": "Ml_LF3C5b1Oc",
      "execution_count": 38,
      "outputs": [
        {
          "output_type": "stream",
          "name": "stdout",
          "text": [
            "Epoch 1/10\n",
            "1594/1594 [==============================] - 49s 30ms/step - loss: 0.1952 - accuracy: 0.9378 - val_loss: 0.0816 - val_accuracy: 0.9762\n",
            "Epoch 2/10\n",
            "1594/1594 [==============================] - 48s 30ms/step - loss: 0.0657 - accuracy: 0.9796 - val_loss: 0.0531 - val_accuracy: 0.9832\n",
            "Epoch 3/10\n",
            "1594/1594 [==============================] - 48s 30ms/step - loss: 0.0458 - accuracy: 0.9859 - val_loss: 0.0429 - val_accuracy: 0.9873\n",
            "Epoch 4/10\n",
            "1594/1594 [==============================] - 48s 30ms/step - loss: 0.0352 - accuracy: 0.9890 - val_loss: 0.0580 - val_accuracy: 0.9838\n",
            "Epoch 5/10\n",
            "1594/1594 [==============================] - 48s 30ms/step - loss: 0.0288 - accuracy: 0.9908 - val_loss: 0.0424 - val_accuracy: 0.9890\n",
            "Epoch 6/10\n",
            "1594/1594 [==============================] - 48s 30ms/step - loss: 0.0231 - accuracy: 0.9927 - val_loss: 0.0430 - val_accuracy: 0.9871\n",
            "Epoch 7/10\n",
            "1594/1594 [==============================] - 48s 30ms/step - loss: 0.0197 - accuracy: 0.9933 - val_loss: 0.0420 - val_accuracy: 0.9884\n",
            "Epoch 8/10\n",
            "1594/1594 [==============================] - 48s 30ms/step - loss: 0.0169 - accuracy: 0.9945 - val_loss: 0.0397 - val_accuracy: 0.9888\n",
            "Epoch 9/10\n",
            "1594/1594 [==============================] - 48s 30ms/step - loss: 0.0137 - accuracy: 0.9956 - val_loss: 0.0392 - val_accuracy: 0.9910\n",
            "Epoch 10/10\n",
            "1594/1594 [==============================] - 47s 30ms/step - loss: 0.0101 - accuracy: 0.9969 - val_loss: 0.0403 - val_accuracy: 0.9896\n"
          ]
        }
      ]
    },
    {
      "cell_type": "code",
      "source": [
        "best_model, best_accuracy = evaluate_model(saved_models, X_test, y_test)"
      ],
      "metadata": {
        "id": "ng7z1-pmFQtP"
      },
      "id": "ng7z1-pmFQtP",
      "execution_count": null,
      "outputs": []
    },
    {
      "cell_type": "code",
      "source": [
        "summaries(saved_models)"
      ],
      "metadata": {
        "id": "xS70NZz5FXOL"
      },
      "id": "xS70NZz5FXOL",
      "execution_count": null,
      "outputs": []
    },
    {
      "cell_type": "markdown",
      "source": [
        "#Trying different optimizers"
      ],
      "metadata": {
        "id": "MJG73eMssu2y"
      },
      "id": "MJG73eMssu2y"
    },
    {
      "cell_type": "code",
      "source": [
        "model_16 = keras.models.clone_model(best_model)\n",
        "model_16.compile(optimizer=opt_4, loss='categorical_crossentropy', metrics=['accuracy'])\n",
        "history = model_16.fit(X_train, y_train, epochs=10, batch_size=32, shuffle=True,validation_data=(X_val, y_val), verbose=1)\n",
        "saved_models.append(model_16)"
      ],
      "metadata": {
        "colab": {
          "base_uri": "https://localhost:8080/"
        },
        "id": "2NExiLWEs25I",
        "outputId": "2f75f6bc-ce11-4c5f-a617-81c07a5c5d6b"
      },
      "id": "2NExiLWEs25I",
      "execution_count": 40,
      "outputs": [
        {
          "output_type": "stream",
          "name": "stdout",
          "text": [
            "Epoch 1/10\n",
            "1594/1594 [==============================] - 49s 31ms/step - loss: 0.1698 - accuracy: 0.9491 - val_loss: 0.1191 - val_accuracy: 0.9642\n",
            "Epoch 2/10\n",
            "1594/1594 [==============================] - 49s 31ms/step - loss: 0.0935 - accuracy: 0.9726 - val_loss: 0.1090 - val_accuracy: 0.9768\n",
            "Epoch 3/10\n",
            "1594/1594 [==============================] - 49s 30ms/step - loss: 0.0887 - accuracy: 0.9764 - val_loss: 0.0927 - val_accuracy: 0.9752\n",
            "Epoch 4/10\n",
            "1594/1594 [==============================] - 49s 30ms/step - loss: 0.0824 - accuracy: 0.9781 - val_loss: 0.0939 - val_accuracy: 0.9761\n",
            "Epoch 5/10\n",
            "1594/1594 [==============================] - 49s 31ms/step - loss: 0.0848 - accuracy: 0.9785 - val_loss: 0.1104 - val_accuracy: 0.9756\n",
            "Epoch 6/10\n",
            "1594/1594 [==============================] - 49s 31ms/step - loss: 0.0732 - accuracy: 0.9806 - val_loss: 0.0834 - val_accuracy: 0.9814\n",
            "Epoch 7/10\n",
            "1594/1594 [==============================] - 49s 31ms/step - loss: 0.0826 - accuracy: 0.9797 - val_loss: 0.0992 - val_accuracy: 0.9784\n",
            "Epoch 8/10\n",
            "1594/1594 [==============================] - 49s 31ms/step - loss: 0.0815 - accuracy: 0.9815 - val_loss: 0.1201 - val_accuracy: 0.9714\n",
            "Epoch 9/10\n",
            "1594/1594 [==============================] - 49s 31ms/step - loss: 0.0752 - accuracy: 0.9820 - val_loss: 0.0937 - val_accuracy: 0.9773\n",
            "Epoch 10/10\n",
            "1594/1594 [==============================] - 49s 31ms/step - loss: 0.0685 - accuracy: 0.9830 - val_loss: 0.0900 - val_accuracy: 0.9806\n"
          ]
        }
      ]
    },
    {
      "cell_type": "code",
      "source": [
        "model_17 = keras.models.clone_model(best_model)\n",
        "model_17.compile(optimizer=opt_5, loss='categorical_crossentropy', metrics=['accuracy'])\n",
        "history = model_17.fit(X_train, y_train, epochs=10, batch_size=32, shuffle=True,validation_data=(X_val, y_val), verbose=1)\n",
        "saved_models.append(model_17)"
      ],
      "metadata": {
        "colab": {
          "base_uri": "https://localhost:8080/"
        },
        "id": "tlw1Bu6ztD-R",
        "outputId": "f3acc01d-4e71-49dc-a5e0-ba9f77abc384"
      },
      "id": "tlw1Bu6ztD-R",
      "execution_count": 41,
      "outputs": [
        {
          "output_type": "stream",
          "name": "stdout",
          "text": [
            "Epoch 1/10\n",
            "1594/1594 [==============================] - 50s 31ms/step - loss: 0.1932 - accuracy: 0.9517 - val_loss: 0.1405 - val_accuracy: 0.9726\n",
            "Epoch 2/10\n",
            "1594/1594 [==============================] - 49s 31ms/step - loss: 0.1487 - accuracy: 0.9693 - val_loss: 0.1114 - val_accuracy: 0.9764\n",
            "Epoch 3/10\n",
            "1594/1594 [==============================] - 49s 31ms/step - loss: 0.1563 - accuracy: 0.9691 - val_loss: 0.1303 - val_accuracy: 0.9676\n",
            "Epoch 4/10\n",
            "1594/1594 [==============================] - 50s 31ms/step - loss: 0.1642 - accuracy: 0.9696 - val_loss: 0.1348 - val_accuracy: 0.9691\n",
            "Epoch 5/10\n",
            "1594/1594 [==============================] - 49s 31ms/step - loss: 0.1774 - accuracy: 0.9702 - val_loss: 0.3268 - val_accuracy: 0.9729\n",
            "Epoch 6/10\n",
            "1594/1594 [==============================] - 49s 31ms/step - loss: 0.1881 - accuracy: 0.9686 - val_loss: 0.1251 - val_accuracy: 0.9720\n",
            "Epoch 7/10\n",
            "1594/1594 [==============================] - 49s 31ms/step - loss: 0.1937 - accuracy: 0.9663 - val_loss: 0.3031 - val_accuracy: 0.9463\n",
            "Epoch 8/10\n",
            "1594/1594 [==============================] - 50s 31ms/step - loss: 0.1790 - accuracy: 0.9670 - val_loss: 0.1384 - val_accuracy: 0.9736\n",
            "Epoch 9/10\n",
            "1594/1594 [==============================] - 50s 31ms/step - loss: 0.2097 - accuracy: 0.9648 - val_loss: 0.2048 - val_accuracy: 0.9501\n",
            "Epoch 10/10\n",
            "1594/1594 [==============================] - 50s 31ms/step - loss: 0.2029 - accuracy: 0.9632 - val_loss: 0.2042 - val_accuracy: 0.9477\n"
          ]
        }
      ]
    },
    {
      "cell_type": "markdown",
      "source": [
        "#Trying different dropout rates"
      ],
      "metadata": {
        "id": "dF9wUeZKyUrV"
      },
      "id": "dF9wUeZKyUrV"
    },
    {
      "cell_type": "code",
      "source": [
        "from keras.layers import Dropout"
      ],
      "metadata": {
        "id": "KgbOhiYQyX3J"
      },
      "id": "KgbOhiYQyX3J",
      "execution_count": 43,
      "outputs": []
    },
    {
      "cell_type": "code",
      "source": [
        "model__16 = models.Sequential()\n",
        "model__16.add(layers.Conv2D(32, (3, 3), kernel_initializer='he_uniform', input_shape=(28, 28, 1)))\n",
        "model__16.add(LeakyReLU(alpha=0.05))\n",
        "model__16.add(layers.MaxPooling2D(pool_size=(2, 2), strides=(2, 2)))\n",
        "model.add(Dropout(0.4))\n",
        "model__16.add(layers.Conv2D(32, (5, 5), kernel_initializer='he_uniform'))\n",
        "model__16.add(LeakyReLU(alpha=0.05))\n",
        "model__16.add(layers.MaxPooling2D(pool_size=(2, 2), strides=(2, 2)))\n",
        "model__16.add(layers.Flatten())\n",
        "model__16.add(layers.Dense(32, kernel_initializer='he_uniform'))\n",
        "model__16.add(LeakyReLU(alpha=0.05))\n",
        "model.add(Dropout(0.4))\n",
        "model__16.add(layers.Dense(10, activation='softmax'))"
      ],
      "metadata": {
        "id": "TeDcQcJ10GhB"
      },
      "id": "TeDcQcJ10GhB",
      "execution_count": 44,
      "outputs": []
    },
    {
      "cell_type": "code",
      "source": [
        "opt_16 = optimizers.SGD(learning_rate=0.01, momentum=0.9)\n",
        "model__16.compile(optimizer=opt_16, loss='categorical_crossentropy', metrics=['accuracy'])\n",
        "history = model__16.fit(X_train, y_train, epochs=10, batch_size=32, shuffle=True,validation_data=(X_val, y_val), verbose=1)\n",
        "saved_models.append(model__16)"
      ],
      "metadata": {
        "colab": {
          "base_uri": "https://localhost:8080/"
        },
        "id": "ps977F84yYgi",
        "outputId": "dc5d1a09-7b1f-4f0f-f451-c36af553e9cd"
      },
      "id": "ps977F84yYgi",
      "execution_count": 45,
      "outputs": [
        {
          "output_type": "stream",
          "name": "stdout",
          "text": [
            "Epoch 1/10\n",
            "1594/1594 [==============================] - 52s 32ms/step - loss: 0.1903 - accuracy: 0.9390 - val_loss: 0.0856 - val_accuracy: 0.9746\n",
            "Epoch 2/10\n",
            "1594/1594 [==============================] - 51s 32ms/step - loss: 0.0666 - accuracy: 0.9796 - val_loss: 0.0585 - val_accuracy: 0.9829\n",
            "Epoch 3/10\n",
            "1594/1594 [==============================] - 51s 32ms/step - loss: 0.0466 - accuracy: 0.9856 - val_loss: 0.0602 - val_accuracy: 0.9816\n",
            "Epoch 4/10\n",
            "1594/1594 [==============================] - 52s 33ms/step - loss: 0.0357 - accuracy: 0.9887 - val_loss: 0.0490 - val_accuracy: 0.9864\n",
            "Epoch 5/10\n",
            "1594/1594 [==============================] - 52s 33ms/step - loss: 0.0290 - accuracy: 0.9907 - val_loss: 0.0474 - val_accuracy: 0.9861\n",
            "Epoch 6/10\n",
            "1594/1594 [==============================] - 52s 32ms/step - loss: 0.0239 - accuracy: 0.9925 - val_loss: 0.0410 - val_accuracy: 0.9890\n",
            "Epoch 7/10\n",
            "1594/1594 [==============================] - 52s 32ms/step - loss: 0.0200 - accuracy: 0.9931 - val_loss: 0.0515 - val_accuracy: 0.9859\n",
            "Epoch 8/10\n",
            "1594/1594 [==============================] - 53s 33ms/step - loss: 0.0158 - accuracy: 0.9951 - val_loss: 0.0478 - val_accuracy: 0.9882\n",
            "Epoch 9/10\n",
            "1594/1594 [==============================] - 52s 33ms/step - loss: 0.0135 - accuracy: 0.9958 - val_loss: 0.0465 - val_accuracy: 0.9886\n",
            "Epoch 10/10\n",
            "1594/1594 [==============================] - 52s 33ms/step - loss: 0.0109 - accuracy: 0.9965 - val_loss: 0.0472 - val_accuracy: 0.9884\n"
          ]
        }
      ]
    },
    {
      "cell_type": "code",
      "source": [
        "model__17 = models.Sequential()\n",
        "model__17.add(layers.Conv2D(32, (3, 3), kernel_initializer='he_uniform', input_shape=(28, 28, 1)))\n",
        "model__17.add(LeakyReLU(alpha=0.05))\n",
        "model__17.add(layers.MaxPooling2D(pool_size=(2, 2), strides=(2, 2)))\n",
        "model__17.add(layers.Conv2D(32, (5, 5), kernel_initializer='he_uniform'))\n",
        "model__17.add(LeakyReLU(alpha=0.05))\n",
        "model__17.add(layers.MaxPooling2D(pool_size=(2, 2), strides=(2, 2)))\n",
        "model__17.add(Dropout(0.75))\n",
        "model__17.add(layers.Flatten())\n",
        "model__17.add(layers.Dense(32, kernel_initializer='he_uniform'))\n",
        "model__17.add(LeakyReLU(alpha=0.05))\n",
        "model__17.add(Dropout(0.75))\n",
        "model__17.add(layers.Dense(10, activation='softmax'))"
      ],
      "metadata": {
        "id": "Sn4-pa8X0GKh"
      },
      "id": "Sn4-pa8X0GKh",
      "execution_count": 46,
      "outputs": []
    },
    {
      "cell_type": "code",
      "source": [
        "opt_17 = optimizers.SGD(learning_rate=0.01, momentum=0.9)\n",
        "model__17.compile(optimizer=opt_17, loss='categorical_crossentropy', metrics=['accuracy'])\n",
        "history = model__17.fit(X_train, y_train, epochs=10, batch_size=32, shuffle=True,validation_data=(X_val, y_val), verbose=1)\n",
        "saved_models.append(model__17)"
      ],
      "metadata": {
        "colab": {
          "base_uri": "https://localhost:8080/"
        },
        "id": "DaSdMeCb0Dq3",
        "outputId": "ba7f269c-f36a-497a-a47f-a0ee93b4c700"
      },
      "id": "DaSdMeCb0Dq3",
      "execution_count": 47,
      "outputs": [
        {
          "output_type": "stream",
          "name": "stdout",
          "text": [
            "Epoch 1/10\n",
            "1594/1594 [==============================] - 53s 33ms/step - loss: 1.3637 - accuracy: 0.5229 - val_loss: 0.3583 - val_accuracy: 0.9178\n",
            "Epoch 2/10\n",
            "1594/1594 [==============================] - 52s 33ms/step - loss: 0.8581 - accuracy: 0.7139 - val_loss: 0.2509 - val_accuracy: 0.9318\n",
            "Epoch 3/10\n",
            "1594/1594 [==============================] - 52s 33ms/step - loss: 0.7381 - accuracy: 0.7610 - val_loss: 0.1655 - val_accuracy: 0.9560\n",
            "Epoch 4/10\n",
            "1594/1594 [==============================] - 52s 33ms/step - loss: 0.6770 - accuracy: 0.7819 - val_loss: 0.1448 - val_accuracy: 0.9626\n",
            "Epoch 5/10\n",
            "1594/1594 [==============================] - 52s 33ms/step - loss: 0.6384 - accuracy: 0.7944 - val_loss: 0.1310 - val_accuracy: 0.9646\n",
            "Epoch 6/10\n",
            "1594/1594 [==============================] - 52s 33ms/step - loss: 0.6101 - accuracy: 0.8014 - val_loss: 0.1232 - val_accuracy: 0.9680\n",
            "Epoch 7/10\n",
            "1594/1594 [==============================] - 52s 33ms/step - loss: 0.6031 - accuracy: 0.8057 - val_loss: 0.1369 - val_accuracy: 0.9626\n",
            "Epoch 8/10\n",
            "1594/1594 [==============================] - 52s 33ms/step - loss: 0.5712 - accuracy: 0.8161 - val_loss: 0.1066 - val_accuracy: 0.9719\n",
            "Epoch 9/10\n",
            "1594/1594 [==============================] - 52s 32ms/step - loss: 0.5716 - accuracy: 0.8181 - val_loss: 0.1121 - val_accuracy: 0.9690\n",
            "Epoch 10/10\n",
            "1594/1594 [==============================] - 52s 32ms/step - loss: 0.5486 - accuracy: 0.8220 - val_loss: 0.1563 - val_accuracy: 0.9556\n"
          ]
        }
      ]
    },
    {
      "cell_type": "markdown",
      "source": [
        "#Models Evaluation"
      ],
      "metadata": {
        "id": "cnDDr4SkRNxI"
      },
      "id": "cnDDr4SkRNxI"
    },
    {
      "cell_type": "code",
      "source": [
        "from operator import itemgetter\n",
        "for i in range(0, len(saved_models)):\n",
        "  loss, acc = saved_models[i].evaluate(X_test, y_test, verbose = 0)\n",
        "  accuracies.append(acc)\n",
        "  print('models: ' + str(i + 1), '%.2f'%(acc * 100) + '%')"
      ],
      "metadata": {
        "colab": {
          "base_uri": "https://localhost:8080/"
        },
        "id": "R1e2WPRS-0Gl",
        "outputId": "ffa4d260-5bcb-49dc-e931-d1ecb4444506"
      },
      "id": "R1e2WPRS-0Gl",
      "execution_count": 48,
      "outputs": [
        {
          "output_type": "stream",
          "name": "stdout",
          "text": [
            "models: 1 98.40%\n",
            "models: 2 97.92%\n",
            "models: 3 98.93%\n",
            "models: 4 98.79%\n",
            "models: 5 96.73%\n",
            "models: 6 98.99%\n",
            "models: 7 98.76%\n",
            "models: 8 98.83%\n",
            "models: 9 98.67%\n",
            "models: 10 98.75%\n",
            "models: 11 98.89%\n",
            "models: 12 98.57%\n",
            "models: 13 99.01%\n",
            "models: 14 98.20%\n",
            "models: 15 94.99%\n",
            "models: 16 98.90%\n",
            "models: 17 95.93%\n"
          ]
        }
      ]
    }
  ],
  "metadata": {
    "kernelspec": {
      "display_name": "Python 3 (ipykernel)",
      "language": "python",
      "name": "python3"
    },
    "language_info": {
      "codemirror_mode": {
        "name": "ipython",
        "version": 3
      },
      "file_extension": ".py",
      "mimetype": "text/x-python",
      "name": "python",
      "nbconvert_exporter": "python",
      "pygments_lexer": "ipython3",
      "version": "3.9.7"
    },
    "colab": {
      "name": "CNN.ipynb",
      "provenance": [],
      "collapsed_sections": [
        "8_zCodYOt9Kd",
        "oXfn9o7xuijs",
        "3J8hwjmlCxtp",
        "14UIOoXWzq_P",
        "lfacKEPLzw8o",
        "1DOv_IDKZ1-G",
        "pSu91m-_bCB-",
        "MJG73eMssu2y",
        "dF9wUeZKyUrV",
        "cnDDr4SkRNxI"
      ],
      "include_colab_link": true
    }
  },
  "nbformat": 4,
  "nbformat_minor": 5
}