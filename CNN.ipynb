{
 "cells": [
  {
   "cell_type": "markdown",
   "id": "45425864",
   "metadata": {
    "colab_type": "text",
    "id": "view-in-github"
   },
   "source": [
    "<a href=\"https://colab.research.google.com/github/Al-ameen007/CNN/blob/main/CNN.ipynb\" target=\"_parent\"><img src=\"https://colab.research.google.com/assets/colab-badge.svg\" alt=\"Open In Colab\"/></a>"
   ]
  },
  {
   "cell_type": "markdown",
   "id": "8_zCodYOt9Kd",
   "metadata": {
    "id": "8_zCodYOt9Kd"
   },
   "source": [
    "# Importing the data and some preprocessing"
   ]
  },
  {
   "cell_type": "code",
   "execution_count": 1,
   "id": "794a1cd9",
   "metadata": {
    "id": "794a1cd9"
   },
   "outputs": [],
   "source": [
    "import numpy as np\n",
    "from matplotlib import pyplot as plt\n",
    "import tensorflow \n",
    "from tensorflow import keras"
   ]
  },
  {
   "cell_type": "code",
   "execution_count": 2,
   "id": "1fee0949",
   "metadata": {
    "colab": {
     "base_uri": "https://localhost:8080/"
    },
    "id": "1fee0949",
    "outputId": "7c16f338-1b3b-4543-a19a-7a0be61f6d89"
   },
   "outputs": [],
   "source": [
    "from tensorflow.keras.datasets import mnist\n",
    "(X_train, y_train), (X_test, y_test) = mnist.load_data()"
   ]
  },
  {
   "cell_type": "code",
   "execution_count": 3,
   "id": "66db5679",
   "metadata": {
    "id": "66db5679"
   },
   "outputs": [],
   "source": [
    "# Normalizing the data and one-hot encoding the labels\n",
    "from tensorflow.keras.utils import to_categorical\n",
    "X_train = X_train.astype('float32') / 255.0\n",
    "X_test = X_test.astype('float32') / 255.0\n",
    "y_train = to_categorical(y_train)\n",
    "y_test = to_categorical(y_test)"
   ]
  },
  {
   "cell_type": "code",
   "execution_count": 4,
   "id": "c506d3b4",
   "metadata": {
    "id": "c506d3b4"
   },
   "outputs": [],
   "source": [
    "# Splitting the data into training and validation sets as we want to save the test set for the evaluation of the best model\n",
    "from sklearn.model_selection import train_test_split\n",
    "X_train, X_val, y_train, y_val = train_test_split(X_train, y_train, test_size=0.15, random_state=42)"
   ]
  },
  {
   "cell_type": "code",
   "execution_count": 5,
   "id": "24e242ff",
   "metadata": {
    "id": "24e242ff"
   },
   "outputs": [],
   "source": [
    "from keras import models\n",
    "from keras import layers\n",
    "from tensorflow.keras import optimizers"
   ]
  },
  {
   "cell_type": "code",
   "execution_count": 6,
   "id": "w09_wooZP5os",
   "metadata": {
    "id": "w09_wooZP5os"
   },
   "outputs": [],
   "source": [
    "saved_models = []\n",
    "histories = []"
   ]
  },
  {
   "cell_type": "markdown",
   "id": "oXfn9o7xuijs",
   "metadata": {
    "id": "oXfn9o7xuijs"
   },
   "source": [
    "# Base Model"
   ]
  },
  {
   "cell_type": "code",
   "execution_count": 7,
   "id": "46791caf",
   "metadata": {
    "id": "46791caf"
   },
   "outputs": [],
   "source": [
    "model = models.Sequential()\n",
    "model.add(layers.Conv2D(64, (5, 5), strides=(2, 2),activation='relu', kernel_initializer='truncated_normal', input_shape=(28, 28, 1)))\n",
    "model.add(layers.MaxPooling2D(pool_size=(2, 2), strides=(2, 2)))\n",
    "model.add(layers.Flatten())\n",
    "model.add(layers.Dense(64, activation='relu', kernel_initializer='he_uniform'))\n",
    "model.add(layers.Dense(10, activation='softmax'))"
   ]
  },
  {
   "cell_type": "code",
   "execution_count": 8,
   "id": "o2qwrmHo8erm",
   "metadata": {
    "id": "o2qwrmHo8erm"
   },
   "outputs": [],
   "source": [
    "opt = optimizers.SGD(learning_rate=0.0001, momentum=0.9)\n",
    "opt_1 = optimizers.SGD(learning_rate=0.05, momentum=0.9)\n",
    "opt_2 = optimizers.SGD(learning_rate=0.001, momentum=0.9)\n",
    "opt_3 = optimizers.SGD(learning_rate=0.01, momentum=0.9)\n",
    "opt_4 = optimizers.Adam(learning_rate=0.01, beta_1=0.9, beta_2=0.999)\n",
    "opt_5 = optimizers.RMSprop(learning_rate=0.01, rho=0.9, momentum=0.1,)"
   ]
  },
  {
   "cell_type": "code",
   "execution_count": 9,
   "id": "YB5JmuuzDpiU",
   "metadata": {
    "id": "YB5JmuuzDpiU"
   },
   "outputs": [],
   "source": [
    "def evaluate_model(saved_models, X, y):\n",
    "  best_model, best_model_idx = saved_models[0], 0\n",
    "  best_accuracy= (best_model.evaluate(X, y, verbose=1))[1]\n",
    "  for i in range(1, len(saved_models)):\n",
    "    loss, acc = saved_models[i].evaluate(X, y, verbose=1)\n",
    "    if acc > best_accuracy:\n",
    "      best_model, best_model_idx , best_accuracy= saved_models[i], i, acc\n",
    "  print('model: ' + str(best_model_idx + 1), 'accuracy: ' + str('%.2f'%(best_accuracy * 100) + ' %'))\n",
    "  return best_model, best_model_idx"
   ]
  },
  {
   "cell_type": "code",
   "execution_count": 10,
   "id": "DTy9l7jbaR3u",
   "metadata": {
    "id": "DTy9l7jbaR3u"
   },
   "outputs": [],
   "source": [
    "def summaries(saved_models):\n",
    "  for i in range(0, len(saved_models)):\n",
    "    print('model: ' + str(i + 1))\n",
    "    saved_models[i].summary()"
   ]
  },
  {
   "cell_type": "markdown",
   "id": "3J8hwjmlCxtp",
   "metadata": {
    "id": "3J8hwjmlCxtp"
   },
   "source": [
    "# Trying differnt number of epochs"
   ]
  },
  {
   "cell_type": "code",
   "execution_count": 11,
   "id": "3JLhPzqhC-v7",
   "metadata": {
    "colab": {
     "base_uri": "https://localhost:8080/"
    },
    "id": "3JLhPzqhC-v7",
    "outputId": "b6547917-246c-4e9a-b678-a72312ddd9ea"
   },
   "outputs": [
    {
     "name": "stdout",
     "output_type": "stream",
     "text": [
      "Epoch 1/10\n",
      "1594/1594 [==============================] - 11s 6ms/step - loss: 2.0724 - accuracy: 0.3836 - val_loss: 1.7509 - val_accuracy: 0.5932\n",
      "Epoch 2/10\n",
      "1594/1594 [==============================] - 11s 7ms/step - loss: 1.2771 - accuracy: 0.7214 - val_loss: 0.8940 - val_accuracy: 0.7872\n",
      "Epoch 3/10\n",
      "1594/1594 [==============================] - 9s 6ms/step - loss: 0.7067 - accuracy: 0.8237 - val_loss: 0.5874 - val_accuracy: 0.8487\n",
      "Epoch 4/10\n",
      "1594/1594 [==============================] - 8s 5ms/step - loss: 0.5190 - accuracy: 0.8623 - val_loss: 0.4686 - val_accuracy: 0.8733\n",
      "Epoch 5/10\n",
      "1594/1594 [==============================] - 8s 5ms/step - loss: 0.4377 - accuracy: 0.8803 - val_loss: 0.4087 - val_accuracy: 0.8856\n",
      "Epoch 6/10\n",
      "1594/1594 [==============================] - 9s 5ms/step - loss: 0.3919 - accuracy: 0.8900 - val_loss: 0.3698 - val_accuracy: 0.8970\n",
      "Epoch 7/10\n",
      "1594/1594 [==============================] - 8s 5ms/step - loss: 0.3616 - accuracy: 0.8976 - val_loss: 0.3434 - val_accuracy: 0.9009\n",
      "Epoch 8/10\n",
      "1594/1594 [==============================] - 8s 5ms/step - loss: 0.3392 - accuracy: 0.9019 - val_loss: 0.3225 - val_accuracy: 0.9076\n",
      "Epoch 9/10\n",
      "1594/1594 [==============================] - 9s 5ms/step - loss: 0.3215 - accuracy: 0.9074 - val_loss: 0.3070 - val_accuracy: 0.9098\n",
      "Epoch 10/10\n",
      "1594/1594 [==============================] - 9s 5ms/step - loss: 0.3069 - accuracy: 0.9110 - val_loss: 0.2943 - val_accuracy: 0.9129\n"
     ]
    }
   ],
   "source": [
    "model_1 = keras.models.clone_model(model)\n",
    "model_1.compile(optimizer=opt, loss='categorical_crossentropy', metrics=['accuracy'])\n",
    "model_1_history = model_1.fit(X_train, y_train, epochs=10, batch_size=32, shuffle=True,validation_data=(X_val, y_val), verbose=1)\n",
    "saved_models.append(model_1)\n",
    "histories.append(model_1_history)"
   ]
  },
  {
   "cell_type": "code",
   "execution_count": 12,
   "id": "32hYEF52DLGJ",
   "metadata": {
    "colab": {
     "base_uri": "https://localhost:8080/"
    },
    "id": "32hYEF52DLGJ",
    "outputId": "1957466e-167c-483f-9102-83854d77a5d9"
   },
   "outputs": [
    {
     "name": "stdout",
     "output_type": "stream",
     "text": [
      "Epoch 1/15\n",
      "1594/1594 [==============================] - 10s 6ms/step - loss: 2.0749 - accuracy: 0.4283 - val_loss: 1.7062 - val_accuracy: 0.6561\n",
      "Epoch 2/15\n",
      "1594/1594 [==============================] - 9s 5ms/step - loss: 1.1871 - accuracy: 0.7550 - val_loss: 0.8012 - val_accuracy: 0.8197\n",
      "Epoch 3/15\n",
      "1594/1594 [==============================] - 9s 6ms/step - loss: 0.6421 - accuracy: 0.8425 - val_loss: 0.5364 - val_accuracy: 0.8631\n",
      "Epoch 4/15\n",
      "1594/1594 [==============================] - 8s 5ms/step - loss: 0.4828 - accuracy: 0.8717 - val_loss: 0.4389 - val_accuracy: 0.8832\n",
      "Epoch 5/15\n",
      "1594/1594 [==============================] - 9s 6ms/step - loss: 0.4138 - accuracy: 0.8854 - val_loss: 0.3874 - val_accuracy: 0.8948\n",
      "Epoch 6/15\n",
      "1594/1594 [==============================] - 9s 5ms/step - loss: 0.3738 - accuracy: 0.8949 - val_loss: 0.3548 - val_accuracy: 0.9006\n",
      "Epoch 7/15\n",
      "1594/1594 [==============================] - 8s 5ms/step - loss: 0.3467 - accuracy: 0.9015 - val_loss: 0.3320 - val_accuracy: 0.9068\n",
      "Epoch 8/15\n",
      "1594/1594 [==============================] - 9s 6ms/step - loss: 0.3261 - accuracy: 0.9065 - val_loss: 0.3146 - val_accuracy: 0.9119\n",
      "Epoch 9/15\n",
      "1594/1594 [==============================] - 8s 5ms/step - loss: 0.3095 - accuracy: 0.9118 - val_loss: 0.2999 - val_accuracy: 0.9163\n",
      "Epoch 10/15\n",
      "1594/1594 [==============================] - 8s 5ms/step - loss: 0.2951 - accuracy: 0.9155 - val_loss: 0.2857 - val_accuracy: 0.9188\n",
      "Epoch 11/15\n",
      "1594/1594 [==============================] - 8s 5ms/step - loss: 0.2830 - accuracy: 0.9185 - val_loss: 0.2734 - val_accuracy: 0.9209\n",
      "Epoch 12/15\n",
      "1594/1594 [==============================] - 8s 5ms/step - loss: 0.2718 - accuracy: 0.9217 - val_loss: 0.2636 - val_accuracy: 0.9247\n",
      "Epoch 13/15\n",
      "1594/1594 [==============================] - 8s 5ms/step - loss: 0.2618 - accuracy: 0.9243 - val_loss: 0.2526 - val_accuracy: 0.9279\n",
      "Epoch 14/15\n",
      "1594/1594 [==============================] - 10s 6ms/step - loss: 0.2524 - accuracy: 0.9277 - val_loss: 0.2442 - val_accuracy: 0.9304\n",
      "Epoch 15/15\n",
      "1594/1594 [==============================] - 9s 6ms/step - loss: 0.2436 - accuracy: 0.9301 - val_loss: 0.2355 - val_accuracy: 0.9326\n"
     ]
    }
   ],
   "source": [
    "model_2 = keras.models.clone_model(model)\n",
    "model_2.compile(optimizer=opt, loss='categorical_crossentropy', metrics=['accuracy'])\n",
    "model_2_history = model_2.fit(X_train, y_train, epochs=15, batch_size=32, shuffle=True,validation_data=(X_val, y_val), verbose=1)\n",
    "saved_models.append(model_2)\n",
    "histories.append(model_2_history)"
   ]
  },
  {
   "cell_type": "code",
   "execution_count": 13,
   "id": "Dy6ABdwbDLzB",
   "metadata": {
    "colab": {
     "base_uri": "https://localhost:8080/"
    },
    "id": "Dy6ABdwbDLzB",
    "outputId": "44b96071-e568-4611-d0c4-e945944def6d"
   },
   "outputs": [
    {
     "name": "stdout",
     "output_type": "stream",
     "text": [
      "Epoch 1/20\n",
      "1594/1594 [==============================] - 9s 5ms/step - loss: 2.1055 - accuracy: 0.4451 - val_loss: 1.7739 - val_accuracy: 0.6796\n",
      "Epoch 2/20\n",
      "1594/1594 [==============================] - 8s 5ms/step - loss: 1.2503 - accuracy: 0.7478 - val_loss: 0.8440 - val_accuracy: 0.8002\n",
      "Epoch 3/20\n",
      "1594/1594 [==============================] - 8s 5ms/step - loss: 0.6689 - accuracy: 0.8361 - val_loss: 0.5579 - val_accuracy: 0.8582\n",
      "Epoch 4/20\n",
      "1594/1594 [==============================] - 8s 5ms/step - loss: 0.4978 - accuracy: 0.8685 - val_loss: 0.4544 - val_accuracy: 0.8751\n",
      "Epoch 5/20\n",
      "1594/1594 [==============================] - 8s 5ms/step - loss: 0.4241 - accuracy: 0.8833 - val_loss: 0.3984 - val_accuracy: 0.8891\n",
      "Epoch 6/20\n",
      "1594/1594 [==============================] - 8s 5ms/step - loss: 0.3819 - accuracy: 0.8926 - val_loss: 0.3647 - val_accuracy: 0.8968\n",
      "Epoch 7/20\n",
      "1594/1594 [==============================] - 8s 5ms/step - loss: 0.3530 - accuracy: 0.8999 - val_loss: 0.3394 - val_accuracy: 0.9056\n",
      "Epoch 8/20\n",
      "1594/1594 [==============================] - 8s 5ms/step - loss: 0.3316 - accuracy: 0.9054 - val_loss: 0.3187 - val_accuracy: 0.9081\n",
      "Epoch 9/20\n",
      "1594/1594 [==============================] - 9s 6ms/step - loss: 0.3145 - accuracy: 0.9096 - val_loss: 0.3026 - val_accuracy: 0.9134\n",
      "Epoch 10/20\n",
      "1594/1594 [==============================] - 8s 5ms/step - loss: 0.2997 - accuracy: 0.9140 - val_loss: 0.2887 - val_accuracy: 0.9161\n",
      "Epoch 11/20\n",
      "1594/1594 [==============================] - 8s 5ms/step - loss: 0.2866 - accuracy: 0.9173 - val_loss: 0.2772 - val_accuracy: 0.9219\n",
      "Epoch 12/20\n",
      "1594/1594 [==============================] - 8s 5ms/step - loss: 0.2750 - accuracy: 0.9211 - val_loss: 0.2655 - val_accuracy: 0.9237\n",
      "Epoch 13/20\n",
      "1594/1594 [==============================] - 8s 5ms/step - loss: 0.2645 - accuracy: 0.9241 - val_loss: 0.2549 - val_accuracy: 0.9272\n",
      "Epoch 14/20\n",
      "1594/1594 [==============================] - 8s 5ms/step - loss: 0.2549 - accuracy: 0.9269 - val_loss: 0.2466 - val_accuracy: 0.9301\n",
      "Epoch 15/20\n",
      "1594/1594 [==============================] - 8s 5ms/step - loss: 0.2459 - accuracy: 0.9298 - val_loss: 0.2370 - val_accuracy: 0.9331\n",
      "Epoch 16/20\n",
      "1594/1594 [==============================] - 8s 5ms/step - loss: 0.2375 - accuracy: 0.9322 - val_loss: 0.2293 - val_accuracy: 0.9352\n",
      "Epoch 17/20\n",
      "1594/1594 [==============================] - 8s 5ms/step - loss: 0.2295 - accuracy: 0.9347 - val_loss: 0.2220 - val_accuracy: 0.9370\n",
      "Epoch 18/20\n",
      "1594/1594 [==============================] - 8s 5ms/step - loss: 0.2219 - accuracy: 0.9368 - val_loss: 0.2159 - val_accuracy: 0.9380\n",
      "Epoch 19/20\n",
      "1594/1594 [==============================] - 8s 5ms/step - loss: 0.2147 - accuracy: 0.9380 - val_loss: 0.2073 - val_accuracy: 0.9418\n",
      "Epoch 20/20\n",
      "1594/1594 [==============================] - 8s 5ms/step - loss: 0.2081 - accuracy: 0.9410 - val_loss: 0.2020 - val_accuracy: 0.9443\n"
     ]
    }
   ],
   "source": [
    "model_3 = keras.models.clone_model(model)\n",
    "model_3.compile(optimizer=opt, loss='categorical_crossentropy', metrics=['accuracy'])\n",
    "model_3_history = model_3.fit(X_train, y_train, epochs=20, batch_size=32, shuffle=True,validation_data=(X_val, y_val), verbose=1)\n",
    "saved_models.append(model_3)\n",
    "histories.append(model_3_history)"
   ]
  },
  {
   "cell_type": "code",
   "execution_count": 14,
   "id": "sVzI96YfOMi8",
   "metadata": {
    "colab": {
     "base_uri": "https://localhost:8080/"
    },
    "id": "sVzI96YfOMi8",
    "outputId": "34fb430b-59a1-4338-ab83-51bade6fc89c"
   },
   "outputs": [
    {
     "name": "stdout",
     "output_type": "stream",
     "text": [
      "313/313 [==============================] - 1s 2ms/step - loss: 0.2870 - accuracy: 0.9167\n",
      "313/313 [==============================] - 1s 3ms/step - loss: 0.2247 - accuracy: 0.9376\n",
      "313/313 [==============================] - 1s 3ms/step - loss: 0.1935 - accuracy: 0.9448\n",
      "model: 3 accuracy: 94.48 %\n"
     ]
    }
   ],
   "source": [
    "best_model, best_model_idx = evaluate_model(saved_models, X_test, y_test)"
   ]
  },
  {
   "cell_type": "code",
   "execution_count": 15,
   "id": "db089c12",
   "metadata": {},
   "outputs": [],
   "source": [
    "#Trying different learning rates"
   ]
  },
  {
   "cell_type": "code",
   "execution_count": 16,
   "id": "inBcvI_-uvbt",
   "metadata": {
    "colab": {
     "base_uri": "https://localhost:8080/"
    },
    "id": "inBcvI_-uvbt",
    "outputId": "8b55978e-c35c-4229-ffb3-fb8513c5d3a0"
   },
   "outputs": [
    {
     "name": "stdout",
     "output_type": "stream",
     "text": [
      "Epoch 1/20\n",
      "1594/1594 [==============================] - 9s 6ms/step - loss: 0.1610 - accuracy: 0.9500 - val_loss: 0.0724 - val_accuracy: 0.9786\n",
      "Epoch 2/20\n",
      "1594/1594 [==============================] - 9s 5ms/step - loss: 0.0612 - accuracy: 0.9809 - val_loss: 0.0562 - val_accuracy: 0.9834\n",
      "Epoch 3/20\n",
      "1594/1594 [==============================] - 9s 5ms/step - loss: 0.0421 - accuracy: 0.9869 - val_loss: 0.0617 - val_accuracy: 0.9830\n",
      "Epoch 4/20\n",
      "1594/1594 [==============================] - 8s 5ms/step - loss: 0.0336 - accuracy: 0.9888 - val_loss: 0.0603 - val_accuracy: 0.9844\n",
      "Epoch 5/20\n",
      "1594/1594 [==============================] - 8s 5ms/step - loss: 0.0274 - accuracy: 0.9913 - val_loss: 0.0525 - val_accuracy: 0.9867\n",
      "Epoch 6/20\n",
      "1594/1594 [==============================] - 8s 5ms/step - loss: 0.0226 - accuracy: 0.9927 - val_loss: 0.0607 - val_accuracy: 0.9853\n",
      "Epoch 7/20\n",
      "1594/1594 [==============================] - 8s 5ms/step - loss: 0.0183 - accuracy: 0.9937 - val_loss: 0.0688 - val_accuracy: 0.9846\n",
      "Epoch 8/20\n",
      "1594/1594 [==============================] - 8s 5ms/step - loss: 0.0143 - accuracy: 0.9955 - val_loss: 0.0656 - val_accuracy: 0.9870\n",
      "Epoch 9/20\n",
      "1594/1594 [==============================] - 8s 5ms/step - loss: 0.0160 - accuracy: 0.9951 - val_loss: 0.0580 - val_accuracy: 0.9879\n",
      "Epoch 10/20\n",
      "1594/1594 [==============================] - 8s 5ms/step - loss: 0.0223 - accuracy: 0.9932 - val_loss: 0.0576 - val_accuracy: 0.9881\n",
      "Epoch 11/20\n",
      "1594/1594 [==============================] - 8s 5ms/step - loss: 0.0156 - accuracy: 0.9952 - val_loss: 0.0782 - val_accuracy: 0.9840\n",
      "Epoch 12/20\n",
      "1594/1594 [==============================] - 9s 5ms/step - loss: 0.0155 - accuracy: 0.9949 - val_loss: 0.0868 - val_accuracy: 0.9853\n",
      "Epoch 13/20\n",
      "1594/1594 [==============================] - 8s 5ms/step - loss: 0.0156 - accuracy: 0.9951 - val_loss: 0.0798 - val_accuracy: 0.9874\n",
      "Epoch 14/20\n",
      "1594/1594 [==============================] - 8s 5ms/step - loss: 0.0148 - accuracy: 0.9957 - val_loss: 0.0898 - val_accuracy: 0.9857\n",
      "Epoch 15/20\n",
      "1594/1594 [==============================] - 8s 5ms/step - loss: 0.0104 - accuracy: 0.9967 - val_loss: 0.1099 - val_accuracy: 0.9834\n",
      "Epoch 16/20\n",
      "1594/1594 [==============================] - 8s 5ms/step - loss: 0.0216 - accuracy: 0.9939 - val_loss: 0.1047 - val_accuracy: 0.9833\n",
      "Epoch 17/20\n",
      "1594/1594 [==============================] - 8s 5ms/step - loss: 0.0213 - accuracy: 0.9945 - val_loss: 0.1203 - val_accuracy: 0.9822\n",
      "Epoch 18/20\n",
      "1594/1594 [==============================] - 8s 5ms/step - loss: 0.0150 - accuracy: 0.9957 - val_loss: 0.1020 - val_accuracy: 0.9870\n",
      "Epoch 19/20\n",
      "1594/1594 [==============================] - 8s 5ms/step - loss: 0.0215 - accuracy: 0.9946 - val_loss: 0.1312 - val_accuracy: 0.9838\n",
      "Epoch 20/20\n",
      "1594/1594 [==============================] - 9s 5ms/step - loss: 0.0289 - accuracy: 0.9935 - val_loss: 0.1204 - val_accuracy: 0.9832\n"
     ]
    }
   ],
   "source": [
    "model_4 = keras.models.clone_model(best_model)\n",
    "opt_1 = optimizers.SGD(learning_rate=0.05, momentum=0.9)\n",
    "model_4.compile(optimizer=opt_1, loss='categorical_crossentropy', metrics=['accuracy'])\n",
    "model_4_history = model_4.fit(X_train, y_train, epochs=20, batch_size=32, shuffle=True,validation_data=(X_val, y_val), verbose=1)\n",
    "saved_models.append(model_4)\n",
    "histories.append(model_4_history)"
   ]
  },
  {
   "cell_type": "code",
   "execution_count": 17,
   "id": "25816a3d",
   "metadata": {
    "colab": {
     "base_uri": "https://localhost:8080/"
    },
    "id": "25816a3d",
    "outputId": "74482fdc-2182-42c6-866c-a65212d2a435"
   },
   "outputs": [
    {
     "name": "stdout",
     "output_type": "stream",
     "text": [
      "Epoch 1/20\n",
      "1594/1594 [==============================] - 9s 5ms/step - loss: 0.6641 - accuracy: 0.8209 - val_loss: 0.2922 - val_accuracy: 0.9138\n",
      "Epoch 2/20\n",
      "1594/1594 [==============================] - 8s 5ms/step - loss: 0.2537 - accuracy: 0.9258 - val_loss: 0.2042 - val_accuracy: 0.9400\n",
      "Epoch 3/20\n",
      "1594/1594 [==============================] - 9s 5ms/step - loss: 0.1832 - accuracy: 0.9465 - val_loss: 0.1574 - val_accuracy: 0.9532\n",
      "Epoch 4/20\n",
      "1594/1594 [==============================] - 8s 5ms/step - loss: 0.1437 - accuracy: 0.9586 - val_loss: 0.1265 - val_accuracy: 0.9633\n",
      "Epoch 5/20\n",
      "1594/1594 [==============================] - 8s 5ms/step - loss: 0.1190 - accuracy: 0.9656 - val_loss: 0.1118 - val_accuracy: 0.9681\n",
      "Epoch 6/20\n",
      "1594/1594 [==============================] - 8s 5ms/step - loss: 0.1035 - accuracy: 0.9700 - val_loss: 0.0963 - val_accuracy: 0.9716\n",
      "Epoch 7/20\n",
      "1594/1594 [==============================] - 8s 5ms/step - loss: 0.0920 - accuracy: 0.9735 - val_loss: 0.0879 - val_accuracy: 0.9748\n",
      "Epoch 8/20\n",
      "1594/1594 [==============================] - 8s 5ms/step - loss: 0.0827 - accuracy: 0.9753 - val_loss: 0.0833 - val_accuracy: 0.9754\n",
      "Epoch 9/20\n",
      "1594/1594 [==============================] - 8s 5ms/step - loss: 0.0766 - accuracy: 0.9772 - val_loss: 0.0730 - val_accuracy: 0.9782\n",
      "Epoch 10/20\n",
      "1594/1594 [==============================] - 9s 5ms/step - loss: 0.0707 - accuracy: 0.9794 - val_loss: 0.0754 - val_accuracy: 0.9778\n",
      "Epoch 11/20\n",
      "1594/1594 [==============================] - 8s 5ms/step - loss: 0.0654 - accuracy: 0.9805 - val_loss: 0.0674 - val_accuracy: 0.9801\n",
      "Epoch 12/20\n",
      "1594/1594 [==============================] - 8s 5ms/step - loss: 0.0613 - accuracy: 0.9819 - val_loss: 0.0694 - val_accuracy: 0.9787\n",
      "Epoch 13/20\n",
      "1594/1594 [==============================] - 8s 5ms/step - loss: 0.0579 - accuracy: 0.9833 - val_loss: 0.0650 - val_accuracy: 0.9808\n",
      "Epoch 14/20\n",
      "1594/1594 [==============================] - 8s 5ms/step - loss: 0.0543 - accuracy: 0.9845 - val_loss: 0.0602 - val_accuracy: 0.9831\n",
      "Epoch 15/20\n",
      "1594/1594 [==============================] - 8s 5ms/step - loss: 0.0517 - accuracy: 0.9849 - val_loss: 0.0600 - val_accuracy: 0.9831\n",
      "Epoch 16/20\n",
      "1594/1594 [==============================] - 9s 5ms/step - loss: 0.0487 - accuracy: 0.9857 - val_loss: 0.0580 - val_accuracy: 0.9818\n",
      "Epoch 17/20\n",
      "1594/1594 [==============================] - 9s 5ms/step - loss: 0.0468 - accuracy: 0.9861 - val_loss: 0.0583 - val_accuracy: 0.9829\n",
      "Epoch 18/20\n",
      "1594/1594 [==============================] - 8s 5ms/step - loss: 0.0444 - accuracy: 0.9872 - val_loss: 0.0518 - val_accuracy: 0.9851\n",
      "Epoch 19/20\n",
      "1594/1594 [==============================] - 8s 5ms/step - loss: 0.0430 - accuracy: 0.9871 - val_loss: 0.0511 - val_accuracy: 0.9852\n",
      "Epoch 20/20\n",
      "1594/1594 [==============================] - 9s 5ms/step - loss: 0.0415 - accuracy: 0.9873 - val_loss: 0.0520 - val_accuracy: 0.9849\n"
     ]
    }
   ],
   "source": [
    "model_5 = keras.models.clone_model(best_model)\n",
    "model_5.compile(optimizer=opt_2, loss='categorical_crossentropy', metrics=['accuracy'])\n",
    "model_5_history = model_5.fit(X_train, y_train, epochs=20, batch_size=32, shuffle=True,validation_data=(X_val, y_val), verbose=1)\n",
    "saved_models.append(model_5)\n",
    "histories.append(model_5_history)"
   ]
  },
  {
   "cell_type": "code",
   "execution_count": 18,
   "id": "b4585d13",
   "metadata": {
    "colab": {
     "base_uri": "https://localhost:8080/"
    },
    "id": "b4585d13",
    "outputId": "c782c501-c082-4c95-ad46-ecbda790c02b"
   },
   "outputs": [
    {
     "name": "stdout",
     "output_type": "stream",
     "text": [
      "Epoch 1/20\n",
      "1594/1594 [==============================] - 9s 5ms/step - loss: 0.2514 - accuracy: 0.9229 - val_loss: 0.0874 - val_accuracy: 0.9742\n",
      "Epoch 2/20\n",
      "1594/1594 [==============================] - 8s 5ms/step - loss: 0.0736 - accuracy: 0.9777 - val_loss: 0.0709 - val_accuracy: 0.9797\n",
      "Epoch 3/20\n",
      "1594/1594 [==============================] - 8s 5ms/step - loss: 0.0515 - accuracy: 0.9839 - val_loss: 0.0505 - val_accuracy: 0.9856\n",
      "Epoch 4/20\n",
      "1594/1594 [==============================] - 8s 5ms/step - loss: 0.0402 - accuracy: 0.9873 - val_loss: 0.0516 - val_accuracy: 0.9839\n",
      "Epoch 5/20\n",
      "1594/1594 [==============================] - 8s 5ms/step - loss: 0.0326 - accuracy: 0.9896 - val_loss: 0.0503 - val_accuracy: 0.9857\n",
      "Epoch 6/20\n",
      "1594/1594 [==============================] - 8s 5ms/step - loss: 0.0265 - accuracy: 0.9917 - val_loss: 0.0449 - val_accuracy: 0.9878\n",
      "Epoch 7/20\n",
      "1594/1594 [==============================] - 8s 5ms/step - loss: 0.0212 - accuracy: 0.9935 - val_loss: 0.0429 - val_accuracy: 0.9877\n",
      "Epoch 8/20\n",
      "1594/1594 [==============================] - 9s 6ms/step - loss: 0.0179 - accuracy: 0.9939 - val_loss: 0.0540 - val_accuracy: 0.9858\n",
      "Epoch 9/20\n",
      "1594/1594 [==============================] - 9s 5ms/step - loss: 0.0151 - accuracy: 0.9955 - val_loss: 0.0476 - val_accuracy: 0.9866\n",
      "Epoch 10/20\n",
      "1594/1594 [==============================] - 8s 5ms/step - loss: 0.0119 - accuracy: 0.9965 - val_loss: 0.0487 - val_accuracy: 0.9882\n",
      "Epoch 11/20\n",
      "1594/1594 [==============================] - 8s 5ms/step - loss: 0.0102 - accuracy: 0.9973 - val_loss: 0.0458 - val_accuracy: 0.9888\n",
      "Epoch 12/20\n",
      "1594/1594 [==============================] - 8s 5ms/step - loss: 0.0077 - accuracy: 0.9982 - val_loss: 0.0470 - val_accuracy: 0.9888\n",
      "Epoch 13/20\n",
      "1594/1594 [==============================] - 8s 5ms/step - loss: 0.0067 - accuracy: 0.9983 - val_loss: 0.0500 - val_accuracy: 0.9884\n",
      "Epoch 14/20\n",
      "1594/1594 [==============================] - 8s 5ms/step - loss: 0.0055 - accuracy: 0.9988 - val_loss: 0.0490 - val_accuracy: 0.9893\n",
      "Epoch 15/20\n",
      "1594/1594 [==============================] - 8s 5ms/step - loss: 0.0035 - accuracy: 0.9994 - val_loss: 0.0479 - val_accuracy: 0.9888\n",
      "Epoch 16/20\n",
      "1594/1594 [==============================] - 8s 5ms/step - loss: 0.0032 - accuracy: 0.9995 - val_loss: 0.0470 - val_accuracy: 0.9901\n",
      "Epoch 17/20\n",
      "1594/1594 [==============================] - 8s 5ms/step - loss: 0.0024 - accuracy: 0.9996 - val_loss: 0.0476 - val_accuracy: 0.9894\n",
      "Epoch 18/20\n",
      "1594/1594 [==============================] - 8s 5ms/step - loss: 0.0021 - accuracy: 0.9996 - val_loss: 0.0472 - val_accuracy: 0.9902\n",
      "Epoch 19/20\n",
      "1594/1594 [==============================] - 9s 6ms/step - loss: 0.0016 - accuracy: 0.9997 - val_loss: 0.0480 - val_accuracy: 0.9902\n",
      "Epoch 20/20\n",
      "1594/1594 [==============================] - 8s 5ms/step - loss: 0.0011 - accuracy: 0.9999 - val_loss: 0.0480 - val_accuracy: 0.9902\n"
     ]
    }
   ],
   "source": [
    "model_6 = keras.models.clone_model(best_model)\n",
    "model_6.compile(optimizer=opt_3, loss='categorical_crossentropy', metrics=['accuracy'])\n",
    "model_6_history = model_6.fit(X_train, y_train, epochs=20, batch_size=32, shuffle=True,validation_data=(X_val, y_val), verbose=1)\n",
    "saved_models.append(model_6)\n",
    "histories.append(model_6_history)"
   ]
  },
  {
   "cell_type": "code",
   "execution_count": 19,
   "id": "ee9Ub2DSQ-1r",
   "metadata": {
    "colab": {
     "base_uri": "https://localhost:8080/"
    },
    "id": "ee9Ub2DSQ-1r",
    "outputId": "bc0eb1e2-f76f-48d7-853b-276e2baf5823"
   },
   "outputs": [
    {
     "name": "stdout",
     "output_type": "stream",
     "text": [
      "313/313 [==============================] - 1s 3ms/step - loss: 0.2870 - accuracy: 0.9167\n",
      "313/313 [==============================] - 1s 2ms/step - loss: 0.2247 - accuracy: 0.9376\n",
      "313/313 [==============================] - 1s 2ms/step - loss: 0.1935 - accuracy: 0.9448\n",
      "313/313 [==============================] - 1s 2ms/step - loss: 0.1367 - accuracy: 0.9823\n",
      "313/313 [==============================] - 1s 2ms/step - loss: 0.0426 - accuracy: 0.9870\n",
      "313/313 [==============================] - 1s 2ms/step - loss: 0.0374 - accuracy: 0.9901\n",
      "model: 6 accuracy: 99.01 %\n"
     ]
    }
   ],
   "source": [
    "best_model, best_model_idx = evaluate_model(saved_models, X_test, y_test)"
   ]
  },
  {
   "cell_type": "markdown",
   "id": "lfacKEPLzw8o",
   "metadata": {
    "id": "lfacKEPLzw8o"
   },
   "source": [
    "# Trying different architectures"
   ]
  },
  {
   "cell_type": "code",
   "execution_count": 20,
   "id": "42f32926",
   "metadata": {
    "id": "42f32926"
   },
   "outputs": [],
   "source": [
    "model_7 = models.Sequential()\n",
    "model_7.add(layers.Conv2D(32, (3, 3), activation='relu', kernel_initializer='he_uniform', input_shape=(28, 28, 1)))\n",
    "model_7.add(layers.MaxPooling2D(pool_size=(2, 2), strides=(2, 2)))\n",
    "model_7.add(layers.Conv2D(32, (3, 3), activation='relu', kernel_initializer='he_uniform'))\n",
    "model_7.add(layers.MaxPooling2D(pool_size=(2, 2), strides=(2, 2)))\n",
    "model_7.add(layers.Flatten())\n",
    "model_7.add(layers.Dense(64, activation='relu', kernel_initializer='he_uniform'))\n",
    "model_7.add(layers.Dense(32, activation='relu', kernel_initializer='he_uniform'))\n",
    "model_7.add(layers.Dense(10, activation='softmax'))"
   ]
  },
  {
   "cell_type": "code",
   "execution_count": 21,
   "id": "DwmF_ats2X5c",
   "metadata": {
    "colab": {
     "base_uri": "https://localhost:8080/"
    },
    "id": "DwmF_ats2X5c",
    "outputId": "77d0f476-b00f-4980-c3ad-7e1cdfb5836d"
   },
   "outputs": [
    {
     "name": "stdout",
     "output_type": "stream",
     "text": [
      "Epoch 1/20\n",
      "1594/1594 [==============================] - 21s 13ms/step - loss: 0.1764 - accuracy: 0.9447 - val_loss: 0.0620 - val_accuracy: 0.9806\n",
      "Epoch 2/20\n",
      "1594/1594 [==============================] - 19s 12ms/step - loss: 0.0590 - accuracy: 0.9816 - val_loss: 0.0516 - val_accuracy: 0.9852\n",
      "Epoch 3/20\n",
      "1594/1594 [==============================] - 19s 12ms/step - loss: 0.0417 - accuracy: 0.9871 - val_loss: 0.0398 - val_accuracy: 0.9878\n",
      "Epoch 4/20\n",
      "1594/1594 [==============================] - 19s 12ms/step - loss: 0.0308 - accuracy: 0.9905 - val_loss: 0.0372 - val_accuracy: 0.9883\n",
      "Epoch 5/20\n",
      "1594/1594 [==============================] - 19s 12ms/step - loss: 0.0235 - accuracy: 0.9924 - val_loss: 0.0334 - val_accuracy: 0.9901\n",
      "Epoch 6/20\n",
      "1594/1594 [==============================] - 19s 12ms/step - loss: 0.0180 - accuracy: 0.9940 - val_loss: 0.0354 - val_accuracy: 0.9898\n",
      "Epoch 7/20\n",
      "1594/1594 [==============================] - 20s 12ms/step - loss: 0.0140 - accuracy: 0.9955 - val_loss: 0.0408 - val_accuracy: 0.9893\n",
      "Epoch 8/20\n",
      "1594/1594 [==============================] - 19s 12ms/step - loss: 0.0116 - accuracy: 0.9963 - val_loss: 0.0378 - val_accuracy: 0.9906\n",
      "Epoch 9/20\n",
      "1594/1594 [==============================] - 19s 12ms/step - loss: 0.0088 - accuracy: 0.9971 - val_loss: 0.0345 - val_accuracy: 0.9923\n",
      "Epoch 10/20\n",
      "1594/1594 [==============================] - 22s 14ms/step - loss: 0.0081 - accuracy: 0.9975 - val_loss: 0.0461 - val_accuracy: 0.9882\n",
      "Epoch 11/20\n",
      "1594/1594 [==============================] - 20s 13ms/step - loss: 0.0068 - accuracy: 0.9979 - val_loss: 0.0504 - val_accuracy: 0.9890\n",
      "Epoch 12/20\n",
      "1594/1594 [==============================] - 19s 12ms/step - loss: 0.0068 - accuracy: 0.9978 - val_loss: 0.0431 - val_accuracy: 0.9906\n",
      "Epoch 13/20\n",
      "1594/1594 [==============================] - 20s 13ms/step - loss: 0.0031 - accuracy: 0.9991 - val_loss: 0.0388 - val_accuracy: 0.9922\n",
      "Epoch 14/20\n",
      "1594/1594 [==============================] - 20s 12ms/step - loss: 0.0044 - accuracy: 0.9986 - val_loss: 0.0393 - val_accuracy: 0.9917\n",
      "Epoch 15/20\n",
      "1594/1594 [==============================] - 20s 12ms/step - loss: 0.0038 - accuracy: 0.9988 - val_loss: 0.0460 - val_accuracy: 0.9904\n",
      "Epoch 16/20\n",
      "1594/1594 [==============================] - 20s 13ms/step - loss: 0.0046 - accuracy: 0.9985 - val_loss: 0.0426 - val_accuracy: 0.9916\n",
      "Epoch 17/20\n",
      "1594/1594 [==============================] - 20s 12ms/step - loss: 0.0019 - accuracy: 0.9995 - val_loss: 0.0510 - val_accuracy: 0.9903\n",
      "Epoch 18/20\n",
      "1594/1594 [==============================] - 20s 12ms/step - loss: 0.0010 - accuracy: 0.9998 - val_loss: 0.0451 - val_accuracy: 0.9919\n",
      "Epoch 19/20\n",
      "1594/1594 [==============================] - 19s 12ms/step - loss: 5.0124e-04 - accuracy: 0.9999 - val_loss: 0.0462 - val_accuracy: 0.9921\n",
      "Epoch 20/20\n",
      "1594/1594 [==============================] - 20s 12ms/step - loss: 2.1073e-04 - accuracy: 1.0000 - val_loss: 0.0447 - val_accuracy: 0.9924\n"
     ]
    }
   ],
   "source": [
    "model_7.compile(optimizer=opt_3, loss='categorical_crossentropy', metrics=['accuracy'])\n",
    "model_7_history = model_7.fit(X_train, y_train, epochs=20, batch_size=32, shuffle=True,validation_data=(X_val, y_val), verbose=1)\n",
    "saved_models.append(model_7)\n",
    "histories.append(model_7_history)"
   ]
  },
  {
   "cell_type": "code",
   "execution_count": 22,
   "id": "WqT_Zr8uQUK2",
   "metadata": {
    "id": "WqT_Zr8uQUK2"
   },
   "outputs": [],
   "source": [
    "model_8 = models.Sequential()\n",
    "model_8.add(layers.Conv2D(16, (3, 3), strides = (2, 2),activation='relu', kernel_initializer='he_uniform', input_shape=(28, 28, 1)))\n",
    "model_8.add(layers.MaxPooling2D(pool_size=(2, 2), strides=(2, 2)))\n",
    "model_8.add(layers.Conv2D(32, (3, 3), strides = (2, 2),activation='relu', kernel_initializer='he_uniform'))\n",
    "model_8.add(layers.MaxPooling2D(pool_size=(2, 2), strides=(2, 2)))\n",
    "model_8.add(layers.Flatten())\n",
    "model_8.add(layers.Dense(64, activation='relu', kernel_initializer='he_uniform'))\n",
    "model_8.add(layers.Dense(32, activation='relu', kernel_initializer='he_uniform'))\n",
    "model_8.add(layers.Dense(10, activation='softmax'))"
   ]
  },
  {
   "cell_type": "code",
   "execution_count": 23,
   "id": "3-k560kDQVps",
   "metadata": {
    "colab": {
     "base_uri": "https://localhost:8080/"
    },
    "id": "3-k560kDQVps",
    "outputId": "90e5bbc8-8f28-48db-ac17-d125661523a6"
   },
   "outputs": [
    {
     "name": "stdout",
     "output_type": "stream",
     "text": [
      "Epoch 1/20\n",
      "1594/1594 [==============================] - 5s 3ms/step - loss: 0.4041 - accuracy: 0.8730 - val_loss: 0.1806 - val_accuracy: 0.9459\n",
      "Epoch 2/20\n",
      "1594/1594 [==============================] - 5s 3ms/step - loss: 0.1712 - accuracy: 0.9475 - val_loss: 0.1499 - val_accuracy: 0.9538\n",
      "Epoch 3/20\n",
      "1594/1594 [==============================] - 5s 3ms/step - loss: 0.1288 - accuracy: 0.9599 - val_loss: 0.1359 - val_accuracy: 0.9592\n",
      "Epoch 4/20\n",
      "1594/1594 [==============================] - 5s 3ms/step - loss: 0.1099 - accuracy: 0.9658 - val_loss: 0.1459 - val_accuracy: 0.9572\n",
      "Epoch 5/20\n",
      "1594/1594 [==============================] - 5s 3ms/step - loss: 0.0987 - accuracy: 0.9692 - val_loss: 0.0987 - val_accuracy: 0.9694\n",
      "Epoch 6/20\n",
      "1594/1594 [==============================] - 5s 3ms/step - loss: 0.0888 - accuracy: 0.9721 - val_loss: 0.0965 - val_accuracy: 0.9707\n",
      "Epoch 7/20\n",
      "1594/1594 [==============================] - 5s 3ms/step - loss: 0.0794 - accuracy: 0.9755 - val_loss: 0.1034 - val_accuracy: 0.9678\n",
      "Epoch 8/20\n",
      "1594/1594 [==============================] - 5s 3ms/step - loss: 0.0761 - accuracy: 0.9757 - val_loss: 0.1029 - val_accuracy: 0.9717\n",
      "Epoch 9/20\n",
      "1594/1594 [==============================] - 5s 3ms/step - loss: 0.0692 - accuracy: 0.9781 - val_loss: 0.1104 - val_accuracy: 0.9687\n",
      "Epoch 10/20\n",
      "1594/1594 [==============================] - 5s 3ms/step - loss: 0.0656 - accuracy: 0.9790 - val_loss: 0.1113 - val_accuracy: 0.9696\n",
      "Epoch 11/20\n",
      "1594/1594 [==============================] - 5s 3ms/step - loss: 0.0627 - accuracy: 0.9800 - val_loss: 0.1037 - val_accuracy: 0.9697\n",
      "Epoch 12/20\n",
      "1594/1594 [==============================] - 5s 3ms/step - loss: 0.0583 - accuracy: 0.9810 - val_loss: 0.1050 - val_accuracy: 0.9691\n",
      "Epoch 13/20\n",
      "1594/1594 [==============================] - 5s 3ms/step - loss: 0.0567 - accuracy: 0.9815 - val_loss: 0.1169 - val_accuracy: 0.9686\n",
      "Epoch 14/20\n",
      "1594/1594 [==============================] - 5s 3ms/step - loss: 0.0548 - accuracy: 0.9820 - val_loss: 0.1023 - val_accuracy: 0.9723\n",
      "Epoch 15/20\n",
      "1594/1594 [==============================] - 5s 3ms/step - loss: 0.0510 - accuracy: 0.9830 - val_loss: 0.1027 - val_accuracy: 0.9701\n",
      "Epoch 16/20\n",
      "1594/1594 [==============================] - 5s 3ms/step - loss: 0.0488 - accuracy: 0.9837 - val_loss: 0.1045 - val_accuracy: 0.9708\n",
      "Epoch 17/20\n",
      "1594/1594 [==============================] - 5s 3ms/step - loss: 0.0494 - accuracy: 0.9831 - val_loss: 0.0918 - val_accuracy: 0.9720\n",
      "Epoch 18/20\n",
      "1594/1594 [==============================] - 5s 3ms/step - loss: 0.0451 - accuracy: 0.9847 - val_loss: 0.1107 - val_accuracy: 0.9708\n",
      "Epoch 19/20\n",
      "1594/1594 [==============================] - 5s 3ms/step - loss: 0.0436 - accuracy: 0.9859 - val_loss: 0.1094 - val_accuracy: 0.9704\n",
      "Epoch 20/20\n",
      "1594/1594 [==============================] - 5s 3ms/step - loss: 0.0441 - accuracy: 0.9847 - val_loss: 0.0987 - val_accuracy: 0.9739\n"
     ]
    }
   ],
   "source": [
    "model_8.compile(optimizer=opt_3, loss='categorical_crossentropy', metrics=['accuracy'])\n",
    "model_8_history = model_8.fit(X_train, y_train, epochs=20, batch_size=32, shuffle=True,validation_data=(X_val, y_val), verbose=1)\n",
    "saved_models.append(model_8)\n",
    "histories.append(model_8_history)"
   ]
  },
  {
   "cell_type": "code",
   "execution_count": 24,
   "id": "abGTXD6xQWJy",
   "metadata": {
    "id": "abGTXD6xQWJy"
   },
   "outputs": [],
   "source": [
    "model_9 = models.Sequential()\n",
    "model_9.add(layers.Conv2D(32, (3, 3), activation='relu', kernel_initializer='he_uniform', input_shape=(28, 28, 1)))\n",
    "model_9.add(layers.MaxPooling2D(pool_size=(2, 2), strides=(2, 2)))\n",
    "model_9.add(layers.Conv2D(32, (5, 5), activation='relu', kernel_initializer='he_uniform'))\n",
    "model_9.add(layers.MaxPooling2D(pool_size=(2, 2), strides=(2, 2)))\n",
    "model_9.add(layers.Flatten())\n",
    "model_9.add(layers.Dense(32, activation='relu', kernel_initializer='he_uniform'))\n",
    "model_9.add(layers.Dense(10, activation='softmax'))"
   ]
  },
  {
   "cell_type": "code",
   "execution_count": 25,
   "id": "5S8gC_2vQXXQ",
   "metadata": {
    "colab": {
     "base_uri": "https://localhost:8080/"
    },
    "id": "5S8gC_2vQXXQ",
    "outputId": "1f793731-ef28-4e76-a0e2-f29cc311e391"
   },
   "outputs": [
    {
     "name": "stdout",
     "output_type": "stream",
     "text": [
      "Epoch 1/20\n",
      "1594/1594 [==============================] - 24s 15ms/step - loss: 0.1681 - accuracy: 0.9472 - val_loss: 0.0767 - val_accuracy: 0.9747\n",
      "Epoch 2/20\n",
      "1594/1594 [==============================] - 23s 14ms/step - loss: 0.0577 - accuracy: 0.9820 - val_loss: 0.0482 - val_accuracy: 0.9851\n",
      "Epoch 3/20\n",
      "1594/1594 [==============================] - 23s 15ms/step - loss: 0.0412 - accuracy: 0.9876 - val_loss: 0.0441 - val_accuracy: 0.9871\n",
      "Epoch 4/20\n",
      "1594/1594 [==============================] - 24s 15ms/step - loss: 0.0311 - accuracy: 0.9904 - val_loss: 0.0453 - val_accuracy: 0.9862\n",
      "Epoch 5/20\n",
      "1594/1594 [==============================] - 24s 15ms/step - loss: 0.0247 - accuracy: 0.9923 - val_loss: 0.0372 - val_accuracy: 0.9904\n",
      "Epoch 6/20\n",
      "1594/1594 [==============================] - 25s 15ms/step - loss: 0.0210 - accuracy: 0.9936 - val_loss: 0.0406 - val_accuracy: 0.9890\n",
      "Epoch 7/20\n",
      "1594/1594 [==============================] - 25s 16ms/step - loss: 0.0160 - accuracy: 0.9953 - val_loss: 0.0470 - val_accuracy: 0.9866\n",
      "Epoch 8/20\n",
      "1594/1594 [==============================] - 25s 16ms/step - loss: 0.0146 - accuracy: 0.9954 - val_loss: 0.0409 - val_accuracy: 0.9889\n",
      "Epoch 9/20\n",
      "1594/1594 [==============================] - 25s 16ms/step - loss: 0.0109 - accuracy: 0.9968 - val_loss: 0.0390 - val_accuracy: 0.9893\n",
      "Epoch 10/20\n",
      "1594/1594 [==============================] - 25s 16ms/step - loss: 0.0082 - accuracy: 0.9976 - val_loss: 0.0456 - val_accuracy: 0.9887\n",
      "Epoch 11/20\n",
      "1594/1594 [==============================] - 25s 16ms/step - loss: 0.0087 - accuracy: 0.9971 - val_loss: 0.0377 - val_accuracy: 0.9912\n",
      "Epoch 12/20\n",
      "1594/1594 [==============================] - 25s 16ms/step - loss: 0.0062 - accuracy: 0.9981 - val_loss: 0.0407 - val_accuracy: 0.9902\n",
      "Epoch 13/20\n",
      "1594/1594 [==============================] - 25s 16ms/step - loss: 0.0044 - accuracy: 0.9986 - val_loss: 0.0430 - val_accuracy: 0.9900\n",
      "Epoch 14/20\n",
      "1594/1594 [==============================] - 25s 15ms/step - loss: 0.0037 - accuracy: 0.9990 - val_loss: 0.0586 - val_accuracy: 0.9853\n",
      "Epoch 15/20\n",
      "1594/1594 [==============================] - 25s 16ms/step - loss: 0.0042 - accuracy: 0.9986 - val_loss: 0.0445 - val_accuracy: 0.9899\n",
      "Epoch 16/20\n",
      "1594/1594 [==============================] - 25s 16ms/step - loss: 0.0020 - accuracy: 0.9996 - val_loss: 0.0459 - val_accuracy: 0.9897\n",
      "Epoch 17/20\n",
      "1594/1594 [==============================] - 25s 16ms/step - loss: 0.0018 - accuracy: 0.9996 - val_loss: 0.0447 - val_accuracy: 0.9906\n",
      "Epoch 18/20\n",
      "1594/1594 [==============================] - 27s 17ms/step - loss: 0.0013 - accuracy: 0.9997 - val_loss: 0.0464 - val_accuracy: 0.9900\n",
      "Epoch 19/20\n",
      "1594/1594 [==============================] - 27s 17ms/step - loss: 5.4744e-04 - accuracy: 0.9999 - val_loss: 0.0458 - val_accuracy: 0.9907\n",
      "Epoch 20/20\n",
      "1594/1594 [==============================] - 25s 16ms/step - loss: 3.4648e-04 - accuracy: 0.9999 - val_loss: 0.0455 - val_accuracy: 0.9912\n"
     ]
    }
   ],
   "source": [
    "model_9.compile(optimizer=opt_3, loss='categorical_crossentropy', metrics=['accuracy'])\n",
    "model_9_history = model_9.fit(X_train, y_train, epochs=20, batch_size=32, shuffle=True,validation_data=(X_val, y_val), verbose=1)\n",
    "saved_models.append(model_9)\n",
    "histories.append(model_9_history)"
   ]
  },
  {
   "cell_type": "code",
   "execution_count": 26,
   "id": "2vhZDIUxcxL8",
   "metadata": {
    "id": "2vhZDIUxcxL8"
   },
   "outputs": [],
   "source": [
    "model_10 = models.Sequential()\n",
    "model_10.add(layers.Conv2D(128, (3, 3), activation='relu', kernel_initializer='he_uniform', input_shape=(28, 28, 1)))\n",
    "model_10.add(layers.MaxPooling2D(pool_size=(2, 2), strides=(2, 2)))\n",
    "model_10.add(layers.Flatten())\n",
    "model_10.add(layers.Dense(32, activation='relu', kernel_initializer='he_uniform'))\n",
    "model_10.add(layers.Dense(10, activation='softmax'))"
   ]
  },
  {
   "cell_type": "code",
   "execution_count": 27,
   "id": "k1en4O-Rc2Ny",
   "metadata": {
    "colab": {
     "base_uri": "https://localhost:8080/"
    },
    "id": "k1en4O-Rc2Ny",
    "outputId": "e55ee032-108a-4dce-effd-316381ea7399"
   },
   "outputs": [
    {
     "name": "stdout",
     "output_type": "stream",
     "text": [
      "Epoch 1/20\n",
      "1594/1594 [==============================] - 41s 26ms/step - loss: 0.2347 - accuracy: 0.9286 - val_loss: 0.0912 - val_accuracy: 0.9709\n",
      "Epoch 2/20\n",
      "1594/1594 [==============================] - 41s 26ms/step - loss: 0.0745 - accuracy: 0.9778 - val_loss: 0.0654 - val_accuracy: 0.9810\n",
      "Epoch 3/20\n",
      "1594/1594 [==============================] - 44s 28ms/step - loss: 0.0509 - accuracy: 0.9846 - val_loss: 0.0596 - val_accuracy: 0.9823\n",
      "Epoch 4/20\n",
      "1594/1594 [==============================] - 45s 28ms/step - loss: 0.0367 - accuracy: 0.9889 - val_loss: 0.0620 - val_accuracy: 0.9810\n",
      "Epoch 5/20\n",
      "1594/1594 [==============================] - 41s 26ms/step - loss: 0.0275 - accuracy: 0.9915 - val_loss: 0.0552 - val_accuracy: 0.9838\n",
      "Epoch 6/20\n",
      "1594/1594 [==============================] - 41s 26ms/step - loss: 0.0205 - accuracy: 0.9939 - val_loss: 0.0589 - val_accuracy: 0.9842\n",
      "Epoch 7/20\n",
      "1594/1594 [==============================] - 47s 30ms/step - loss: 0.0143 - accuracy: 0.9962 - val_loss: 0.0580 - val_accuracy: 0.9838\n",
      "Epoch 8/20\n",
      "1594/1594 [==============================] - 41s 26ms/step - loss: 0.0104 - accuracy: 0.9973 - val_loss: 0.0615 - val_accuracy: 0.9847\n",
      "Epoch 9/20\n",
      "1594/1594 [==============================] - 37s 23ms/step - loss: 0.0067 - accuracy: 0.9985 - val_loss: 0.0559 - val_accuracy: 0.9856\n",
      "Epoch 10/20\n",
      "1594/1594 [==============================] - 41s 26ms/step - loss: 0.0049 - accuracy: 0.9991 - val_loss: 0.0617 - val_accuracy: 0.9847\n",
      "Epoch 11/20\n",
      "1594/1594 [==============================] - 39s 25ms/step - loss: 0.0033 - accuracy: 0.9995 - val_loss: 0.0586 - val_accuracy: 0.9870\n",
      "Epoch 12/20\n",
      "1594/1594 [==============================] - 41s 26ms/step - loss: 0.0020 - accuracy: 0.9998 - val_loss: 0.0609 - val_accuracy: 0.9860\n",
      "Epoch 13/20\n",
      "1594/1594 [==============================] - 48s 30ms/step - loss: 0.0014 - accuracy: 0.9999 - val_loss: 0.0613 - val_accuracy: 0.9862\n",
      "Epoch 14/20\n",
      "1594/1594 [==============================] - 46s 29ms/step - loss: 0.0011 - accuracy: 1.0000 - val_loss: 0.0611 - val_accuracy: 0.9870\n",
      "Epoch 15/20\n",
      "1594/1594 [==============================] - 41s 26ms/step - loss: 8.5520e-04 - accuracy: 1.0000 - val_loss: 0.0620 - val_accuracy: 0.9868\n",
      "Epoch 16/20\n",
      "1594/1594 [==============================] - 42s 26ms/step - loss: 7.1817e-04 - accuracy: 1.0000 - val_loss: 0.0638 - val_accuracy: 0.9862\n",
      "Epoch 17/20\n",
      "1594/1594 [==============================] - 44s 28ms/step - loss: 6.2870e-04 - accuracy: 1.0000 - val_loss: 0.0643 - val_accuracy: 0.9869\n",
      "Epoch 18/20\n",
      "1594/1594 [==============================] - 44s 28ms/step - loss: 5.6076e-04 - accuracy: 1.0000 - val_loss: 0.0650 - val_accuracy: 0.9869\n",
      "Epoch 19/20\n",
      "1594/1594 [==============================] - 44s 27ms/step - loss: 4.9772e-04 - accuracy: 1.0000 - val_loss: 0.0657 - val_accuracy: 0.9867\n",
      "Epoch 20/20\n",
      "1594/1594 [==============================] - 43s 27ms/step - loss: 4.6208e-04 - accuracy: 1.0000 - val_loss: 0.0664 - val_accuracy: 0.9867\n"
     ]
    }
   ],
   "source": [
    "model_10.compile(optimizer=opt_3, loss='categorical_crossentropy', metrics=['accuracy'])\n",
    "model_10_history = model_10.fit(X_train, y_train, epochs=20, batch_size=32, shuffle=True,validation_data=(X_val, y_val), verbose=1)\n",
    "saved_models.append(model_10)\n",
    "histories.append(model_10_history)"
   ]
  },
  {
   "cell_type": "code",
   "execution_count": 28,
   "id": "l6M7d0Bhc6x6",
   "metadata": {
    "colab": {
     "base_uri": "https://localhost:8080/"
    },
    "id": "l6M7d0Bhc6x6",
    "outputId": "057b2e88-ba54-4f85-b0ec-a7b28fb3bbba"
   },
   "outputs": [
    {
     "name": "stdout",
     "output_type": "stream",
     "text": [
      "313/313 [==============================] - 1s 3ms/step - loss: 0.2870 - accuracy: 0.9167\n",
      "313/313 [==============================] - 1s 2ms/step - loss: 0.2247 - accuracy: 0.9376\n",
      "313/313 [==============================] - 1s 3ms/step - loss: 0.1935 - accuracy: 0.9448\n",
      "313/313 [==============================] - 1s 3ms/step - loss: 0.1367 - accuracy: 0.9823\n",
      "313/313 [==============================] - 1s 3ms/step - loss: 0.0426 - accuracy: 0.9870\n",
      "313/313 [==============================] - 1s 2ms/step - loss: 0.0374 - accuracy: 0.9901\n",
      "313/313 [==============================] - 1s 4ms/step - loss: 0.0330 - accuracy: 0.9929\n",
      "313/313 [==============================] - 1s 2ms/step - loss: 0.1111 - accuracy: 0.9738\n",
      "313/313 [==============================] - 2s 5ms/step - loss: 0.0448 - accuracy: 0.9902\n",
      "313/313 [==============================] - 3s 8ms/step - loss: 0.0675 - accuracy: 0.9843\n",
      "model: 7 accuracy: 99.29 %\n"
     ]
    }
   ],
   "source": [
    "best_model, best_model_idx = evaluate_model(saved_models, X_test, y_test)"
   ]
  },
  {
   "cell_type": "markdown",
   "id": "1DOv_IDKZ1-G",
   "metadata": {
    "id": "1DOv_IDKZ1-G"
   },
   "source": [
    "#Trying different batch sizes"
   ]
  },
  {
   "cell_type": "code",
   "execution_count": 29,
   "id": "MGGK_G4aaFf1",
   "metadata": {
    "colab": {
     "base_uri": "https://localhost:8080/"
    },
    "id": "MGGK_G4aaFf1",
    "outputId": "d456723d-db09-47ac-eec1-6be5459be232"
   },
   "outputs": [
    {
     "name": "stdout",
     "output_type": "stream",
     "text": [
      "Epoch 1/20\n",
      "3188/3188 [==============================] - 26s 8ms/step - loss: 0.1515 - accuracy: 0.9524 - val_loss: 0.0565 - val_accuracy: 0.9831\n",
      "Epoch 2/20\n",
      "3188/3188 [==============================] - 25s 8ms/step - loss: 0.0550 - accuracy: 0.9832 - val_loss: 0.0601 - val_accuracy: 0.9843\n",
      "Epoch 3/20\n",
      "3188/3188 [==============================] - 25s 8ms/step - loss: 0.0408 - accuracy: 0.9873 - val_loss: 0.0444 - val_accuracy: 0.9879\n",
      "Epoch 4/20\n",
      "3188/3188 [==============================] - 26s 8ms/step - loss: 0.0314 - accuracy: 0.9903 - val_loss: 0.0430 - val_accuracy: 0.9882\n",
      "Epoch 5/20\n",
      "3188/3188 [==============================] - 28s 9ms/step - loss: 0.0244 - accuracy: 0.9920 - val_loss: 0.0405 - val_accuracy: 0.9892\n",
      "Epoch 6/20\n",
      "3188/3188 [==============================] - 27s 9ms/step - loss: 0.0192 - accuracy: 0.9939 - val_loss: 0.0566 - val_accuracy: 0.9850\n",
      "Epoch 7/20\n",
      "3188/3188 [==============================] - 27s 8ms/step - loss: 0.0189 - accuracy: 0.9941 - val_loss: 0.0694 - val_accuracy: 0.9832\n",
      "Epoch 8/20\n",
      "3188/3188 [==============================] - 24s 7ms/step - loss: 0.0152 - accuracy: 0.9951 - val_loss: 0.0408 - val_accuracy: 0.9894\n",
      "Epoch 9/20\n",
      "3188/3188 [==============================] - 23s 7ms/step - loss: 0.0113 - accuracy: 0.9964 - val_loss: 0.0591 - val_accuracy: 0.9854\n",
      "Epoch 10/20\n",
      "3188/3188 [==============================] - 23s 7ms/step - loss: 0.0107 - accuracy: 0.9966 - val_loss: 0.0417 - val_accuracy: 0.9909\n",
      "Epoch 11/20\n",
      "3188/3188 [==============================] - 23s 7ms/step - loss: 0.0106 - accuracy: 0.9968 - val_loss: 0.0527 - val_accuracy: 0.9884\n",
      "Epoch 12/20\n",
      "3188/3188 [==============================] - 24s 7ms/step - loss: 0.0071 - accuracy: 0.9976 - val_loss: 0.0532 - val_accuracy: 0.9886\n",
      "Epoch 13/20\n",
      "3188/3188 [==============================] - 26s 8ms/step - loss: 0.0069 - accuracy: 0.9978 - val_loss: 0.0541 - val_accuracy: 0.9906\n",
      "Epoch 14/20\n",
      "3188/3188 [==============================] - 25s 8ms/step - loss: 0.0099 - accuracy: 0.9969 - val_loss: 0.0629 - val_accuracy: 0.9896\n",
      "Epoch 15/20\n",
      "3188/3188 [==============================] - 24s 8ms/step - loss: 0.0053 - accuracy: 0.9984 - val_loss: 0.0612 - val_accuracy: 0.9889\n",
      "Epoch 16/20\n",
      "3188/3188 [==============================] - 23s 7ms/step - loss: 0.0078 - accuracy: 0.9978 - val_loss: 0.0461 - val_accuracy: 0.9924\n",
      "Epoch 17/20\n",
      "3188/3188 [==============================] - 23s 7ms/step - loss: 0.0030 - accuracy: 0.9990 - val_loss: 0.0789 - val_accuracy: 0.9872\n",
      "Epoch 18/20\n",
      "3188/3188 [==============================] - 24s 7ms/step - loss: 0.0083 - accuracy: 0.9974 - val_loss: 0.0563 - val_accuracy: 0.9892\n",
      "Epoch 19/20\n",
      "3188/3188 [==============================] - 24s 7ms/step - loss: 0.0080 - accuracy: 0.9975 - val_loss: 0.0505 - val_accuracy: 0.9911\n",
      "Epoch 20/20\n",
      "3188/3188 [==============================] - 24s 8ms/step - loss: 0.0053 - accuracy: 0.9984 - val_loss: 0.0635 - val_accuracy: 0.9903\n"
     ]
    }
   ],
   "source": [
    "model_11 = keras.models.clone_model(best_model)\n",
    "model_11.compile(optimizer=opt_3, loss='categorical_crossentropy', metrics=['accuracy'])\n",
    "model_11_history = model_11.fit(X_train, y_train, epochs=20, batch_size=16, shuffle=True,validation_data=(X_val, y_val), verbose=1)\n",
    "saved_models.append(model_11)\n",
    "histories.append(model_11_history)"
   ]
  },
  {
   "cell_type": "code",
   "execution_count": 30,
   "id": "59tn-mJbaVjM",
   "metadata": {
    "colab": {
     "base_uri": "https://localhost:8080/"
    },
    "id": "59tn-mJbaVjM",
    "outputId": "50f4b20d-c3fa-4c1c-9c95-328583722085"
   },
   "outputs": [
    {
     "name": "stdout",
     "output_type": "stream",
     "text": [
      "Epoch 1/20\n",
      "797/797 [==============================] - 17s 21ms/step - loss: 0.2325 - accuracy: 0.9258 - val_loss: 0.0752 - val_accuracy: 0.9777\n",
      "Epoch 2/20\n",
      "797/797 [==============================] - 17s 21ms/step - loss: 0.0643 - accuracy: 0.9799 - val_loss: 0.0651 - val_accuracy: 0.9799\n",
      "Epoch 3/20\n",
      "797/797 [==============================] - 16s 21ms/step - loss: 0.0442 - accuracy: 0.9864 - val_loss: 0.0515 - val_accuracy: 0.9850\n",
      "Epoch 4/20\n",
      "797/797 [==============================] - 17s 22ms/step - loss: 0.0354 - accuracy: 0.9889 - val_loss: 0.0489 - val_accuracy: 0.9857\n",
      "Epoch 5/20\n",
      "797/797 [==============================] - 18s 22ms/step - loss: 0.0273 - accuracy: 0.9913 - val_loss: 0.0434 - val_accuracy: 0.9873\n",
      "Epoch 6/20\n",
      "797/797 [==============================] - 18s 23ms/step - loss: 0.0218 - accuracy: 0.9929 - val_loss: 0.0395 - val_accuracy: 0.9884\n",
      "Epoch 7/20\n",
      "797/797 [==============================] - 18s 22ms/step - loss: 0.0195 - accuracy: 0.9935 - val_loss: 0.0462 - val_accuracy: 0.9869\n",
      "Epoch 8/20\n",
      "797/797 [==============================] - 18s 22ms/step - loss: 0.0148 - accuracy: 0.9950 - val_loss: 0.0375 - val_accuracy: 0.9904\n",
      "Epoch 9/20\n",
      "797/797 [==============================] - 18s 22ms/step - loss: 0.0112 - accuracy: 0.9964 - val_loss: 0.0410 - val_accuracy: 0.9894\n",
      "Epoch 10/20\n",
      "797/797 [==============================] - 17s 22ms/step - loss: 0.0098 - accuracy: 0.9970 - val_loss: 0.0383 - val_accuracy: 0.9903\n",
      "Epoch 11/20\n",
      "797/797 [==============================] - 18s 22ms/step - loss: 0.0075 - accuracy: 0.9978 - val_loss: 0.0406 - val_accuracy: 0.9910\n",
      "Epoch 12/20\n",
      "797/797 [==============================] - 18s 22ms/step - loss: 0.0059 - accuracy: 0.9982 - val_loss: 0.0478 - val_accuracy: 0.9889\n",
      "Epoch 13/20\n",
      "797/797 [==============================] - 17s 22ms/step - loss: 0.0058 - accuracy: 0.9983 - val_loss: 0.0404 - val_accuracy: 0.9910\n",
      "Epoch 14/20\n",
      "797/797 [==============================] - 18s 22ms/step - loss: 0.0044 - accuracy: 0.9987 - val_loss: 0.0408 - val_accuracy: 0.9910\n",
      "Epoch 15/20\n",
      "797/797 [==============================] - 17s 22ms/step - loss: 0.0024 - accuracy: 0.9994 - val_loss: 0.0427 - val_accuracy: 0.9916\n",
      "Epoch 16/20\n",
      "797/797 [==============================] - 17s 21ms/step - loss: 0.0026 - accuracy: 0.9993 - val_loss: 0.0483 - val_accuracy: 0.9906\n",
      "Epoch 17/20\n",
      "797/797 [==============================] - 16s 20ms/step - loss: 0.0013 - accuracy: 0.9998 - val_loss: 0.0491 - val_accuracy: 0.9911\n",
      "Epoch 18/20\n",
      "797/797 [==============================] - 16s 20ms/step - loss: 8.8694e-04 - accuracy: 0.9999 - val_loss: 0.0435 - val_accuracy: 0.9926\n",
      "Epoch 19/20\n",
      "797/797 [==============================] - 16s 20ms/step - loss: 4.2401e-04 - accuracy: 1.0000 - val_loss: 0.0456 - val_accuracy: 0.9921\n",
      "Epoch 20/20\n",
      "797/797 [==============================] - 18s 22ms/step - loss: 3.8773e-04 - accuracy: 0.9999 - val_loss: 0.0484 - val_accuracy: 0.9919\n"
     ]
    }
   ],
   "source": [
    "model_12 = keras.models.clone_model(best_model)\n",
    "model_12.compile(optimizer=opt_3, loss='categorical_crossentropy', metrics=['accuracy'])\n",
    "model_12_history = model_12.fit(X_train, y_train, epochs=20, batch_size=64, shuffle=True,validation_data=(X_val, y_val), verbose=1)\n",
    "saved_models.append(model_12)\n",
    "histories.append(model_12_history)"
   ]
  },
  {
   "cell_type": "code",
   "execution_count": 31,
   "id": "yvFNxuR-8OB4",
   "metadata": {
    "colab": {
     "base_uri": "https://localhost:8080/"
    },
    "id": "yvFNxuR-8OB4",
    "outputId": "043f08d8-982a-44cc-a28c-20419056701d"
   },
   "outputs": [
    {
     "name": "stdout",
     "output_type": "stream",
     "text": [
      "313/313 [==============================] - 1s 2ms/step - loss: 0.2870 - accuracy: 0.9167\n",
      "313/313 [==============================] - 1s 2ms/step - loss: 0.2247 - accuracy: 0.9376\n",
      "313/313 [==============================] - 1s 2ms/step - loss: 0.1935 - accuracy: 0.9448\n",
      "313/313 [==============================] - 1s 2ms/step - loss: 0.1367 - accuracy: 0.9823\n",
      "313/313 [==============================] - 1s 2ms/step - loss: 0.0426 - accuracy: 0.9870\n",
      "313/313 [==============================] - 1s 2ms/step - loss: 0.0374 - accuracy: 0.9901\n",
      "313/313 [==============================] - 1s 4ms/step - loss: 0.0330 - accuracy: 0.9929\n",
      "313/313 [==============================] - 1s 2ms/step - loss: 0.1111 - accuracy: 0.9738\n",
      "313/313 [==============================] - 1s 4ms/step - loss: 0.0448 - accuracy: 0.9902\n",
      "313/313 [==============================] - 2s 7ms/step - loss: 0.0675 - accuracy: 0.9843\n",
      "313/313 [==============================] - 1s 4ms/step - loss: 0.0462 - accuracy: 0.9911\n",
      "313/313 [==============================] - 1s 4ms/step - loss: 0.0374 - accuracy: 0.9914\n",
      "model: 7 accuracy: 99.29 %\n"
     ]
    }
   ],
   "source": [
    "best_model, best_model_idx = evaluate_model(saved_models, X_test, y_test)"
   ]
  },
  {
   "cell_type": "markdown",
   "id": "pSu91m-_bCB-",
   "metadata": {
    "id": "pSu91m-_bCB-"
   },
   "source": [
    "# Trying different activation functions"
   ]
  },
  {
   "cell_type": "code",
   "execution_count": 32,
   "id": "hu_Q_iaabE3E",
   "metadata": {
    "id": "hu_Q_iaabE3E"
   },
   "outputs": [],
   "source": [
    "model_13 = models.Sequential()\n",
    "model_13.add(layers.Conv2D(32, (3, 3), activation='sigmoid', kernel_initializer=tensorflow.keras.initializers.GlorotNormal(), input_shape=(28, 28, 1)))\n",
    "model_13.add(layers.MaxPooling2D(pool_size=(2, 2), strides=(2, 2)))\n",
    "model_13.add(layers.Conv2D(32, (3, 3), activation='sigmoid', kernel_initializer=tensorflow.keras.initializers.GlorotNormal()))\n",
    "model_13.add(layers.MaxPooling2D(pool_size=(2, 2), strides=(2, 2)))\n",
    "model_13.add(layers.Flatten())\n",
    "model_13.add(layers.Dense(64, activation='sigmoid', kernel_initializer=tensorflow.keras.initializers.GlorotNormal()))\n",
    "model_13.add(layers.Dense(32, activation='sigmoid', kernel_initializer=tensorflow.keras.initializers.GlorotNormal()))\n",
    "model_13.add(layers.Dense(10, activation='softmax'))"
   ]
  },
  {
   "cell_type": "code",
   "execution_count": 33,
   "id": "3LDVjCGabHQr",
   "metadata": {
    "colab": {
     "base_uri": "https://localhost:8080/"
    },
    "id": "3LDVjCGabHQr",
    "outputId": "373b3fcc-7b06-4e2e-efc5-7d1681943dc7"
   },
   "outputs": [
    {
     "name": "stdout",
     "output_type": "stream",
     "text": [
      "Epoch 1/20\n",
      "1594/1594 [==============================] - 22s 13ms/step - loss: 2.3081 - accuracy: 0.1056 - val_loss: 2.3033 - val_accuracy: 0.0976\n",
      "Epoch 2/20\n",
      "1594/1594 [==============================] - 21s 13ms/step - loss: 2.3033 - accuracy: 0.1099 - val_loss: 2.3005 - val_accuracy: 0.1102\n",
      "Epoch 3/20\n",
      "1594/1594 [==============================] - 20s 13ms/step - loss: 2.0368 - accuracy: 0.2718 - val_loss: 1.1817 - val_accuracy: 0.6211\n",
      "Epoch 4/20\n",
      "1594/1594 [==============================] - 20s 12ms/step - loss: 0.6618 - accuracy: 0.8040 - val_loss: 0.3823 - val_accuracy: 0.8889\n",
      "Epoch 5/20\n",
      "1594/1594 [==============================] - 20s 13ms/step - loss: 0.2906 - accuracy: 0.9168 - val_loss: 0.2116 - val_accuracy: 0.9401\n",
      "Epoch 6/20\n",
      "1594/1594 [==============================] - 22s 14ms/step - loss: 0.1850 - accuracy: 0.9463 - val_loss: 0.1649 - val_accuracy: 0.9500\n",
      "Epoch 7/20\n",
      "1594/1594 [==============================] - 21s 13ms/step - loss: 0.1404 - accuracy: 0.9591 - val_loss: 0.1250 - val_accuracy: 0.9620\n",
      "Epoch 8/20\n",
      "1594/1594 [==============================] - 20s 13ms/step - loss: 0.1151 - accuracy: 0.9656 - val_loss: 0.1045 - val_accuracy: 0.9674\n",
      "Epoch 9/20\n",
      "1594/1594 [==============================] - 22s 14ms/step - loss: 0.1004 - accuracy: 0.9705 - val_loss: 0.1094 - val_accuracy: 0.9663\n",
      "Epoch 10/20\n",
      "1594/1594 [==============================] - 21s 13ms/step - loss: 0.0903 - accuracy: 0.9727 - val_loss: 0.0907 - val_accuracy: 0.9727\n",
      "Epoch 11/20\n",
      "1594/1594 [==============================] - 22s 14ms/step - loss: 0.0814 - accuracy: 0.9755 - val_loss: 0.0769 - val_accuracy: 0.9773\n",
      "Epoch 12/20\n",
      "1594/1594 [==============================] - 21s 13ms/step - loss: 0.0756 - accuracy: 0.9768 - val_loss: 0.0675 - val_accuracy: 0.9786\n",
      "Epoch 13/20\n",
      "1594/1594 [==============================] - 21s 13ms/step - loss: 0.0691 - accuracy: 0.9793 - val_loss: 0.0701 - val_accuracy: 0.9776\n",
      "Epoch 14/20\n",
      "1594/1594 [==============================] - 22s 14ms/step - loss: 0.0644 - accuracy: 0.9807 - val_loss: 0.0765 - val_accuracy: 0.9773\n",
      "Epoch 15/20\n",
      "1594/1594 [==============================] - 21s 13ms/step - loss: 0.0605 - accuracy: 0.9820 - val_loss: 0.0776 - val_accuracy: 0.9751\n",
      "Epoch 16/20\n",
      "1594/1594 [==============================] - 21s 13ms/step - loss: 0.0562 - accuracy: 0.9829 - val_loss: 0.0615 - val_accuracy: 0.9807\n",
      "Epoch 17/20\n",
      "1594/1594 [==============================] - 21s 13ms/step - loss: 0.0537 - accuracy: 0.9836 - val_loss: 0.0594 - val_accuracy: 0.9820\n",
      "Epoch 18/20\n",
      "1594/1594 [==============================] - 22s 14ms/step - loss: 0.0505 - accuracy: 0.9849 - val_loss: 0.0588 - val_accuracy: 0.9819\n",
      "Epoch 19/20\n",
      "1594/1594 [==============================] - 21s 13ms/step - loss: 0.0478 - accuracy: 0.9854 - val_loss: 0.0627 - val_accuracy: 0.9789\n",
      "Epoch 20/20\n",
      "1594/1594 [==============================] - 21s 13ms/step - loss: 0.0456 - accuracy: 0.9862 - val_loss: 0.0513 - val_accuracy: 0.9848\n"
     ]
    }
   ],
   "source": [
    "model_13.compile(optimizer=opt_3, loss='categorical_crossentropy', metrics=['accuracy'])\n",
    "model_13_history = model_13.fit(X_train, y_train, epochs=20, batch_size=32, shuffle=True,validation_data=(X_val, y_val), verbose=1)\n",
    "saved_models.append(model_13)\n",
    "histories.append(model_13_history)"
   ]
  },
  {
   "cell_type": "code",
   "execution_count": 34,
   "id": "EmwGbP4dbyuj",
   "metadata": {
    "id": "EmwGbP4dbyuj"
   },
   "outputs": [],
   "source": [
    "model_14 = models.Sequential()\n",
    "model_14.add(layers.Conv2D(32, (3, 3), activation='selu', kernel_initializer= tensorflow.keras.initializers.LecunNormal(), input_shape=(28, 28, 1)))\n",
    "model_14.add(layers.MaxPooling2D(pool_size=(2, 2), strides=(2, 2)))\n",
    "model_14.add(layers.Conv2D(32, (3, 3), activation='selu', kernel_initializer= tensorflow.keras.initializers.LecunNormal()))\n",
    "model_14.add(layers.MaxPooling2D(pool_size=(2, 2), strides=(2, 2)))\n",
    "model_14.add(layers.Flatten())\n",
    "model_14.add(layers.Dense(64, activation='selu', kernel_initializer= tensorflow.keras.initializers.LecunNormal()))\n",
    "model_14.add(layers.Dense(32, activation='selu', kernel_initializer= tensorflow.keras.initializers.LecunNormal()))\n",
    "model_14.add(layers.Dense(10, activation='softmax'))"
   ]
  },
  {
   "cell_type": "code",
   "execution_count": 35,
   "id": "eMhfWfi1bzqT",
   "metadata": {
    "colab": {
     "base_uri": "https://localhost:8080/"
    },
    "id": "eMhfWfi1bzqT",
    "outputId": "5522d5f4-9383-4a1d-a713-50f194b57cae"
   },
   "outputs": [
    {
     "name": "stdout",
     "output_type": "stream",
     "text": [
      "Epoch 1/20\n",
      "1594/1594 [==============================] - 26s 16ms/step - loss: 0.1503 - accuracy: 0.9530 - val_loss: 0.0910 - val_accuracy: 0.9707\n",
      "Epoch 2/20\n",
      "1594/1594 [==============================] - 23s 15ms/step - loss: 0.0534 - accuracy: 0.9836 - val_loss: 0.0550 - val_accuracy: 0.9836\n",
      "Epoch 3/20\n",
      "1594/1594 [==============================] - 23s 14ms/step - loss: 0.0370 - accuracy: 0.9881 - val_loss: 0.0404 - val_accuracy: 0.9891\n",
      "Epoch 4/20\n",
      "1594/1594 [==============================] - 23s 15ms/step - loss: 0.0262 - accuracy: 0.9913 - val_loss: 0.0501 - val_accuracy: 0.9861\n",
      "Epoch 5/20\n",
      "1594/1594 [==============================] - 23s 14ms/step - loss: 0.0199 - accuracy: 0.9933 - val_loss: 0.0433 - val_accuracy: 0.9884\n",
      "Epoch 6/20\n",
      "1594/1594 [==============================] - 23s 14ms/step - loss: 0.0141 - accuracy: 0.9957 - val_loss: 0.0454 - val_accuracy: 0.9881\n",
      "Epoch 7/20\n",
      "1594/1594 [==============================] - 23s 15ms/step - loss: 0.0118 - accuracy: 0.9963 - val_loss: 0.0450 - val_accuracy: 0.9891\n",
      "Epoch 8/20\n",
      "1594/1594 [==============================] - 24s 15ms/step - loss: 0.0117 - accuracy: 0.9962 - val_loss: 0.0532 - val_accuracy: 0.9873\n",
      "Epoch 9/20\n",
      "1594/1594 [==============================] - 23s 14ms/step - loss: 0.0098 - accuracy: 0.9966 - val_loss: 0.0495 - val_accuracy: 0.9873\n",
      "Epoch 10/20\n",
      "1594/1594 [==============================] - 23s 14ms/step - loss: 0.0061 - accuracy: 0.9980 - val_loss: 0.0465 - val_accuracy: 0.9891\n",
      "Epoch 11/20\n",
      "1594/1594 [==============================] - 23s 15ms/step - loss: 0.0047 - accuracy: 0.9984 - val_loss: 0.0456 - val_accuracy: 0.9884\n",
      "Epoch 12/20\n",
      "1594/1594 [==============================] - 23s 14ms/step - loss: 0.0026 - accuracy: 0.9992 - val_loss: 0.0505 - val_accuracy: 0.9888\n",
      "Epoch 13/20\n",
      "1594/1594 [==============================] - 22s 14ms/step - loss: 0.0013 - accuracy: 0.9997 - val_loss: 0.0447 - val_accuracy: 0.9906\n",
      "Epoch 14/20\n",
      "1594/1594 [==============================] - 23s 14ms/step - loss: 5.2434e-04 - accuracy: 0.9999 - val_loss: 0.0435 - val_accuracy: 0.9906\n",
      "Epoch 15/20\n",
      "1594/1594 [==============================] - 25s 16ms/step - loss: 3.4525e-04 - accuracy: 1.0000 - val_loss: 0.0437 - val_accuracy: 0.9911\n",
      "Epoch 16/20\n",
      "1594/1594 [==============================] - 23s 14ms/step - loss: 1.7361e-04 - accuracy: 1.0000 - val_loss: 0.0432 - val_accuracy: 0.9913\n",
      "Epoch 17/20\n",
      "1594/1594 [==============================] - 21s 13ms/step - loss: 1.4560e-04 - accuracy: 1.0000 - val_loss: 0.0449 - val_accuracy: 0.9916\n",
      "Epoch 18/20\n",
      "1594/1594 [==============================] - 21s 13ms/step - loss: 1.0891e-04 - accuracy: 1.0000 - val_loss: 0.0448 - val_accuracy: 0.9916\n",
      "Epoch 19/20\n",
      "1594/1594 [==============================] - 21s 13ms/step - loss: 8.7410e-05 - accuracy: 1.0000 - val_loss: 0.0448 - val_accuracy: 0.9917\n",
      "Epoch 20/20\n",
      "1594/1594 [==============================] - 21s 13ms/step - loss: 7.4289e-05 - accuracy: 1.0000 - val_loss: 0.0450 - val_accuracy: 0.9914\n"
     ]
    }
   ],
   "source": [
    "model_14.compile(optimizer=opt_3, loss='categorical_crossentropy', metrics=['accuracy'])\n",
    "model_14_history = model_14.fit(X_train, y_train, epochs=20, batch_size=32, shuffle=True,validation_data=(X_val, y_val), verbose=1)\n",
    "saved_models.append(model_14)\n",
    "histories.append(model_14_history)"
   ]
  },
  {
   "cell_type": "code",
   "execution_count": 36,
   "id": "r2GVQUDQb0TF",
   "metadata": {
    "id": "r2GVQUDQb0TF"
   },
   "outputs": [],
   "source": [
    "from keras.layers import LeakyReLU\n",
    "model_15 = models.Sequential()\n",
    "model_15.add(layers.Conv2D(32, (3, 3), kernel_initializer='he_uniform', input_shape=(28, 28, 1)))\n",
    "model_15.add(LeakyReLU(alpha=0.05))\n",
    "model_15.add(layers.MaxPooling2D(pool_size=(2, 2), strides=(2, 2)))\n",
    "model_15.add(layers.Conv2D(32, (3, 3), kernel_initializer='he_uniform'))\n",
    "model_15.add(LeakyReLU(alpha=0.05))\n",
    "model_15.add(layers.MaxPooling2D(pool_size=(2, 2), strides=(2, 2)))\n",
    "model_15.add(layers.Flatten())\n",
    "model_15.add(layers.Dense(64, kernel_initializer='he_uniform'))\n",
    "model_15.add(LeakyReLU(alpha=0.05))\n",
    "model_15.add(layers.Dense(32, kernel_initializer='he_uniform'))\n",
    "model_15.add(LeakyReLU(alpha=0.05))\n",
    "model_15.add(layers.Dense(10, activation='softmax'))"
   ]
  },
  {
   "cell_type": "code",
   "execution_count": 37,
   "id": "Ml_LF3C5b1Oc",
   "metadata": {
    "colab": {
     "base_uri": "https://localhost:8080/"
    },
    "id": "Ml_LF3C5b1Oc",
    "outputId": "f60c6022-8da8-436f-abc6-7864ff68bcb8"
   },
   "outputs": [
    {
     "name": "stdout",
     "output_type": "stream",
     "text": [
      "Epoch 1/20\n",
      "1594/1594 [==============================] - 21s 13ms/step - loss: 0.1609 - accuracy: 0.9493 - val_loss: 0.0644 - val_accuracy: 0.9809\n",
      "Epoch 2/20\n",
      "1594/1594 [==============================] - 20s 13ms/step - loss: 0.0524 - accuracy: 0.9835 - val_loss: 0.0521 - val_accuracy: 0.9846\n",
      "Epoch 3/20\n",
      "1594/1594 [==============================] - 20s 12ms/step - loss: 0.0357 - accuracy: 0.9885 - val_loss: 0.0449 - val_accuracy: 0.9878\n",
      "Epoch 4/20\n",
      "1594/1594 [==============================] - 20s 13ms/step - loss: 0.0272 - accuracy: 0.9911 - val_loss: 0.0472 - val_accuracy: 0.9859\n",
      "Epoch 5/20\n",
      "1594/1594 [==============================] - 22s 14ms/step - loss: 0.0205 - accuracy: 0.9935 - val_loss: 0.0428 - val_accuracy: 0.9901\n",
      "Epoch 6/20\n",
      "1594/1594 [==============================] - 21s 13ms/step - loss: 0.0169 - accuracy: 0.9943 - val_loss: 0.0473 - val_accuracy: 0.9888\n",
      "Epoch 7/20\n",
      "1594/1594 [==============================] - 20s 12ms/step - loss: 0.0128 - accuracy: 0.9959 - val_loss: 0.0400 - val_accuracy: 0.9900\n",
      "Epoch 8/20\n",
      "1594/1594 [==============================] - 20s 13ms/step - loss: 0.0106 - accuracy: 0.9968 - val_loss: 0.0447 - val_accuracy: 0.9887\n",
      "Epoch 9/20\n",
      "1594/1594 [==============================] - 20s 12ms/step - loss: 0.0092 - accuracy: 0.9971 - val_loss: 0.0435 - val_accuracy: 0.9913\n",
      "Epoch 10/20\n",
      "1594/1594 [==============================] - 20s 12ms/step - loss: 0.0069 - accuracy: 0.9978 - val_loss: 0.0493 - val_accuracy: 0.9911\n",
      "Epoch 11/20\n",
      "1594/1594 [==============================] - 20s 13ms/step - loss: 0.0075 - accuracy: 0.9977 - val_loss: 0.0460 - val_accuracy: 0.9904\n",
      "Epoch 12/20\n",
      "1594/1594 [==============================] - 20s 12ms/step - loss: 0.0044 - accuracy: 0.9986 - val_loss: 0.0470 - val_accuracy: 0.9902\n",
      "Epoch 13/20\n",
      "1594/1594 [==============================] - 20s 12ms/step - loss: 0.0052 - accuracy: 0.9983 - val_loss: 0.0604 - val_accuracy: 0.9871\n",
      "Epoch 14/20\n",
      "1594/1594 [==============================] - 20s 13ms/step - loss: 0.0032 - accuracy: 0.9989 - val_loss: 0.0499 - val_accuracy: 0.9904\n",
      "Epoch 15/20\n",
      "1594/1594 [==============================] - 20s 12ms/step - loss: 0.0048 - accuracy: 0.9984 - val_loss: 0.0580 - val_accuracy: 0.9891\n",
      "Epoch 16/20\n",
      "1594/1594 [==============================] - 20s 13ms/step - loss: 0.0050 - accuracy: 0.9984 - val_loss: 0.0540 - val_accuracy: 0.9904\n",
      "Epoch 17/20\n",
      "1594/1594 [==============================] - 20s 12ms/step - loss: 0.0031 - accuracy: 0.9990 - val_loss: 0.0520 - val_accuracy: 0.9909\n",
      "Epoch 18/20\n",
      "1594/1594 [==============================] - 20s 13ms/step - loss: 9.2672e-04 - accuracy: 0.9997 - val_loss: 0.0612 - val_accuracy: 0.9908\n",
      "Epoch 19/20\n",
      "1594/1594 [==============================] - 20s 12ms/step - loss: 0.0017 - accuracy: 0.9995 - val_loss: 0.0530 - val_accuracy: 0.9911\n",
      "Epoch 20/20\n",
      "1594/1594 [==============================] - 20s 13ms/step - loss: 3.3997e-04 - accuracy: 1.0000 - val_loss: 0.0531 - val_accuracy: 0.9919\n"
     ]
    }
   ],
   "source": [
    "model_15.compile(optimizer=opt_3, loss='categorical_crossentropy', metrics=['accuracy'])\n",
    "model_15_history = model_15.fit(X_train, y_train, epochs=20, batch_size=32, shuffle=True,validation_data=(X_val, y_val), verbose=1)\n",
    "saved_models.append(model_15)\n",
    "histories.append(model_15_history)"
   ]
  },
  {
   "cell_type": "code",
   "execution_count": 38,
   "id": "ng7z1-pmFQtP",
   "metadata": {
    "colab": {
     "base_uri": "https://localhost:8080/"
    },
    "id": "ng7z1-pmFQtP",
    "outputId": "4ad59b3a-b748-43dc-c0be-04301f0da65a"
   },
   "outputs": [
    {
     "name": "stdout",
     "output_type": "stream",
     "text": [
      "313/313 [==============================] - 1s 3ms/step - loss: 0.2870 - accuracy: 0.9167\n",
      "313/313 [==============================] - 1s 2ms/step - loss: 0.2247 - accuracy: 0.9376\n",
      "313/313 [==============================] - 1s 2ms/step - loss: 0.1935 - accuracy: 0.9448\n",
      "313/313 [==============================] - 1s 2ms/step - loss: 0.1367 - accuracy: 0.9823\n",
      "313/313 [==============================] - 1s 2ms/step - loss: 0.0426 - accuracy: 0.9870\n",
      "313/313 [==============================] - 1s 2ms/step - loss: 0.0374 - accuracy: 0.9901\n",
      "313/313 [==============================] - 1s 4ms/step - loss: 0.0330 - accuracy: 0.9929\n",
      "313/313 [==============================] - 1s 2ms/step - loss: 0.1111 - accuracy: 0.9738\n",
      "313/313 [==============================] - 1s 4ms/step - loss: 0.0448 - accuracy: 0.9902\n",
      "313/313 [==============================] - 2s 7ms/step - loss: 0.0675 - accuracy: 0.9843\n",
      "313/313 [==============================] - 1s 3ms/step - loss: 0.0462 - accuracy: 0.9911\n",
      "313/313 [==============================] - 1s 3ms/step - loss: 0.0374 - accuracy: 0.9914\n",
      "313/313 [==============================] - 1s 4ms/step - loss: 0.0505 - accuracy: 0.9837\n",
      "313/313 [==============================] - 1s 4ms/step - loss: 0.0355 - accuracy: 0.9921\n",
      "313/313 [==============================] - 1s 4ms/step - loss: 0.0410 - accuracy: 0.9908\n",
      "model: 7 accuracy: 99.29 %\n"
     ]
    }
   ],
   "source": [
    "best_model, best_model_idx = evaluate_model(saved_models, X_test, y_test)"
   ]
  },
  {
   "cell_type": "markdown",
   "id": "MJG73eMssu2y",
   "metadata": {
    "id": "MJG73eMssu2y"
   },
   "source": [
    "# Trying different optimizers"
   ]
  },
  {
   "cell_type": "code",
   "execution_count": 39,
   "id": "2NExiLWEs25I",
   "metadata": {
    "colab": {
     "base_uri": "https://localhost:8080/"
    },
    "id": "2NExiLWEs25I",
    "outputId": "5534845e-5e02-4e58-bd2e-b90c83a6b311"
   },
   "outputs": [
    {
     "name": "stdout",
     "output_type": "stream",
     "text": [
      "Epoch 1/20\n",
      "1594/1594 [==============================] - 20s 12ms/step - loss: 0.1942 - accuracy: 0.9413 - val_loss: 0.1241 - val_accuracy: 0.9649\n",
      "Epoch 2/20\n",
      "1594/1594 [==============================] - 18s 12ms/step - loss: 0.1102 - accuracy: 0.9686 - val_loss: 0.0918 - val_accuracy: 0.9746\n",
      "Epoch 3/20\n",
      "1594/1594 [==============================] - 18s 12ms/step - loss: 0.0981 - accuracy: 0.9723 - val_loss: 0.0923 - val_accuracy: 0.9743\n",
      "Epoch 4/20\n",
      "1594/1594 [==============================] - 19s 12ms/step - loss: 0.0929 - accuracy: 0.9755 - val_loss: 0.0963 - val_accuracy: 0.9769\n",
      "Epoch 5/20\n",
      "1594/1594 [==============================] - 18s 12ms/step - loss: 0.0875 - accuracy: 0.9780 - val_loss: 0.0872 - val_accuracy: 0.9791\n",
      "Epoch 6/20\n",
      "1594/1594 [==============================] - 18s 12ms/step - loss: 0.0813 - accuracy: 0.9788 - val_loss: 0.1035 - val_accuracy: 0.9762\n",
      "Epoch 7/20\n",
      "1594/1594 [==============================] - 19s 12ms/step - loss: 0.0808 - accuracy: 0.9801 - val_loss: 0.1064 - val_accuracy: 0.9757\n",
      "Epoch 8/20\n",
      "1594/1594 [==============================] - 18s 12ms/step - loss: 0.0858 - accuracy: 0.9787 - val_loss: 0.1124 - val_accuracy: 0.9771\n",
      "Epoch 9/20\n",
      "1594/1594 [==============================] - 19s 12ms/step - loss: 0.0742 - accuracy: 0.9822 - val_loss: 0.0977 - val_accuracy: 0.9793\n",
      "Epoch 10/20\n",
      "1594/1594 [==============================] - 19s 12ms/step - loss: 0.0720 - accuracy: 0.9829 - val_loss: 0.1229 - val_accuracy: 0.9768\n",
      "Epoch 11/20\n",
      "1594/1594 [==============================] - 19s 12ms/step - loss: 0.0814 - accuracy: 0.9820 - val_loss: 0.0909 - val_accuracy: 0.9818\n",
      "Epoch 12/20\n",
      "1594/1594 [==============================] - 18s 12ms/step - loss: 0.0814 - accuracy: 0.9810 - val_loss: 0.0911 - val_accuracy: 0.9801\n",
      "Epoch 13/20\n",
      "1594/1594 [==============================] - 18s 11ms/step - loss: 0.0686 - accuracy: 0.9845 - val_loss: 0.0961 - val_accuracy: 0.9814\n",
      "Epoch 14/20\n",
      "1594/1594 [==============================] - 19s 12ms/step - loss: 0.0840 - accuracy: 0.9821 - val_loss: 0.1195 - val_accuracy: 0.9759\n",
      "Epoch 15/20\n",
      "1594/1594 [==============================] - 19s 12ms/step - loss: 0.0827 - accuracy: 0.9821 - val_loss: 0.1235 - val_accuracy: 0.9746\n",
      "Epoch 16/20\n",
      "1594/1594 [==============================] - 18s 12ms/step - loss: 0.0661 - accuracy: 0.9855 - val_loss: 0.1136 - val_accuracy: 0.9780\n",
      "Epoch 17/20\n",
      "1594/1594 [==============================] - 18s 12ms/step - loss: 0.0822 - accuracy: 0.9830 - val_loss: 0.1037 - val_accuracy: 0.9823\n",
      "Epoch 18/20\n",
      "1594/1594 [==============================] - 19s 12ms/step - loss: 0.0730 - accuracy: 0.9850 - val_loss: 0.1491 - val_accuracy: 0.9786\n",
      "Epoch 19/20\n",
      "1594/1594 [==============================] - 18s 12ms/step - loss: 0.0647 - accuracy: 0.9859 - val_loss: 0.1246 - val_accuracy: 0.9796\n",
      "Epoch 20/20\n",
      "1594/1594 [==============================] - 18s 11ms/step - loss: 0.0855 - accuracy: 0.9826 - val_loss: 0.1182 - val_accuracy: 0.9817\n"
     ]
    }
   ],
   "source": [
    "model_16 = keras.models.clone_model(best_model)\n",
    "model_16.compile(optimizer=opt_4, loss='categorical_crossentropy', metrics=['accuracy'])\n",
    "model_16_history = model_16.fit(X_train, y_train, epochs=20, batch_size=32, shuffle=True,validation_data=(X_val, y_val), verbose=1)\n",
    "saved_models.append(model_16)\n",
    "histories.append(model_16_history)"
   ]
  },
  {
   "cell_type": "code",
   "execution_count": 40,
   "id": "tlw1Bu6ztD-R",
   "metadata": {
    "colab": {
     "base_uri": "https://localhost:8080/"
    },
    "id": "tlw1Bu6ztD-R",
    "outputId": "b788a12e-9fc9-4612-effc-0629a6dc2ac6"
   },
   "outputs": [
    {
     "name": "stdout",
     "output_type": "stream",
     "text": [
      "Epoch 1/20\n",
      "1594/1594 [==============================] - 19s 12ms/step - loss: 0.2097 - accuracy: 0.9453 - val_loss: 0.1469 - val_accuracy: 0.9624\n",
      "Epoch 2/20\n",
      "1594/1594 [==============================] - 18s 12ms/step - loss: 0.1462 - accuracy: 0.9669 - val_loss: 0.1216 - val_accuracy: 0.9700\n",
      "Epoch 3/20\n",
      "1594/1594 [==============================] - 18s 12ms/step - loss: 0.1490 - accuracy: 0.9685 - val_loss: 0.1965 - val_accuracy: 0.9547\n",
      "Epoch 4/20\n",
      "1594/1594 [==============================] - 19s 12ms/step - loss: 0.1542 - accuracy: 0.9679 - val_loss: 0.1602 - val_accuracy: 0.9739\n",
      "Epoch 5/20\n",
      "1594/1594 [==============================] - 19s 12ms/step - loss: 0.1637 - accuracy: 0.9668 - val_loss: 0.2736 - val_accuracy: 0.9601\n",
      "Epoch 6/20\n",
      "1594/1594 [==============================] - 19s 12ms/step - loss: 0.1765 - accuracy: 0.9675 - val_loss: 0.3143 - val_accuracy: 0.9201\n",
      "Epoch 7/20\n",
      "1594/1594 [==============================] - 19s 12ms/step - loss: 0.1752 - accuracy: 0.9651 - val_loss: 0.1723 - val_accuracy: 0.9747\n",
      "Epoch 8/20\n",
      "1594/1594 [==============================] - 19s 12ms/step - loss: 0.1916 - accuracy: 0.9604 - val_loss: 0.1659 - val_accuracy: 0.9588\n",
      "Epoch 9/20\n",
      "1594/1594 [==============================] - 18s 11ms/step - loss: 0.2038 - accuracy: 0.9591 - val_loss: 0.3119 - val_accuracy: 0.9489\n",
      "Epoch 10/20\n",
      "1594/1594 [==============================] - 18s 11ms/step - loss: 0.2055 - accuracy: 0.9570 - val_loss: 0.2227 - val_accuracy: 0.9457\n",
      "Epoch 11/20\n",
      "1594/1594 [==============================] - 18s 12ms/step - loss: 0.1951 - accuracy: 0.9581 - val_loss: 0.1942 - val_accuracy: 0.9566\n",
      "Epoch 12/20\n",
      "1594/1594 [==============================] - 19s 12ms/step - loss: 0.1977 - accuracy: 0.9584 - val_loss: 0.1785 - val_accuracy: 0.9536\n",
      "Epoch 13/20\n",
      "1594/1594 [==============================] - 18s 12ms/step - loss: 0.2023 - accuracy: 0.9578 - val_loss: 0.1793 - val_accuracy: 0.9641\n",
      "Epoch 14/20\n",
      "1594/1594 [==============================] - 18s 12ms/step - loss: 0.2093 - accuracy: 0.9582 - val_loss: 0.2122 - val_accuracy: 0.9494\n",
      "Epoch 15/20\n",
      "1594/1594 [==============================] - 18s 12ms/step - loss: 0.2164 - accuracy: 0.9566 - val_loss: 0.1992 - val_accuracy: 0.9628\n",
      "Epoch 16/20\n",
      "1594/1594 [==============================] - 18s 12ms/step - loss: 0.2257 - accuracy: 0.9536 - val_loss: 0.1551 - val_accuracy: 0.9668\n",
      "Epoch 17/20\n",
      "1594/1594 [==============================] - 19s 12ms/step - loss: 0.2316 - accuracy: 0.9524 - val_loss: 0.1915 - val_accuracy: 0.9649\n",
      "Epoch 18/20\n",
      "1594/1594 [==============================] - 18s 12ms/step - loss: 0.2264 - accuracy: 0.9536 - val_loss: 0.2340 - val_accuracy: 0.9654\n",
      "Epoch 19/20\n",
      "1594/1594 [==============================] - 19s 12ms/step - loss: 0.2368 - accuracy: 0.9526 - val_loss: 0.2127 - val_accuracy: 0.9517\n",
      "Epoch 20/20\n",
      "1594/1594 [==============================] - 18s 11ms/step - loss: 0.2420 - accuracy: 0.9530 - val_loss: 0.2333 - val_accuracy: 0.9403\n"
     ]
    }
   ],
   "source": [
    "model_17 = keras.models.clone_model(best_model)\n",
    "model_17.compile(optimizer=opt_5, loss='categorical_crossentropy', metrics=['accuracy'])\n",
    "model_17_history = model_17.fit(X_train, y_train, epochs=20, batch_size=32, shuffle=True,validation_data=(X_val, y_val), verbose=1)\n",
    "saved_models.append(model_17)\n",
    "histories.append(model_17_history)"
   ]
  },
  {
   "cell_type": "code",
   "execution_count": 41,
   "id": "HUmk_ZImg0qx",
   "metadata": {
    "colab": {
     "base_uri": "https://localhost:8080/"
    },
    "id": "HUmk_ZImg0qx",
    "outputId": "3298b853-37a2-4213-ebbe-948209ccce6f"
   },
   "outputs": [
    {
     "name": "stdout",
     "output_type": "stream",
     "text": [
      "313/313 [==============================] - 1s 2ms/step - loss: 0.2870 - accuracy: 0.9167\n",
      "313/313 [==============================] - 1s 2ms/step - loss: 0.2247 - accuracy: 0.9376\n",
      "313/313 [==============================] - 1s 2ms/step - loss: 0.1935 - accuracy: 0.9448\n",
      "313/313 [==============================] - 1s 2ms/step - loss: 0.1367 - accuracy: 0.9823\n",
      "313/313 [==============================] - 1s 2ms/step - loss: 0.0426 - accuracy: 0.9870\n",
      "313/313 [==============================] - 1s 2ms/step - loss: 0.0374 - accuracy: 0.9901\n",
      "313/313 [==============================] - 1s 4ms/step - loss: 0.0330 - accuracy: 0.9929\n",
      "313/313 [==============================] - 1s 2ms/step - loss: 0.1111 - accuracy: 0.9738\n",
      "313/313 [==============================] - 1s 4ms/step - loss: 0.0448 - accuracy: 0.9902\n",
      "313/313 [==============================] - 2s 7ms/step - loss: 0.0675 - accuracy: 0.9843\n",
      "313/313 [==============================] - 1s 3ms/step - loss: 0.0462 - accuracy: 0.9911\n",
      "313/313 [==============================] - 1s 3ms/step - loss: 0.0374 - accuracy: 0.9914\n",
      "313/313 [==============================] - 1s 4ms/step - loss: 0.0505 - accuracy: 0.9837\n",
      "313/313 [==============================] - 1s 4ms/step - loss: 0.0355 - accuracy: 0.9921\n",
      "313/313 [==============================] - 1s 4ms/step - loss: 0.0410 - accuracy: 0.9908\n",
      "313/313 [==============================] - 1s 3ms/step - loss: 0.1011 - accuracy: 0.9821\n",
      "313/313 [==============================] - 1s 3ms/step - loss: 0.2136 - accuracy: 0.9448\n",
      "model: 7 accuracy: 99.29 %\n"
     ]
    }
   ],
   "source": [
    "best_model, best_model_idx = evaluate_model(saved_models, X_test, y_test)"
   ]
  },
  {
   "cell_type": "markdown",
   "id": "dF9wUeZKyUrV",
   "metadata": {
    "id": "dF9wUeZKyUrV"
   },
   "source": [
    "# Trying different dropout rates"
   ]
  },
  {
   "cell_type": "code",
   "execution_count": 42,
   "id": "KgbOhiYQyX3J",
   "metadata": {
    "id": "KgbOhiYQyX3J"
   },
   "outputs": [],
   "source": [
    "from keras.layers import Dropout"
   ]
  },
  {
   "cell_type": "code",
   "execution_count": 43,
   "id": "TeDcQcJ10GhB",
   "metadata": {
    "id": "TeDcQcJ10GhB"
   },
   "outputs": [],
   "source": [
    "model_18 = models.Sequential()\n",
    "model_18.add(layers.Conv2D(32, (3, 3), activation='relu', kernel_initializer='he_uniform', input_shape=(28, 28, 1)))\n",
    "model_18.add(layers.MaxPooling2D(pool_size=(2, 2), strides=(2, 2)))\n",
    "model.add(Dropout(0.4))\n",
    "model_18.add(layers.Conv2D(32, (3, 3), activation='relu', kernel_initializer='he_uniform'))\n",
    "model_18.add(layers.MaxPooling2D(pool_size=(2, 2), strides=(2, 2)))\n",
    "model_18.add(layers.Flatten())\n",
    "model_18.add(layers.Dense(64, activation='relu', kernel_initializer='he_uniform'))\n",
    "model_18.add(layers.Dense(32, activation='relu', kernel_initializer='he_uniform'))\n",
    "model.add(Dropout(0.4))\n",
    "model_18.add(layers.Dense(10, activation='softmax'))"
   ]
  },
  {
   "cell_type": "code",
   "execution_count": 44,
   "id": "ps977F84yYgi",
   "metadata": {
    "colab": {
     "base_uri": "https://localhost:8080/"
    },
    "id": "ps977F84yYgi",
    "outputId": "fce932e8-e575-472a-83b6-2efe4d7f1888"
   },
   "outputs": [
    {
     "name": "stdout",
     "output_type": "stream",
     "text": [
      "Epoch 1/20\n",
      "1594/1594 [==============================] - 19s 12ms/step - loss: 0.1695 - accuracy: 0.9466 - val_loss: 0.0602 - val_accuracy: 0.9813\n",
      "Epoch 2/20\n",
      "1594/1594 [==============================] - 19s 12ms/step - loss: 0.0556 - accuracy: 0.9825 - val_loss: 0.0494 - val_accuracy: 0.9848\n",
      "Epoch 3/20\n",
      "1594/1594 [==============================] - 19s 12ms/step - loss: 0.0387 - accuracy: 0.9878 - val_loss: 0.0366 - val_accuracy: 0.9897\n",
      "Epoch 4/20\n",
      "1594/1594 [==============================] - 19s 12ms/step - loss: 0.0296 - accuracy: 0.9902 - val_loss: 0.0429 - val_accuracy: 0.9878\n",
      "Epoch 5/20\n",
      "1594/1594 [==============================] - 19s 12ms/step - loss: 0.0234 - accuracy: 0.9924 - val_loss: 0.0393 - val_accuracy: 0.9891\n",
      "Epoch 6/20\n",
      "1594/1594 [==============================] - 19s 12ms/step - loss: 0.0169 - accuracy: 0.9951 - val_loss: 0.0465 - val_accuracy: 0.9871\n",
      "Epoch 7/20\n",
      "1594/1594 [==============================] - 19s 12ms/step - loss: 0.0156 - accuracy: 0.9950 - val_loss: 0.0457 - val_accuracy: 0.9868\n",
      "Epoch 8/20\n",
      "1594/1594 [==============================] - 18s 12ms/step - loss: 0.0132 - accuracy: 0.9958 - val_loss: 0.0458 - val_accuracy: 0.9881\n",
      "Epoch 9/20\n",
      "1594/1594 [==============================] - 19s 12ms/step - loss: 0.0099 - accuracy: 0.9970 - val_loss: 0.0417 - val_accuracy: 0.9901\n",
      "Epoch 10/20\n",
      "1594/1594 [==============================] - 19s 12ms/step - loss: 0.0083 - accuracy: 0.9974 - val_loss: 0.0433 - val_accuracy: 0.9897\n",
      "Epoch 11/20\n",
      "1594/1594 [==============================] - 19s 12ms/step - loss: 0.0053 - accuracy: 0.9984 - val_loss: 0.0493 - val_accuracy: 0.9900\n",
      "Epoch 12/20\n",
      "1594/1594 [==============================] - 19s 12ms/step - loss: 0.0052 - accuracy: 0.9984 - val_loss: 0.0562 - val_accuracy: 0.9883\n",
      "Epoch 13/20\n",
      "1594/1594 [==============================] - 18s 12ms/step - loss: 0.0071 - accuracy: 0.9977 - val_loss: 0.0441 - val_accuracy: 0.9903\n",
      "Epoch 14/20\n",
      "1594/1594 [==============================] - 19s 12ms/step - loss: 0.0062 - accuracy: 0.9978 - val_loss: 0.0486 - val_accuracy: 0.9900\n",
      "Epoch 15/20\n",
      "1594/1594 [==============================] - 19s 12ms/step - loss: 0.0036 - accuracy: 0.9989 - val_loss: 0.0430 - val_accuracy: 0.9920\n",
      "Epoch 16/20\n",
      "1594/1594 [==============================] - 19s 12ms/step - loss: 0.0019 - accuracy: 0.9994 - val_loss: 0.0449 - val_accuracy: 0.9911\n",
      "Epoch 17/20\n",
      "1594/1594 [==============================] - 19s 12ms/step - loss: 0.0015 - accuracy: 0.9996 - val_loss: 0.0534 - val_accuracy: 0.9903\n",
      "Epoch 18/20\n",
      "1594/1594 [==============================] - 19s 12ms/step - loss: 0.0014 - accuracy: 0.9996 - val_loss: 0.0420 - val_accuracy: 0.9924\n",
      "Epoch 19/20\n",
      "1594/1594 [==============================] - 19s 12ms/step - loss: 2.3647e-04 - accuracy: 1.0000 - val_loss: 0.0435 - val_accuracy: 0.9921\n",
      "Epoch 20/20\n",
      "1594/1594 [==============================] - 19s 12ms/step - loss: 1.2398e-04 - accuracy: 1.0000 - val_loss: 0.0450 - val_accuracy: 0.9920\n"
     ]
    }
   ],
   "source": [
    "opt_3 = optimizers.SGD(learning_rate=0.01, momentum=0.9)\n",
    "model_18.compile(optimizer=opt_3, loss='categorical_crossentropy', metrics=['accuracy'])\n",
    "model_18_history = model_18.fit(X_train, y_train, epochs=20, batch_size=32, shuffle=True,validation_data=(X_val, y_val), verbose=1)\n",
    "saved_models.append(model_18)\n",
    "histories.append(model_18_history)"
   ]
  },
  {
   "cell_type": "code",
   "execution_count": 45,
   "id": "Sn4-pa8X0GKh",
   "metadata": {
    "id": "Sn4-pa8X0GKh"
   },
   "outputs": [],
   "source": [
    "model_19 = models.Sequential()\n",
    "model_19.add(layers.Conv2D(32, (3, 3), activation='relu', kernel_initializer='he_uniform', input_shape=(28, 28, 1)))\n",
    "model_19.add(layers.MaxPooling2D(pool_size=(2, 2), strides=(2, 2)))\n",
    "model_19.add(layers.Conv2D(32, (3, 3), activation='relu', kernel_initializer='he_uniform'))\n",
    "model_19.add(layers.MaxPooling2D(pool_size=(2, 2), strides=(2, 2)))\n",
    "model_19.add(Dropout(0.4))\n",
    "model_19.add(layers.Flatten())\n",
    "model_19.add(layers.Dense(64, activation='relu', kernel_initializer='he_uniform'))\n",
    "model_19.add(Dropout(0.4))\n",
    "model_19.add(layers.Dense(32, activation='relu', kernel_initializer='he_uniform'))\n",
    "model_19.add(Dropout(0.4))\n",
    "model_19.add(layers.Dense(10, activation='softmax'))"
   ]
  },
  {
   "cell_type": "code",
   "execution_count": 46,
   "id": "DaSdMeCb0Dq3",
   "metadata": {
    "colab": {
     "base_uri": "https://localhost:8080/"
    },
    "id": "DaSdMeCb0Dq3",
    "outputId": "dd573898-a663-4170-ebf6-df6b0c45b1df"
   },
   "outputs": [
    {
     "name": "stdout",
     "output_type": "stream",
     "text": [
      "Epoch 1/20\n",
      "1594/1594 [==============================] - 20s 12ms/step - loss: 0.6229 - accuracy: 0.8037 - val_loss: 0.0971 - val_accuracy: 0.9741\n",
      "Epoch 2/20\n",
      "1594/1594 [==============================] - 19s 12ms/step - loss: 0.2819 - accuracy: 0.9249 - val_loss: 0.0781 - val_accuracy: 0.9794\n",
      "Epoch 3/20\n",
      "1594/1594 [==============================] - 19s 12ms/step - loss: 0.2294 - accuracy: 0.9400 - val_loss: 0.0645 - val_accuracy: 0.9834\n",
      "Epoch 4/20\n",
      "1594/1594 [==============================] - 19s 12ms/step - loss: 0.1998 - accuracy: 0.9471 - val_loss: 0.0584 - val_accuracy: 0.9832\n",
      "Epoch 5/20\n",
      "1594/1594 [==============================] - 19s 12ms/step - loss: 0.1856 - accuracy: 0.9508 - val_loss: 0.0532 - val_accuracy: 0.9858\n",
      "Epoch 6/20\n",
      "1594/1594 [==============================] - 22s 14ms/step - loss: 0.1706 - accuracy: 0.9539 - val_loss: 0.0470 - val_accuracy: 0.9882\n",
      "Epoch 7/20\n",
      "1594/1594 [==============================] - 29s 18ms/step - loss: 0.1572 - accuracy: 0.9591 - val_loss: 0.0465 - val_accuracy: 0.9881\n",
      "Epoch 8/20\n",
      "1594/1594 [==============================] - 25s 15ms/step - loss: 0.1524 - accuracy: 0.9594 - val_loss: 0.0424 - val_accuracy: 0.9894\n",
      "Epoch 9/20\n",
      "1594/1594 [==============================] - 24s 15ms/step - loss: 0.1440 - accuracy: 0.9622 - val_loss: 0.0463 - val_accuracy: 0.9884\n",
      "Epoch 10/20\n",
      "1594/1594 [==============================] - 34s 22ms/step - loss: 0.1424 - accuracy: 0.9628 - val_loss: 0.0483 - val_accuracy: 0.9859\n",
      "Epoch 11/20\n",
      "1594/1594 [==============================] - 37s 23ms/step - loss: 0.1372 - accuracy: 0.9640 - val_loss: 0.0432 - val_accuracy: 0.9880\n",
      "Epoch 12/20\n",
      "1594/1594 [==============================] - 34s 22ms/step - loss: 0.1303 - accuracy: 0.9648 - val_loss: 0.0413 - val_accuracy: 0.9888\n",
      "Epoch 13/20\n",
      "1594/1594 [==============================] - 32s 20ms/step - loss: 0.1286 - accuracy: 0.9661 - val_loss: 0.0402 - val_accuracy: 0.9884\n",
      "Epoch 14/20\n",
      "1594/1594 [==============================] - 30s 19ms/step - loss: 0.1260 - accuracy: 0.9674 - val_loss: 0.0408 - val_accuracy: 0.9886\n",
      "Epoch 15/20\n",
      "1594/1594 [==============================] - 37s 23ms/step - loss: 0.1193 - accuracy: 0.9678 - val_loss: 0.0448 - val_accuracy: 0.9881\n",
      "Epoch 16/20\n",
      "1594/1594 [==============================] - 35s 22ms/step - loss: 0.1175 - accuracy: 0.9685 - val_loss: 0.0491 - val_accuracy: 0.9861\n",
      "Epoch 17/20\n",
      "1594/1594 [==============================] - 37s 23ms/step - loss: 0.1147 - accuracy: 0.9696 - val_loss: 0.0380 - val_accuracy: 0.9898\n",
      "Epoch 18/20\n",
      "1594/1594 [==============================] - 34s 21ms/step - loss: 0.1061 - accuracy: 0.9710 - val_loss: 0.0372 - val_accuracy: 0.9901\n",
      "Epoch 19/20\n",
      "1594/1594 [==============================] - 33s 21ms/step - loss: 0.1092 - accuracy: 0.9699 - val_loss: 0.0411 - val_accuracy: 0.9892\n",
      "Epoch 20/20\n",
      "1594/1594 [==============================] - 31s 19ms/step - loss: 0.1053 - accuracy: 0.9719 - val_loss: 0.0377 - val_accuracy: 0.9903\n"
     ]
    }
   ],
   "source": [
    "opt_3 = optimizers.SGD(learning_rate=0.01, momentum=0.9)\n",
    "model_19.compile(optimizer=opt_3, loss='categorical_crossentropy', metrics=['accuracy'])\n",
    "model_19_history = model_19.fit(X_train, y_train, epochs=20, batch_size=32, shuffle=True,validation_data=(X_val, y_val), verbose=1)\n",
    "saved_models.append(model_19)\n",
    "histories.append(model_19_history)"
   ]
  },
  {
   "cell_type": "code",
   "execution_count": 47,
   "id": "_JEqrY5FTHWF",
   "metadata": {
    "id": "_JEqrY5FTHWF"
   },
   "outputs": [],
   "source": [
    "model_20 = models.Sequential()\n",
    "model_20.add(layers.Conv2D(32, (3, 3), activation='relu', kernel_initializer='he_uniform', input_shape=(28, 28, 1)))\n",
    "model_20.add(layers.MaxPooling2D(pool_size=(2, 2), strides=(2, 2)))\n",
    "model_20.add(Dropout(0.75))\n",
    "model_20.add(layers.Conv2D(32, (3, 3), activation='relu', kernel_initializer='he_uniform'))\n",
    "model_20.add(layers.MaxPooling2D(pool_size=(2, 2), strides=(2, 2)))\n",
    "model_20.add(layers.Flatten())\n",
    "model_20.add(layers.Dense(64, activation='relu', kernel_initializer='he_uniform'))\n",
    "model_20.add(layers.Dense(32, activation='relu', kernel_initializer='he_uniform'))\n",
    "model_20.add(Dropout(0.75))\n",
    "model_20.add(layers.Dense(10, activation='softmax'))"
   ]
  },
  {
   "cell_type": "code",
   "execution_count": 48,
   "id": "u4P8SmskTHSz",
   "metadata": {
    "colab": {
     "base_uri": "https://localhost:8080/"
    },
    "id": "u4P8SmskTHSz",
    "outputId": "8722ebf4-c5ce-4be1-b765-d14b2ade90a5"
   },
   "outputs": [
    {
     "name": "stdout",
     "output_type": "stream",
     "text": [
      "Epoch 1/20\n",
      "1594/1594 [==============================] - 34s 21ms/step - loss: 2.2051 - accuracy: 0.1628 - val_loss: 1.5272 - val_accuracy: 0.5069\n",
      "Epoch 2/20\n",
      "1594/1594 [==============================] - 40s 25ms/step - loss: 1.2013 - accuracy: 0.5635 - val_loss: 0.4409 - val_accuracy: 0.8629\n",
      "Epoch 3/20\n",
      "1594/1594 [==============================] - 40s 25ms/step - loss: 0.8447 - accuracy: 0.7053 - val_loss: 0.3483 - val_accuracy: 0.8730\n",
      "Epoch 4/20\n",
      "1594/1594 [==============================] - 35s 22ms/step - loss: 0.7811 - accuracy: 0.7425 - val_loss: 0.2595 - val_accuracy: 0.9653\n",
      "Epoch 5/20\n",
      "1594/1594 [==============================] - 36s 23ms/step - loss: 0.7185 - accuracy: 0.7694 - val_loss: 0.2151 - val_accuracy: 0.9663\n",
      "Epoch 6/20\n",
      "1594/1594 [==============================] - 33s 21ms/step - loss: 0.6993 - accuracy: 0.7810 - val_loss: 0.1911 - val_accuracy: 0.9700\n",
      "Epoch 7/20\n",
      "1594/1594 [==============================] - 34s 21ms/step - loss: 0.6775 - accuracy: 0.7943 - val_loss: 0.1744 - val_accuracy: 0.9787\n",
      "Epoch 8/20\n",
      "1594/1594 [==============================] - 34s 21ms/step - loss: 0.6629 - accuracy: 0.8016 - val_loss: 0.1740 - val_accuracy: 0.9721\n",
      "Epoch 9/20\n",
      "1594/1594 [==============================] - 33s 21ms/step - loss: 0.6666 - accuracy: 0.7974 - val_loss: 0.1548 - val_accuracy: 0.9786\n",
      "Epoch 10/20\n",
      "1594/1594 [==============================] - 39s 25ms/step - loss: 0.6594 - accuracy: 0.7985 - val_loss: 0.1812 - val_accuracy: 0.9746\n",
      "Epoch 11/20\n",
      "1594/1594 [==============================] - 37s 24ms/step - loss: 0.7020 - accuracy: 0.7873 - val_loss: 0.1709 - val_accuracy: 0.9706\n",
      "Epoch 12/20\n",
      "1594/1594 [==============================] - 38s 24ms/step - loss: 0.7030 - accuracy: 0.7832 - val_loss: 0.1360 - val_accuracy: 0.9789\n",
      "Epoch 13/20\n",
      "1594/1594 [==============================] - 35s 22ms/step - loss: 0.6984 - accuracy: 0.7882 - val_loss: 0.1976 - val_accuracy: 0.9711\n",
      "Epoch 14/20\n",
      "1594/1594 [==============================] - 35s 22ms/step - loss: 0.7106 - accuracy: 0.7855 - val_loss: 0.1736 - val_accuracy: 0.9781\n",
      "Epoch 15/20\n",
      "1594/1594 [==============================] - 35s 22ms/step - loss: 0.7092 - accuracy: 0.7796 - val_loss: 0.1737 - val_accuracy: 0.9727\n",
      "Epoch 16/20\n",
      "1594/1594 [==============================] - 35s 22ms/step - loss: 0.7266 - accuracy: 0.7720 - val_loss: 0.2267 - val_accuracy: 0.9753\n",
      "Epoch 17/20\n",
      "1594/1594 [==============================] - 35s 22ms/step - loss: 0.7675 - accuracy: 0.7591 - val_loss: 0.2378 - val_accuracy: 0.9667\n",
      "Epoch 18/20\n",
      "1594/1594 [==============================] - 34s 21ms/step - loss: 0.7277 - accuracy: 0.7741 - val_loss: 0.1951 - val_accuracy: 0.9767\n",
      "Epoch 19/20\n",
      "1594/1594 [==============================] - 35s 22ms/step - loss: 0.7399 - accuracy: 0.7705 - val_loss: 0.2535 - val_accuracy: 0.9654\n",
      "Epoch 20/20\n",
      "1594/1594 [==============================] - 34s 21ms/step - loss: 0.7432 - accuracy: 0.7687 - val_loss: 0.2643 - val_accuracy: 0.9658\n"
     ]
    }
   ],
   "source": [
    "opt_3 = optimizers.SGD(learning_rate=0.01, momentum=0.9)\n",
    "model_20.compile(optimizer=opt_3, loss='categorical_crossentropy', metrics=['accuracy'])\n",
    "model_20_history = model_20.fit(X_train, y_train, epochs=20, batch_size=32, shuffle=True,validation_data=(X_val, y_val), verbose=1)\n",
    "saved_models.append(model_20)\n",
    "histories.append(model_20_history)"
   ]
  },
  {
   "cell_type": "code",
   "execution_count": 49,
   "id": "302P0zoSTGko",
   "metadata": {
    "id": "302P0zoSTGko"
   },
   "outputs": [],
   "source": [
    "model_21 = models.Sequential()\n",
    "model_21.add(layers.Conv2D(32, (3, 3), activation='relu', kernel_initializer='he_uniform', input_shape=(28, 28, 1)))\n",
    "model_21.add(layers.MaxPooling2D(pool_size=(2, 2), strides=(2, 2)))\n",
    "model_21.add(layers.Conv2D(32, (3, 3), activation='relu', kernel_initializer='he_uniform'))\n",
    "model_21.add(layers.MaxPooling2D(pool_size=(2, 2), strides=(2, 2)))\n",
    "model_21.add(Dropout(0.75))\n",
    "model_21.add(layers.Flatten())\n",
    "model_21.add(layers.Dense(64, activation='relu', kernel_initializer='he_uniform'))\n",
    "model_21.add(Dropout(0.75))\n",
    "model_21.add(layers.Dense(32, activation='relu', kernel_initializer='he_uniform'))\n",
    "model_21.add(Dropout(0.75))\n",
    "model_21.add(layers.Dense(10, activation='softmax'))"
   ]
  },
  {
   "cell_type": "code",
   "execution_count": 50,
   "id": "y-kbmEKuTGeN",
   "metadata": {
    "colab": {
     "base_uri": "https://localhost:8080/"
    },
    "id": "y-kbmEKuTGeN",
    "outputId": "0cfb7dd6-7997-43d7-d3bb-aed6ad0e0eda"
   },
   "outputs": [
    {
     "name": "stdout",
     "output_type": "stream",
     "text": [
      "Epoch 1/20\n",
      "1594/1594 [==============================] - 33s 20ms/step - loss: 2.2771 - accuracy: 0.1328 - val_loss: 2.1170 - val_accuracy: 0.3033\n",
      "Epoch 2/20\n",
      "1594/1594 [==============================] - 33s 21ms/step - loss: 2.0881 - accuracy: 0.2293 - val_loss: 1.7329 - val_accuracy: 0.5182\n",
      "Epoch 3/20\n",
      "1594/1594 [==============================] - 31s 20ms/step - loss: 1.9132 - accuracy: 0.3047 - val_loss: 1.3778 - val_accuracy: 0.5361\n",
      "Epoch 4/20\n",
      "1594/1594 [==============================] - 32s 20ms/step - loss: 1.7589 - accuracy: 0.3626 - val_loss: 1.2273 - val_accuracy: 0.5953\n",
      "Epoch 5/20\n",
      "1594/1594 [==============================] - 31s 19ms/step - loss: 1.6701 - accuracy: 0.3981 - val_loss: 1.0783 - val_accuracy: 0.6412\n",
      "Epoch 6/20\n",
      "1594/1594 [==============================] - 31s 20ms/step - loss: 1.6012 - accuracy: 0.4239 - val_loss: 0.9815 - val_accuracy: 0.6491\n",
      "Epoch 7/20\n",
      "1594/1594 [==============================] - 30s 19ms/step - loss: 1.5379 - accuracy: 0.4532 - val_loss: 0.9224 - val_accuracy: 0.6924\n",
      "Epoch 8/20\n",
      "1594/1594 [==============================] - 30s 19ms/step - loss: 1.4667 - accuracy: 0.4759 - val_loss: 0.8190 - val_accuracy: 0.7393\n",
      "Epoch 9/20\n",
      "1594/1594 [==============================] - 32s 20ms/step - loss: 1.4426 - accuracy: 0.4843 - val_loss: 0.8251 - val_accuracy: 0.6663\n",
      "Epoch 10/20\n",
      "1594/1594 [==============================] - 33s 21ms/step - loss: 1.3944 - accuracy: 0.4991 - val_loss: 0.8095 - val_accuracy: 0.6850\n",
      "Epoch 11/20\n",
      "1594/1594 [==============================] - 32s 20ms/step - loss: 1.3863 - accuracy: 0.5047 - val_loss: 0.7954 - val_accuracy: 0.7414\n",
      "Epoch 12/20\n",
      "1594/1594 [==============================] - 31s 19ms/step - loss: 1.3951 - accuracy: 0.5031 - val_loss: 0.7714 - val_accuracy: 0.7197\n",
      "Epoch 13/20\n",
      "1594/1594 [==============================] - 31s 20ms/step - loss: 1.3518 - accuracy: 0.5151 - val_loss: 0.7631 - val_accuracy: 0.7340\n",
      "Epoch 14/20\n",
      "1594/1594 [==============================] - 31s 19ms/step - loss: 1.3613 - accuracy: 0.5174 - val_loss: 0.8260 - val_accuracy: 0.7324\n",
      "Epoch 15/20\n",
      "1594/1594 [==============================] - 32s 20ms/step - loss: 1.3762 - accuracy: 0.5125 - val_loss: 0.7608 - val_accuracy: 0.7428\n",
      "Epoch 16/20\n",
      "1594/1594 [==============================] - 30s 19ms/step - loss: 1.3657 - accuracy: 0.5197 - val_loss: 0.7650 - val_accuracy: 0.6736\n",
      "Epoch 17/20\n",
      "1594/1594 [==============================] - 29s 18ms/step - loss: 1.3802 - accuracy: 0.5136 - val_loss: 0.7377 - val_accuracy: 0.7189\n",
      "Epoch 18/20\n",
      "1594/1594 [==============================] - 26s 17ms/step - loss: 1.3559 - accuracy: 0.5236 - val_loss: 0.7285 - val_accuracy: 0.7286\n",
      "Epoch 19/20\n",
      "1594/1594 [==============================] - 23s 14ms/step - loss: 1.3603 - accuracy: 0.5209 - val_loss: 0.8579 - val_accuracy: 0.7199\n",
      "Epoch 20/20\n",
      "1594/1594 [==============================] - 25s 16ms/step - loss: 1.4008 - accuracy: 0.5111 - val_loss: 0.8414 - val_accuracy: 0.7243\n"
     ]
    }
   ],
   "source": [
    "opt_3 = optimizers.SGD(learning_rate=0.01, momentum=0.9)\n",
    "model_21.compile(optimizer=opt_3, loss='categorical_crossentropy', metrics=['accuracy'])\n",
    "model_21_history = model_21.fit(X_train, y_train, epochs=20, batch_size=32, shuffle=True,validation_data=(X_val, y_val), verbose=1)\n",
    "saved_models.append(model_21)\n",
    "histories.append(model_21_history)"
   ]
  },
  {
   "cell_type": "code",
   "execution_count": 51,
   "id": "h9lWSGQ5TGTO",
   "metadata": {
    "colab": {
     "base_uri": "https://localhost:8080/"
    },
    "id": "h9lWSGQ5TGTO",
    "outputId": "fc2154c8-3b65-4a0e-96cc-60201ac5402d"
   },
   "outputs": [
    {
     "name": "stdout",
     "output_type": "stream",
     "text": [
      "313/313 [==============================] - 1s 4ms/step - loss: 0.2870 - accuracy: 0.9167\n",
      "313/313 [==============================] - 1s 3ms/step - loss: 0.2247 - accuracy: 0.9376\n",
      "313/313 [==============================] - 1s 3ms/step - loss: 0.1935 - accuracy: 0.9448\n",
      "313/313 [==============================] - 1s 3ms/step - loss: 0.1367 - accuracy: 0.9823\n",
      "313/313 [==============================] - 1s 3ms/step - loss: 0.0426 - accuracy: 0.9870\n",
      "313/313 [==============================] - 1s 3ms/step - loss: 0.0374 - accuracy: 0.9901\n",
      "313/313 [==============================] - 2s 5ms/step - loss: 0.0330 - accuracy: 0.9929\n",
      "313/313 [==============================] - 1s 2ms/step - loss: 0.1111 - accuracy: 0.9738\n",
      "313/313 [==============================] - 2s 5ms/step - loss: 0.0448 - accuracy: 0.9902\n",
      "313/313 [==============================] - 3s 9ms/step - loss: 0.0675 - accuracy: 0.9843\n",
      "313/313 [==============================] - 1s 5ms/step - loss: 0.0462 - accuracy: 0.9911\n",
      "313/313 [==============================] - 1s 4ms/step - loss: 0.0374 - accuracy: 0.9914\n",
      "313/313 [==============================] - 2s 5ms/step - loss: 0.0505 - accuracy: 0.9837\n",
      "313/313 [==============================] - 1s 5ms/step - loss: 0.0355 - accuracy: 0.9921\n",
      "313/313 [==============================] - 2s 5ms/step - loss: 0.0410 - accuracy: 0.9908\n",
      "313/313 [==============================] - 2s 5ms/step - loss: 0.1011 - accuracy: 0.9821\n",
      "313/313 [==============================] - 1s 5ms/step - loss: 0.2136 - accuracy: 0.9448\n",
      "313/313 [==============================] - 2s 5ms/step - loss: 0.0394 - accuracy: 0.9917\n",
      "313/313 [==============================] - 1s 4ms/step - loss: 0.0335 - accuracy: 0.9909\n",
      "313/313 [==============================] - 1s 5ms/step - loss: 0.2579 - accuracy: 0.9642\n",
      "313/313 [==============================] - 1s 4ms/step - loss: 0.8199 - accuracy: 0.7335\n",
      "model: 7 accuracy: 99.29 %\n"
     ]
    }
   ],
   "source": [
    "best_model, best_model_idx = evaluate_model(saved_models, X_test, y_test)"
   ]
  },
  {
   "cell_type": "markdown",
   "id": "cnDDr4SkRNxI",
   "metadata": {
    "id": "cnDDr4SkRNxI"
   },
   "source": [
    "# Models Summary"
   ]
  },
  {
   "cell_type": "code",
   "execution_count": 52,
   "id": "Duzy_6BTi4ca",
   "metadata": {
    "colab": {
     "base_uri": "https://localhost:8080/"
    },
    "id": "Duzy_6BTi4ca",
    "outputId": "dfd8420e-49f1-48d2-f35e-fec02891f9d0"
   },
   "outputs": [
    {
     "name": "stdout",
     "output_type": "stream",
     "text": [
      "model: 1\n",
      "Model: \"sequential\"\n",
      "_________________________________________________________________\n",
      " Layer (type)                Output Shape              Param #   \n",
      "=================================================================\n",
      " conv2d (Conv2D)             (None, 12, 12, 64)        1664      \n",
      "                                                                 \n",
      " max_pooling2d (MaxPooling2D  (None, 6, 6, 64)         0         \n",
      " )                                                               \n",
      "                                                                 \n",
      " flatten (Flatten)           (None, 2304)              0         \n",
      "                                                                 \n",
      " dense (Dense)               (None, 64)                147520    \n",
      "                                                                 \n",
      " dense_1 (Dense)             (None, 10)                650       \n",
      "                                                                 \n",
      "=================================================================\n",
      "Total params: 149,834\n",
      "Trainable params: 149,834\n",
      "Non-trainable params: 0\n",
      "_________________________________________________________________\n",
      "model: 2\n",
      "Model: \"sequential\"\n",
      "_________________________________________________________________\n",
      " Layer (type)                Output Shape              Param #   \n",
      "=================================================================\n",
      " conv2d (Conv2D)             (None, 12, 12, 64)        1664      \n",
      "                                                                 \n",
      " max_pooling2d (MaxPooling2D  (None, 6, 6, 64)         0         \n",
      " )                                                               \n",
      "                                                                 \n",
      " flatten (Flatten)           (None, 2304)              0         \n",
      "                                                                 \n",
      " dense (Dense)               (None, 64)                147520    \n",
      "                                                                 \n",
      " dense_1 (Dense)             (None, 10)                650       \n",
      "                                                                 \n",
      "=================================================================\n",
      "Total params: 149,834\n",
      "Trainable params: 149,834\n",
      "Non-trainable params: 0\n",
      "_________________________________________________________________\n",
      "model: 3\n",
      "Model: \"sequential\"\n",
      "_________________________________________________________________\n",
      " Layer (type)                Output Shape              Param #   \n",
      "=================================================================\n",
      " conv2d (Conv2D)             (None, 12, 12, 64)        1664      \n",
      "                                                                 \n",
      " max_pooling2d (MaxPooling2D  (None, 6, 6, 64)         0         \n",
      " )                                                               \n",
      "                                                                 \n",
      " flatten (Flatten)           (None, 2304)              0         \n",
      "                                                                 \n",
      " dense (Dense)               (None, 64)                147520    \n",
      "                                                                 \n",
      " dense_1 (Dense)             (None, 10)                650       \n",
      "                                                                 \n",
      "=================================================================\n",
      "Total params: 149,834\n",
      "Trainable params: 149,834\n",
      "Non-trainable params: 0\n",
      "_________________________________________________________________\n",
      "model: 4\n",
      "Model: \"sequential\"\n",
      "_________________________________________________________________\n",
      " Layer (type)                Output Shape              Param #   \n",
      "=================================================================\n",
      " conv2d (Conv2D)             (None, 12, 12, 64)        1664      \n",
      "                                                                 \n",
      " max_pooling2d (MaxPooling2D  (None, 6, 6, 64)         0         \n",
      " )                                                               \n",
      "                                                                 \n",
      " flatten (Flatten)           (None, 2304)              0         \n",
      "                                                                 \n",
      " dense (Dense)               (None, 64)                147520    \n",
      "                                                                 \n",
      " dense_1 (Dense)             (None, 10)                650       \n",
      "                                                                 \n",
      "=================================================================\n",
      "Total params: 149,834\n",
      "Trainable params: 149,834\n",
      "Non-trainable params: 0\n",
      "_________________________________________________________________\n",
      "model: 5\n",
      "Model: \"sequential\"\n",
      "_________________________________________________________________\n",
      " Layer (type)                Output Shape              Param #   \n",
      "=================================================================\n",
      " conv2d (Conv2D)             (None, 12, 12, 64)        1664      \n",
      "                                                                 \n",
      " max_pooling2d (MaxPooling2D  (None, 6, 6, 64)         0         \n",
      " )                                                               \n",
      "                                                                 \n",
      " flatten (Flatten)           (None, 2304)              0         \n",
      "                                                                 \n",
      " dense (Dense)               (None, 64)                147520    \n",
      "                                                                 \n",
      " dense_1 (Dense)             (None, 10)                650       \n",
      "                                                                 \n",
      "=================================================================\n",
      "Total params: 149,834\n",
      "Trainable params: 149,834\n",
      "Non-trainable params: 0\n",
      "_________________________________________________________________\n",
      "model: 6\n",
      "Model: \"sequential\"\n",
      "_________________________________________________________________\n",
      " Layer (type)                Output Shape              Param #   \n",
      "=================================================================\n",
      " conv2d (Conv2D)             (None, 12, 12, 64)        1664      \n",
      "                                                                 \n",
      " max_pooling2d (MaxPooling2D  (None, 6, 6, 64)         0         \n",
      " )                                                               \n",
      "                                                                 \n",
      " flatten (Flatten)           (None, 2304)              0         \n",
      "                                                                 \n",
      " dense (Dense)               (None, 64)                147520    \n",
      "                                                                 \n",
      " dense_1 (Dense)             (None, 10)                650       \n",
      "                                                                 \n",
      "=================================================================\n",
      "Total params: 149,834\n",
      "Trainable params: 149,834\n",
      "Non-trainable params: 0\n",
      "_________________________________________________________________\n",
      "model: 7\n",
      "Model: \"sequential_1\"\n",
      "_________________________________________________________________\n",
      " Layer (type)                Output Shape              Param #   \n",
      "=================================================================\n",
      " conv2d_1 (Conv2D)           (None, 26, 26, 32)        320       \n",
      "                                                                 \n",
      " max_pooling2d_1 (MaxPooling  (None, 13, 13, 32)       0         \n",
      " 2D)                                                             \n",
      "                                                                 \n",
      " conv2d_2 (Conv2D)           (None, 11, 11, 32)        9248      \n",
      "                                                                 \n",
      " max_pooling2d_2 (MaxPooling  (None, 5, 5, 32)         0         \n",
      " 2D)                                                             \n",
      "                                                                 \n",
      " flatten_1 (Flatten)         (None, 800)               0         \n",
      "                                                                 \n",
      " dense_2 (Dense)             (None, 64)                51264     \n",
      "                                                                 \n",
      " dense_3 (Dense)             (None, 32)                2080      \n",
      "                                                                 \n"
     ]
    },
    {
     "name": "stdout",
     "output_type": "stream",
     "text": [
      " dense_4 (Dense)             (None, 10)                330       \n",
      "                                                                 \n",
      "=================================================================\n",
      "Total params: 63,242\n",
      "Trainable params: 63,242\n",
      "Non-trainable params: 0\n",
      "_________________________________________________________________\n",
      "model: 8\n",
      "Model: \"sequential_2\"\n",
      "_________________________________________________________________\n",
      " Layer (type)                Output Shape              Param #   \n",
      "=================================================================\n",
      " conv2d_3 (Conv2D)           (None, 13, 13, 16)        160       \n",
      "                                                                 \n",
      " max_pooling2d_3 (MaxPooling  (None, 6, 6, 16)         0         \n",
      " 2D)                                                             \n",
      "                                                                 \n",
      " conv2d_4 (Conv2D)           (None, 2, 2, 32)          4640      \n",
      "                                                                 \n",
      " max_pooling2d_4 (MaxPooling  (None, 1, 1, 32)         0         \n",
      " 2D)                                                             \n",
      "                                                                 \n",
      " flatten_2 (Flatten)         (None, 32)                0         \n",
      "                                                                 \n",
      " dense_5 (Dense)             (None, 64)                2112      \n",
      "                                                                 \n",
      " dense_6 (Dense)             (None, 32)                2080      \n",
      "                                                                 \n",
      " dense_7 (Dense)             (None, 10)                330       \n",
      "                                                                 \n",
      "=================================================================\n",
      "Total params: 9,322\n",
      "Trainable params: 9,322\n",
      "Non-trainable params: 0\n",
      "_________________________________________________________________\n",
      "model: 9\n",
      "Model: \"sequential_3\"\n",
      "_________________________________________________________________\n",
      " Layer (type)                Output Shape              Param #   \n",
      "=================================================================\n",
      " conv2d_5 (Conv2D)           (None, 26, 26, 32)        320       \n",
      "                                                                 \n",
      " max_pooling2d_5 (MaxPooling  (None, 13, 13, 32)       0         \n",
      " 2D)                                                             \n",
      "                                                                 \n",
      " conv2d_6 (Conv2D)           (None, 9, 9, 32)          25632     \n",
      "                                                                 \n",
      " max_pooling2d_6 (MaxPooling  (None, 4, 4, 32)         0         \n",
      " 2D)                                                             \n",
      "                                                                 \n",
      " flatten_3 (Flatten)         (None, 512)               0         \n",
      "                                                                 \n",
      " dense_8 (Dense)             (None, 32)                16416     \n",
      "                                                                 \n",
      " dense_9 (Dense)             (None, 10)                330       \n",
      "                                                                 \n",
      "=================================================================\n",
      "Total params: 42,698\n",
      "Trainable params: 42,698\n",
      "Non-trainable params: 0\n",
      "_________________________________________________________________\n",
      "model: 10\n",
      "Model: \"sequential_4\"\n",
      "_________________________________________________________________\n",
      " Layer (type)                Output Shape              Param #   \n",
      "=================================================================\n",
      " conv2d_7 (Conv2D)           (None, 26, 26, 128)       1280      \n",
      "                                                                 \n",
      " max_pooling2d_7 (MaxPooling  (None, 13, 13, 128)      0         \n",
      " 2D)                                                             \n",
      "                                                                 \n",
      " flatten_4 (Flatten)         (None, 21632)             0         \n",
      "                                                                 \n",
      " dense_10 (Dense)            (None, 32)                692256    \n",
      "                                                                 \n",
      " dense_11 (Dense)            (None, 10)                330       \n",
      "                                                                 \n",
      "=================================================================\n",
      "Total params: 693,866\n",
      "Trainable params: 693,866\n",
      "Non-trainable params: 0\n",
      "_________________________________________________________________\n",
      "model: 11\n",
      "Model: \"sequential_1\"\n",
      "_________________________________________________________________\n",
      " Layer (type)                Output Shape              Param #   \n",
      "=================================================================\n",
      " conv2d_1 (Conv2D)           (None, 26, 26, 32)        320       \n",
      "                                                                 \n",
      " max_pooling2d_1 (MaxPooling  (None, 13, 13, 32)       0         \n",
      " 2D)                                                             \n",
      "                                                                 \n",
      " conv2d_2 (Conv2D)           (None, 11, 11, 32)        9248      \n",
      "                                                                 \n",
      " max_pooling2d_2 (MaxPooling  (None, 5, 5, 32)         0         \n",
      " 2D)                                                             \n",
      "                                                                 \n",
      " flatten_1 (Flatten)         (None, 800)               0         \n",
      "                                                                 \n",
      " dense_2 (Dense)             (None, 64)                51264     \n",
      "                                                                 \n",
      " dense_3 (Dense)             (None, 32)                2080      \n",
      "                                                                 \n",
      " dense_4 (Dense)             (None, 10)                330       \n",
      "                                                                 \n",
      "=================================================================\n",
      "Total params: 63,242\n",
      "Trainable params: 63,242\n",
      "Non-trainable params: 0\n",
      "_________________________________________________________________\n",
      "model: 12\n",
      "Model: \"sequential_1\"\n",
      "_________________________________________________________________\n",
      " Layer (type)                Output Shape              Param #   \n",
      "=================================================================\n",
      " conv2d_1 (Conv2D)           (None, 26, 26, 32)        320       \n",
      "                                                                 \n",
      " max_pooling2d_1 (MaxPooling  (None, 13, 13, 32)       0         \n",
      " 2D)                                                             \n",
      "                                                                 \n",
      " conv2d_2 (Conv2D)           (None, 11, 11, 32)        9248      \n",
      "                                                                 \n",
      " max_pooling2d_2 (MaxPooling  (None, 5, 5, 32)         0         \n",
      " 2D)                                                             \n",
      "                                                                 \n",
      " flatten_1 (Flatten)         (None, 800)               0         \n",
      "                                                                 \n",
      " dense_2 (Dense)             (None, 64)                51264     \n",
      "                                                                 \n",
      " dense_3 (Dense)             (None, 32)                2080      \n",
      "                                                                 \n",
      " dense_4 (Dense)             (None, 10)                330       \n",
      "                                                                 \n",
      "=================================================================\n",
      "Total params: 63,242\n",
      "Trainable params: 63,242\n",
      "Non-trainable params: 0\n",
      "_________________________________________________________________\n",
      "model: 13\n",
      "Model: \"sequential_5\"\n",
      "_________________________________________________________________\n",
      " Layer (type)                Output Shape              Param #   \n",
      "=================================================================\n",
      " conv2d_8 (Conv2D)           (None, 26, 26, 32)        320       \n",
      "                                                                 \n"
     ]
    },
    {
     "name": "stdout",
     "output_type": "stream",
     "text": [
      " max_pooling2d_8 (MaxPooling  (None, 13, 13, 32)       0         \n",
      " 2D)                                                             \n",
      "                                                                 \n",
      " conv2d_9 (Conv2D)           (None, 11, 11, 32)        9248      \n",
      "                                                                 \n",
      " max_pooling2d_9 (MaxPooling  (None, 5, 5, 32)         0         \n",
      " 2D)                                                             \n",
      "                                                                 \n",
      " flatten_5 (Flatten)         (None, 800)               0         \n",
      "                                                                 \n",
      " dense_12 (Dense)            (None, 64)                51264     \n",
      "                                                                 \n",
      " dense_13 (Dense)            (None, 32)                2080      \n",
      "                                                                 \n",
      " dense_14 (Dense)            (None, 10)                330       \n",
      "                                                                 \n",
      "=================================================================\n",
      "Total params: 63,242\n",
      "Trainable params: 63,242\n",
      "Non-trainable params: 0\n",
      "_________________________________________________________________\n",
      "model: 14\n",
      "Model: \"sequential_6\"\n",
      "_________________________________________________________________\n",
      " Layer (type)                Output Shape              Param #   \n",
      "=================================================================\n",
      " conv2d_10 (Conv2D)          (None, 26, 26, 32)        320       \n",
      "                                                                 \n",
      " max_pooling2d_10 (MaxPoolin  (None, 13, 13, 32)       0         \n",
      " g2D)                                                            \n",
      "                                                                 \n",
      " conv2d_11 (Conv2D)          (None, 11, 11, 32)        9248      \n",
      "                                                                 \n",
      " max_pooling2d_11 (MaxPoolin  (None, 5, 5, 32)         0         \n",
      " g2D)                                                            \n",
      "                                                                 \n",
      " flatten_6 (Flatten)         (None, 800)               0         \n",
      "                                                                 \n",
      " dense_15 (Dense)            (None, 64)                51264     \n",
      "                                                                 \n",
      " dense_16 (Dense)            (None, 32)                2080      \n",
      "                                                                 \n",
      " dense_17 (Dense)            (None, 10)                330       \n",
      "                                                                 \n",
      "=================================================================\n",
      "Total params: 63,242\n",
      "Trainable params: 63,242\n",
      "Non-trainable params: 0\n",
      "_________________________________________________________________\n",
      "model: 15\n",
      "Model: \"sequential_7\"\n",
      "_________________________________________________________________\n",
      " Layer (type)                Output Shape              Param #   \n",
      "=================================================================\n",
      " conv2d_12 (Conv2D)          (None, 26, 26, 32)        320       \n",
      "                                                                 \n",
      " leaky_re_lu (LeakyReLU)     (None, 26, 26, 32)        0         \n",
      "                                                                 \n",
      " max_pooling2d_12 (MaxPoolin  (None, 13, 13, 32)       0         \n",
      " g2D)                                                            \n",
      "                                                                 \n",
      " conv2d_13 (Conv2D)          (None, 11, 11, 32)        9248      \n",
      "                                                                 \n",
      " leaky_re_lu_1 (LeakyReLU)   (None, 11, 11, 32)        0         \n",
      "                                                                 \n",
      " max_pooling2d_13 (MaxPoolin  (None, 5, 5, 32)         0         \n",
      " g2D)                                                            \n",
      "                                                                 \n",
      " flatten_7 (Flatten)         (None, 800)               0         \n",
      "                                                                 \n",
      " dense_18 (Dense)            (None, 64)                51264     \n",
      "                                                                 \n",
      " leaky_re_lu_2 (LeakyReLU)   (None, 64)                0         \n",
      "                                                                 \n",
      " dense_19 (Dense)            (None, 32)                2080      \n",
      "                                                                 \n",
      " leaky_re_lu_3 (LeakyReLU)   (None, 32)                0         \n",
      "                                                                 \n",
      " dense_20 (Dense)            (None, 10)                330       \n",
      "                                                                 \n",
      "=================================================================\n",
      "Total params: 63,242\n",
      "Trainable params: 63,242\n",
      "Non-trainable params: 0\n",
      "_________________________________________________________________\n",
      "model: 16\n",
      "Model: \"sequential_1\"\n",
      "_________________________________________________________________\n",
      " Layer (type)                Output Shape              Param #   \n",
      "=================================================================\n",
      " conv2d_1 (Conv2D)           (None, 26, 26, 32)        320       \n",
      "                                                                 \n",
      " max_pooling2d_1 (MaxPooling  (None, 13, 13, 32)       0         \n",
      " 2D)                                                             \n",
      "                                                                 \n",
      " conv2d_2 (Conv2D)           (None, 11, 11, 32)        9248      \n",
      "                                                                 \n",
      " max_pooling2d_2 (MaxPooling  (None, 5, 5, 32)         0         \n",
      " 2D)                                                             \n",
      "                                                                 \n",
      " flatten_1 (Flatten)         (None, 800)               0         \n",
      "                                                                 \n",
      " dense_2 (Dense)             (None, 64)                51264     \n",
      "                                                                 \n",
      " dense_3 (Dense)             (None, 32)                2080      \n",
      "                                                                 \n",
      " dense_4 (Dense)             (None, 10)                330       \n",
      "                                                                 \n",
      "=================================================================\n",
      "Total params: 63,242\n",
      "Trainable params: 63,242\n",
      "Non-trainable params: 0\n",
      "_________________________________________________________________\n",
      "model: 17\n",
      "Model: \"sequential_1\"\n",
      "_________________________________________________________________\n",
      " Layer (type)                Output Shape              Param #   \n",
      "=================================================================\n",
      " conv2d_1 (Conv2D)           (None, 26, 26, 32)        320       \n",
      "                                                                 \n",
      " max_pooling2d_1 (MaxPooling  (None, 13, 13, 32)       0         \n",
      " 2D)                                                             \n",
      "                                                                 \n",
      " conv2d_2 (Conv2D)           (None, 11, 11, 32)        9248      \n",
      "                                                                 \n",
      " max_pooling2d_2 (MaxPooling  (None, 5, 5, 32)         0         \n",
      " 2D)                                                             \n",
      "                                                                 \n",
      " flatten_1 (Flatten)         (None, 800)               0         \n",
      "                                                                 \n",
      " dense_2 (Dense)             (None, 64)                51264     \n",
      "                                                                 \n",
      " dense_3 (Dense)             (None, 32)                2080      \n",
      "                                                                 \n",
      " dense_4 (Dense)             (None, 10)                330       \n",
      "                                                                 \n",
      "=================================================================\n",
      "Total params: 63,242\n",
      "Trainable params: 63,242\n",
      "Non-trainable params: 0\n"
     ]
    },
    {
     "name": "stdout",
     "output_type": "stream",
     "text": [
      "_________________________________________________________________\n",
      "model: 18\n",
      "Model: \"sequential_8\"\n",
      "_________________________________________________________________\n",
      " Layer (type)                Output Shape              Param #   \n",
      "=================================================================\n",
      " conv2d_14 (Conv2D)          (None, 26, 26, 32)        320       \n",
      "                                                                 \n",
      " max_pooling2d_14 (MaxPoolin  (None, 13, 13, 32)       0         \n",
      " g2D)                                                            \n",
      "                                                                 \n",
      " conv2d_15 (Conv2D)          (None, 11, 11, 32)        9248      \n",
      "                                                                 \n",
      " max_pooling2d_15 (MaxPoolin  (None, 5, 5, 32)         0         \n",
      " g2D)                                                            \n",
      "                                                                 \n",
      " flatten_8 (Flatten)         (None, 800)               0         \n",
      "                                                                 \n",
      " dense_21 (Dense)            (None, 64)                51264     \n",
      "                                                                 \n",
      " dense_22 (Dense)            (None, 32)                2080      \n",
      "                                                                 \n",
      " dense_23 (Dense)            (None, 10)                330       \n",
      "                                                                 \n",
      "=================================================================\n",
      "Total params: 63,242\n",
      "Trainable params: 63,242\n",
      "Non-trainable params: 0\n",
      "_________________________________________________________________\n",
      "model: 19\n",
      "Model: \"sequential_9\"\n",
      "_________________________________________________________________\n",
      " Layer (type)                Output Shape              Param #   \n",
      "=================================================================\n",
      " conv2d_16 (Conv2D)          (None, 26, 26, 32)        320       \n",
      "                                                                 \n",
      " max_pooling2d_16 (MaxPoolin  (None, 13, 13, 32)       0         \n",
      " g2D)                                                            \n",
      "                                                                 \n",
      " conv2d_17 (Conv2D)          (None, 11, 11, 32)        9248      \n",
      "                                                                 \n",
      " max_pooling2d_17 (MaxPoolin  (None, 5, 5, 32)         0         \n",
      " g2D)                                                            \n",
      "                                                                 \n",
      " dropout_2 (Dropout)         (None, 5, 5, 32)          0         \n",
      "                                                                 \n",
      " flatten_9 (Flatten)         (None, 800)               0         \n",
      "                                                                 \n",
      " dense_24 (Dense)            (None, 64)                51264     \n",
      "                                                                 \n",
      " dropout_3 (Dropout)         (None, 64)                0         \n",
      "                                                                 \n",
      " dense_25 (Dense)            (None, 32)                2080      \n",
      "                                                                 \n",
      " dropout_4 (Dropout)         (None, 32)                0         \n",
      "                                                                 \n",
      " dense_26 (Dense)            (None, 10)                330       \n",
      "                                                                 \n",
      "=================================================================\n",
      "Total params: 63,242\n",
      "Trainable params: 63,242\n",
      "Non-trainable params: 0\n",
      "_________________________________________________________________\n",
      "model: 20\n",
      "Model: \"sequential_10\"\n",
      "_________________________________________________________________\n",
      " Layer (type)                Output Shape              Param #   \n",
      "=================================================================\n",
      " conv2d_18 (Conv2D)          (None, 26, 26, 32)        320       \n",
      "                                                                 \n",
      " max_pooling2d_18 (MaxPoolin  (None, 13, 13, 32)       0         \n",
      " g2D)                                                            \n",
      "                                                                 \n",
      " dropout_5 (Dropout)         (None, 13, 13, 32)        0         \n",
      "                                                                 \n",
      " conv2d_19 (Conv2D)          (None, 11, 11, 32)        9248      \n",
      "                                                                 \n",
      " max_pooling2d_19 (MaxPoolin  (None, 5, 5, 32)         0         \n",
      " g2D)                                                            \n",
      "                                                                 \n",
      " flatten_10 (Flatten)        (None, 800)               0         \n",
      "                                                                 \n",
      " dense_27 (Dense)            (None, 64)                51264     \n",
      "                                                                 \n",
      " dense_28 (Dense)            (None, 32)                2080      \n",
      "                                                                 \n",
      " dropout_6 (Dropout)         (None, 32)                0         \n",
      "                                                                 \n",
      " dense_29 (Dense)            (None, 10)                330       \n",
      "                                                                 \n",
      "=================================================================\n",
      "Total params: 63,242\n",
      "Trainable params: 63,242\n",
      "Non-trainable params: 0\n",
      "_________________________________________________________________\n",
      "model: 21\n",
      "Model: \"sequential_11\"\n",
      "_________________________________________________________________\n",
      " Layer (type)                Output Shape              Param #   \n",
      "=================================================================\n",
      " conv2d_20 (Conv2D)          (None, 26, 26, 32)        320       \n",
      "                                                                 \n",
      " max_pooling2d_20 (MaxPoolin  (None, 13, 13, 32)       0         \n",
      " g2D)                                                            \n",
      "                                                                 \n",
      " conv2d_21 (Conv2D)          (None, 11, 11, 32)        9248      \n",
      "                                                                 \n",
      " max_pooling2d_21 (MaxPoolin  (None, 5, 5, 32)         0         \n",
      " g2D)                                                            \n",
      "                                                                 \n",
      " dropout_7 (Dropout)         (None, 5, 5, 32)          0         \n",
      "                                                                 \n",
      " flatten_11 (Flatten)        (None, 800)               0         \n",
      "                                                                 \n",
      " dense_30 (Dense)            (None, 64)                51264     \n",
      "                                                                 \n",
      " dropout_8 (Dropout)         (None, 64)                0         \n",
      "                                                                 \n",
      " dense_31 (Dense)            (None, 32)                2080      \n",
      "                                                                 \n",
      " dropout_9 (Dropout)         (None, 32)                0         \n",
      "                                                                 \n",
      " dense_32 (Dense)            (None, 10)                330       \n",
      "                                                                 \n",
      "=================================================================\n",
      "Total params: 63,242\n",
      "Trainable params: 63,242\n",
      "Non-trainable params: 0\n",
      "_________________________________________________________________\n"
     ]
    }
   ],
   "source": [
    "summaries(saved_models)"
   ]
  },
  {
   "cell_type": "code",
   "execution_count": 53,
   "id": "10GdxhZwr1kE",
   "metadata": {
    "colab": {
     "base_uri": "https://localhost:8080/",
     "height": 324
    },
    "id": "10GdxhZwr1kE",
    "outputId": "1a37eec7-af75-4049-a7e8-1108b8ce8245"
   },
   "outputs": [
    {
     "data": {
      "image/png": "[encoded data removed]",
      "text/plain": [
       "<Figure size 576x360 with 1 Axes>"
      ]
     },
     "metadata": {
      "needs_background": "light"
     },
     "output_type": "display_data"
    }
   ],
   "source": [
    "import pandas as pd\n",
    "\n",
    "pd.DataFrame(histories[best_model_idx].history).plot(figsize=(8, 5))\n",
    "plt.grid(True)\n",
    "plt.gca().set_ylim(0, 1)\n",
    "\n",
    "plt.show()"
   ]
  },
  {
   "cell_type": "markdown",
   "id": "L2r1-Hq0Wf2z",
   "metadata": {
    "id": "L2r1-Hq0Wf2z"
   },
   "source": [
    "Summary of our best model, model 9 <br>\n",
    "number of epochs is 20 <br>\n",
    "size of batch is 32 <br>\n",
    "stochastic SGD with a learning rate of 0.1 and a momentum of 0.9 <br>\n",
    "we used ReLU as our activation fucntion in all the layers except for the outplut layer wher we used a softmax activation function <br>\n",
    "our architecture is as follow: <br>\n",
    "our first conc layer was 32 filters of size 3x3 followed by a max pool layer <br>\n",
    "the second conv layer is 32 filters of size 5x5 also followed by a max pool layer <br>\n",
    "we chose 1 FC layer consisting of 32 neurons followed by an output layer.\n",
    "\n"
   ]
  }
 ],
 "metadata": {
  "colab": {
   "collapsed_sections": [
    "8_zCodYOt9Kd",
    "oXfn9o7xuijs",
    "3J8hwjmlCxtp",
    "14UIOoXWzq_P",
    "1DOv_IDKZ1-G",
    "pSu91m-_bCB-",
    "MJG73eMssu2y",
    "dF9wUeZKyUrV"
   ],
   "include_colab_link": true,
   "name": "CNN.ipynb",
   "provenance": []
  },
  "kernelspec": {
   "display_name": "Python 3 (ipykernel)",
   "language": "python",
   "name": "python3"
  },
  "language_info": {
   "codemirror_mode": {
    "name": "ipython",
    "version": 3
   },
   "file_extension": ".py",
   "mimetype": "text/x-python",
   "name": "python",
   "nbconvert_exporter": "python",
   "pygments_lexer": "ipython3",
   "version": "3.9.7"
  }
 },
 "nbformat": 4,
 "nbformat_minor": 5
}
