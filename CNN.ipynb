{
 "cells": [
  {
   "cell_type": "markdown",
   "id": "45425864",
   "metadata": {
    "colab_type": "text",
    "id": "view-in-github"
   },
   "source": [
    "<a href=\"https://colab.research.google.com/github/Al-ameen007/CNN/blob/main/CNN.ipynb\" target=\"_parent\"><img src=\"https://colab.research.google.com/assets/colab-badge.svg\" alt=\"Open In Colab\"/></a>"
   ]
  },
  {
   "cell_type": "markdown",
   "id": "8_zCodYOt9Kd",
   "metadata": {
    "id": "8_zCodYOt9Kd"
   },
   "source": [
    "# Importing the data and some preprocessing"
   ]
  },
  {
   "cell_type": "code",
   "execution_count": 1,
   "id": "794a1cd9",
   "metadata": {
    "id": "794a1cd9"
   },
   "outputs": [],
   "source": [
    "import numpy as np\n",
    "from matplotlib import pyplot as plt\n",
    "import tensorflow \n",
    "from tensorflow import keras"
   ]
  },
  {
   "cell_type": "code",
   "execution_count": 2,
   "id": "1fee0949",
   "metadata": {
    "colab": {
     "base_uri": "https://localhost:8080/"
    },
    "id": "1fee0949",
    "outputId": "7c16f338-1b3b-4543-a19a-7a0be61f6d89"
   },
   "outputs": [],
   "source": [
    "from tensorflow.keras.datasets import mnist\n",
    "(X_train, y_train), (X_test, y_test) = mnist.load_data()"
   ]
  },
  {
   "cell_type": "code",
   "execution_count": 3,
   "id": "66db5679",
   "metadata": {
    "id": "66db5679"
   },
   "outputs": [],
   "source": [
    "# Normalizing the data and one-hot encoding the labels\n",
    "from tensorflow.keras.utils import to_categorical\n",
    "X_train = X_train.astype('float32') / 255.0\n",
    "X_test = X_test.astype('float32') / 255.0\n",
    "y_train = to_categorical(y_train)\n",
    "y_test = to_categorical(y_test)"
   ]
  },
  {
   "cell_type": "code",
   "execution_count": 4,
   "id": "c506d3b4",
   "metadata": {
    "id": "c506d3b4"
   },
   "outputs": [],
   "source": [
    "# Splitting the data into training and validation sets as we want to save the test set for the evaluation of the best model\n",
    "from sklearn.model_selection import train_test_split\n",
    "X_train, X_val, y_train, y_val = train_test_split(X_train, y_train, test_size=0.15, random_state=42)"
   ]
  },
  {
   "cell_type": "code",
   "execution_count": 5,
   "id": "24e242ff",
   "metadata": {
    "id": "24e242ff"
   },
   "outputs": [],
   "source": [
    "from keras import models\n",
    "from keras import layers\n",
    "from tensorflow.keras import optimizers"
   ]
  },
  {
   "cell_type": "code",
   "execution_count": 6,
   "id": "w09_wooZP5os",
   "metadata": {
    "id": "w09_wooZP5os"
   },
   "outputs": [],
   "source": [
    "saved_models = []\n",
    "histories = []"
   ]
  },
  {
   "cell_type": "markdown",
   "id": "oXfn9o7xuijs",
   "metadata": {
    "id": "oXfn9o7xuijs"
   },
   "source": [
    "# Base Model"
   ]
  },
  {
   "cell_type": "code",
   "execution_count": 7,
   "id": "46791caf",
   "metadata": {
    "id": "46791caf"
   },
   "outputs": [],
   "source": [
    "model = models.Sequential()\n",
    "model.add(layers.Conv2D(64, (5, 5), strides=(2, 2),activation='relu', kernel_initializer='truncated_normal', input_shape=(28, 28, 1)))\n",
    "model.add(layers.MaxPooling2D(pool_size=(2, 2), strides=(2, 2)))\n",
    "model.add(layers.Flatten())\n",
    "model.add(layers.Dense(64, activation='relu', kernel_initializer='he_uniform'))\n",
    "model.add(layers.Dense(10, activation='softmax'))"
   ]
  },
  {
   "cell_type": "code",
   "execution_count": 8,
   "id": "o2qwrmHo8erm",
   "metadata": {
    "id": "o2qwrmHo8erm"
   },
   "outputs": [],
   "source": [
    "opt = optimizers.SGD(learning_rate=0.0001, momentum=0.9)\n",
    "opt_1 = optimizers.SGD(learning_rate=0.05, momentum=0.9)\n",
    "opt_2 = optimizers.SGD(learning_rate=0.001, momentum=0.9)\n",
    "opt_3 = optimizers.SGD(learning_rate=0.01, momentum=0.9)\n",
    "opt_4 = optimizers.Adam(learning_rate=0.01, beta_1=0.9, beta_2=0.999)\n",
    "opt_5 = optimizers.RMSprop(learning_rate=0.01, rho=0.9, momentum=0.1,)"
   ]
  },
  {
   "cell_type": "code",
   "execution_count": 9,
   "id": "YB5JmuuzDpiU",
   "metadata": {
    "id": "YB5JmuuzDpiU"
   },
   "outputs": [],
   "source": [
    "def evaluate_model(saved_models, X, y):\n",
    "  best_model, best_model_idx = saved_models[0], 0\n",
    "  best_accuracy= (best_model.evaluate(X, y, verbose=1))[1]\n",
    "  for i in range(1, len(saved_models)):\n",
    "    loss, acc = saved_models[i].evaluate(X, y, verbose=1)\n",
    "    if acc > best_accuracy:\n",
    "      best_model, best_model_idx , best_accuracy= saved_models[i], i, acc\n",
    "  print('model: ' + str(best_model_idx + 1), 'accuracy: ' + str('%.2f'%(best_accuracy * 100) + ' %'))\n",
    "  return best_model, best_model_idx"
   ]
  },
  {
   "cell_type": "code",
   "execution_count": 10,
   "id": "DTy9l7jbaR3u",
   "metadata": {
    "id": "DTy9l7jbaR3u"
   },
   "outputs": [],
   "source": [
    "def summaries(saved_models):\n",
    "  for i in range(0, len(saved_models)):\n",
    "    print('model: ' + str(i + 1))\n",
    "    saved_models[i].summary()"
   ]
  },
  {
   "cell_type": "markdown",
   "id": "3J8hwjmlCxtp",
   "metadata": {
    "id": "3J8hwjmlCxtp"
   },
   "source": [
    "# Trying differnt number of epochs"
   ]
  },
  {
   "cell_type": "code",
   "execution_count": 11,
   "id": "3JLhPzqhC-v7",
   "metadata": {
    "colab": {
     "base_uri": "https://localhost:8080/"
    },
    "id": "3JLhPzqhC-v7",
    "outputId": "b6547917-246c-4e9a-b678-a72312ddd9ea"
   },
   "outputs": [
    {
     "name": "stdout",
     "output_type": "stream",
     "text": [
      "Epoch 1/10\n",
      "1594/1594 [==============================] - 10s 5ms/step - loss: 1.9776 - accuracy: 0.4910 - val_loss: 1.4860 - val_accuracy: 0.7171\n",
      "Epoch 2/10\n",
      "1594/1594 [==============================] - 9s 6ms/step - loss: 0.9953 - accuracy: 0.7866 - val_loss: 0.6861 - val_accuracy: 0.8358\n",
      "Epoch 3/10\n",
      "1594/1594 [==============================] - 11s 7ms/step - loss: 0.5734 - accuracy: 0.8531 - val_loss: 0.4906 - val_accuracy: 0.8727\n",
      "Epoch 4/10\n",
      "1594/1594 [==============================] - 9s 6ms/step - loss: 0.4518 - accuracy: 0.8781 - val_loss: 0.4111 - val_accuracy: 0.8893\n",
      "Epoch 5/10\n",
      "1594/1594 [==============================] - 8s 5ms/step - loss: 0.3943 - accuracy: 0.8904 - val_loss: 0.3665 - val_accuracy: 0.8981\n",
      "Epoch 6/10\n",
      "1594/1594 [==============================] - 9s 6ms/step - loss: 0.3594 - accuracy: 0.8983 - val_loss: 0.3379 - val_accuracy: 0.9044\n",
      "Epoch 7/10\n",
      "1594/1594 [==============================] - 10s 6ms/step - loss: 0.3346 - accuracy: 0.9042 - val_loss: 0.3160 - val_accuracy: 0.9083\n",
      "Epoch 8/10\n",
      "1594/1594 [==============================] - 10s 6ms/step - loss: 0.3145 - accuracy: 0.9103 - val_loss: 0.2978 - val_accuracy: 0.9158\n",
      "Epoch 9/10\n",
      "1594/1594 [==============================] - 9s 6ms/step - loss: 0.2980 - accuracy: 0.9141 - val_loss: 0.2832 - val_accuracy: 0.9169\n",
      "Epoch 10/10\n",
      "1594/1594 [==============================] - 10s 6ms/step - loss: 0.2843 - accuracy: 0.9180 - val_loss: 0.2691 - val_accuracy: 0.9217\n"
     ]
    }
   ],
   "source": [
    "model_1 = keras.models.clone_model(model)\n",
    "model_1.compile(optimizer=opt, loss='categorical_crossentropy', metrics=['accuracy'])\n",
    "model_1_history = model_1.fit(X_train, y_train, epochs=10, batch_size=32, shuffle=True,validation_data=(X_val, y_val), verbose=1)\n",
    "saved_models.append(model_1)\n",
    "histories.append(model_1_history)"
   ]
  },
  {
   "cell_type": "code",
   "execution_count": 12,
   "id": "32hYEF52DLGJ",
   "metadata": {
    "colab": {
     "base_uri": "https://localhost:8080/"
    },
    "id": "32hYEF52DLGJ",
    "outputId": "1957466e-167c-483f-9102-83854d77a5d9"
   },
   "outputs": [
    {
     "name": "stdout",
     "output_type": "stream",
     "text": [
      "Epoch 1/15\n",
      "1594/1594 [==============================] - 11s 6ms/step - loss: 2.1057 - accuracy: 0.4889 - val_loss: 1.7768 - val_accuracy: 0.6504\n",
      "Epoch 2/15\n",
      "1594/1594 [==============================] - 9s 6ms/step - loss: 1.2422 - accuracy: 0.7332 - val_loss: 0.8336 - val_accuracy: 0.8063\n",
      "Epoch 3/15\n",
      "1594/1594 [==============================] - 9s 6ms/step - loss: 0.6603 - accuracy: 0.8338 - val_loss: 0.5512 - val_accuracy: 0.8562\n",
      "Epoch 4/15\n",
      "1594/1594 [==============================] - 9s 6ms/step - loss: 0.4910 - accuracy: 0.8679 - val_loss: 0.4458 - val_accuracy: 0.8814\n",
      "Epoch 5/15\n",
      "1594/1594 [==============================] - 11s 7ms/step - loss: 0.4159 - accuracy: 0.8851 - val_loss: 0.3890 - val_accuracy: 0.8920\n",
      "Epoch 6/15\n",
      "1594/1594 [==============================] - 9s 6ms/step - loss: 0.3721 - accuracy: 0.8951 - val_loss: 0.3519 - val_accuracy: 0.9022\n",
      "Epoch 7/15\n",
      "1594/1594 [==============================] - 9s 6ms/step - loss: 0.3426 - accuracy: 0.9019 - val_loss: 0.3258 - val_accuracy: 0.9100\n",
      "Epoch 8/15\n",
      "1594/1594 [==============================] - 9s 6ms/step - loss: 0.3208 - accuracy: 0.9087 - val_loss: 0.3053 - val_accuracy: 0.9146\n",
      "Epoch 9/15\n",
      "1594/1594 [==============================] - 10s 6ms/step - loss: 0.3030 - accuracy: 0.9135 - val_loss: 0.2890 - val_accuracy: 0.9202\n",
      "Epoch 10/15\n",
      "1594/1594 [==============================] - 9s 5ms/step - loss: 0.2884 - accuracy: 0.9175 - val_loss: 0.2755 - val_accuracy: 0.9244\n",
      "Epoch 11/15\n",
      "1594/1594 [==============================] - 11s 7ms/step - loss: 0.2751 - accuracy: 0.9206 - val_loss: 0.2628 - val_accuracy: 0.9259\n",
      "Epoch 12/15\n",
      "1594/1594 [==============================] - 11s 7ms/step - loss: 0.2639 - accuracy: 0.9240 - val_loss: 0.2526 - val_accuracy: 0.9298\n",
      "Epoch 13/15\n",
      "1594/1594 [==============================] - 10s 6ms/step - loss: 0.2534 - accuracy: 0.9278 - val_loss: 0.2420 - val_accuracy: 0.9317\n",
      "Epoch 14/15\n",
      "1594/1594 [==============================] - 10s 6ms/step - loss: 0.2437 - accuracy: 0.9295 - val_loss: 0.2340 - val_accuracy: 0.9354\n",
      "Epoch 15/15\n",
      "1594/1594 [==============================] - 12s 7ms/step - loss: 0.2347 - accuracy: 0.9325 - val_loss: 0.2261 - val_accuracy: 0.9370\n"
     ]
    }
   ],
   "source": [
    "model_2 = keras.models.clone_model(model)\n",
    "model_2.compile(optimizer=opt, loss='categorical_crossentropy', metrics=['accuracy'])\n",
    "model_2_history = model_2.fit(X_train, y_train, epochs=15, batch_size=32, shuffle=True,validation_data=(X_val, y_val), verbose=1)\n",
    "saved_models.append(model_2)\n",
    "histories.append(model_2_history)"
   ]
  },
  {
   "cell_type": "code",
   "execution_count": 13,
   "id": "Dy6ABdwbDLzB",
   "metadata": {
    "colab": {
     "base_uri": "https://localhost:8080/"
    },
    "id": "Dy6ABdwbDLzB",
    "outputId": "44b96071-e568-4611-d0c4-e945944def6d"
   },
   "outputs": [
    {
     "name": "stdout",
     "output_type": "stream",
     "text": [
      "Epoch 1/20\n",
      "1594/1594 [==============================] - 10s 6ms/step - loss: 2.0464 - accuracy: 0.4906 - val_loss: 1.6305 - val_accuracy: 0.7059\n",
      "Epoch 2/20\n",
      "1594/1594 [==============================] - 10s 6ms/step - loss: 1.1110 - accuracy: 0.7799 - val_loss: 0.7501 - val_accuracy: 0.8276\n",
      "Epoch 3/20\n",
      "1594/1594 [==============================] - 9s 5ms/step - loss: 0.6106 - accuracy: 0.8487 - val_loss: 0.5168 - val_accuracy: 0.8644\n",
      "Epoch 4/20\n",
      "1594/1594 [==============================] - 9s 5ms/step - loss: 0.4681 - accuracy: 0.8740 - val_loss: 0.4288 - val_accuracy: 0.8849\n",
      "Epoch 5/20\n",
      "1594/1594 [==============================] - 8s 5ms/step - loss: 0.4040 - accuracy: 0.8872 - val_loss: 0.3788 - val_accuracy: 0.8941\n",
      "Epoch 6/20\n",
      "1594/1594 [==============================] - 9s 5ms/step - loss: 0.3660 - accuracy: 0.8967 - val_loss: 0.3476 - val_accuracy: 0.9012\n",
      "Epoch 7/20\n",
      "1594/1594 [==============================] - 9s 6ms/step - loss: 0.3399 - accuracy: 0.9030 - val_loss: 0.3260 - val_accuracy: 0.9089\n",
      "Epoch 8/20\n",
      "1594/1594 [==============================] - 9s 5ms/step - loss: 0.3204 - accuracy: 0.9081 - val_loss: 0.3081 - val_accuracy: 0.9132\n",
      "Epoch 9/20\n",
      "1594/1594 [==============================] - 8s 5ms/step - loss: 0.3043 - accuracy: 0.9131 - val_loss: 0.2931 - val_accuracy: 0.9157\n",
      "Epoch 10/20\n",
      "1594/1594 [==============================] - 9s 6ms/step - loss: 0.2908 - accuracy: 0.9167 - val_loss: 0.2804 - val_accuracy: 0.9191\n",
      "Epoch 11/20\n",
      "1594/1594 [==============================] - 8s 5ms/step - loss: 0.2789 - accuracy: 0.9198 - val_loss: 0.2688 - val_accuracy: 0.9208\n",
      "Epoch 12/20\n",
      "1594/1594 [==============================] - 8s 5ms/step - loss: 0.2681 - accuracy: 0.9235 - val_loss: 0.2582 - val_accuracy: 0.9234\n",
      "Epoch 13/20\n",
      "1594/1594 [==============================] - 9s 5ms/step - loss: 0.2580 - accuracy: 0.9255 - val_loss: 0.2501 - val_accuracy: 0.9277\n",
      "Epoch 14/20\n",
      "1594/1594 [==============================] - 9s 6ms/step - loss: 0.2487 - accuracy: 0.9285 - val_loss: 0.2393 - val_accuracy: 0.9308\n",
      "Epoch 15/20\n",
      "1594/1594 [==============================] - 10s 6ms/step - loss: 0.2398 - accuracy: 0.9313 - val_loss: 0.2304 - val_accuracy: 0.9321\n",
      "Epoch 16/20\n",
      "1594/1594 [==============================] - 9s 6ms/step - loss: 0.2314 - accuracy: 0.9338 - val_loss: 0.2238 - val_accuracy: 0.9339\n",
      "Epoch 17/20\n",
      "1594/1594 [==============================] - 10s 6ms/step - loss: 0.2234 - accuracy: 0.9356 - val_loss: 0.2146 - val_accuracy: 0.9367\n",
      "Epoch 18/20\n",
      "1594/1594 [==============================] - 9s 6ms/step - loss: 0.2158 - accuracy: 0.9378 - val_loss: 0.2078 - val_accuracy: 0.9404\n",
      "Epoch 19/20\n",
      "1594/1594 [==============================] - 10s 6ms/step - loss: 0.2084 - accuracy: 0.9395 - val_loss: 0.2026 - val_accuracy: 0.9424\n",
      "Epoch 20/20\n",
      "1594/1594 [==============================] - 10s 6ms/step - loss: 0.2018 - accuracy: 0.9412 - val_loss: 0.1952 - val_accuracy: 0.9444\n"
     ]
    }
   ],
   "source": [
    "model_3 = keras.models.clone_model(model)\n",
    "model_3.compile(optimizer=opt, loss='categorical_crossentropy', metrics=['accuracy'])\n",
    "model_3_history = model_3.fit(X_train, y_train, epochs=20, batch_size=32, shuffle=True,validation_data=(X_val, y_val), verbose=1)\n",
    "saved_models.append(model_3)\n",
    "histories.append(model_3_history)"
   ]
  },
  {
   "cell_type": "code",
   "execution_count": 14,
   "id": "sVzI96YfOMi8",
   "metadata": {
    "colab": {
     "base_uri": "https://localhost:8080/"
    },
    "id": "sVzI96YfOMi8",
    "outputId": "34fb430b-59a1-4338-ab83-51bade6fc89c"
   },
   "outputs": [
    {
     "name": "stdout",
     "output_type": "stream",
     "text": [
      "313/313 [==============================] - 1s 2ms/step - loss: 0.2593 - accuracy: 0.9276\n",
      "313/313 [==============================] - 1s 3ms/step - loss: 0.2149 - accuracy: 0.9413\n",
      "313/313 [==============================] - 1s 3ms/step - loss: 0.1872 - accuracy: 0.9462\n",
      "model: 3 accuracy: 94.62 %\n"
     ]
    }
   ],
   "source": [
    "best_model, best_model_idx = evaluate_model(saved_models, X_test, y_test)"
   ]
  },
  {
   "cell_type": "code",
   "execution_count": 15,
   "id": "inBcvI_-uvbt",
   "metadata": {
    "colab": {
     "base_uri": "https://localhost:8080/"
    },
    "id": "inBcvI_-uvbt",
    "outputId": "8b55978e-c35c-4229-ffb3-fb8513c5d3a0"
   },
   "outputs": [
    {
     "name": "stdout",
     "output_type": "stream",
     "text": [
      "Epoch 1/20\n",
      "1594/1594 [==============================] - 10s 6ms/step - loss: 0.1634 - accuracy: 0.9480 - val_loss: 0.0717 - val_accuracy: 0.9790\n",
      "Epoch 2/20\n",
      "1594/1594 [==============================] - 9s 6ms/step - loss: 0.0579 - accuracy: 0.9821 - val_loss: 0.0588 - val_accuracy: 0.9837\n",
      "Epoch 3/20\n",
      "1594/1594 [==============================] - 10s 6ms/step - loss: 0.0421 - accuracy: 0.9864 - val_loss: 0.0515 - val_accuracy: 0.9844\n",
      "Epoch 4/20\n",
      "1594/1594 [==============================] - 9s 6ms/step - loss: 0.0322 - accuracy: 0.9894 - val_loss: 0.0550 - val_accuracy: 0.9856\n",
      "Epoch 5/20\n",
      "1594/1594 [==============================] - 9s 5ms/step - loss: 0.0239 - accuracy: 0.9921 - val_loss: 0.0561 - val_accuracy: 0.9863\n",
      "Epoch 6/20\n",
      "1594/1594 [==============================] - 10s 6ms/step - loss: 0.0206 - accuracy: 0.9938 - val_loss: 0.0651 - val_accuracy: 0.9847\n",
      "Epoch 7/20\n",
      "1594/1594 [==============================] - 9s 6ms/step - loss: 0.0118 - accuracy: 0.9961 - val_loss: 0.0602 - val_accuracy: 0.9870\n",
      "Epoch 8/20\n",
      "1594/1594 [==============================] - 9s 5ms/step - loss: 0.0145 - accuracy: 0.9952 - val_loss: 0.0574 - val_accuracy: 0.9881\n",
      "Epoch 9/20\n",
      "1594/1594 [==============================] - 9s 6ms/step - loss: 0.0110 - accuracy: 0.9966 - val_loss: 0.0711 - val_accuracy: 0.9860\n",
      "Epoch 10/20\n",
      "1594/1594 [==============================] - 8s 5ms/step - loss: 0.0164 - accuracy: 0.9945 - val_loss: 0.0795 - val_accuracy: 0.9843\n",
      "Epoch 11/20\n",
      "1594/1594 [==============================] - 8s 5ms/step - loss: 0.0208 - accuracy: 0.9934 - val_loss: 0.0726 - val_accuracy: 0.9844\n",
      "Epoch 12/20\n",
      "1594/1594 [==============================] - 8s 5ms/step - loss: 0.0116 - accuracy: 0.9965 - val_loss: 0.0764 - val_accuracy: 0.9868\n",
      "Epoch 13/20\n",
      "1594/1594 [==============================] - 8s 5ms/step - loss: 0.0071 - accuracy: 0.9978 - val_loss: 0.1065 - val_accuracy: 0.9841\n",
      "Epoch 14/20\n",
      "1594/1594 [==============================] - 8s 5ms/step - loss: 0.0066 - accuracy: 0.9978 - val_loss: 0.0829 - val_accuracy: 0.9868\n",
      "Epoch 15/20\n",
      "1594/1594 [==============================] - 9s 6ms/step - loss: 0.0105 - accuracy: 0.9971 - val_loss: 0.0952 - val_accuracy: 0.9847\n",
      "Epoch 16/20\n",
      "1594/1594 [==============================] - 9s 5ms/step - loss: 0.0137 - accuracy: 0.9960 - val_loss: 0.1123 - val_accuracy: 0.9842\n",
      "Epoch 17/20\n",
      "1594/1594 [==============================] - 8s 5ms/step - loss: 0.0135 - accuracy: 0.9961 - val_loss: 0.0884 - val_accuracy: 0.9876\n",
      "Epoch 18/20\n",
      "1594/1594 [==============================] - 8s 5ms/step - loss: 0.0126 - accuracy: 0.9967 - val_loss: 0.0966 - val_accuracy: 0.9868\n",
      "Epoch 19/20\n",
      "1594/1594 [==============================] - 8s 5ms/step - loss: 0.0157 - accuracy: 0.9959 - val_loss: 0.0869 - val_accuracy: 0.9866\n",
      "Epoch 20/20\n",
      "1594/1594 [==============================] - 8s 5ms/step - loss: 0.0161 - accuracy: 0.9959 - val_loss: 0.1019 - val_accuracy: 0.9848\n"
     ]
    }
   ],
   "source": [
    "model_4 = keras.models.clone_model(best_model)\n",
    "opt_1 = optimizers.SGD(learning_rate=0.05, momentum=0.9)\n",
    "model_4.compile(optimizer=opt_1, loss='categorical_crossentropy', metrics=['accuracy'])\n",
    "model_4_history = model_4.fit(X_train, y_train, epochs=20, batch_size=32, shuffle=True,validation_data=(X_val, y_val), verbose=1)\n",
    "saved_models.append(model_4)\n",
    "histories.append(model_4_history)"
   ]
  },
  {
   "cell_type": "code",
   "execution_count": 16,
   "id": "25816a3d",
   "metadata": {
    "colab": {
     "base_uri": "https://localhost:8080/"
    },
    "id": "25816a3d",
    "outputId": "74482fdc-2182-42c6-866c-a65212d2a435"
   },
   "outputs": [
    {
     "name": "stdout",
     "output_type": "stream",
     "text": [
      "Epoch 1/20\n",
      "1594/1594 [==============================] - 9s 5ms/step - loss: 0.6905 - accuracy: 0.8103 - val_loss: 0.3178 - val_accuracy: 0.9116\n",
      "Epoch 2/20\n",
      "1594/1594 [==============================] - 8s 5ms/step - loss: 0.2599 - accuracy: 0.9230 - val_loss: 0.2041 - val_accuracy: 0.9420\n",
      "Epoch 3/20\n",
      "1594/1594 [==============================] - 8s 5ms/step - loss: 0.1874 - accuracy: 0.9458 - val_loss: 0.1534 - val_accuracy: 0.9568\n",
      "Epoch 4/20\n",
      "1594/1594 [==============================] - 8s 5ms/step - loss: 0.1445 - accuracy: 0.9580 - val_loss: 0.1284 - val_accuracy: 0.9644\n",
      "Epoch 5/20\n",
      "1594/1594 [==============================] - 9s 5ms/step - loss: 0.1183 - accuracy: 0.9657 - val_loss: 0.1084 - val_accuracy: 0.9699\n",
      "Epoch 6/20\n",
      "1594/1594 [==============================] - 8s 5ms/step - loss: 0.1013 - accuracy: 0.9707 - val_loss: 0.0910 - val_accuracy: 0.9750\n",
      "Epoch 7/20\n",
      "1594/1594 [==============================] - 10s 6ms/step - loss: 0.0892 - accuracy: 0.9739 - val_loss: 0.0858 - val_accuracy: 0.9753\n",
      "Epoch 8/20\n",
      "1594/1594 [==============================] - 10s 6ms/step - loss: 0.0802 - accuracy: 0.9767 - val_loss: 0.0796 - val_accuracy: 0.9767\n",
      "Epoch 9/20\n",
      "1594/1594 [==============================] - 10s 6ms/step - loss: 0.0724 - accuracy: 0.9791 - val_loss: 0.0718 - val_accuracy: 0.9807\n",
      "Epoch 10/20\n",
      "1594/1594 [==============================] - 9s 6ms/step - loss: 0.0668 - accuracy: 0.9804 - val_loss: 0.0675 - val_accuracy: 0.9812\n",
      "Epoch 11/20\n",
      "1594/1594 [==============================] - 8s 5ms/step - loss: 0.0621 - accuracy: 0.9817 - val_loss: 0.0701 - val_accuracy: 0.9794\n",
      "Epoch 12/20\n",
      "1594/1594 [==============================] - 8s 5ms/step - loss: 0.0580 - accuracy: 0.9831 - val_loss: 0.0609 - val_accuracy: 0.9831\n",
      "Epoch 13/20\n",
      "1594/1594 [==============================] - 8s 5ms/step - loss: 0.0541 - accuracy: 0.9839 - val_loss: 0.0619 - val_accuracy: 0.9829\n",
      "Epoch 14/20\n",
      "1594/1594 [==============================] - 8s 5ms/step - loss: 0.0514 - accuracy: 0.9849 - val_loss: 0.0571 - val_accuracy: 0.9826\n",
      "Epoch 15/20\n",
      "1594/1594 [==============================] - 8s 5ms/step - loss: 0.0483 - accuracy: 0.9866 - val_loss: 0.0537 - val_accuracy: 0.9851\n",
      "Epoch 16/20\n",
      "1594/1594 [==============================] - 9s 6ms/step - loss: 0.0458 - accuracy: 0.9865 - val_loss: 0.0576 - val_accuracy: 0.9849\n",
      "Epoch 17/20\n",
      "1594/1594 [==============================] - 9s 6ms/step - loss: 0.0436 - accuracy: 0.9873 - val_loss: 0.0538 - val_accuracy: 0.9846\n",
      "Epoch 18/20\n",
      "1594/1594 [==============================] - 8s 5ms/step - loss: 0.0418 - accuracy: 0.9880 - val_loss: 0.0529 - val_accuracy: 0.9840\n",
      "Epoch 19/20\n",
      "1594/1594 [==============================] - 9s 5ms/step - loss: 0.0402 - accuracy: 0.9889 - val_loss: 0.0534 - val_accuracy: 0.9834\n",
      "Epoch 20/20\n",
      "1594/1594 [==============================] - 10s 6ms/step - loss: 0.0384 - accuracy: 0.9893 - val_loss: 0.0490 - val_accuracy: 0.9861\n"
     ]
    }
   ],
   "source": [
    "model_5 = keras.models.clone_model(best_model)\n",
    "model_5.compile(optimizer=opt_2, loss='categorical_crossentropy', metrics=['accuracy'])\n",
    "model_5_history = model_5.fit(X_train, y_train, epochs=20, batch_size=32, shuffle=True,validation_data=(X_val, y_val), verbose=1)\n",
    "saved_models.append(model_5)\n",
    "histories.append(model_5_history)"
   ]
  },
  {
   "cell_type": "code",
   "execution_count": 17,
   "id": "b4585d13",
   "metadata": {
    "colab": {
     "base_uri": "https://localhost:8080/"
    },
    "id": "b4585d13",
    "outputId": "c782c501-c082-4c95-ad46-ecbda790c02b"
   },
   "outputs": [
    {
     "name": "stdout",
     "output_type": "stream",
     "text": [
      "Epoch 1/20\n",
      "1594/1594 [==============================] - 10s 6ms/step - loss: 0.2452 - accuracy: 0.9247 - val_loss: 0.1066 - val_accuracy: 0.9671\n",
      "Epoch 2/20\n",
      "1594/1594 [==============================] - 9s 6ms/step - loss: 0.0724 - accuracy: 0.9778 - val_loss: 0.0623 - val_accuracy: 0.9822\n",
      "Epoch 3/20\n",
      "1594/1594 [==============================] - 8s 5ms/step - loss: 0.0506 - accuracy: 0.9842 - val_loss: 0.0565 - val_accuracy: 0.9839\n",
      "Epoch 4/20\n",
      "1594/1594 [==============================] - 8s 5ms/step - loss: 0.0399 - accuracy: 0.9874 - val_loss: 0.0434 - val_accuracy: 0.9863\n",
      "Epoch 5/20\n",
      "1594/1594 [==============================] - 9s 5ms/step - loss: 0.0298 - accuracy: 0.9910 - val_loss: 0.0431 - val_accuracy: 0.9881\n",
      "Epoch 6/20\n",
      "1594/1594 [==============================] - 9s 5ms/step - loss: 0.0255 - accuracy: 0.9919 - val_loss: 0.0430 - val_accuracy: 0.9873\n",
      "Epoch 7/20\n",
      "1594/1594 [==============================] - 8s 5ms/step - loss: 0.0204 - accuracy: 0.9937 - val_loss: 0.0428 - val_accuracy: 0.9879\n",
      "Epoch 8/20\n",
      "1594/1594 [==============================] - 8s 5ms/step - loss: 0.0168 - accuracy: 0.9952 - val_loss: 0.0467 - val_accuracy: 0.9874\n",
      "Epoch 9/20\n",
      "1594/1594 [==============================] - 8s 5ms/step - loss: 0.0144 - accuracy: 0.9956 - val_loss: 0.0409 - val_accuracy: 0.9894\n",
      "Epoch 10/20\n",
      "1594/1594 [==============================] - 9s 6ms/step - loss: 0.0114 - accuracy: 0.9969 - val_loss: 0.0406 - val_accuracy: 0.9901\n",
      "Epoch 11/20\n",
      "1594/1594 [==============================] - 8s 5ms/step - loss: 0.0088 - accuracy: 0.9978 - val_loss: 0.0393 - val_accuracy: 0.9892\n",
      "Epoch 12/20\n",
      "1594/1594 [==============================] - 9s 6ms/step - loss: 0.0071 - accuracy: 0.9981 - val_loss: 0.0428 - val_accuracy: 0.9889\n",
      "Epoch 13/20\n",
      "1594/1594 [==============================] - 9s 5ms/step - loss: 0.0056 - accuracy: 0.9989 - val_loss: 0.0409 - val_accuracy: 0.9899\n",
      "Epoch 14/20\n",
      "1594/1594 [==============================] - 8s 5ms/step - loss: 0.0044 - accuracy: 0.9992 - val_loss: 0.0415 - val_accuracy: 0.9904\n",
      "Epoch 15/20\n",
      "1594/1594 [==============================] - 9s 5ms/step - loss: 0.0035 - accuracy: 0.9993 - val_loss: 0.0511 - val_accuracy: 0.9882\n",
      "Epoch 16/20\n",
      "1594/1594 [==============================] - 8s 5ms/step - loss: 0.0028 - accuracy: 0.9996 - val_loss: 0.0536 - val_accuracy: 0.9886\n",
      "Epoch 17/20\n",
      "1594/1594 [==============================] - 10s 7ms/step - loss: 0.0028 - accuracy: 0.9994 - val_loss: 0.0539 - val_accuracy: 0.9874\n",
      "Epoch 18/20\n",
      "1594/1594 [==============================] - 9s 5ms/step - loss: 0.0020 - accuracy: 0.9998 - val_loss: 0.0572 - val_accuracy: 0.9868\n",
      "Epoch 19/20\n",
      "1594/1594 [==============================] - 9s 6ms/step - loss: 0.0017 - accuracy: 0.9998 - val_loss: 0.0435 - val_accuracy: 0.9907\n",
      "Epoch 20/20\n",
      "1594/1594 [==============================] - 8s 5ms/step - loss: 0.0012 - accuracy: 0.9999 - val_loss: 0.0457 - val_accuracy: 0.9906\n"
     ]
    }
   ],
   "source": [
    "model_6 = keras.models.clone_model(best_model)\n",
    "model_6.compile(optimizer=opt_3, loss='categorical_crossentropy', metrics=['accuracy'])\n",
    "model_6_history = model_6.fit(X_train, y_train, epochs=20, batch_size=32, shuffle=True,validation_data=(X_val, y_val), verbose=1)\n",
    "saved_models.append(model_6)\n",
    "histories.append(model_6_history)"
   ]
  },
  {
   "cell_type": "code",
   "execution_count": 18,
   "id": "ee9Ub2DSQ-1r",
   "metadata": {
    "colab": {
     "base_uri": "https://localhost:8080/"
    },
    "id": "ee9Ub2DSQ-1r",
    "outputId": "bc0eb1e2-f76f-48d7-853b-276e2baf5823"
   },
   "outputs": [
    {
     "name": "stdout",
     "output_type": "stream",
     "text": [
      "313/313 [==============================] - 1s 3ms/step - loss: 0.2593 - accuracy: 0.9276\n",
      "313/313 [==============================] - 1s 2ms/step - loss: 0.2149 - accuracy: 0.9413\n",
      "313/313 [==============================] - 1s 3ms/step - loss: 0.1872 - accuracy: 0.9462\n",
      "313/313 [==============================] - 1s 2ms/step - loss: 0.1070 - accuracy: 0.9840\n",
      "313/313 [==============================] - 1s 2ms/step - loss: 0.0416 - accuracy: 0.9870\n",
      "313/313 [==============================] - 1s 2ms/step - loss: 0.0363 - accuracy: 0.9903\n",
      "model: 6 accuracy: 99.03 %\n"
     ]
    }
   ],
   "source": [
    "best_model, best_model_idx = evaluate_model(saved_models, X_test, y_test)"
   ]
  },
  {
   "cell_type": "markdown",
   "id": "lfacKEPLzw8o",
   "metadata": {
    "id": "lfacKEPLzw8o"
   },
   "source": [
    "# Trying different architectures"
   ]
  },
  {
   "cell_type": "code",
   "execution_count": 19,
   "id": "42f32926",
   "metadata": {
    "id": "42f32926"
   },
   "outputs": [],
   "source": [
    "model_7 = models.Sequential()\n",
    "model_7.add(layers.Conv2D(32, (3, 3), activation='relu', kernel_initializer='he_uniform', input_shape=(28, 28, 1)))\n",
    "model_7.add(layers.MaxPooling2D(pool_size=(2, 2), strides=(2, 2)))\n",
    "model_7.add(layers.Conv2D(32, (3, 3), activation='relu', kernel_initializer='he_uniform'))\n",
    "model_7.add(layers.MaxPooling2D(pool_size=(2, 2), strides=(2, 2)))\n",
    "model_7.add(layers.Flatten())\n",
    "model_7.add(layers.Dense(64, activation='relu', kernel_initializer='he_uniform'))\n",
    "model_7.add(layers.Dense(32, activation='relu', kernel_initializer='he_uniform'))\n",
    "model_7.add(layers.Dense(10, activation='softmax'))"
   ]
  },
  {
   "cell_type": "code",
   "execution_count": 20,
   "id": "DwmF_ats2X5c",
   "metadata": {
    "colab": {
     "base_uri": "https://localhost:8080/"
    },
    "id": "DwmF_ats2X5c",
    "outputId": "77d0f476-b00f-4980-c3ad-7e1cdfb5836d"
   },
   "outputs": [
    {
     "name": "stdout",
     "output_type": "stream",
     "text": [
      "Epoch 1/20\n",
      "1594/1594 [==============================] - 20s 12ms/step - loss: 0.1699 - accuracy: 0.9461 - val_loss: 0.0685 - val_accuracy: 0.9791\n",
      "Epoch 2/20\n",
      "1594/1594 [==============================] - 20s 12ms/step - loss: 0.0564 - accuracy: 0.9830 - val_loss: 0.0456 - val_accuracy: 0.9864\n",
      "Epoch 3/20\n",
      "1594/1594 [==============================] - 19s 12ms/step - loss: 0.0377 - accuracy: 0.9885 - val_loss: 0.0430 - val_accuracy: 0.9872\n",
      "Epoch 4/20\n",
      "1594/1594 [==============================] - 20s 13ms/step - loss: 0.0278 - accuracy: 0.9908 - val_loss: 0.0409 - val_accuracy: 0.9877\n",
      "Epoch 5/20\n",
      "1594/1594 [==============================] - 23s 14ms/step - loss: 0.0217 - accuracy: 0.9927 - val_loss: 0.0438 - val_accuracy: 0.9884\n",
      "Epoch 6/20\n",
      "1594/1594 [==============================] - 27s 17ms/step - loss: 0.0175 - accuracy: 0.9944 - val_loss: 0.0405 - val_accuracy: 0.9888\n",
      "Epoch 7/20\n",
      "1594/1594 [==============================] - 27s 17ms/step - loss: 0.0137 - accuracy: 0.9954 - val_loss: 0.0441 - val_accuracy: 0.9897\n",
      "Epoch 8/20\n",
      "1594/1594 [==============================] - 24s 15ms/step - loss: 0.0125 - accuracy: 0.9958 - val_loss: 0.0423 - val_accuracy: 0.9888\n",
      "Epoch 9/20\n",
      "1594/1594 [==============================] - 24s 15ms/step - loss: 0.0080 - accuracy: 0.9975 - val_loss: 0.0532 - val_accuracy: 0.9880\n",
      "Epoch 10/20\n",
      "1594/1594 [==============================] - 23s 15ms/step - loss: 0.0075 - accuracy: 0.9976 - val_loss: 0.0467 - val_accuracy: 0.9898\n",
      "Epoch 11/20\n",
      "1594/1594 [==============================] - 25s 16ms/step - loss: 0.0068 - accuracy: 0.9978 - val_loss: 0.0501 - val_accuracy: 0.9894\n",
      "Epoch 12/20\n",
      "1594/1594 [==============================] - 24s 15ms/step - loss: 0.0048 - accuracy: 0.9985 - val_loss: 0.0479 - val_accuracy: 0.9908\n",
      "Epoch 13/20\n",
      "1594/1594 [==============================] - 23s 15ms/step - loss: 0.0038 - accuracy: 0.9988 - val_loss: 0.0692 - val_accuracy: 0.9854\n",
      "Epoch 14/20\n",
      "1594/1594 [==============================] - 29s 18ms/step - loss: 0.0049 - accuracy: 0.9984 - val_loss: 0.0678 - val_accuracy: 0.9859\n",
      "Epoch 15/20\n",
      "1594/1594 [==============================] - 26s 16ms/step - loss: 0.0049 - accuracy: 0.9984 - val_loss: 0.0502 - val_accuracy: 0.9903\n",
      "Epoch 16/20\n",
      "1594/1594 [==============================] - 22s 14ms/step - loss: 0.0023 - accuracy: 0.9994 - val_loss: 0.0500 - val_accuracy: 0.9910\n",
      "Epoch 17/20\n",
      "1594/1594 [==============================] - 22s 14ms/step - loss: 9.1229e-04 - accuracy: 0.9998 - val_loss: 0.0467 - val_accuracy: 0.9909\n",
      "Epoch 18/20\n",
      "1594/1594 [==============================] - 26s 16ms/step - loss: 3.5787e-04 - accuracy: 0.9999 - val_loss: 0.0526 - val_accuracy: 0.9900\n",
      "Epoch 19/20\n",
      "1594/1594 [==============================] - 24s 15ms/step - loss: 3.0791e-04 - accuracy: 0.9999 - val_loss: 0.0492 - val_accuracy: 0.9918\n",
      "Epoch 20/20\n",
      "1594/1594 [==============================] - 25s 15ms/step - loss: 1.1099e-04 - accuracy: 1.0000 - val_loss: 0.0507 - val_accuracy: 0.9912\n"
     ]
    }
   ],
   "source": [
    "model_7.compile(optimizer=opt_3, loss='categorical_crossentropy', metrics=['accuracy'])\n",
    "model_7_history = model_7.fit(X_train, y_train, epochs=20, batch_size=32, shuffle=True,validation_data=(X_val, y_val), verbose=1)\n",
    "saved_models.append(model_7)\n",
    "histories.append(model_7_history)"
   ]
  },
  {
   "cell_type": "code",
   "execution_count": 21,
   "id": "WqT_Zr8uQUK2",
   "metadata": {
    "id": "WqT_Zr8uQUK2"
   },
   "outputs": [],
   "source": [
    "model_8 = models.Sequential()\n",
    "model_8.add(layers.Conv2D(16, (3, 3), strides = (2, 2),activation='relu', kernel_initializer='he_uniform', input_shape=(28, 28, 1)))\n",
    "model_8.add(layers.MaxPooling2D(pool_size=(2, 2), strides=(2, 2)))\n",
    "model_8.add(layers.Conv2D(32, (3, 3), strides = (2, 2),activation='relu', kernel_initializer='he_uniform'))\n",
    "model_8.add(layers.MaxPooling2D(pool_size=(2, 2), strides=(2, 2)))\n",
    "model_8.add(layers.Flatten())\n",
    "model_8.add(layers.Dense(64, activation='relu', kernel_initializer='he_uniform'))\n",
    "model_8.add(layers.Dense(32, activation='relu', kernel_initializer='he_uniform'))\n",
    "model_8.add(layers.Dense(10, activation='softmax'))"
   ]
  },
  {
   "cell_type": "code",
   "execution_count": 22,
   "id": "3-k560kDQVps",
   "metadata": {
    "colab": {
     "base_uri": "https://localhost:8080/"
    },
    "id": "3-k560kDQVps",
    "outputId": "90e5bbc8-8f28-48db-ac17-d125661523a6"
   },
   "outputs": [
    {
     "name": "stdout",
     "output_type": "stream",
     "text": [
      "Epoch 1/20\n",
      "1594/1594 [==============================] - 7s 4ms/step - loss: 0.4432 - accuracy: 0.8571 - val_loss: 0.2458 - val_accuracy: 0.9232\n",
      "Epoch 2/20\n",
      "1594/1594 [==============================] - 7s 4ms/step - loss: 0.1804 - accuracy: 0.9439 - val_loss: 0.1763 - val_accuracy: 0.9447\n",
      "Epoch 3/20\n",
      "1594/1594 [==============================] - 6s 4ms/step - loss: 0.1419 - accuracy: 0.9549 - val_loss: 0.1275 - val_accuracy: 0.9601\n",
      "Epoch 4/20\n",
      "1594/1594 [==============================] - 5s 3ms/step - loss: 0.1174 - accuracy: 0.9627 - val_loss: 0.1426 - val_accuracy: 0.9572\n",
      "Epoch 5/20\n",
      "1594/1594 [==============================] - 6s 4ms/step - loss: 0.1030 - accuracy: 0.9668 - val_loss: 0.1424 - val_accuracy: 0.9563\n",
      "Epoch 6/20\n",
      "1594/1594 [==============================] - 5s 3ms/step - loss: 0.0984 - accuracy: 0.9681 - val_loss: 0.1267 - val_accuracy: 0.9613\n",
      "Epoch 7/20\n",
      "1594/1594 [==============================] - 5s 3ms/step - loss: 0.0903 - accuracy: 0.9712 - val_loss: 0.1237 - val_accuracy: 0.9622\n",
      "Epoch 8/20\n",
      "1594/1594 [==============================] - 7s 4ms/step - loss: 0.0845 - accuracy: 0.9729 - val_loss: 0.1060 - val_accuracy: 0.9671\n",
      "Epoch 9/20\n",
      "1594/1594 [==============================] - 6s 4ms/step - loss: 0.0781 - accuracy: 0.9751 - val_loss: 0.1085 - val_accuracy: 0.9676\n",
      "Epoch 10/20\n",
      "1594/1594 [==============================] - 7s 4ms/step - loss: 0.0735 - accuracy: 0.9769 - val_loss: 0.1102 - val_accuracy: 0.9656\n",
      "Epoch 11/20\n",
      "1594/1594 [==============================] - 8s 5ms/step - loss: 0.0705 - accuracy: 0.9769 - val_loss: 0.1043 - val_accuracy: 0.9698\n",
      "Epoch 12/20\n",
      "1594/1594 [==============================] - 7s 5ms/step - loss: 0.0661 - accuracy: 0.9786 - val_loss: 0.1140 - val_accuracy: 0.9674\n",
      "Epoch 13/20\n",
      "1594/1594 [==============================] - 8s 5ms/step - loss: 0.0641 - accuracy: 0.9793 - val_loss: 0.0987 - val_accuracy: 0.9710\n",
      "Epoch 14/20\n",
      "1594/1594 [==============================] - 6s 4ms/step - loss: 0.0594 - accuracy: 0.9808 - val_loss: 0.1173 - val_accuracy: 0.9659\n",
      "Epoch 15/20\n",
      "1594/1594 [==============================] - 7s 4ms/step - loss: 0.0601 - accuracy: 0.9799 - val_loss: 0.0989 - val_accuracy: 0.9713\n",
      "Epoch 16/20\n",
      "1594/1594 [==============================] - 6s 4ms/step - loss: 0.0554 - accuracy: 0.9821 - val_loss: 0.0948 - val_accuracy: 0.9724\n",
      "Epoch 17/20\n",
      "1594/1594 [==============================] - 6s 4ms/step - loss: 0.0538 - accuracy: 0.9822 - val_loss: 0.1047 - val_accuracy: 0.9693\n",
      "Epoch 18/20\n",
      "1594/1594 [==============================] - 7s 5ms/step - loss: 0.0511 - accuracy: 0.9834 - val_loss: 0.1003 - val_accuracy: 0.9718\n",
      "Epoch 19/20\n",
      "1594/1594 [==============================] - 6s 4ms/step - loss: 0.0493 - accuracy: 0.9834 - val_loss: 0.1285 - val_accuracy: 0.9667\n",
      "Epoch 20/20\n",
      "1594/1594 [==============================] - 7s 4ms/step - loss: 0.0483 - accuracy: 0.9837 - val_loss: 0.1056 - val_accuracy: 0.9710\n"
     ]
    }
   ],
   "source": [
    "model_8.compile(optimizer=opt_3, loss='categorical_crossentropy', metrics=['accuracy'])\n",
    "model_8_history = model_8.fit(X_train, y_train, epochs=20, batch_size=32, shuffle=True,validation_data=(X_val, y_val), verbose=1)\n",
    "saved_models.append(model_8)\n",
    "histories.append(model_8_history)"
   ]
  },
  {
   "cell_type": "code",
   "execution_count": 23,
   "id": "abGTXD6xQWJy",
   "metadata": {
    "id": "abGTXD6xQWJy"
   },
   "outputs": [],
   "source": [
    "model_9 = models.Sequential()\n",
    "model_9.add(layers.Conv2D(32, (3, 3), activation='relu', kernel_initializer='he_uniform', input_shape=(28, 28, 1)))\n",
    "model_9.add(layers.MaxPooling2D(pool_size=(2, 2), strides=(2, 2)))\n",
    "model_9.add(layers.Conv2D(32, (5, 5), activation='relu', kernel_initializer='he_uniform'))\n",
    "model_9.add(layers.MaxPooling2D(pool_size=(2, 2), strides=(2, 2)))\n",
    "model_9.add(layers.Flatten())\n",
    "model_9.add(layers.Dense(32, activation='relu', kernel_initializer='he_uniform'))\n",
    "model_9.add(layers.Dense(10, activation='softmax'))"
   ]
  },
  {
   "cell_type": "code",
   "execution_count": 24,
   "id": "5S8gC_2vQXXQ",
   "metadata": {
    "colab": {
     "base_uri": "https://localhost:8080/"
    },
    "id": "5S8gC_2vQXXQ",
    "outputId": "1f793731-ef28-4e76-a0e2-f29cc311e391"
   },
   "outputs": [
    {
     "name": "stdout",
     "output_type": "stream",
     "text": [
      "Epoch 1/20\n",
      "1594/1594 [==============================] - 30s 19ms/step - loss: 0.1702 - accuracy: 0.9472 - val_loss: 0.0650 - val_accuracy: 0.9806\n",
      "Epoch 2/20\n",
      "1594/1594 [==============================] - 28s 17ms/step - loss: 0.0562 - accuracy: 0.9829 - val_loss: 0.0445 - val_accuracy: 0.9866\n",
      "Epoch 3/20\n",
      "1594/1594 [==============================] - 31s 19ms/step - loss: 0.0380 - accuracy: 0.9886 - val_loss: 0.0560 - val_accuracy: 0.9822\n",
      "Epoch 4/20\n",
      "1594/1594 [==============================] - 30s 19ms/step - loss: 0.0294 - accuracy: 0.9910 - val_loss: 0.0425 - val_accuracy: 0.9882\n",
      "Epoch 5/20\n",
      "1594/1594 [==============================] - 34s 21ms/step - loss: 0.0232 - accuracy: 0.9928 - val_loss: 0.0394 - val_accuracy: 0.9883\n",
      "Epoch 6/20\n",
      "1594/1594 [==============================] - 29s 18ms/step - loss: 0.0193 - accuracy: 0.9940 - val_loss: 0.0505 - val_accuracy: 0.9864\n",
      "Epoch 7/20\n",
      "1594/1594 [==============================] - 27s 17ms/step - loss: 0.0147 - accuracy: 0.9953 - val_loss: 0.0418 - val_accuracy: 0.9888\n",
      "Epoch 8/20\n",
      "1594/1594 [==============================] - 27s 17ms/step - loss: 0.0124 - accuracy: 0.9956 - val_loss: 0.0401 - val_accuracy: 0.9893\n",
      "Epoch 9/20\n",
      "1594/1594 [==============================] - 28s 18ms/step - loss: 0.0095 - accuracy: 0.9972 - val_loss: 0.0431 - val_accuracy: 0.9881\n",
      "Epoch 10/20\n",
      "1594/1594 [==============================] - 26s 16ms/step - loss: 0.0073 - accuracy: 0.9977 - val_loss: 0.0418 - val_accuracy: 0.9893\n",
      "Epoch 11/20\n",
      "1594/1594 [==============================] - 29s 18ms/step - loss: 0.0051 - accuracy: 0.9985 - val_loss: 0.0394 - val_accuracy: 0.9899\n",
      "Epoch 12/20\n",
      "1594/1594 [==============================] - 26s 16ms/step - loss: 0.0040 - accuracy: 0.9989 - val_loss: 0.0475 - val_accuracy: 0.9884\n",
      "Epoch 13/20\n",
      "1594/1594 [==============================] - 29s 18ms/step - loss: 0.0035 - accuracy: 0.9990 - val_loss: 0.0496 - val_accuracy: 0.9891\n",
      "Epoch 14/20\n",
      "1594/1594 [==============================] - 31s 19ms/step - loss: 0.0031 - accuracy: 0.9991 - val_loss: 0.0423 - val_accuracy: 0.9914\n",
      "Epoch 15/20\n",
      "1594/1594 [==============================] - 33s 20ms/step - loss: 0.0021 - accuracy: 0.9995 - val_loss: 0.0435 - val_accuracy: 0.9909\n",
      "Epoch 16/20\n",
      "1594/1594 [==============================] - 29s 18ms/step - loss: 0.0011 - accuracy: 0.9998 - val_loss: 0.0459 - val_accuracy: 0.9910\n",
      "Epoch 17/20\n",
      "1594/1594 [==============================] - 32s 20ms/step - loss: 5.2623e-04 - accuracy: 0.9999 - val_loss: 0.0462 - val_accuracy: 0.9911\n",
      "Epoch 18/20\n",
      "1594/1594 [==============================] - 26s 16ms/step - loss: 3.4337e-04 - accuracy: 1.0000 - val_loss: 0.0477 - val_accuracy: 0.9910\n",
      "Epoch 19/20\n",
      "1594/1594 [==============================] - 24s 15ms/step - loss: 2.2374e-04 - accuracy: 1.0000 - val_loss: 0.0481 - val_accuracy: 0.9913\n",
      "Epoch 20/20\n",
      "1594/1594 [==============================] - 25s 16ms/step - loss: 1.7384e-04 - accuracy: 1.0000 - val_loss: 0.0488 - val_accuracy: 0.9914\n"
     ]
    }
   ],
   "source": [
    "model_9.compile(optimizer=opt_3, loss='categorical_crossentropy', metrics=['accuracy'])\n",
    "model_9_history = model_9.fit(X_train, y_train, epochs=20, batch_size=32, shuffle=True,validation_data=(X_val, y_val), verbose=1)\n",
    "saved_models.append(model_9)\n",
    "histories.append(model_9_history)"
   ]
  },
  {
   "cell_type": "code",
   "execution_count": 25,
   "id": "2vhZDIUxcxL8",
   "metadata": {
    "id": "2vhZDIUxcxL8"
   },
   "outputs": [],
   "source": [
    "model_10 = models.Sequential()\n",
    "model_10.add(layers.Conv2D(128, (3, 3), activation='relu', kernel_initializer='he_uniform', input_shape=(28, 28, 1)))\n",
    "model_10.add(layers.MaxPooling2D(pool_size=(2, 2), strides=(2, 2)))\n",
    "model_10.add(layers.Flatten())\n",
    "model_10.add(layers.Dense(32, activation='relu', kernel_initializer='he_uniform'))\n",
    "model_10.add(layers.Dense(10, activation='softmax'))"
   ]
  },
  {
   "cell_type": "code",
   "execution_count": 26,
   "id": "k1en4O-Rc2Ny",
   "metadata": {
    "colab": {
     "base_uri": "https://localhost:8080/"
    },
    "id": "k1en4O-Rc2Ny",
    "outputId": "e55ee032-108a-4dce-effd-316381ea7399"
   },
   "outputs": [
    {
     "name": "stdout",
     "output_type": "stream",
     "text": [
      "Epoch 1/20\n",
      "1594/1594 [==============================] - 42s 26ms/step - loss: 0.2396 - accuracy: 0.9282 - val_loss: 0.0921 - val_accuracy: 0.9733\n",
      "Epoch 2/20\n",
      "1594/1594 [==============================] - 42s 27ms/step - loss: 0.0745 - accuracy: 0.9785 - val_loss: 0.0824 - val_accuracy: 0.9754\n",
      "Epoch 3/20\n",
      "1594/1594 [==============================] - 46s 29ms/step - loss: 0.0496 - accuracy: 0.9852 - val_loss: 0.0561 - val_accuracy: 0.9846\n",
      "Epoch 4/20\n",
      "1594/1594 [==============================] - 40s 25ms/step - loss: 0.0342 - accuracy: 0.9892 - val_loss: 0.0538 - val_accuracy: 0.9847\n",
      "Epoch 5/20\n",
      "1594/1594 [==============================] - 38s 24ms/step - loss: 0.0241 - accuracy: 0.9928 - val_loss: 0.0538 - val_accuracy: 0.9844\n",
      "Epoch 6/20\n",
      "1594/1594 [==============================] - 38s 24ms/step - loss: 0.0187 - accuracy: 0.9942 - val_loss: 0.0524 - val_accuracy: 0.9859\n",
      "Epoch 7/20\n",
      "1594/1594 [==============================] - 38s 24ms/step - loss: 0.0128 - accuracy: 0.9965 - val_loss: 0.0588 - val_accuracy: 0.9834\n",
      "Epoch 8/20\n",
      "1594/1594 [==============================] - 38s 24ms/step - loss: 0.0088 - accuracy: 0.9976 - val_loss: 0.0555 - val_accuracy: 0.9856\n",
      "Epoch 9/20\n",
      "1594/1594 [==============================] - 39s 25ms/step - loss: 0.0062 - accuracy: 0.9986 - val_loss: 0.0552 - val_accuracy: 0.9869\n",
      "Epoch 10/20\n",
      "1594/1594 [==============================] - 38s 24ms/step - loss: 0.0039 - accuracy: 0.9995 - val_loss: 0.0543 - val_accuracy: 0.9881\n",
      "Epoch 11/20\n",
      "1594/1594 [==============================] - 38s 24ms/step - loss: 0.0024 - accuracy: 0.9998 - val_loss: 0.0543 - val_accuracy: 0.9880\n",
      "Epoch 12/20\n",
      "1594/1594 [==============================] - 39s 24ms/step - loss: 0.0017 - accuracy: 0.9998 - val_loss: 0.0553 - val_accuracy: 0.9878\n",
      "Epoch 13/20\n",
      "1594/1594 [==============================] - 38s 24ms/step - loss: 0.0012 - accuracy: 0.9999 - val_loss: 0.0562 - val_accuracy: 0.9881\n",
      "Epoch 14/20\n",
      "1594/1594 [==============================] - 38s 24ms/step - loss: 9.6301e-04 - accuracy: 1.0000 - val_loss: 0.0578 - val_accuracy: 0.9886\n",
      "Epoch 15/20\n",
      "1594/1594 [==============================] - 38s 24ms/step - loss: 8.1017e-04 - accuracy: 1.0000 - val_loss: 0.0592 - val_accuracy: 0.9882\n",
      "Epoch 16/20\n",
      "1594/1594 [==============================] - 38s 24ms/step - loss: 6.6434e-04 - accuracy: 1.0000 - val_loss: 0.0585 - val_accuracy: 0.9880\n",
      "Epoch 17/20\n",
      "1594/1594 [==============================] - 38s 24ms/step - loss: 5.7943e-04 - accuracy: 1.0000 - val_loss: 0.0600 - val_accuracy: 0.9886\n",
      "Epoch 18/20\n",
      "1594/1594 [==============================] - 39s 24ms/step - loss: 5.2835e-04 - accuracy: 1.0000 - val_loss: 0.0607 - val_accuracy: 0.9881\n",
      "Epoch 19/20\n",
      "1594/1594 [==============================] - 39s 24ms/step - loss: 4.5249e-04 - accuracy: 1.0000 - val_loss: 0.0612 - val_accuracy: 0.9881\n",
      "Epoch 20/20\n",
      "1594/1594 [==============================] - 38s 24ms/step - loss: 4.1801e-04 - accuracy: 1.0000 - val_loss: 0.0615 - val_accuracy: 0.9881\n"
     ]
    }
   ],
   "source": [
    "model_10.compile(optimizer=opt_3, loss='categorical_crossentropy', metrics=['accuracy'])\n",
    "model_10_history = model_10.fit(X_train, y_train, epochs=20, batch_size=32, shuffle=True,validation_data=(X_val, y_val), verbose=1)\n",
    "saved_models.append(model_10)\n",
    "histories.append(model_10_history)"
   ]
  },
  {
   "cell_type": "code",
   "execution_count": 27,
   "id": "l6M7d0Bhc6x6",
   "metadata": {
    "colab": {
     "base_uri": "https://localhost:8080/"
    },
    "id": "l6M7d0Bhc6x6",
    "outputId": "057b2e88-ba54-4f85-b0ec-a7b28fb3bbba"
   },
   "outputs": [
    {
     "name": "stdout",
     "output_type": "stream",
     "text": [
      "313/313 [==============================] - 1s 2ms/step - loss: 0.2593 - accuracy: 0.9276\n",
      "313/313 [==============================] - 1s 2ms/step - loss: 0.2149 - accuracy: 0.9413\n",
      "313/313 [==============================] - 1s 3ms/step - loss: 0.1872 - accuracy: 0.9462\n",
      "313/313 [==============================] - 1s 2ms/step - loss: 0.1070 - accuracy: 0.9840\n",
      "313/313 [==============================] - 1s 2ms/step - loss: 0.0416 - accuracy: 0.9870\n",
      "313/313 [==============================] - 1s 2ms/step - loss: 0.0363 - accuracy: 0.9903\n",
      "313/313 [==============================] - 1s 4ms/step - loss: 0.0435 - accuracy: 0.9913\n",
      "313/313 [==============================] - 0s 2ms/step - loss: 0.1091 - accuracy: 0.9707\n",
      "313/313 [==============================] - 1s 4ms/step - loss: 0.0371 - accuracy: 0.9921\n",
      "313/313 [==============================] - 2s 7ms/step - loss: 0.0571 - accuracy: 0.9875\n",
      "model: 9 accuracy: 99.21 %\n"
     ]
    }
   ],
   "source": [
    "best_model, best_model_idx = evaluate_model(saved_models, X_test, y_test)"
   ]
  },
  {
   "cell_type": "markdown",
   "id": "1DOv_IDKZ1-G",
   "metadata": {
    "id": "1DOv_IDKZ1-G"
   },
   "source": [
    "#Trying different batch sizes"
   ]
  },
  {
   "cell_type": "code",
   "execution_count": 28,
   "id": "MGGK_G4aaFf1",
   "metadata": {
    "colab": {
     "base_uri": "https://localhost:8080/"
    },
    "id": "MGGK_G4aaFf1",
    "outputId": "d456723d-db09-47ac-eec1-6be5459be232"
   },
   "outputs": [
    {
     "name": "stdout",
     "output_type": "stream",
     "text": [
      "Epoch 1/20\n",
      "3188/3188 [==============================] - 29s 9ms/step - loss: 0.1348 - accuracy: 0.9581 - val_loss: 0.0616 - val_accuracy: 0.9838\n",
      "Epoch 2/20\n",
      "3188/3188 [==============================] - 28s 9ms/step - loss: 0.0496 - accuracy: 0.9843 - val_loss: 0.0444 - val_accuracy: 0.9880\n",
      "Epoch 3/20\n",
      "3188/3188 [==============================] - 27s 9ms/step - loss: 0.0348 - accuracy: 0.9893 - val_loss: 0.0503 - val_accuracy: 0.9864\n",
      "Epoch 4/20\n",
      "3188/3188 [==============================] - 28s 9ms/step - loss: 0.0263 - accuracy: 0.9916 - val_loss: 0.0427 - val_accuracy: 0.9888\n",
      "Epoch 5/20\n",
      "3188/3188 [==============================] - 28s 9ms/step - loss: 0.0194 - accuracy: 0.9935 - val_loss: 0.0394 - val_accuracy: 0.9899\n",
      "Epoch 6/20\n",
      "3188/3188 [==============================] - 29s 9ms/step - loss: 0.0151 - accuracy: 0.9946 - val_loss: 0.0469 - val_accuracy: 0.9892\n",
      "Epoch 7/20\n",
      "3188/3188 [==============================] - 28s 9ms/step - loss: 0.0135 - accuracy: 0.9951 - val_loss: 0.0500 - val_accuracy: 0.9874\n",
      "Epoch 8/20\n",
      "3188/3188 [==============================] - 28s 9ms/step - loss: 0.0100 - accuracy: 0.9968 - val_loss: 0.0480 - val_accuracy: 0.9902\n",
      "Epoch 9/20\n",
      "3188/3188 [==============================] - 28s 9ms/step - loss: 0.0056 - accuracy: 0.9980 - val_loss: 0.0600 - val_accuracy: 0.9872\n",
      "Epoch 10/20\n",
      "3188/3188 [==============================] - 28s 9ms/step - loss: 0.0067 - accuracy: 0.9975 - val_loss: 0.0480 - val_accuracy: 0.9908\n",
      "Epoch 11/20\n",
      "3188/3188 [==============================] - 28s 9ms/step - loss: 0.0051 - accuracy: 0.9982 - val_loss: 0.0585 - val_accuracy: 0.9883\n",
      "Epoch 12/20\n",
      "3188/3188 [==============================] - 28s 9ms/step - loss: 0.0068 - accuracy: 0.9976 - val_loss: 0.0478 - val_accuracy: 0.9910\n",
      "Epoch 13/20\n",
      "3188/3188 [==============================] - 28s 9ms/step - loss: 0.0050 - accuracy: 0.9984 - val_loss: 0.0490 - val_accuracy: 0.9902\n",
      "Epoch 14/20\n",
      "3188/3188 [==============================] - 28s 9ms/step - loss: 0.0035 - accuracy: 0.9989 - val_loss: 0.0521 - val_accuracy: 0.9900\n",
      "Epoch 15/20\n",
      "3188/3188 [==============================] - 28s 9ms/step - loss: 0.0041 - accuracy: 0.9987 - val_loss: 0.0728 - val_accuracy: 0.9893\n",
      "Epoch 16/20\n",
      "3188/3188 [==============================] - 29s 9ms/step - loss: 0.0037 - accuracy: 0.9988 - val_loss: 0.0612 - val_accuracy: 0.9894\n",
      "Epoch 17/20\n",
      "3188/3188 [==============================] - 28s 9ms/step - loss: 0.0048 - accuracy: 0.9984 - val_loss: 0.0663 - val_accuracy: 0.9894\n",
      "Epoch 18/20\n",
      "3188/3188 [==============================] - 28s 9ms/step - loss: 0.0035 - accuracy: 0.9988 - val_loss: 0.0594 - val_accuracy: 0.9899\n",
      "Epoch 19/20\n",
      "3188/3188 [==============================] - 28s 9ms/step - loss: 0.0020 - accuracy: 0.9993 - val_loss: 0.0619 - val_accuracy: 0.9903\n",
      "Epoch 20/20\n",
      "3188/3188 [==============================] - 28s 9ms/step - loss: 0.0021 - accuracy: 0.9992 - val_loss: 0.0585 - val_accuracy: 0.9902\n"
     ]
    }
   ],
   "source": [
    "model_11 = keras.models.clone_model(best_model)\n",
    "model_11.compile(optimizer=opt_3, loss='categorical_crossentropy', metrics=['accuracy'])\n",
    "model_11_history = model_11.fit(X_train, y_train, epochs=20, batch_size=16, shuffle=True,validation_data=(X_val, y_val), verbose=1)\n",
    "saved_models.append(model_11)\n",
    "histories.append(model_11_history)"
   ]
  },
  {
   "cell_type": "code",
   "execution_count": 29,
   "id": "59tn-mJbaVjM",
   "metadata": {
    "colab": {
     "base_uri": "https://localhost:8080/"
    },
    "id": "59tn-mJbaVjM",
    "outputId": "50f4b20d-c3fa-4c1c-9c95-328583722085"
   },
   "outputs": [
    {
     "name": "stdout",
     "output_type": "stream",
     "text": [
      "Epoch 1/20\n",
      "797/797 [==============================] - 21s 26ms/step - loss: 0.2423 - accuracy: 0.9231 - val_loss: 0.0810 - val_accuracy: 0.9736\n",
      "Epoch 2/20\n",
      "797/797 [==============================] - 20s 25ms/step - loss: 0.0742 - accuracy: 0.9766 - val_loss: 0.0625 - val_accuracy: 0.9814\n",
      "Epoch 3/20\n",
      "797/797 [==============================] - 21s 26ms/step - loss: 0.0531 - accuracy: 0.9835 - val_loss: 0.0526 - val_accuracy: 0.9842\n",
      "Epoch 4/20\n",
      "797/797 [==============================] - 21s 26ms/step - loss: 0.0426 - accuracy: 0.9870 - val_loss: 0.0470 - val_accuracy: 0.9861\n",
      "Epoch 5/20\n",
      "797/797 [==============================] - 20s 25ms/step - loss: 0.0358 - accuracy: 0.9887 - val_loss: 0.0495 - val_accuracy: 0.9859\n",
      "Epoch 6/20\n",
      "797/797 [==============================] - 20s 25ms/step - loss: 0.0306 - accuracy: 0.9900 - val_loss: 0.0482 - val_accuracy: 0.9852\n",
      "Epoch 7/20\n",
      "797/797 [==============================] - 21s 26ms/step - loss: 0.0252 - accuracy: 0.9920 - val_loss: 0.0503 - val_accuracy: 0.9841\n",
      "Epoch 8/20\n",
      "797/797 [==============================] - 20s 25ms/step - loss: 0.0221 - accuracy: 0.9930 - val_loss: 0.0427 - val_accuracy: 0.9873\n",
      "Epoch 9/20\n",
      "797/797 [==============================] - 20s 25ms/step - loss: 0.0187 - accuracy: 0.9939 - val_loss: 0.0473 - val_accuracy: 0.9869\n",
      "Epoch 10/20\n",
      "797/797 [==============================] - 21s 27ms/step - loss: 0.0159 - accuracy: 0.9951 - val_loss: 0.0425 - val_accuracy: 0.9883\n",
      "Epoch 11/20\n",
      "797/797 [==============================] - 20s 26ms/step - loss: 0.0142 - accuracy: 0.9955 - val_loss: 0.0436 - val_accuracy: 0.9884\n",
      "Epoch 12/20\n",
      "797/797 [==============================] - 20s 26ms/step - loss: 0.0124 - accuracy: 0.9962 - val_loss: 0.0513 - val_accuracy: 0.9854\n",
      "Epoch 13/20\n",
      "797/797 [==============================] - 20s 26ms/step - loss: 0.0113 - accuracy: 0.9965 - val_loss: 0.0390 - val_accuracy: 0.9897\n",
      "Epoch 14/20\n",
      "797/797 [==============================] - 21s 26ms/step - loss: 0.0082 - accuracy: 0.9977 - val_loss: 0.0476 - val_accuracy: 0.9880\n",
      "Epoch 15/20\n",
      "797/797 [==============================] - 21s 26ms/step - loss: 0.0075 - accuracy: 0.9978 - val_loss: 0.0455 - val_accuracy: 0.9893\n",
      "Epoch 16/20\n",
      "797/797 [==============================] - 21s 26ms/step - loss: 0.0060 - accuracy: 0.9985 - val_loss: 0.0428 - val_accuracy: 0.9904\n",
      "Epoch 17/20\n",
      "797/797 [==============================] - 20s 25ms/step - loss: 0.0053 - accuracy: 0.9986 - val_loss: 0.0473 - val_accuracy: 0.9894\n",
      "Epoch 18/20\n",
      "797/797 [==============================] - 21s 26ms/step - loss: 0.0052 - accuracy: 0.9985 - val_loss: 0.0504 - val_accuracy: 0.9881\n",
      "Epoch 19/20\n",
      "797/797 [==============================] - 20s 26ms/step - loss: 0.0034 - accuracy: 0.9993 - val_loss: 0.0517 - val_accuracy: 0.9879\n",
      "Epoch 20/20\n",
      "797/797 [==============================] - 20s 26ms/step - loss: 0.0033 - accuracy: 0.9993 - val_loss: 0.0486 - val_accuracy: 0.9897\n"
     ]
    }
   ],
   "source": [
    "model_12 = keras.models.clone_model(best_model)\n",
    "model_12.compile(optimizer=opt_3, loss='categorical_crossentropy', metrics=['accuracy'])\n",
    "model_12_history = model_12.fit(X_train, y_train, epochs=20, batch_size=64, shuffle=True,validation_data=(X_val, y_val), verbose=1)\n",
    "saved_models.append(model_12)\n",
    "histories.append(model_12_history)"
   ]
  },
  {
   "cell_type": "code",
   "execution_count": 30,
   "id": "yvFNxuR-8OB4",
   "metadata": {
    "colab": {
     "base_uri": "https://localhost:8080/"
    },
    "id": "yvFNxuR-8OB4",
    "outputId": "043f08d8-982a-44cc-a28c-20419056701d"
   },
   "outputs": [
    {
     "name": "stdout",
     "output_type": "stream",
     "text": [
      "313/313 [==============================] - 1s 2ms/step - loss: 0.2593 - accuracy: 0.9276\n",
      "313/313 [==============================] - 1s 2ms/step - loss: 0.2149 - accuracy: 0.9413\n",
      "313/313 [==============================] - 1s 2ms/step - loss: 0.1872 - accuracy: 0.9462\n",
      "313/313 [==============================] - 1s 2ms/step - loss: 0.1070 - accuracy: 0.9840\n",
      "313/313 [==============================] - 1s 2ms/step - loss: 0.0416 - accuracy: 0.9870\n",
      "313/313 [==============================] - 1s 2ms/step - loss: 0.0363 - accuracy: 0.9903\n",
      "313/313 [==============================] - 1s 3ms/step - loss: 0.0435 - accuracy: 0.9913\n",
      "313/313 [==============================] - 0s 1ms/step - loss: 0.1091 - accuracy: 0.9707\n",
      "313/313 [==============================] - 1s 4ms/step - loss: 0.0371 - accuracy: 0.9921\n",
      "313/313 [==============================] - 2s 7ms/step - loss: 0.0571 - accuracy: 0.9875\n",
      "313/313 [==============================] - 1s 4ms/step - loss: 0.0473 - accuracy: 0.9910\n",
      "313/313 [==============================] - 1s 4ms/step - loss: 0.0397 - accuracy: 0.9898\n",
      "model: 9 accuracy: 99.21 %\n"
     ]
    }
   ],
   "source": [
    "best_model, best_model_idx = evaluate_model(saved_models, X_test, y_test)"
   ]
  },
  {
   "cell_type": "markdown",
   "id": "pSu91m-_bCB-",
   "metadata": {
    "id": "pSu91m-_bCB-"
   },
   "source": [
    "# Trying different activation functions"
   ]
  },
  {
   "cell_type": "code",
   "execution_count": 31,
   "id": "hu_Q_iaabE3E",
   "metadata": {
    "id": "hu_Q_iaabE3E"
   },
   "outputs": [],
   "source": [
    "model_13 = models.Sequential()\n",
    "model_13.add(layers.Conv2D(32, (3, 3), activation='tanh', kernel_initializer=tensorflow.keras.initializers.GlorotNormal(), input_shape=(28, 28, 1)))\n",
    "model_13.add(layers.MaxPooling2D(pool_size=(2, 2), strides=(2, 2)))\n",
    "model_13.add(layers.Conv2D(32, (3, 3), activation='tanh', kernel_initializer=tensorflow.keras.initializers.GlorotNormal()))\n",
    "model_13.add(layers.MaxPooling2D(pool_size=(2, 2), strides=(2, 2)))\n",
    "model_13.add(layers.Flatten())\n",
    "model_13.add(layers.Dense(64, activation='tanh', kernel_initializer=tensorflow.keras.initializers.GlorotNormal()))\n",
    "model_13.add(layers.Dense(32, activation='tanh', kernel_initializer=tensorflow.keras.initializers.GlorotNormal()))\n",
    "model_13.add(layers.Dense(10, activation='softmax'))"
   ]
  },
  {
   "cell_type": "code",
   "execution_count": 32,
   "id": "3LDVjCGabHQr",
   "metadata": {
    "colab": {
     "base_uri": "https://localhost:8080/"
    },
    "id": "3LDVjCGabHQr",
    "outputId": "373b3fcc-7b06-4e2e-efc5-7d1681943dc7"
   },
   "outputs": [
    {
     "name": "stdout",
     "output_type": "stream",
     "text": [
      "Epoch 1/10\n",
      "1594/1594 [==============================] - 20s 12ms/step - loss: 0.2010 - accuracy: 0.9434 - val_loss: 0.0801 - val_accuracy: 0.9766\n",
      "Epoch 2/10\n",
      "1594/1594 [==============================] - 20s 12ms/step - loss: 0.0618 - accuracy: 0.9820 - val_loss: 0.0564 - val_accuracy: 0.9850\n",
      "Epoch 3/10\n",
      "1594/1594 [==============================] - 19s 12ms/step - loss: 0.0415 - accuracy: 0.9880 - val_loss: 0.0534 - val_accuracy: 0.9846\n",
      "Epoch 4/10\n",
      "1594/1594 [==============================] - 20s 12ms/step - loss: 0.0306 - accuracy: 0.9911 - val_loss: 0.0472 - val_accuracy: 0.9860\n",
      "Epoch 5/10\n",
      "1594/1594 [==============================] - 19s 12ms/step - loss: 0.0228 - accuracy: 0.9934 - val_loss: 0.0457 - val_accuracy: 0.9882\n",
      "Epoch 6/10\n",
      "1594/1594 [==============================] - 20s 12ms/step - loss: 0.0173 - accuracy: 0.9954 - val_loss: 0.0419 - val_accuracy: 0.9873\n",
      "Epoch 7/10\n",
      "1594/1594 [==============================] - 20s 13ms/step - loss: 0.0125 - accuracy: 0.9969 - val_loss: 0.0378 - val_accuracy: 0.9896\n",
      "Epoch 8/10\n",
      "1594/1594 [==============================] - 19s 12ms/step - loss: 0.0095 - accuracy: 0.9980 - val_loss: 0.0381 - val_accuracy: 0.9902\n",
      "Epoch 9/10\n",
      "1594/1594 [==============================] - 20s 13ms/step - loss: 0.0066 - accuracy: 0.9988 - val_loss: 0.0399 - val_accuracy: 0.9893\n",
      "Epoch 10/10\n",
      "1594/1594 [==============================] - 20s 12ms/step - loss: 0.0052 - accuracy: 0.9990 - val_loss: 0.0396 - val_accuracy: 0.9906\n"
     ]
    }
   ],
   "source": [
    "model_13.compile(optimizer=opt_3, loss='categorical_crossentropy', metrics=['accuracy'])\n",
    "model_13_history = model_13.fit(X_train, y_train, epochs=10, batch_size=32, shuffle=True,validation_data=(X_val, y_val), verbose=1)\n",
    "saved_models.append(model_13)\n",
    "histories.append(model_13_history)"
   ]
  },
  {
   "cell_type": "code",
   "execution_count": 33,
   "id": "EmwGbP4dbyuj",
   "metadata": {
    "id": "EmwGbP4dbyuj"
   },
   "outputs": [],
   "source": [
    "model_14 = models.Sequential()\n",
    "model_14.add(layers.Conv2D(32, (3, 3), activation='selu', kernel_initializer= tensorflow.keras.initializers.LecunNormal(), input_shape=(28, 28, 1)))\n",
    "model_14.add(layers.MaxPooling2D(pool_size=(2, 2), strides=(2, 2)))\n",
    "model_14.add(layers.Conv2D(32, (3, 3), activation='selu', kernel_initializer= tensorflow.keras.initializers.LecunNormal()))\n",
    "model_14.add(layers.MaxPooling2D(pool_size=(2, 2), strides=(2, 2)))\n",
    "model_14.add(layers.Flatten())\n",
    "model_14.add(layers.Dense(64, activation='selu', kernel_initializer= tensorflow.keras.initializers.LecunNormal()))\n",
    "model_14.add(layers.Dense(32, activation='selu', kernel_initializer= tensorflow.keras.initializers.LecunNormal()))\n",
    "model_14.add(layers.Dense(10, activation='softmax'))"
   ]
  },
  {
   "cell_type": "code",
   "execution_count": 34,
   "id": "eMhfWfi1bzqT",
   "metadata": {
    "colab": {
     "base_uri": "https://localhost:8080/"
    },
    "id": "eMhfWfi1bzqT",
    "outputId": "5522d5f4-9383-4a1d-a713-50f194b57cae"
   },
   "outputs": [
    {
     "name": "stdout",
     "output_type": "stream",
     "text": [
      "Epoch 1/10\n",
      "1594/1594 [==============================] - 22s 13ms/step - loss: 0.1412 - accuracy: 0.9560 - val_loss: 0.0732 - val_accuracy: 0.9771\n",
      "Epoch 2/10\n",
      "1594/1594 [==============================] - 21s 13ms/step - loss: 0.0530 - accuracy: 0.9835 - val_loss: 0.0568 - val_accuracy: 0.9836\n",
      "Epoch 3/10\n",
      "1594/1594 [==============================] - 21s 13ms/step - loss: 0.0361 - accuracy: 0.9883 - val_loss: 0.0463 - val_accuracy: 0.9876\n",
      "Epoch 4/10\n",
      "1594/1594 [==============================] - 20s 13ms/step - loss: 0.0258 - accuracy: 0.9911 - val_loss: 0.0617 - val_accuracy: 0.9847\n",
      "Epoch 5/10\n",
      "1594/1594 [==============================] - 21s 13ms/step - loss: 0.0198 - accuracy: 0.9932 - val_loss: 0.0508 - val_accuracy: 0.9879\n",
      "Epoch 6/10\n",
      "1594/1594 [==============================] - 21s 13ms/step - loss: 0.0165 - accuracy: 0.9946 - val_loss: 0.0499 - val_accuracy: 0.9877\n",
      "Epoch 7/10\n",
      "1594/1594 [==============================] - 20s 13ms/step - loss: 0.0124 - accuracy: 0.9960 - val_loss: 0.0580 - val_accuracy: 0.9859\n",
      "Epoch 8/10\n",
      "1594/1594 [==============================] - 21s 13ms/step - loss: 0.0094 - accuracy: 0.9974 - val_loss: 0.0621 - val_accuracy: 0.9867\n",
      "Epoch 9/10\n",
      "1594/1594 [==============================] - 22s 14ms/step - loss: 0.0066 - accuracy: 0.9978 - val_loss: 0.0547 - val_accuracy: 0.9872\n",
      "Epoch 10/10\n",
      "1594/1594 [==============================] - 21s 13ms/step - loss: 0.0092 - accuracy: 0.9968 - val_loss: 0.0625 - val_accuracy: 0.9883\n"
     ]
    }
   ],
   "source": [
    "model_14.compile(optimizer=opt_3, loss='categorical_crossentropy', metrics=['accuracy'])\n",
    "model_14_history = model_14.fit(X_train, y_train, epochs=10, batch_size=32, shuffle=True,validation_data=(X_val, y_val), verbose=1)\n",
    "saved_models.append(model_14)\n",
    "histories.append(model_14_history)"
   ]
  },
  {
   "cell_type": "code",
   "execution_count": 35,
   "id": "r2GVQUDQb0TF",
   "metadata": {
    "id": "r2GVQUDQb0TF"
   },
   "outputs": [],
   "source": [
    "from keras.layers import LeakyReLU\n",
    "model_15 = models.Sequential()\n",
    "model_15.add(layers.Conv2D(32, (3, 3), kernel_initializer='he_uniform', input_shape=(28, 28, 1)))\n",
    "model_15.add(LeakyReLU(alpha=0.05))\n",
    "model_15.add(layers.MaxPooling2D(pool_size=(2, 2), strides=(2, 2)))\n",
    "model_15.add(layers.Conv2D(32, (3, 3), kernel_initializer='he_uniform'))\n",
    "model_15.add(LeakyReLU(alpha=0.05))\n",
    "model_15.add(layers.MaxPooling2D(pool_size=(2, 2), strides=(2, 2)))\n",
    "model_15.add(layers.Flatten())\n",
    "model_15.add(layers.Dense(64, kernel_initializer='he_uniform'))\n",
    "model_15.add(LeakyReLU(alpha=0.05))\n",
    "model_15.add(layers.Dense(32, kernel_initializer='he_uniform'))\n",
    "model_15.add(LeakyReLU(alpha=0.05))\n",
    "model_15.add(layers.Dense(10, activation='softmax'))"
   ]
  },
  {
   "cell_type": "code",
   "execution_count": 36,
   "id": "Ml_LF3C5b1Oc",
   "metadata": {
    "colab": {
     "base_uri": "https://localhost:8080/"
    },
    "id": "Ml_LF3C5b1Oc",
    "outputId": "f60c6022-8da8-436f-abc6-7864ff68bcb8"
   },
   "outputs": [
    {
     "name": "stdout",
     "output_type": "stream",
     "text": [
      "Epoch 1/10\n",
      "1594/1594 [==============================] - 21s 13ms/step - loss: 0.1619 - accuracy: 0.9493 - val_loss: 0.0643 - val_accuracy: 0.9802\n",
      "Epoch 2/10\n",
      "1594/1594 [==============================] - 20s 12ms/step - loss: 0.0521 - accuracy: 0.9843 - val_loss: 0.0503 - val_accuracy: 0.9853\n",
      "Epoch 3/10\n",
      "1594/1594 [==============================] - 20s 13ms/step - loss: 0.0354 - accuracy: 0.9889 - val_loss: 0.0401 - val_accuracy: 0.9880\n",
      "Epoch 4/10\n",
      "1594/1594 [==============================] - 20s 13ms/step - loss: 0.0268 - accuracy: 0.9915 - val_loss: 0.0449 - val_accuracy: 0.9878\n",
      "Epoch 5/10\n",
      "1594/1594 [==============================] - 20s 12ms/step - loss: 0.0218 - accuracy: 0.9932 - val_loss: 0.0375 - val_accuracy: 0.9897\n",
      "Epoch 6/10\n",
      "1594/1594 [==============================] - 19s 12ms/step - loss: 0.0154 - accuracy: 0.9949 - val_loss: 0.0428 - val_accuracy: 0.9889\n",
      "Epoch 7/10\n",
      "1594/1594 [==============================] - 20s 13ms/step - loss: 0.0131 - accuracy: 0.9957 - val_loss: 0.0467 - val_accuracy: 0.9899\n",
      "Epoch 8/10\n",
      "1594/1594 [==============================] - 22s 14ms/step - loss: 0.0106 - accuracy: 0.9968 - val_loss: 0.0428 - val_accuracy: 0.9892\n",
      "Epoch 9/10\n",
      "1594/1594 [==============================] - 21s 13ms/step - loss: 0.0098 - accuracy: 0.9969 - val_loss: 0.0464 - val_accuracy: 0.9893\n",
      "Epoch 10/10\n",
      "1594/1594 [==============================] - 20s 13ms/step - loss: 0.0068 - accuracy: 0.9977 - val_loss: 0.0558 - val_accuracy: 0.9887\n"
     ]
    }
   ],
   "source": [
    "model_15.compile(optimizer=opt_3, loss='categorical_crossentropy', metrics=['accuracy'])\n",
    "model_15_history = model_15.fit(X_train, y_train, epochs=10, batch_size=32, shuffle=True,validation_data=(X_val, y_val), verbose=1)\n",
    "saved_models.append(model_15)\n",
    "histories.append(model_15_history)"
   ]
  },
  {
   "cell_type": "code",
   "execution_count": 37,
   "id": "ng7z1-pmFQtP",
   "metadata": {
    "colab": {
     "base_uri": "https://localhost:8080/"
    },
    "id": "ng7z1-pmFQtP",
    "outputId": "4ad59b3a-b748-43dc-c0be-04301f0da65a"
   },
   "outputs": [
    {
     "name": "stdout",
     "output_type": "stream",
     "text": [
      "313/313 [==============================] - 1s 2ms/step - loss: 0.2593 - accuracy: 0.9276\n",
      "313/313 [==============================] - 1s 2ms/step - loss: 0.2149 - accuracy: 0.9413\n",
      "313/313 [==============================] - 1s 2ms/step - loss: 0.1872 - accuracy: 0.9462\n",
      "313/313 [==============================] - 1s 2ms/step - loss: 0.1070 - accuracy: 0.9840\n",
      "313/313 [==============================] - 1s 2ms/step - loss: 0.0416 - accuracy: 0.9870\n",
      "313/313 [==============================] - 1s 2ms/step - loss: 0.0363 - accuracy: 0.9903\n",
      "313/313 [==============================] - 1s 4ms/step - loss: 0.0435 - accuracy: 0.9913\n",
      "313/313 [==============================] - 1s 2ms/step - loss: 0.1091 - accuracy: 0.9707\n",
      "313/313 [==============================] - 1s 4ms/step - loss: 0.0371 - accuracy: 0.9921\n",
      "313/313 [==============================] - 2s 7ms/step - loss: 0.0571 - accuracy: 0.9875\n",
      "313/313 [==============================] - 1s 4ms/step - loss: 0.0473 - accuracy: 0.9910\n",
      "313/313 [==============================] - 1s 4ms/step - loss: 0.0397 - accuracy: 0.9898\n",
      "313/313 [==============================] - 1s 4ms/step - loss: 0.0335 - accuracy: 0.9896\n",
      "313/313 [==============================] - 1s 4ms/step - loss: 0.0561 - accuracy: 0.9875\n",
      "313/313 [==============================] - 1s 4ms/step - loss: 0.0425 - accuracy: 0.9877\n",
      "model: 9 accuracy: 99.21 %\n"
     ]
    }
   ],
   "source": [
    "best_model, best_model_idx = evaluate_model(saved_models, X_test, y_test)"
   ]
  },
  {
   "cell_type": "markdown",
   "id": "MJG73eMssu2y",
   "metadata": {
    "id": "MJG73eMssu2y"
   },
   "source": [
    "# Trying different optimizers"
   ]
  },
  {
   "cell_type": "code",
   "execution_count": 38,
   "id": "2NExiLWEs25I",
   "metadata": {
    "colab": {
     "base_uri": "https://localhost:8080/"
    },
    "id": "2NExiLWEs25I",
    "outputId": "5534845e-5e02-4e58-bd2e-b90c83a6b311"
   },
   "outputs": [
    {
     "name": "stdout",
     "output_type": "stream",
     "text": [
      "Epoch 1/10\n",
      "1594/1594 [==============================] - 24s 14ms/step - loss: 0.1595 - accuracy: 0.9517 - val_loss: 0.0923 - val_accuracy: 0.9714\n",
      "Epoch 2/10\n",
      "1594/1594 [==============================] - 23s 14ms/step - loss: 0.0915 - accuracy: 0.9734 - val_loss: 0.1047 - val_accuracy: 0.9708\n",
      "Epoch 3/10\n",
      "1594/1594 [==============================] - 23s 14ms/step - loss: 0.0792 - accuracy: 0.9768 - val_loss: 0.0863 - val_accuracy: 0.9772\n",
      "Epoch 4/10\n",
      "1594/1594 [==============================] - 23s 14ms/step - loss: 0.0761 - accuracy: 0.9788 - val_loss: 0.0797 - val_accuracy: 0.9802\n",
      "Epoch 5/10\n",
      "1594/1594 [==============================] - 23s 15ms/step - loss: 0.0687 - accuracy: 0.9810 - val_loss: 0.0858 - val_accuracy: 0.9790\n",
      "Epoch 6/10\n",
      "1594/1594 [==============================] - 24s 15ms/step - loss: 0.0672 - accuracy: 0.9820 - val_loss: 0.0815 - val_accuracy: 0.9814\n",
      "Epoch 7/10\n",
      "1594/1594 [==============================] - 23s 14ms/step - loss: 0.0673 - accuracy: 0.9822 - val_loss: 0.1385 - val_accuracy: 0.9728\n",
      "Epoch 8/10\n",
      "1594/1594 [==============================] - 23s 14ms/step - loss: 0.0651 - accuracy: 0.9825 - val_loss: 0.0953 - val_accuracy: 0.9784\n",
      "Epoch 9/10\n",
      "1594/1594 [==============================] - 23s 14ms/step - loss: 0.0586 - accuracy: 0.9845 - val_loss: 0.1156 - val_accuracy: 0.9764\n",
      "Epoch 10/10\n",
      "1594/1594 [==============================] - 23s 15ms/step - loss: 0.0693 - accuracy: 0.9822 - val_loss: 0.1068 - val_accuracy: 0.9749\n"
     ]
    }
   ],
   "source": [
    "model_16 = keras.models.clone_model(best_model)\n",
    "model_16.compile(optimizer=opt_4, loss='categorical_crossentropy', metrics=['accuracy'])\n",
    "model_16_history = model_16.fit(X_train, y_train, epochs=10, batch_size=32, shuffle=True,validation_data=(X_val, y_val), verbose=1)\n",
    "saved_models.append(model_16)\n",
    "histories.append(model_16_history)"
   ]
  },
  {
   "cell_type": "code",
   "execution_count": 39,
   "id": "tlw1Bu6ztD-R",
   "metadata": {
    "colab": {
     "base_uri": "https://localhost:8080/"
    },
    "id": "tlw1Bu6ztD-R",
    "outputId": "b788a12e-9fc9-4612-effc-0629a6dc2ac6"
   },
   "outputs": [
    {
     "name": "stdout",
     "output_type": "stream",
     "text": [
      "Epoch 1/10\n",
      "1594/1594 [==============================] - 24s 15ms/step - loss: 0.2071 - accuracy: 0.9460 - val_loss: 0.1278 - val_accuracy: 0.9650\n",
      "Epoch 2/10\n",
      "1594/1594 [==============================] - 23s 14ms/step - loss: 0.1053 - accuracy: 0.9742 - val_loss: 0.1244 - val_accuracy: 0.9722\n",
      "Epoch 3/10\n",
      "1594/1594 [==============================] - 22s 14ms/step - loss: 0.0979 - accuracy: 0.9768 - val_loss: 0.1124 - val_accuracy: 0.9730\n",
      "Epoch 4/10\n",
      "1594/1594 [==============================] - 23s 14ms/step - loss: 0.0983 - accuracy: 0.9781 - val_loss: 0.1086 - val_accuracy: 0.9790\n",
      "Epoch 5/10\n",
      "1594/1594 [==============================] - 24s 15ms/step - loss: 0.1147 - accuracy: 0.9776 - val_loss: 0.1175 - val_accuracy: 0.9804\n",
      "Epoch 6/10\n",
      "1594/1594 [==============================] - 25s 15ms/step - loss: 0.1067 - accuracy: 0.9791 - val_loss: 0.0994 - val_accuracy: 0.9834\n",
      "Epoch 7/10\n",
      "1594/1594 [==============================] - 23s 15ms/step - loss: 0.1152 - accuracy: 0.9788 - val_loss: 0.1451 - val_accuracy: 0.9804\n",
      "Epoch 8/10\n",
      "1594/1594 [==============================] - 23s 14ms/step - loss: 0.1173 - accuracy: 0.9789 - val_loss: 0.1885 - val_accuracy: 0.9752\n",
      "Epoch 9/10\n",
      "1594/1594 [==============================] - 23s 14ms/step - loss: 0.1111 - accuracy: 0.9808 - val_loss: 0.1348 - val_accuracy: 0.9769\n",
      "Epoch 10/10\n",
      "1594/1594 [==============================] - 23s 15ms/step - loss: 0.1109 - accuracy: 0.9812 - val_loss: 0.2271 - val_accuracy: 0.9702\n"
     ]
    }
   ],
   "source": [
    "model_17 = keras.models.clone_model(best_model)\n",
    "model_17.compile(optimizer=opt_5, loss='categorical_crossentropy', metrics=['accuracy'])\n",
    "model_17_history = model_17.fit(X_train, y_train, epochs=10, batch_size=32, shuffle=True,validation_data=(X_val, y_val), verbose=1)\n",
    "saved_models.append(model_17)\n",
    "histories.append(model_17_history)"
   ]
  },
  {
   "cell_type": "code",
   "execution_count": 40,
   "id": "HUmk_ZImg0qx",
   "metadata": {
    "colab": {
     "base_uri": "https://localhost:8080/"
    },
    "id": "HUmk_ZImg0qx",
    "outputId": "3298b853-37a2-4213-ebbe-948209ccce6f"
   },
   "outputs": [
    {
     "name": "stdout",
     "output_type": "stream",
     "text": [
      "313/313 [==============================] - 1s 2ms/step - loss: 0.2593 - accuracy: 0.9276\n",
      "313/313 [==============================] - 1s 2ms/step - loss: 0.2149 - accuracy: 0.9413\n",
      "313/313 [==============================] - 1s 2ms/step - loss: 0.1872 - accuracy: 0.9462\n",
      "313/313 [==============================] - 1s 2ms/step - loss: 0.1070 - accuracy: 0.9840\n",
      "313/313 [==============================] - 1s 2ms/step - loss: 0.0416 - accuracy: 0.9870\n",
      "313/313 [==============================] - 1s 2ms/step - loss: 0.0363 - accuracy: 0.9903\n",
      "313/313 [==============================] - 1s 4ms/step - loss: 0.0435 - accuracy: 0.9913\n",
      "313/313 [==============================] - 0s 1ms/step - loss: 0.1091 - accuracy: 0.9707\n",
      "313/313 [==============================] - 1s 4ms/step - loss: 0.0371 - accuracy: 0.9921\n",
      "313/313 [==============================] - 2s 7ms/step - loss: 0.0571 - accuracy: 0.9875\n",
      "313/313 [==============================] - 1s 4ms/step - loss: 0.0473 - accuracy: 0.9910\n",
      "313/313 [==============================] - 1s 4ms/step - loss: 0.0397 - accuracy: 0.9898\n",
      "313/313 [==============================] - 1s 4ms/step - loss: 0.0335 - accuracy: 0.9896\n",
      "313/313 [==============================] - 1s 4ms/step - loss: 0.0561 - accuracy: 0.9875\n",
      "313/313 [==============================] - 1s 4ms/step - loss: 0.0425 - accuracy: 0.9877\n",
      "313/313 [==============================] - 1s 4ms/step - loss: 0.0981 - accuracy: 0.9768\n",
      "313/313 [==============================] - 1s 4ms/step - loss: 0.2057 - accuracy: 0.9739\n",
      "model: 9 accuracy: 99.21 %\n"
     ]
    }
   ],
   "source": [
    "best_model, best_model_idx = evaluate_model(saved_models, X_test, y_test)"
   ]
  },
  {
   "cell_type": "markdown",
   "id": "dF9wUeZKyUrV",
   "metadata": {
    "id": "dF9wUeZKyUrV"
   },
   "source": [
    "# Trying different dropout rates"
   ]
  },
  {
   "cell_type": "code",
   "execution_count": 41,
   "id": "KgbOhiYQyX3J",
   "metadata": {
    "id": "KgbOhiYQyX3J"
   },
   "outputs": [],
   "source": [
    "from keras.layers import Dropout"
   ]
  },
  {
   "cell_type": "code",
   "execution_count": 42,
   "id": "TeDcQcJ10GhB",
   "metadata": {
    "id": "TeDcQcJ10GhB"
   },
   "outputs": [],
   "source": [
    "model_18 = models.Sequential()\n",
    "model_18.add(layers.Conv2D(32, (3, 3), activation='relu', kernel_initializer='he_uniform', input_shape=(28, 28, 1)))\n",
    "model_18.add(layers.MaxPooling2D(pool_size=(2, 2), strides=(2, 2)))\n",
    "model.add(Dropout(0.4))\n",
    "model_18.add(layers.Conv2D(32, (3, 3), activation='relu', kernel_initializer='he_uniform'))\n",
    "model_18.add(layers.MaxPooling2D(pool_size=(2, 2), strides=(2, 2)))\n",
    "model_18.add(layers.Flatten())\n",
    "model_18.add(layers.Dense(64, activation='relu', kernel_initializer='he_uniform'))\n",
    "model_18.add(layers.Dense(32, activation='relu', kernel_initializer='he_uniform'))\n",
    "model.add(Dropout(0.4))\n",
    "model_18.add(layers.Dense(10, activation='softmax'))"
   ]
  },
  {
   "cell_type": "code",
   "execution_count": 43,
   "id": "ps977F84yYgi",
   "metadata": {
    "colab": {
     "base_uri": "https://localhost:8080/"
    },
    "id": "ps977F84yYgi",
    "outputId": "fce932e8-e575-472a-83b6-2efe4d7f1888"
   },
   "outputs": [
    {
     "name": "stdout",
     "output_type": "stream",
     "text": [
      "Epoch 1/10\n",
      "1594/1594 [==============================] - 19s 12ms/step - loss: 0.1829 - accuracy: 0.9424 - val_loss: 0.0754 - val_accuracy: 0.9779\n",
      "Epoch 2/10\n",
      "1594/1594 [==============================] - 19s 12ms/step - loss: 0.0565 - accuracy: 0.9828 - val_loss: 0.0473 - val_accuracy: 0.9860\n",
      "Epoch 3/10\n",
      "1594/1594 [==============================] - 19s 12ms/step - loss: 0.0392 - accuracy: 0.9874 - val_loss: 0.0379 - val_accuracy: 0.9876\n",
      "Epoch 4/10\n",
      "1594/1594 [==============================] - 20s 13ms/step - loss: 0.0299 - accuracy: 0.9905 - val_loss: 0.0438 - val_accuracy: 0.9868\n",
      "Epoch 5/10\n",
      "1594/1594 [==============================] - 22s 14ms/step - loss: 0.0235 - accuracy: 0.9925 - val_loss: 0.0358 - val_accuracy: 0.9904\n",
      "Epoch 6/10\n",
      "1594/1594 [==============================] - 20s 13ms/step - loss: 0.0183 - accuracy: 0.9939 - val_loss: 0.0332 - val_accuracy: 0.9908\n",
      "Epoch 7/10\n",
      "1594/1594 [==============================] - 20s 12ms/step - loss: 0.0143 - accuracy: 0.9955 - val_loss: 0.0339 - val_accuracy: 0.9912\n",
      "Epoch 8/10\n",
      "1594/1594 [==============================] - 20s 12ms/step - loss: 0.0122 - accuracy: 0.9958 - val_loss: 0.0389 - val_accuracy: 0.9902\n",
      "Epoch 9/10\n",
      "1594/1594 [==============================] - 20s 12ms/step - loss: 0.0103 - accuracy: 0.9965 - val_loss: 0.0357 - val_accuracy: 0.9910\n",
      "Epoch 10/10\n",
      "1594/1594 [==============================] - 19s 12ms/step - loss: 0.0080 - accuracy: 0.9973 - val_loss: 0.0364 - val_accuracy: 0.9908\n"
     ]
    }
   ],
   "source": [
    "opt_3 = optimizers.SGD(learning_rate=0.01, momentum=0.9)\n",
    "model_18.compile(optimizer=opt_3, loss='categorical_crossentropy', metrics=['accuracy'])\n",
    "model_18_history = model_18.fit(X_train, y_train, epochs=10, batch_size=32, shuffle=True,validation_data=(X_val, y_val), verbose=1)\n",
    "saved_models.append(model_18)\n",
    "histories.append(model_18_history)"
   ]
  },
  {
   "cell_type": "code",
   "execution_count": 44,
   "id": "Sn4-pa8X0GKh",
   "metadata": {
    "id": "Sn4-pa8X0GKh"
   },
   "outputs": [],
   "source": [
    "model_19 = models.Sequential()\n",
    "model_19.add(layers.Conv2D(32, (3, 3), activation='relu', kernel_initializer='he_uniform', input_shape=(28, 28, 1)))\n",
    "model_19.add(layers.MaxPooling2D(pool_size=(2, 2), strides=(2, 2)))\n",
    "model_19.add(layers.Conv2D(32, (3, 3), activation='relu', kernel_initializer='he_uniform'))\n",
    "model_19.add(layers.MaxPooling2D(pool_size=(2, 2), strides=(2, 2)))\n",
    "model_19.add(Dropout(0.4))\n",
    "model_19.add(layers.Flatten())\n",
    "model_19.add(layers.Dense(64, activation='relu', kernel_initializer='he_uniform'))\n",
    "model_19.add(Dropout(0.4))\n",
    "model_19.add(layers.Dense(32, activation='relu', kernel_initializer='he_uniform'))\n",
    "model_19.add(Dropout(0.4))\n",
    "model_19.add(layers.Dense(10, activation='softmax'))"
   ]
  },
  {
   "cell_type": "code",
   "execution_count": 45,
   "id": "DaSdMeCb0Dq3",
   "metadata": {
    "colab": {
     "base_uri": "https://localhost:8080/"
    },
    "id": "DaSdMeCb0Dq3",
    "outputId": "dd573898-a663-4170-ebf6-df6b0c45b1df"
   },
   "outputs": [
    {
     "name": "stdout",
     "output_type": "stream",
     "text": [
      "Epoch 1/10\n",
      "1594/1594 [==============================] - 21s 13ms/step - loss: 0.6996 - accuracy: 0.7766 - val_loss: 0.1198 - val_accuracy: 0.9693\n",
      "Epoch 2/10\n",
      "1594/1594 [==============================] - 20s 13ms/step - loss: 0.3106 - accuracy: 0.9139 - val_loss: 0.0882 - val_accuracy: 0.9766\n",
      "Epoch 3/10\n",
      "1594/1594 [==============================] - 20s 13ms/step - loss: 0.2509 - accuracy: 0.9340 - val_loss: 0.0788 - val_accuracy: 0.9786\n",
      "Epoch 4/10\n",
      "1594/1594 [==============================] - 21s 13ms/step - loss: 0.2144 - accuracy: 0.9419 - val_loss: 0.0629 - val_accuracy: 0.9846\n",
      "Epoch 5/10\n",
      "1594/1594 [==============================] - 20s 13ms/step - loss: 0.1899 - accuracy: 0.9482 - val_loss: 0.0560 - val_accuracy: 0.9843\n",
      "Epoch 6/10\n",
      "1594/1594 [==============================] - 20s 13ms/step - loss: 0.1797 - accuracy: 0.9521 - val_loss: 0.0519 - val_accuracy: 0.9867\n",
      "Epoch 7/10\n",
      "1594/1594 [==============================] - 20s 13ms/step - loss: 0.1668 - accuracy: 0.9551 - val_loss: 0.0544 - val_accuracy: 0.9864\n",
      "Epoch 8/10\n",
      "1594/1594 [==============================] - 20s 13ms/step - loss: 0.1615 - accuracy: 0.9563 - val_loss: 0.0527 - val_accuracy: 0.9857\n",
      "Epoch 9/10\n",
      "1594/1594 [==============================] - 20s 13ms/step - loss: 0.1574 - accuracy: 0.9573 - val_loss: 0.0458 - val_accuracy: 0.9871\n",
      "Epoch 10/10\n",
      "1594/1594 [==============================] - 20s 13ms/step - loss: 0.1487 - accuracy: 0.9600 - val_loss: 0.0552 - val_accuracy: 0.9851\n"
     ]
    }
   ],
   "source": [
    "opt_3 = optimizers.SGD(learning_rate=0.01, momentum=0.9)\n",
    "model_19.compile(optimizer=opt_3, loss='categorical_crossentropy', metrics=['accuracy'])\n",
    "model_19_history = model_19.fit(X_train, y_train, epochs=10, batch_size=32, shuffle=True,validation_data=(X_val, y_val), verbose=1)\n",
    "saved_models.append(model_19)\n",
    "histories.append(model_19_history)"
   ]
  },
  {
   "cell_type": "code",
   "execution_count": 46,
   "id": "_JEqrY5FTHWF",
   "metadata": {
    "id": "_JEqrY5FTHWF"
   },
   "outputs": [],
   "source": [
    "model_20 = models.Sequential()\n",
    "model_20.add(layers.Conv2D(32, (3, 3), activation='relu', kernel_initializer='he_uniform', input_shape=(28, 28, 1)))\n",
    "model_20.add(layers.MaxPooling2D(pool_size=(2, 2), strides=(2, 2)))\n",
    "model_20.add(Dropout(0.75))\n",
    "model_20.add(layers.Conv2D(32, (3, 3), activation='relu', kernel_initializer='he_uniform'))\n",
    "model_20.add(layers.MaxPooling2D(pool_size=(2, 2), strides=(2, 2)))\n",
    "model_20.add(layers.Flatten())\n",
    "model_20.add(layers.Dense(64, activation='relu', kernel_initializer='he_uniform'))\n",
    "model_20.add(layers.Dense(32, activation='relu', kernel_initializer='he_uniform'))\n",
    "model_20.add(Dropout(0.75))\n",
    "model_20.add(layers.Dense(10, activation='softmax'))"
   ]
  },
  {
   "cell_type": "code",
   "execution_count": 47,
   "id": "u4P8SmskTHSz",
   "metadata": {
    "colab": {
     "base_uri": "https://localhost:8080/"
    },
    "id": "u4P8SmskTHSz",
    "outputId": "8722ebf4-c5ce-4be1-b765-d14b2ade90a5"
   },
   "outputs": [
    {
     "name": "stdout",
     "output_type": "stream",
     "text": [
      "Epoch 1/10\n",
      "1594/1594 [==============================] - 22s 14ms/step - loss: 2.3098 - accuracy: 0.1112 - val_loss: 2.3030 - val_accuracy: 0.1101\n",
      "Epoch 2/10\n",
      "1594/1594 [==============================] - 21s 13ms/step - loss: 2.3019 - accuracy: 0.1110 - val_loss: 2.3023 - val_accuracy: 0.1101\n",
      "Epoch 3/10\n",
      "1594/1594 [==============================] - 21s 13ms/step - loss: 2.3020 - accuracy: 0.1117 - val_loss: 2.3019 - val_accuracy: 0.1101\n",
      "Epoch 4/10\n",
      "1594/1594 [==============================] - 21s 13ms/step - loss: 2.3019 - accuracy: 0.1111 - val_loss: 2.3020 - val_accuracy: 0.1101\n",
      "Epoch 5/10\n",
      "1594/1594 [==============================] - 21s 13ms/step - loss: 2.3020 - accuracy: 0.1110 - val_loss: 2.3016 - val_accuracy: 0.1101\n",
      "Epoch 6/10\n",
      "1594/1594 [==============================] - 21s 13ms/step - loss: 2.3018 - accuracy: 0.1119 - val_loss: 2.3026 - val_accuracy: 0.1101\n",
      "Epoch 7/10\n",
      "1594/1594 [==============================] - 21s 13ms/step - loss: 2.3019 - accuracy: 0.1118 - val_loss: 2.3024 - val_accuracy: 0.1101\n",
      "Epoch 8/10\n",
      "1594/1594 [==============================] - 24s 15ms/step - loss: 2.3019 - accuracy: 0.1112 - val_loss: 2.3019 - val_accuracy: 0.1101\n",
      "Epoch 9/10\n",
      "1594/1594 [==============================] - 22s 14ms/step - loss: 2.3019 - accuracy: 0.1113 - val_loss: 2.3025 - val_accuracy: 0.1101\n",
      "Epoch 10/10\n",
      "1594/1594 [==============================] - 21s 13ms/step - loss: 2.3020 - accuracy: 0.1120 - val_loss: 2.3019 - val_accuracy: 0.1101\n"
     ]
    }
   ],
   "source": [
    "opt_3 = optimizers.SGD(learning_rate=0.01, momentum=0.9)\n",
    "model_20.compile(optimizer=opt_3, loss='categorical_crossentropy', metrics=['accuracy'])\n",
    "model_20_history = model_20.fit(X_train, y_train, epochs=10, batch_size=32, shuffle=True,validation_data=(X_val, y_val), verbose=1)\n",
    "saved_models.append(model_20)\n",
    "histories.append(model_20_history)"
   ]
  },
  {
   "cell_type": "code",
   "execution_count": 48,
   "id": "302P0zoSTGko",
   "metadata": {
    "id": "302P0zoSTGko"
   },
   "outputs": [],
   "source": [
    "model_21 = models.Sequential()\n",
    "model_21.add(layers.Conv2D(32, (3, 3), activation='relu', kernel_initializer='he_uniform', input_shape=(28, 28, 1)))\n",
    "model_21.add(layers.MaxPooling2D(pool_size=(2, 2), strides=(2, 2)))\n",
    "model_21.add(layers.Conv2D(32, (3, 3), activation='relu', kernel_initializer='he_uniform'))\n",
    "model_21.add(layers.MaxPooling2D(pool_size=(2, 2), strides=(2, 2)))\n",
    "model_21.add(Dropout(0.75))\n",
    "model_21.add(layers.Flatten())\n",
    "model_21.add(layers.Dense(64, activation='relu', kernel_initializer='he_uniform'))\n",
    "model_21.add(Dropout(0.75))\n",
    "model_21.add(layers.Dense(32, activation='relu', kernel_initializer='he_uniform'))\n",
    "model_21.add(Dropout(0.75))\n",
    "model_21.add(layers.Dense(10, activation='softmax'))"
   ]
  },
  {
   "cell_type": "code",
   "execution_count": 49,
   "id": "y-kbmEKuTGeN",
   "metadata": {
    "colab": {
     "base_uri": "https://localhost:8080/"
    },
    "id": "y-kbmEKuTGeN",
    "outputId": "0cfb7dd6-7997-43d7-d3bb-aed6ad0e0eda"
   },
   "outputs": [
    {
     "name": "stdout",
     "output_type": "stream",
     "text": [
      "Epoch 1/10\n",
      "1594/1594 [==============================] - 20s 12ms/step - loss: 2.2466 - accuracy: 0.1491 - val_loss: 2.0413 - val_accuracy: 0.2524\n",
      "Epoch 2/10\n",
      "1594/1594 [==============================] - 20s 12ms/step - loss: 2.0592 - accuracy: 0.2285 - val_loss: 1.7862 - val_accuracy: 0.3947\n",
      "Epoch 3/10\n",
      "1594/1594 [==============================] - 19s 12ms/step - loss: 1.8469 - accuracy: 0.3184 - val_loss: 1.3363 - val_accuracy: 0.5078\n",
      "Epoch 4/10\n",
      "1594/1594 [==============================] - 19s 12ms/step - loss: 1.6523 - accuracy: 0.3900 - val_loss: 1.0411 - val_accuracy: 0.6452\n",
      "Epoch 5/10\n",
      "1594/1594 [==============================] - 19s 12ms/step - loss: 1.5592 - accuracy: 0.4278 - val_loss: 1.0258 - val_accuracy: 0.6483\n",
      "Epoch 6/10\n",
      "1594/1594 [==============================] - 19s 12ms/step - loss: 1.5041 - accuracy: 0.4524 - val_loss: 1.1042 - val_accuracy: 0.6078\n",
      "Epoch 7/10\n",
      "1594/1594 [==============================] - 19s 12ms/step - loss: 1.4819 - accuracy: 0.4656 - val_loss: 0.9038 - val_accuracy: 0.6766\n",
      "Epoch 8/10\n",
      "1594/1594 [==============================] - 19s 12ms/step - loss: 1.4530 - accuracy: 0.4757 - val_loss: 0.8609 - val_accuracy: 0.7251\n",
      "Epoch 9/10\n",
      "1594/1594 [==============================] - 19s 12ms/step - loss: 1.4344 - accuracy: 0.4860 - val_loss: 0.9081 - val_accuracy: 0.6969\n",
      "Epoch 10/10\n",
      "1594/1594 [==============================] - 19s 12ms/step - loss: 1.4111 - accuracy: 0.4919 - val_loss: 0.8414 - val_accuracy: 0.7359\n"
     ]
    }
   ],
   "source": [
    "opt_3 = optimizers.SGD(learning_rate=0.01, momentum=0.9)\n",
    "model_21.compile(optimizer=opt_3, loss='categorical_crossentropy', metrics=['accuracy'])\n",
    "model_21_history = model_21.fit(X_train, y_train, epochs=10, batch_size=32, shuffle=True,validation_data=(X_val, y_val), verbose=1)\n",
    "saved_models.append(model_21)\n",
    "histories.append(model_21_history)"
   ]
  },
  {
   "cell_type": "code",
   "execution_count": 50,
   "id": "h9lWSGQ5TGTO",
   "metadata": {
    "colab": {
     "base_uri": "https://localhost:8080/"
    },
    "id": "h9lWSGQ5TGTO",
    "outputId": "fc2154c8-3b65-4a0e-96cc-60201ac5402d"
   },
   "outputs": [
    {
     "name": "stdout",
     "output_type": "stream",
     "text": [
      "313/313 [==============================] - 1s 2ms/step - loss: 0.2593 - accuracy: 0.9276\n",
      "313/313 [==============================] - 1s 2ms/step - loss: 0.2149 - accuracy: 0.9413\n",
      "313/313 [==============================] - 1s 2ms/step - loss: 0.1872 - accuracy: 0.9462\n",
      "313/313 [==============================] - 1s 2ms/step - loss: 0.1070 - accuracy: 0.9840\n",
      "313/313 [==============================] - 1s 2ms/step - loss: 0.0416 - accuracy: 0.9870\n",
      "313/313 [==============================] - 1s 2ms/step - loss: 0.0363 - accuracy: 0.9903\n",
      "313/313 [==============================] - 1s 3ms/step - loss: 0.0435 - accuracy: 0.9913\n",
      "313/313 [==============================] - 0s 2ms/step - loss: 0.1091 - accuracy: 0.9707\n",
      "313/313 [==============================] - 1s 4ms/step - loss: 0.0371 - accuracy: 0.9921\n",
      "313/313 [==============================] - 2s 7ms/step - loss: 0.0571 - accuracy: 0.9875\n",
      "313/313 [==============================] - 1s 4ms/step - loss: 0.0473 - accuracy: 0.9910\n",
      "313/313 [==============================] - 1s 4ms/step - loss: 0.0397 - accuracy: 0.9898\n",
      "313/313 [==============================] - 1s 4ms/step - loss: 0.0335 - accuracy: 0.9896\n",
      "313/313 [==============================] - 1s 4ms/step - loss: 0.0561 - accuracy: 0.9875\n",
      "313/313 [==============================] - 1s 4ms/step - loss: 0.0425 - accuracy: 0.9877\n",
      "313/313 [==============================] - 1s 4ms/step - loss: 0.0981 - accuracy: 0.9768\n",
      "313/313 [==============================] - 1s 4ms/step - loss: 0.2057 - accuracy: 0.9739\n",
      "313/313 [==============================] - 1s 4ms/step - loss: 0.0404 - accuracy: 0.9896\n",
      "313/313 [==============================] - 1s 3ms/step - loss: 0.0508 - accuracy: 0.9854\n",
      "313/313 [==============================] - 1s 4ms/step - loss: 2.3013 - accuracy: 0.1135\n",
      "313/313 [==============================] - 1s 3ms/step - loss: 0.8157 - accuracy: 0.7489\n",
      "model: 9 accuracy: 99.21 %\n"
     ]
    }
   ],
   "source": [
    "best_model, best_model_idx = evaluate_model(saved_models, X_test, y_test)"
   ]
  },
  {
   "cell_type": "markdown",
   "id": "cnDDr4SkRNxI",
   "metadata": {
    "id": "cnDDr4SkRNxI"
   },
   "source": [
    "# Models Summary"
   ]
  },
  {
   "cell_type": "code",
   "execution_count": 51,
   "id": "Duzy_6BTi4ca",
   "metadata": {
    "colab": {
     "base_uri": "https://localhost:8080/"
    },
    "id": "Duzy_6BTi4ca",
    "outputId": "dfd8420e-49f1-48d2-f35e-fec02891f9d0"
   },
   "outputs": [
    {
     "name": "stdout",
     "output_type": "stream",
     "text": [
      "model: 1\n",
      "Model: \"sequential\"\n",
      "_________________________________________________________________\n",
      " Layer (type)                Output Shape              Param #   \n",
      "=================================================================\n",
      " conv2d (Conv2D)             (None, 12, 12, 64)        1664      \n",
      "                                                                 \n",
      " max_pooling2d (MaxPooling2D  (None, 6, 6, 64)         0         \n",
      " )                                                               \n",
      "                                                                 \n",
      " flatten (Flatten)           (None, 2304)              0         \n",
      "                                                                 \n",
      " dense (Dense)               (None, 64)                147520    \n",
      "                                                                 \n",
      " dense_1 (Dense)             (None, 10)                650       \n",
      "                                                                 \n",
      "=================================================================\n",
      "Total params: 149,834\n",
      "Trainable params: 149,834\n",
      "Non-trainable params: 0\n",
      "_________________________________________________________________\n",
      "model: 2\n",
      "Model: \"sequential\"\n",
      "_________________________________________________________________\n",
      " Layer (type)                Output Shape              Param #   \n",
      "=================================================================\n",
      " conv2d (Conv2D)             (None, 12, 12, 64)        1664      \n",
      "                                                                 \n",
      " max_pooling2d (MaxPooling2D  (None, 6, 6, 64)         0         \n",
      " )                                                               \n",
      "                                                                 \n",
      " flatten (Flatten)           (None, 2304)              0         \n",
      "                                                                 \n",
      " dense (Dense)               (None, 64)                147520    \n",
      "                                                                 \n",
      " dense_1 (Dense)             (None, 10)                650       \n",
      "                                                                 \n",
      "=================================================================\n",
      "Total params: 149,834\n",
      "Trainable params: 149,834\n",
      "Non-trainable params: 0\n",
      "_________________________________________________________________\n",
      "model: 3\n",
      "Model: \"sequential\"\n",
      "_________________________________________________________________\n",
      " Layer (type)                Output Shape              Param #   \n",
      "=================================================================\n",
      " conv2d (Conv2D)             (None, 12, 12, 64)        1664      \n",
      "                                                                 \n",
      " max_pooling2d (MaxPooling2D  (None, 6, 6, 64)         0         \n",
      " )                                                               \n",
      "                                                                 \n",
      " flatten (Flatten)           (None, 2304)              0         \n",
      "                                                                 \n",
      " dense (Dense)               (None, 64)                147520    \n",
      "                                                                 \n",
      " dense_1 (Dense)             (None, 10)                650       \n",
      "                                                                 \n",
      "=================================================================\n",
      "Total params: 149,834\n",
      "Trainable params: 149,834\n",
      "Non-trainable params: 0\n",
      "_________________________________________________________________\n",
      "model: 4\n",
      "Model: \"sequential\"\n",
      "_________________________________________________________________\n",
      " Layer (type)                Output Shape              Param #   \n",
      "=================================================================\n",
      " conv2d (Conv2D)             (None, 12, 12, 64)        1664      \n",
      "                                                                 \n",
      " max_pooling2d (MaxPooling2D  (None, 6, 6, 64)         0         \n",
      " )                                                               \n",
      "                                                                 \n",
      " flatten (Flatten)           (None, 2304)              0         \n",
      "                                                                 \n",
      " dense (Dense)               (None, 64)                147520    \n",
      "                                                                 \n",
      " dense_1 (Dense)             (None, 10)                650       \n",
      "                                                                 \n",
      "=================================================================\n",
      "Total params: 149,834\n",
      "Trainable params: 149,834\n",
      "Non-trainable params: 0\n",
      "_________________________________________________________________\n",
      "model: 5\n",
      "Model: \"sequential\"\n",
      "_________________________________________________________________\n",
      " Layer (type)                Output Shape              Param #   \n",
      "=================================================================\n",
      " conv2d (Conv2D)             (None, 12, 12, 64)        1664      \n",
      "                                                                 \n",
      " max_pooling2d (MaxPooling2D  (None, 6, 6, 64)         0         \n",
      " )                                                               \n",
      "                                                                 \n",
      " flatten (Flatten)           (None, 2304)              0         \n",
      "                                                                 \n",
      " dense (Dense)               (None, 64)                147520    \n",
      "                                                                 \n",
      " dense_1 (Dense)             (None, 10)                650       \n",
      "                                                                 \n",
      "=================================================================\n",
      "Total params: 149,834\n",
      "Trainable params: 149,834\n",
      "Non-trainable params: 0\n",
      "_________________________________________________________________\n",
      "model: 6\n",
      "Model: \"sequential\"\n",
      "_________________________________________________________________\n",
      " Layer (type)                Output Shape              Param #   \n",
      "=================================================================\n",
      " conv2d (Conv2D)             (None, 12, 12, 64)        1664      \n",
      "                                                                 \n",
      " max_pooling2d (MaxPooling2D  (None, 6, 6, 64)         0         \n",
      " )                                                               \n",
      "                                                                 \n",
      " flatten (Flatten)           (None, 2304)              0         \n",
      "                                                                 \n",
      " dense (Dense)               (None, 64)                147520    \n",
      "                                                                 \n",
      " dense_1 (Dense)             (None, 10)                650       \n",
      "                                                                 \n",
      "=================================================================\n",
      "Total params: 149,834\n",
      "Trainable params: 149,834\n",
      "Non-trainable params: 0\n",
      "_________________________________________________________________\n",
      "model: 7\n",
      "Model: \"sequential_1\"\n",
      "_________________________________________________________________\n",
      " Layer (type)                Output Shape              Param #   \n",
      "=================================================================\n",
      " conv2d_1 (Conv2D)           (None, 26, 26, 32)        320       \n",
      "                                                                 \n",
      " max_pooling2d_1 (MaxPooling  (None, 13, 13, 32)       0         \n",
      " 2D)                                                             \n",
      "                                                                 \n",
      " conv2d_2 (Conv2D)           (None, 11, 11, 32)        9248      \n",
      "                                                                 \n",
      " max_pooling2d_2 (MaxPooling  (None, 5, 5, 32)         0         \n",
      " 2D)                                                             \n",
      "                                                                 \n",
      " flatten_1 (Flatten)         (None, 800)               0         \n",
      "                                                                 \n",
      " dense_2 (Dense)             (None, 64)                51264     \n",
      "                                                                 \n",
      " dense_3 (Dense)             (None, 32)                2080      \n",
      "                                                                 \n"
     ]
    },
    {
     "name": "stdout",
     "output_type": "stream",
     "text": [
      " dense_4 (Dense)             (None, 10)                330       \n",
      "                                                                 \n",
      "=================================================================\n",
      "Total params: 63,242\n",
      "Trainable params: 63,242\n",
      "Non-trainable params: 0\n",
      "_________________________________________________________________\n",
      "model: 8\n",
      "Model: \"sequential_2\"\n",
      "_________________________________________________________________\n",
      " Layer (type)                Output Shape              Param #   \n",
      "=================================================================\n",
      " conv2d_3 (Conv2D)           (None, 13, 13, 16)        160       \n",
      "                                                                 \n",
      " max_pooling2d_3 (MaxPooling  (None, 6, 6, 16)         0         \n",
      " 2D)                                                             \n",
      "                                                                 \n",
      " conv2d_4 (Conv2D)           (None, 2, 2, 32)          4640      \n",
      "                                                                 \n",
      " max_pooling2d_4 (MaxPooling  (None, 1, 1, 32)         0         \n",
      " 2D)                                                             \n",
      "                                                                 \n",
      " flatten_2 (Flatten)         (None, 32)                0         \n",
      "                                                                 \n",
      " dense_5 (Dense)             (None, 64)                2112      \n",
      "                                                                 \n",
      " dense_6 (Dense)             (None, 32)                2080      \n",
      "                                                                 \n",
      " dense_7 (Dense)             (None, 10)                330       \n",
      "                                                                 \n",
      "=================================================================\n",
      "Total params: 9,322\n",
      "Trainable params: 9,322\n",
      "Non-trainable params: 0\n",
      "_________________________________________________________________\n",
      "model: 9\n",
      "Model: \"sequential_3\"\n",
      "_________________________________________________________________\n",
      " Layer (type)                Output Shape              Param #   \n",
      "=================================================================\n",
      " conv2d_5 (Conv2D)           (None, 26, 26, 32)        320       \n",
      "                                                                 \n",
      " max_pooling2d_5 (MaxPooling  (None, 13, 13, 32)       0         \n",
      " 2D)                                                             \n",
      "                                                                 \n",
      " conv2d_6 (Conv2D)           (None, 9, 9, 32)          25632     \n",
      "                                                                 \n",
      " max_pooling2d_6 (MaxPooling  (None, 4, 4, 32)         0         \n",
      " 2D)                                                             \n",
      "                                                                 \n",
      " flatten_3 (Flatten)         (None, 512)               0         \n",
      "                                                                 \n",
      " dense_8 (Dense)             (None, 32)                16416     \n",
      "                                                                 \n",
      " dense_9 (Dense)             (None, 10)                330       \n",
      "                                                                 \n",
      "=================================================================\n",
      "Total params: 42,698\n",
      "Trainable params: 42,698\n",
      "Non-trainable params: 0\n",
      "_________________________________________________________________\n",
      "model: 10\n",
      "Model: \"sequential_4\"\n",
      "_________________________________________________________________\n",
      " Layer (type)                Output Shape              Param #   \n",
      "=================================================================\n",
      " conv2d_7 (Conv2D)           (None, 26, 26, 128)       1280      \n",
      "                                                                 \n",
      " max_pooling2d_7 (MaxPooling  (None, 13, 13, 128)      0         \n",
      " 2D)                                                             \n",
      "                                                                 \n",
      " flatten_4 (Flatten)         (None, 21632)             0         \n",
      "                                                                 \n",
      " dense_10 (Dense)            (None, 32)                692256    \n",
      "                                                                 \n",
      " dense_11 (Dense)            (None, 10)                330       \n",
      "                                                                 \n",
      "=================================================================\n",
      "Total params: 693,866\n",
      "Trainable params: 693,866\n",
      "Non-trainable params: 0\n",
      "_________________________________________________________________\n",
      "model: 11\n",
      "Model: \"sequential_3\"\n",
      "_________________________________________________________________\n",
      " Layer (type)                Output Shape              Param #   \n",
      "=================================================================\n",
      " conv2d_5 (Conv2D)           (None, 26, 26, 32)        320       \n",
      "                                                                 \n",
      " max_pooling2d_5 (MaxPooling  (None, 13, 13, 32)       0         \n",
      " 2D)                                                             \n",
      "                                                                 \n",
      " conv2d_6 (Conv2D)           (None, 9, 9, 32)          25632     \n",
      "                                                                 \n",
      " max_pooling2d_6 (MaxPooling  (None, 4, 4, 32)         0         \n",
      " 2D)                                                             \n",
      "                                                                 \n",
      " flatten_3 (Flatten)         (None, 512)               0         \n",
      "                                                                 \n",
      " dense_8 (Dense)             (None, 32)                16416     \n",
      "                                                                 \n",
      " dense_9 (Dense)             (None, 10)                330       \n",
      "                                                                 \n",
      "=================================================================\n",
      "Total params: 42,698\n",
      "Trainable params: 42,698\n",
      "Non-trainable params: 0\n",
      "_________________________________________________________________\n",
      "model: 12\n",
      "Model: \"sequential_3\"\n",
      "_________________________________________________________________\n",
      " Layer (type)                Output Shape              Param #   \n",
      "=================================================================\n",
      " conv2d_5 (Conv2D)           (None, 26, 26, 32)        320       \n",
      "                                                                 \n",
      " max_pooling2d_5 (MaxPooling  (None, 13, 13, 32)       0         \n",
      " 2D)                                                             \n",
      "                                                                 \n",
      " conv2d_6 (Conv2D)           (None, 9, 9, 32)          25632     \n",
      "                                                                 \n",
      " max_pooling2d_6 (MaxPooling  (None, 4, 4, 32)         0         \n",
      " 2D)                                                             \n",
      "                                                                 \n",
      " flatten_3 (Flatten)         (None, 512)               0         \n",
      "                                                                 \n",
      " dense_8 (Dense)             (None, 32)                16416     \n",
      "                                                                 \n",
      " dense_9 (Dense)             (None, 10)                330       \n",
      "                                                                 \n",
      "=================================================================\n",
      "Total params: 42,698\n",
      "Trainable params: 42,698\n",
      "Non-trainable params: 0\n",
      "_________________________________________________________________\n",
      "model: 13\n",
      "Model: \"sequential_5\"\n",
      "_________________________________________________________________\n",
      " Layer (type)                Output Shape              Param #   \n",
      "=================================================================\n",
      " conv2d_8 (Conv2D)           (None, 26, 26, 32)        320       \n",
      "                                                                 \n",
      " max_pooling2d_8 (MaxPooling  (None, 13, 13, 32)       0         \n",
      " 2D)                                                             \n",
      "                                                                 \n",
      " conv2d_9 (Conv2D)           (None, 11, 11, 32)        9248      \n"
     ]
    },
    {
     "name": "stdout",
     "output_type": "stream",
     "text": [
      "                                                                 \n",
      " max_pooling2d_9 (MaxPooling  (None, 5, 5, 32)         0         \n",
      " 2D)                                                             \n",
      "                                                                 \n",
      " flatten_5 (Flatten)         (None, 800)               0         \n",
      "                                                                 \n",
      " dense_12 (Dense)            (None, 64)                51264     \n",
      "                                                                 \n",
      " dense_13 (Dense)            (None, 32)                2080      \n",
      "                                                                 \n",
      " dense_14 (Dense)            (None, 10)                330       \n",
      "                                                                 \n",
      "=================================================================\n",
      "Total params: 63,242\n",
      "Trainable params: 63,242\n",
      "Non-trainable params: 0\n",
      "_________________________________________________________________\n",
      "model: 14\n",
      "Model: \"sequential_6\"\n",
      "_________________________________________________________________\n",
      " Layer (type)                Output Shape              Param #   \n",
      "=================================================================\n",
      " conv2d_10 (Conv2D)          (None, 26, 26, 32)        320       \n",
      "                                                                 \n",
      " max_pooling2d_10 (MaxPoolin  (None, 13, 13, 32)       0         \n",
      " g2D)                                                            \n",
      "                                                                 \n",
      " conv2d_11 (Conv2D)          (None, 11, 11, 32)        9248      \n",
      "                                                                 \n",
      " max_pooling2d_11 (MaxPoolin  (None, 5, 5, 32)         0         \n",
      " g2D)                                                            \n",
      "                                                                 \n",
      " flatten_6 (Flatten)         (None, 800)               0         \n",
      "                                                                 \n",
      " dense_15 (Dense)            (None, 64)                51264     \n",
      "                                                                 \n",
      " dense_16 (Dense)            (None, 32)                2080      \n",
      "                                                                 \n",
      " dense_17 (Dense)            (None, 10)                330       \n",
      "                                                                 \n",
      "=================================================================\n",
      "Total params: 63,242\n",
      "Trainable params: 63,242\n",
      "Non-trainable params: 0\n",
      "_________________________________________________________________\n",
      "model: 15\n",
      "Model: \"sequential_7\"\n",
      "_________________________________________________________________\n",
      " Layer (type)                Output Shape              Param #   \n",
      "=================================================================\n",
      " conv2d_12 (Conv2D)          (None, 26, 26, 32)        320       \n",
      "                                                                 \n",
      " leaky_re_lu (LeakyReLU)     (None, 26, 26, 32)        0         \n",
      "                                                                 \n",
      " max_pooling2d_12 (MaxPoolin  (None, 13, 13, 32)       0         \n",
      " g2D)                                                            \n",
      "                                                                 \n",
      " conv2d_13 (Conv2D)          (None, 11, 11, 32)        9248      \n",
      "                                                                 \n",
      " leaky_re_lu_1 (LeakyReLU)   (None, 11, 11, 32)        0         \n",
      "                                                                 \n",
      " max_pooling2d_13 (MaxPoolin  (None, 5, 5, 32)         0         \n",
      " g2D)                                                            \n",
      "                                                                 \n",
      " flatten_7 (Flatten)         (None, 800)               0         \n",
      "                                                                 \n",
      " dense_18 (Dense)            (None, 64)                51264     \n",
      "                                                                 \n",
      " leaky_re_lu_2 (LeakyReLU)   (None, 64)                0         \n",
      "                                                                 \n",
      " dense_19 (Dense)            (None, 32)                2080      \n",
      "                                                                 \n",
      " leaky_re_lu_3 (LeakyReLU)   (None, 32)                0         \n",
      "                                                                 \n",
      " dense_20 (Dense)            (None, 10)                330       \n",
      "                                                                 \n",
      "=================================================================\n",
      "Total params: 63,242\n",
      "Trainable params: 63,242\n",
      "Non-trainable params: 0\n",
      "_________________________________________________________________\n",
      "model: 16\n",
      "Model: \"sequential_3\"\n",
      "_________________________________________________________________\n",
      " Layer (type)                Output Shape              Param #   \n",
      "=================================================================\n",
      " conv2d_5 (Conv2D)           (None, 26, 26, 32)        320       \n",
      "                                                                 \n",
      " max_pooling2d_5 (MaxPooling  (None, 13, 13, 32)       0         \n",
      " 2D)                                                             \n",
      "                                                                 \n",
      " conv2d_6 (Conv2D)           (None, 9, 9, 32)          25632     \n",
      "                                                                 \n",
      " max_pooling2d_6 (MaxPooling  (None, 4, 4, 32)         0         \n",
      " 2D)                                                             \n",
      "                                                                 \n",
      " flatten_3 (Flatten)         (None, 512)               0         \n",
      "                                                                 \n",
      " dense_8 (Dense)             (None, 32)                16416     \n",
      "                                                                 \n",
      " dense_9 (Dense)             (None, 10)                330       \n",
      "                                                                 \n",
      "=================================================================\n",
      "Total params: 42,698\n",
      "Trainable params: 42,698\n",
      "Non-trainable params: 0\n",
      "_________________________________________________________________\n",
      "model: 17\n",
      "Model: \"sequential_3\"\n",
      "_________________________________________________________________\n",
      " Layer (type)                Output Shape              Param #   \n",
      "=================================================================\n",
      " conv2d_5 (Conv2D)           (None, 26, 26, 32)        320       \n",
      "                                                                 \n",
      " max_pooling2d_5 (MaxPooling  (None, 13, 13, 32)       0         \n",
      " 2D)                                                             \n",
      "                                                                 \n",
      " conv2d_6 (Conv2D)           (None, 9, 9, 32)          25632     \n",
      "                                                                 \n",
      " max_pooling2d_6 (MaxPooling  (None, 4, 4, 32)         0         \n",
      " 2D)                                                             \n",
      "                                                                 \n",
      " flatten_3 (Flatten)         (None, 512)               0         \n",
      "                                                                 \n",
      " dense_8 (Dense)             (None, 32)                16416     \n",
      "                                                                 \n",
      " dense_9 (Dense)             (None, 10)                330       \n",
      "                                                                 \n",
      "=================================================================\n",
      "Total params: 42,698\n",
      "Trainable params: 42,698\n",
      "Non-trainable params: 0\n",
      "_________________________________________________________________\n",
      "model: 18\n",
      "Model: \"sequential_8\"\n",
      "_________________________________________________________________\n",
      " Layer (type)                Output Shape              Param #   \n",
      "=================================================================\n",
      " conv2d_14 (Conv2D)          (None, 26, 26, 32)        320       \n",
      "                                                                 \n",
      " max_pooling2d_14 (MaxPoolin  (None, 13, 13, 32)       0         \n",
      " g2D)                                                            \n"
     ]
    },
    {
     "name": "stdout",
     "output_type": "stream",
     "text": [
      "                                                                 \n",
      " conv2d_15 (Conv2D)          (None, 11, 11, 32)        9248      \n",
      "                                                                 \n",
      " max_pooling2d_15 (MaxPoolin  (None, 5, 5, 32)         0         \n",
      " g2D)                                                            \n",
      "                                                                 \n",
      " flatten_8 (Flatten)         (None, 800)               0         \n",
      "                                                                 \n",
      " dense_21 (Dense)            (None, 64)                51264     \n",
      "                                                                 \n",
      " dense_22 (Dense)            (None, 32)                2080      \n",
      "                                                                 \n",
      " dense_23 (Dense)            (None, 10)                330       \n",
      "                                                                 \n",
      "=================================================================\n",
      "Total params: 63,242\n",
      "Trainable params: 63,242\n",
      "Non-trainable params: 0\n",
      "_________________________________________________________________\n",
      "model: 19\n",
      "Model: \"sequential_9\"\n",
      "_________________________________________________________________\n",
      " Layer (type)                Output Shape              Param #   \n",
      "=================================================================\n",
      " conv2d_16 (Conv2D)          (None, 26, 26, 32)        320       \n",
      "                                                                 \n",
      " max_pooling2d_16 (MaxPoolin  (None, 13, 13, 32)       0         \n",
      " g2D)                                                            \n",
      "                                                                 \n",
      " conv2d_17 (Conv2D)          (None, 11, 11, 32)        9248      \n",
      "                                                                 \n",
      " max_pooling2d_17 (MaxPoolin  (None, 5, 5, 32)         0         \n",
      " g2D)                                                            \n",
      "                                                                 \n",
      " dropout_2 (Dropout)         (None, 5, 5, 32)          0         \n",
      "                                                                 \n",
      " flatten_9 (Flatten)         (None, 800)               0         \n",
      "                                                                 \n",
      " dense_24 (Dense)            (None, 64)                51264     \n",
      "                                                                 \n",
      " dropout_3 (Dropout)         (None, 64)                0         \n",
      "                                                                 \n",
      " dense_25 (Dense)            (None, 32)                2080      \n",
      "                                                                 \n",
      " dropout_4 (Dropout)         (None, 32)                0         \n",
      "                                                                 \n",
      " dense_26 (Dense)            (None, 10)                330       \n",
      "                                                                 \n",
      "=================================================================\n",
      "Total params: 63,242\n",
      "Trainable params: 63,242\n",
      "Non-trainable params: 0\n",
      "_________________________________________________________________\n",
      "model: 20\n",
      "Model: \"sequential_10\"\n",
      "_________________________________________________________________\n",
      " Layer (type)                Output Shape              Param #   \n",
      "=================================================================\n",
      " conv2d_18 (Conv2D)          (None, 26, 26, 32)        320       \n",
      "                                                                 \n",
      " max_pooling2d_18 (MaxPoolin  (None, 13, 13, 32)       0         \n",
      " g2D)                                                            \n",
      "                                                                 \n",
      " dropout_5 (Dropout)         (None, 13, 13, 32)        0         \n",
      "                                                                 \n",
      " conv2d_19 (Conv2D)          (None, 11, 11, 32)        9248      \n",
      "                                                                 \n",
      " max_pooling2d_19 (MaxPoolin  (None, 5, 5, 32)         0         \n",
      " g2D)                                                            \n",
      "                                                                 \n",
      " flatten_10 (Flatten)        (None, 800)               0         \n",
      "                                                                 \n",
      " dense_27 (Dense)            (None, 64)                51264     \n",
      "                                                                 \n",
      " dense_28 (Dense)            (None, 32)                2080      \n",
      "                                                                 \n",
      " dropout_6 (Dropout)         (None, 32)                0         \n",
      "                                                                 \n",
      " dense_29 (Dense)            (None, 10)                330       \n",
      "                                                                 \n",
      "=================================================================\n",
      "Total params: 63,242\n",
      "Trainable params: 63,242\n",
      "Non-trainable params: 0\n",
      "_________________________________________________________________\n",
      "model: 21\n",
      "Model: \"sequential_11\"\n",
      "_________________________________________________________________\n",
      " Layer (type)                Output Shape              Param #   \n",
      "=================================================================\n",
      " conv2d_20 (Conv2D)          (None, 26, 26, 32)        320       \n",
      "                                                                 \n",
      " max_pooling2d_20 (MaxPoolin  (None, 13, 13, 32)       0         \n",
      " g2D)                                                            \n",
      "                                                                 \n",
      " conv2d_21 (Conv2D)          (None, 11, 11, 32)        9248      \n",
      "                                                                 \n",
      " max_pooling2d_21 (MaxPoolin  (None, 5, 5, 32)         0         \n",
      " g2D)                                                            \n",
      "                                                                 \n",
      " dropout_7 (Dropout)         (None, 5, 5, 32)          0         \n",
      "                                                                 \n",
      " flatten_11 (Flatten)        (None, 800)               0         \n",
      "                                                                 \n",
      " dense_30 (Dense)            (None, 64)                51264     \n",
      "                                                                 \n",
      " dropout_8 (Dropout)         (None, 64)                0         \n",
      "                                                                 \n",
      " dense_31 (Dense)            (None, 32)                2080      \n",
      "                                                                 \n",
      " dropout_9 (Dropout)         (None, 32)                0         \n",
      "                                                                 \n",
      " dense_32 (Dense)            (None, 10)                330       \n",
      "                                                                 \n",
      "=================================================================\n",
      "Total params: 63,242\n",
      "Trainable params: 63,242\n",
      "Non-trainable params: 0\n",
      "_________________________________________________________________\n"
     ]
    }
   ],
   "source": [
    "summaries(saved_models)"
   ]
  },
  {
   "cell_type": "code",
   "execution_count": 52,
   "id": "10GdxhZwr1kE",
   "metadata": {
    "colab": {
     "base_uri": "https://localhost:8080/",
     "height": 324
    },
    "id": "10GdxhZwr1kE",
    "outputId": "1a37eec7-af75-4049-a7e8-1108b8ce8245"
   },
   "outputs": [
    {
     "data": {
      "image/png": "[encoded data removed]",
      "text/plain": [
       "<Figure size 576x360 with 1 Axes>"
      ]
     },
     "metadata": {
      "needs_background": "light"
     },
     "output_type": "display_data"
    }
   ],
   "source": [
    "import pandas as pd\n",
    "\n",
    "pd.DataFrame(histories[best_model_idx].history).plot(figsize=(8, 5))\n",
    "plt.grid(True)\n",
    "plt.gca().set_ylim(0, 1)\n",
    "\n",
    "plt.show()"
   ]
  },
  {
   "cell_type": "markdown",
   "id": "L2r1-Hq0Wf2z",
   "metadata": {
    "id": "L2r1-Hq0Wf2z"
   },
   "source": [
    "Summary of our best model, model 9 <br>\n",
    "number of epochs is 20 <br>\n",
    "size of batch is 32 <br>\n",
    "stochastic SGD with a learning rate of 0.1 and a momentum of 0.9 <br>\n",
    "we used ReLU as our activation fucntion in all the layers except for the outplut layer wher we used a softmax activation function <br>\n",
    "our architecture is as follow: <br>\n",
    "our first conc layer was 32 filters of size 3x3 followed by a max pool layer <br>\n",
    "the second conv layer is 32 filters of size 5x5 also followed by a max pool layer <br>\n",
    "we chose 1 FC layer consisting of 32 neurons followed by an output layer.\n",
    "\n"
   ]
  }
 ],
 "metadata": {
  "colab": {
   "collapsed_sections": [
    "8_zCodYOt9Kd",
    "oXfn9o7xuijs",
    "3J8hwjmlCxtp",
    "14UIOoXWzq_P",
    "1DOv_IDKZ1-G",
    "pSu91m-_bCB-",
    "MJG73eMssu2y",
    "dF9wUeZKyUrV"
   ],
   "include_colab_link": true,
   "name": "CNN.ipynb",
   "provenance": []
  },
  "kernelspec": {
   "display_name": "Python 3 (ipykernel)",
   "language": "python",
   "name": "python3"
  },
  "language_info": {
   "codemirror_mode": {
    "name": "ipython",
    "version": 3
   },
   "file_extension": ".py",
   "mimetype": "text/x-python",
   "name": "python",
   "nbconvert_exporter": "python",
   "pygments_lexer": "ipython3",
   "version": "3.9.7"
  }
 },
 "nbformat": 4,
 "nbformat_minor": 5
}
