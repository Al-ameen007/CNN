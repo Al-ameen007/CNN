{
 "cells": [
  {
   "cell_type": "code",
   "execution_count": 1,
   "id": "794a1cd9",
   "metadata": {},
   "outputs": [],
   "source": [
    "import numpy as np\n",
    "from matplotlib import pyplot as plt\n",
    "import tensorflow\n",
    "from tensorflow import keras"
   ]
  },
  {
   "cell_type": "code",
   "execution_count": 2,
   "id": "1fee0949",
   "metadata": {},
   "outputs": [],
   "source": [
    "from tensorflow.keras.datasets import mnist\n",
    "(X_train, y_train), (X_test, y_test) = mnist.load_data()"
   ]
  },
  {
   "cell_type": "code",
   "execution_count": 3,
   "id": "66db5679",
   "metadata": {},
   "outputs": [],
   "source": [
    "from tensorflow.keras.utils import to_categorical\n",
    "X_train = X_train.astype('float32') / 255.0\n",
    "X_test = X_test.astype('float32') / 255.0\n",
    "y_train = to_categorical(y_train)\n",
    "y_test = to_categorical(y_test)"
   ]
  },
  {
   "cell_type": "code",
   "execution_count": 4,
   "id": "c506d3b4",
   "metadata": {},
   "outputs": [],
   "source": [
    "from sklearn.model_selection import train_test_split\n",
    "X_train, X_val, y_train, y_val = train_test_split(X_train, y_train, test_size=0.15, random_state=42)"
   ]
  },
  {
   "cell_type": "code",
   "execution_count": 5,
   "id": "24e242ff",
   "metadata": {},
   "outputs": [],
   "source": [
    "from keras import models\n",
    "from keras import layers\n",
    "from tensorflow.keras import optimizers"
   ]
  },
  {
   "cell_type": "code",
   "execution_count": 6,
   "id": "46791caf",
   "metadata": {},
   "outputs": [],
   "source": [
    "model_1 = models.Sequential()\n",
    "model_1.add(layers.Conv2D(32, (3, 3), activation='relu', kernel_initializer='he_uniform', input_shape=(28, 28, 1)))\n",
    "model_1.add(layers.MaxPooling2D(pool_size=(2, 2), strides=(2, 2)))\n",
    "model_1.add(layers.Conv2D(32, (3, 3), activation='relu', kernel_initializer='he_uniform'))\n",
    "model_1.add(layers.MaxPooling2D(pool_size=(2, 2), strides=(2, 2)))\n",
    "model_1.add(layers.Flatten())\n",
    "model_1.add(layers.Dense(64, activation='relu', kernel_initializer='he_uniform'))\n",
    "model_1.add(layers.Dense(32, activation='relu', kernel_initializer='he_uniform'))\n",
    "model_1.add(layers.Dense(10, activation='softmax'))\n",
    "opt_1 = optimizers.SGD(learning_rate=0.05, momentum=0.9)\n",
    "model_1.compile(optimizer=opt_1, loss='categorical_crossentropy', metrics=['accuracy'])"
   ]
  },
  {
   "cell_type": "code",
   "execution_count": 7,
   "id": "b1d447f5",
   "metadata": {},
   "outputs": [
    {
     "name": "stdout",
     "output_type": "stream",
     "text": [
      "Epoch 1/10\n",
      "1594/1594 [==============================] - 23s 14ms/step - loss: 0.1968 - accuracy: 0.9413 - val_loss: 0.0777 - val_accuracy: 0.9783\n",
      "Epoch 2/10\n",
      "1594/1594 [==============================] - 24s 15ms/step - loss: 0.0864 - accuracy: 0.9760 - val_loss: 0.0722 - val_accuracy: 0.9811\n",
      "Epoch 3/10\n",
      "1594/1594 [==============================] - 24s 15ms/step - loss: 0.0720 - accuracy: 0.9807 - val_loss: 0.0695 - val_accuracy: 0.9813\n",
      "Epoch 4/10\n",
      "1594/1594 [==============================] - 23s 14ms/step - loss: 0.0618 - accuracy: 0.9837 - val_loss: 0.0796 - val_accuracy: 0.9798\n",
      "Epoch 5/10\n",
      "1594/1594 [==============================] - 24s 15ms/step - loss: 0.0494 - accuracy: 0.9869 - val_loss: 0.0648 - val_accuracy: 0.9818\n",
      "Epoch 6/10\n",
      "1594/1594 [==============================] - 22s 14ms/step - loss: 0.0513 - accuracy: 0.9867 - val_loss: 0.0677 - val_accuracy: 0.9849\n",
      "Epoch 7/10\n",
      "1594/1594 [==============================] - 22s 14ms/step - loss: 0.0464 - accuracy: 0.9882 - val_loss: 0.1758 - val_accuracy: 0.9692\n",
      "Epoch 8/10\n",
      "1594/1594 [==============================] - 27s 17ms/step - loss: 0.0514 - accuracy: 0.9869 - val_loss: 0.0797 - val_accuracy: 0.9843\n",
      "Epoch 9/10\n",
      "1594/1594 [==============================] - 24s 15ms/step - loss: 0.0409 - accuracy: 0.9899 - val_loss: 0.0830 - val_accuracy: 0.9827\n",
      "Epoch 10/10\n",
      "1594/1594 [==============================] - 23s 14ms/step - loss: 0.0429 - accuracy: 0.9894 - val_loss: 0.0973 - val_accuracy: 0.9846\n"
     ]
    }
   ],
   "source": [
    "history = model_1.fit(X_train, y_train, epochs=10, batch_size=32, shuffle=True,validation_data=(X_val, y_val), verbose=1)"
   ]
  },
  {
   "cell_type": "code",
   "execution_count": 8,
   "id": "25816a3d",
   "metadata": {},
   "outputs": [],
   "source": [
    "model_2 = model_1\n",
    "opt_2 = optimizers.SGD(learning_rate=0.001, momentum=0.9)\n",
    "model_2.compile(optimizer=opt_2, loss='categorical_crossentropy', metrics=['accuracy'])"
   ]
  },
  {
   "cell_type": "code",
   "execution_count": 9,
   "id": "b9087e04",
   "metadata": {},
   "outputs": [
    {
     "name": "stdout",
     "output_type": "stream",
     "text": [
      "Epoch 1/10\n",
      "1594/1594 [==============================] - 25s 15ms/step - loss: 0.0252 - accuracy: 0.9937 - val_loss: 0.0655 - val_accuracy: 0.9892\n",
      "Epoch 2/10\n",
      "1594/1594 [==============================] - 22s 14ms/step - loss: 0.0156 - accuracy: 0.9957 - val_loss: 0.0612 - val_accuracy: 0.9897\n",
      "Epoch 3/10\n",
      "1594/1594 [==============================] - 23s 14ms/step - loss: 0.0128 - accuracy: 0.9965 - val_loss: 0.0588 - val_accuracy: 0.9901\n",
      "Epoch 4/10\n",
      "1594/1594 [==============================] - 26s 17ms/step - loss: 0.0111 - accuracy: 0.9970 - val_loss: 0.0578 - val_accuracy: 0.9900\n",
      "Epoch 5/10\n",
      "1594/1594 [==============================] - 25s 15ms/step - loss: 0.0100 - accuracy: 0.9975 - val_loss: 0.0575 - val_accuracy: 0.9900\n",
      "Epoch 6/10\n",
      "1594/1594 [==============================] - 24s 15ms/step - loss: 0.0091 - accuracy: 0.9977 - val_loss: 0.0572 - val_accuracy: 0.9902\n",
      "Epoch 7/10\n",
      "1594/1594 [==============================] - 27s 17ms/step - loss: 0.0084 - accuracy: 0.9979 - val_loss: 0.0572 - val_accuracy: 0.9902\n",
      "Epoch 8/10\n",
      "1594/1594 [==============================] - 28s 17ms/step - loss: 0.0079 - accuracy: 0.9982 - val_loss: 0.0572 - val_accuracy: 0.9903\n",
      "Epoch 9/10\n",
      "1594/1594 [==============================] - 22s 14ms/step - loss: 0.0074 - accuracy: 0.9983 - val_loss: 0.0573 - val_accuracy: 0.9903\n",
      "Epoch 10/10\n",
      "1594/1594 [==============================] - 23s 14ms/step - loss: 0.0069 - accuracy: 0.9984 - val_loss: 0.0574 - val_accuracy: 0.9903\n"
     ]
    }
   ],
   "source": [
    "history = model_2.fit(X_train, y_train, epochs=10, batch_size=32, shuffle=True,validation_data=(X_val, y_val), verbose=1)"
   ]
  },
  {
   "cell_type": "code",
   "execution_count": 10,
   "id": "b4585d13",
   "metadata": {},
   "outputs": [],
   "source": [
    "model_3 = model_1\n",
    "opt_3 = optimizers.SGD(learning_rate=0.01, momentum=0.9)\n",
    "model_3.compile(optimizer=opt_3, loss='categorical_crossentropy', metrics=['accuracy'])"
   ]
  },
  {
   "cell_type": "code",
   "execution_count": 11,
   "id": "22eef90b",
   "metadata": {},
   "outputs": [
    {
     "name": "stdout",
     "output_type": "stream",
     "text": [
      "Epoch 1/10\n",
      "1594/1594 [==============================] - 22s 14ms/step - loss: 0.0076 - accuracy: 0.9980 - val_loss: 0.0575 - val_accuracy: 0.9903\n",
      "Epoch 2/10\n",
      "1594/1594 [==============================] - 25s 16ms/step - loss: 0.0052 - accuracy: 0.9987 - val_loss: 0.0617 - val_accuracy: 0.9902\n",
      "Epoch 3/10\n",
      "1594/1594 [==============================] - 22s 14ms/step - loss: 0.0037 - accuracy: 0.9991 - val_loss: 0.0625 - val_accuracy: 0.9908\n",
      "Epoch 4/10\n",
      "1594/1594 [==============================] - 22s 13ms/step - loss: 0.0031 - accuracy: 0.9992 - val_loss: 0.0664 - val_accuracy: 0.9904\n",
      "Epoch 5/10\n",
      "1594/1594 [==============================] - 26s 16ms/step - loss: 0.0025 - accuracy: 0.9994 - val_loss: 0.0666 - val_accuracy: 0.9907\n",
      "Epoch 6/10\n",
      "1594/1594 [==============================] - 23s 14ms/step - loss: 0.0021 - accuracy: 0.9995 - val_loss: 0.0702 - val_accuracy: 0.9910\n",
      "Epoch 7/10\n",
      "1594/1594 [==============================] - 23s 14ms/step - loss: 0.0019 - accuracy: 0.9996 - val_loss: 0.0705 - val_accuracy: 0.9913\n",
      "Epoch 8/10\n",
      "1594/1594 [==============================] - 24s 15ms/step - loss: 0.0016 - accuracy: 0.9996 - val_loss: 0.0717 - val_accuracy: 0.9912\n",
      "Epoch 9/10\n",
      "1594/1594 [==============================] - 22s 14ms/step - loss: 0.0014 - accuracy: 0.9996 - val_loss: 0.0738 - val_accuracy: 0.9913\n",
      "Epoch 10/10\n",
      "1594/1594 [==============================] - 24s 15ms/step - loss: 0.0014 - accuracy: 0.9996 - val_loss: 0.0757 - val_accuracy: 0.9909\n"
     ]
    }
   ],
   "source": [
    "history = model_3.fit(X_train, y_train, epochs=10, batch_size=32, shuffle=True,validation_data=(X_val, y_val), verbose=1)"
   ]
  },
  {
   "cell_type": "code",
   "execution_count": 18,
   "id": "2e501121",
   "metadata": {},
   "outputs": [
    {
     "name": "stdout",
     "output_type": "stream",
     "text": [
      "[0.06711140275001526, 0.9896000027656555] [0.06711140275001526, 0.9896000027656555] [0.06711140275001526, 0.9896000027656555]\n"
     ]
    }
   ],
   "source": [
    "acc_1 = model_1.evaluate(X_test, y_test, verbose=0)\n",
    "acc_2 = model_2.evaluate(X_test, y_test, verbose=0)\n",
    "acc_3 = model_3.evaluate(X_test, y_test, verbose=0)\n",
    "print(acc_1, acc_2, acc_3)"
   ]
  },
  {
   "cell_type": "code",
   "execution_count": null,
   "id": "42f32926",
   "metadata": {},
   "outputs": [],
   "source": []
  }
 ],
 "metadata": {
  "kernelspec": {
   "display_name": "Python 3 (ipykernel)",
   "language": "python",
   "name": "python3"
  },
  "language_info": {
   "codemirror_mode": {
    "name": "ipython",
    "version": 3
   },
   "file_extension": ".py",
   "mimetype": "text/x-python",
   "name": "python",
   "nbconvert_exporter": "python",
   "pygments_lexer": "ipython3",
   "version": "3.9.7"
  }
 },
 "nbformat": 4,
 "nbformat_minor": 5
}
