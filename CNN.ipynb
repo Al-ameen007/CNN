{
  "cells": [
    {
      "cell_type": "markdown",
      "metadata": {
        "id": "view-in-github",
        "colab_type": "text"
      },
      "source": [
        "<a href=\"https://colab.research.google.com/github/Al-ameen007/CNN/blob/main/CNN.ipynb\" target=\"_parent\"><img src=\"https://colab.research.google.com/assets/colab-badge.svg\" alt=\"Open In Colab\"/></a>"
      ]
    },
    {
      "cell_type": "markdown",
      "metadata": {
        "id": "8_zCodYOt9Kd"
      },
      "source": [
        "#Importing the data and some preprocessing"
      ],
      "id": "8_zCodYOt9Kd"
    },
    {
      "cell_type": "code",
      "execution_count": 1,
      "metadata": {
        "id": "794a1cd9"
      },
      "outputs": [],
      "source": [
        "import numpy as np\n",
        "from matplotlib import pyplot as plt\n",
        "import tensorflow\n",
        "from tensorflow import keras"
      ],
      "id": "794a1cd9"
    },
    {
      "cell_type": "code",
      "execution_count": 2,
      "metadata": {
        "id": "1fee0949",
        "colab": {
          "base_uri": "https://localhost:8080/"
        },
        "outputId": "7c16f338-1b3b-4543-a19a-7a0be61f6d89"
      },
      "outputs": [
        {
          "output_type": "stream",
          "name": "stdout",
          "text": [
            "Downloading data from https://storage.googleapis.com/tensorflow/tf-keras-datasets/mnist.npz\n",
            "11493376/11490434 [==============================] - 0s 0us/step\n",
            "11501568/11490434 [==============================] - 0s 0us/step\n"
          ]
        }
      ],
      "source": [
        "from tensorflow.keras.datasets import mnist\n",
        "(X_train, y_train), (X_test, y_test) = mnist.load_data()"
      ],
      "id": "1fee0949"
    },
    {
      "cell_type": "code",
      "execution_count": 3,
      "metadata": {
        "id": "66db5679"
      },
      "outputs": [],
      "source": [
        "# Normalizing the data and one-hot encoding the labels\n",
        "from tensorflow.keras.utils import to_categorical\n",
        "X_train = X_train.astype('float32') / 255.0\n",
        "X_test = X_test.astype('float32') / 255.0\n",
        "y_train = to_categorical(y_train)\n",
        "y_test = to_categorical(y_test)"
      ],
      "id": "66db5679"
    },
    {
      "cell_type": "code",
      "execution_count": 4,
      "metadata": {
        "id": "c506d3b4"
      },
      "outputs": [],
      "source": [
        "# Splitting the data into training and validation sets as we want to save the test set for the evaluation of the best model\n",
        "from sklearn.model_selection import train_test_split\n",
        "X_train, X_val, y_train, y_val = train_test_split(X_train, y_train, test_size=0.15, random_state=42)"
      ],
      "id": "c506d3b4"
    },
    {
      "cell_type": "code",
      "execution_count": 5,
      "metadata": {
        "id": "24e242ff"
      },
      "outputs": [],
      "source": [
        "from keras import models\n",
        "from keras import layers\n",
        "from tensorflow.keras import optimizers"
      ],
      "id": "24e242ff"
    },
    {
      "cell_type": "code",
      "execution_count": 6,
      "metadata": {
        "id": "w09_wooZP5os"
      },
      "outputs": [],
      "source": [
        "saved_models = []\n",
        "histories = []"
      ],
      "id": "w09_wooZP5os"
    },
    {
      "cell_type": "markdown",
      "metadata": {
        "id": "oXfn9o7xuijs"
      },
      "source": [
        "#Base Model"
      ],
      "id": "oXfn9o7xuijs"
    },
    {
      "cell_type": "code",
      "execution_count": 7,
      "metadata": {
        "id": "46791caf"
      },
      "outputs": [],
      "source": [
        "model = models.Sequential()\n",
        "model.add(layers.Conv2D(64, (5, 5), strides=(2, 2),activation='relu', kernel_initializer='truncated_normal', input_shape=(28, 28, 1)))\n",
        "model.add(layers.MaxPooling2D(pool_size=(2, 2), strides=(2, 2)))\n",
        "model.add(layers.Flatten())\n",
        "model.add(layers.Dense(64, activation='relu', kernel_initializer='he_uniform'))\n",
        "model.add(layers.Dense(10, activation='softmax'))"
      ],
      "id": "46791caf"
    },
    {
      "cell_type": "code",
      "execution_count": 8,
      "metadata": {
        "id": "o2qwrmHo8erm"
      },
      "outputs": [],
      "source": [
        "opt = optimizers.SGD(learning_rate=0.0001, momentum=0.9)\n",
        "opt_1 = optimizers.SGD(learning_rate=0.05, momentum=0.9)\n",
        "opt_2 = optimizers.SGD(learning_rate=0.001, momentum=0.9)\n",
        "opt_3 = optimizers.SGD(learning_rate=0.01, momentum=0.9)\n",
        "opt_4 = optimizers.Adam(learning_rate=0.01, beta_1=0.9, beta_2=0.999)\n",
        "opt_5 = optimizers.RMSprop(learning_rate=0.01, rho=0.9, momentum=0.1,)"
      ],
      "id": "o2qwrmHo8erm"
    },
    {
      "cell_type": "code",
      "execution_count": 9,
      "metadata": {
        "id": "YB5JmuuzDpiU"
      },
      "outputs": [],
      "source": [
        "def evaluate_model(saved_models, X, y):\n",
        "  best_model, best_model_idx = saved_models[0], 0\n",
        "  best_accuracy= (best_model.evaluate(X, y, verbose=1))[1]\n",
        "  for i in range(1, len(saved_models)):\n",
        "    loss, acc = saved_models[i].evaluate(X, y, verbose=1)\n",
        "    if acc > best_accuracy:\n",
        "      best_model, best_model_idx , best_accuracy= saved_models[i], i, acc\n",
        "  print('model: ' + str(best_model_idx + 1), 'accuracy: ' + str('%.2f'%(best_accuracy * 100) + ' %'))\n",
        "  return best_model, best_model_idx"
      ],
      "id": "YB5JmuuzDpiU"
    },
    {
      "cell_type": "code",
      "execution_count": 10,
      "metadata": {
        "id": "DTy9l7jbaR3u"
      },
      "outputs": [],
      "source": [
        "def summaries(saved_models):\n",
        "  for i in range(0, len(saved_models)):\n",
        "    print('model: ' + str(i + 1))\n",
        "    saved_models[i].summary()"
      ],
      "id": "DTy9l7jbaR3u"
    },
    {
      "cell_type": "markdown",
      "metadata": {
        "id": "3J8hwjmlCxtp"
      },
      "source": [
        "#Trying differnt number of epochs"
      ],
      "id": "3J8hwjmlCxtp"
    },
    {
      "cell_type": "code",
      "execution_count": 11,
      "metadata": {
        "colab": {
          "base_uri": "https://localhost:8080/"
        },
        "id": "3JLhPzqhC-v7",
        "outputId": "b6547917-246c-4e9a-b678-a72312ddd9ea"
      },
      "outputs": [
        {
          "output_type": "stream",
          "name": "stdout",
          "text": [
            "Epoch 1/10\n",
            "1594/1594 [==============================] - 28s 17ms/step - loss: 2.0725 - accuracy: 0.4577 - val_loss: 1.6860 - val_accuracy: 0.6969\n",
            "Epoch 2/10\n",
            "1594/1594 [==============================] - 17s 11ms/step - loss: 1.1577 - accuracy: 0.7608 - val_loss: 0.7856 - val_accuracy: 0.7986\n",
            "Epoch 3/10\n",
            "1594/1594 [==============================] - 17s 11ms/step - loss: 0.6376 - accuracy: 0.8350 - val_loss: 0.5375 - val_accuracy: 0.8528\n",
            "Epoch 4/10\n",
            "1594/1594 [==============================] - 17s 10ms/step - loss: 0.4832 - accuracy: 0.8695 - val_loss: 0.4384 - val_accuracy: 0.8799\n",
            "Epoch 5/10\n",
            "1594/1594 [==============================] - 17s 10ms/step - loss: 0.4122 - accuracy: 0.8874 - val_loss: 0.3860 - val_accuracy: 0.8904\n",
            "Epoch 6/10\n",
            "1594/1594 [==============================] - 16s 10ms/step - loss: 0.3700 - accuracy: 0.8969 - val_loss: 0.3510 - val_accuracy: 0.9013\n",
            "Epoch 7/10\n",
            "1594/1594 [==============================] - 17s 11ms/step - loss: 0.3413 - accuracy: 0.9046 - val_loss: 0.3257 - val_accuracy: 0.9089\n",
            "Epoch 8/10\n",
            "1594/1594 [==============================] - 17s 11ms/step - loss: 0.3202 - accuracy: 0.9096 - val_loss: 0.3074 - val_accuracy: 0.9126\n",
            "Epoch 9/10\n",
            "1594/1594 [==============================] - 17s 11ms/step - loss: 0.3033 - accuracy: 0.9133 - val_loss: 0.2915 - val_accuracy: 0.9173\n",
            "Epoch 10/10\n",
            "1594/1594 [==============================] - 17s 11ms/step - loss: 0.2888 - accuracy: 0.9172 - val_loss: 0.2801 - val_accuracy: 0.9211\n"
          ]
        }
      ],
      "source": [
        "model_1 = keras.models.clone_model(model)\n",
        "model_1.compile(optimizer=opt, loss='categorical_crossentropy', metrics=['accuracy'])\n",
        "model_1_history = model_1.fit(X_train, y_train, epochs=10, batch_size=32, shuffle=True,validation_data=(X_val, y_val), verbose=1)\n",
        "saved_models.append(model_1)\n",
        "histories.append(model_1_history)"
      ],
      "id": "3JLhPzqhC-v7"
    },
    {
      "cell_type": "code",
      "execution_count": 12,
      "metadata": {
        "colab": {
          "base_uri": "https://localhost:8080/"
        },
        "id": "32hYEF52DLGJ",
        "outputId": "1957466e-167c-483f-9102-83854d77a5d9"
      },
      "outputs": [
        {
          "output_type": "stream",
          "name": "stdout",
          "text": [
            "Epoch 1/15\n",
            "1594/1594 [==============================] - 17s 10ms/step - loss: 2.0953 - accuracy: 0.4286 - val_loss: 1.7679 - val_accuracy: 0.6372\n",
            "Epoch 2/15\n",
            "1594/1594 [==============================] - 16s 10ms/step - loss: 1.2606 - accuracy: 0.7366 - val_loss: 0.8585 - val_accuracy: 0.7999\n",
            "Epoch 3/15\n",
            "1594/1594 [==============================] - 16s 10ms/step - loss: 0.6755 - accuracy: 0.8337 - val_loss: 0.5632 - val_accuracy: 0.8506\n",
            "Epoch 4/15\n",
            "1594/1594 [==============================] - 17s 11ms/step - loss: 0.4985 - accuracy: 0.8688 - val_loss: 0.4540 - val_accuracy: 0.8773\n",
            "Epoch 5/15\n",
            "1594/1594 [==============================] - 17s 11ms/step - loss: 0.4235 - accuracy: 0.8837 - val_loss: 0.3981 - val_accuracy: 0.8904\n",
            "Epoch 6/15\n",
            "1594/1594 [==============================] - 16s 10ms/step - loss: 0.3816 - accuracy: 0.8934 - val_loss: 0.3632 - val_accuracy: 0.8973\n",
            "Epoch 7/15\n",
            "1594/1594 [==============================] - 16s 10ms/step - loss: 0.3536 - accuracy: 0.8997 - val_loss: 0.3386 - val_accuracy: 0.9039\n",
            "Epoch 8/15\n",
            "1594/1594 [==============================] - 16s 10ms/step - loss: 0.3328 - accuracy: 0.9048 - val_loss: 0.3207 - val_accuracy: 0.9074\n",
            "Epoch 9/15\n",
            "1594/1594 [==============================] - 16s 10ms/step - loss: 0.3161 - accuracy: 0.9086 - val_loss: 0.3051 - val_accuracy: 0.9128\n",
            "Epoch 10/15\n",
            "1594/1594 [==============================] - 17s 11ms/step - loss: 0.3021 - accuracy: 0.9131 - val_loss: 0.2915 - val_accuracy: 0.9164\n",
            "Epoch 11/15\n",
            "1594/1594 [==============================] - 17s 10ms/step - loss: 0.2899 - accuracy: 0.9163 - val_loss: 0.2807 - val_accuracy: 0.9203\n",
            "Epoch 12/15\n",
            "1594/1594 [==============================] - 17s 11ms/step - loss: 0.2788 - accuracy: 0.9202 - val_loss: 0.2696 - val_accuracy: 0.9232\n",
            "Epoch 13/15\n",
            "1594/1594 [==============================] - 17s 11ms/step - loss: 0.2686 - accuracy: 0.9231 - val_loss: 0.2604 - val_accuracy: 0.9260\n",
            "Epoch 14/15\n",
            "1594/1594 [==============================] - 17s 11ms/step - loss: 0.2592 - accuracy: 0.9257 - val_loss: 0.2509 - val_accuracy: 0.9286\n",
            "Epoch 15/15\n",
            "1594/1594 [==============================] - 17s 10ms/step - loss: 0.2504 - accuracy: 0.9288 - val_loss: 0.2430 - val_accuracy: 0.9299\n"
          ]
        }
      ],
      "source": [
        "model_2 = keras.models.clone_model(model)\n",
        "model_2.compile(optimizer=opt, loss='categorical_crossentropy', metrics=['accuracy'])\n",
        "model_2_history = model_2.fit(X_train, y_train, epochs=15, batch_size=32, shuffle=True,validation_data=(X_val, y_val), verbose=1)\n",
        "saved_models.append(model_2)\n",
        "histories.append(model_2_history)"
      ],
      "id": "32hYEF52DLGJ"
    },
    {
      "cell_type": "code",
      "execution_count": 13,
      "metadata": {
        "colab": {
          "base_uri": "https://localhost:8080/"
        },
        "id": "Dy6ABdwbDLzB",
        "outputId": "44b96071-e568-4611-d0c4-e945944def6d"
      },
      "outputs": [
        {
          "output_type": "stream",
          "name": "stdout",
          "text": [
            "Epoch 1/20\n",
            "1594/1594 [==============================] - 17s 11ms/step - loss: 2.1106 - accuracy: 0.4171 - val_loss: 1.8042 - val_accuracy: 0.6122\n",
            "Epoch 2/20\n",
            "1594/1594 [==============================] - 16s 10ms/step - loss: 1.3073 - accuracy: 0.7200 - val_loss: 0.8888 - val_accuracy: 0.7953\n",
            "Epoch 3/20\n",
            "1594/1594 [==============================] - 17s 11ms/step - loss: 0.6936 - accuracy: 0.8286 - val_loss: 0.5743 - val_accuracy: 0.8480\n",
            "Epoch 4/20\n",
            "1594/1594 [==============================] - 17s 11ms/step - loss: 0.5108 - accuracy: 0.8627 - val_loss: 0.4664 - val_accuracy: 0.8728\n",
            "Epoch 5/20\n",
            "1594/1594 [==============================] - 17s 11ms/step - loss: 0.4347 - accuracy: 0.8793 - val_loss: 0.4090 - val_accuracy: 0.8871\n",
            "Epoch 6/20\n",
            "1594/1594 [==============================] - 17s 10ms/step - loss: 0.3901 - accuracy: 0.8904 - val_loss: 0.3715 - val_accuracy: 0.8987\n",
            "Epoch 7/20\n",
            "1594/1594 [==============================] - 17s 10ms/step - loss: 0.3599 - accuracy: 0.8979 - val_loss: 0.3446 - val_accuracy: 0.9022\n",
            "Epoch 8/20\n",
            "1594/1594 [==============================] - 16s 10ms/step - loss: 0.3368 - accuracy: 0.9036 - val_loss: 0.3249 - val_accuracy: 0.9083\n",
            "Epoch 9/20\n",
            "1594/1594 [==============================] - 17s 11ms/step - loss: 0.3187 - accuracy: 0.9085 - val_loss: 0.3061 - val_accuracy: 0.9143\n",
            "Epoch 10/20\n",
            "1594/1594 [==============================] - 17s 10ms/step - loss: 0.3033 - accuracy: 0.9125 - val_loss: 0.2910 - val_accuracy: 0.9179\n",
            "Epoch 11/20\n",
            "1594/1594 [==============================] - 16s 10ms/step - loss: 0.2898 - accuracy: 0.9164 - val_loss: 0.2782 - val_accuracy: 0.9217\n",
            "Epoch 12/20\n",
            "1594/1594 [==============================] - 17s 10ms/step - loss: 0.2780 - accuracy: 0.9199 - val_loss: 0.2675 - val_accuracy: 0.9250\n",
            "Epoch 13/20\n",
            "1594/1594 [==============================] - 17s 10ms/step - loss: 0.2674 - accuracy: 0.9225 - val_loss: 0.2564 - val_accuracy: 0.9277\n",
            "Epoch 14/20\n",
            "1594/1594 [==============================] - 17s 10ms/step - loss: 0.2575 - accuracy: 0.9255 - val_loss: 0.2479 - val_accuracy: 0.9293\n",
            "Epoch 15/20\n",
            "1594/1594 [==============================] - 17s 10ms/step - loss: 0.2482 - accuracy: 0.9278 - val_loss: 0.2396 - val_accuracy: 0.9328\n",
            "Epoch 16/20\n",
            "1594/1594 [==============================] - 16s 10ms/step - loss: 0.2397 - accuracy: 0.9306 - val_loss: 0.2301 - val_accuracy: 0.9341\n",
            "Epoch 17/20\n",
            "1594/1594 [==============================] - 16s 10ms/step - loss: 0.2314 - accuracy: 0.9327 - val_loss: 0.2241 - val_accuracy: 0.9361\n",
            "Epoch 18/20\n",
            "1594/1594 [==============================] - 17s 10ms/step - loss: 0.2238 - accuracy: 0.9349 - val_loss: 0.2153 - val_accuracy: 0.9383\n",
            "Epoch 19/20\n",
            "1594/1594 [==============================] - 17s 10ms/step - loss: 0.2166 - accuracy: 0.9369 - val_loss: 0.2075 - val_accuracy: 0.9407\n",
            "Epoch 20/20\n",
            "1594/1594 [==============================] - 16s 10ms/step - loss: 0.2097 - accuracy: 0.9393 - val_loss: 0.2024 - val_accuracy: 0.9426\n"
          ]
        }
      ],
      "source": [
        "model_3 = keras.models.clone_model(model)\n",
        "model_3.compile(optimizer=opt, loss='categorical_crossentropy', metrics=['accuracy'])\n",
        "model_3_history = model_3.fit(X_train, y_train, epochs=20, batch_size=32, shuffle=True,validation_data=(X_val, y_val), verbose=1)\n",
        "saved_models.append(model_3)\n",
        "histories.append(model_3_history)"
      ],
      "id": "Dy6ABdwbDLzB"
    },
    {
      "cell_type": "code",
      "execution_count": 14,
      "metadata": {
        "colab": {
          "base_uri": "https://localhost:8080/"
        },
        "id": "sVzI96YfOMi8",
        "outputId": "34fb430b-59a1-4338-ab83-51bade6fc89c"
      },
      "outputs": [
        {
          "output_type": "stream",
          "name": "stdout",
          "text": [
            "313/313 [==============================] - 1s 4ms/step - loss: 0.2661 - accuracy: 0.9267\n",
            "313/313 [==============================] - 1s 4ms/step - loss: 0.2301 - accuracy: 0.9331\n",
            "313/313 [==============================] - 1s 4ms/step - loss: 0.1935 - accuracy: 0.9465\n",
            "model: 3 accuracy: 94.65 %\n"
          ]
        }
      ],
      "source": [
        "best_model, best_model_idx = evaluate_model(saved_models, X_test, y_test)"
      ],
      "id": "sVzI96YfOMi8"
    },
    {
      "cell_type": "markdown",
      "metadata": {
        "id": "14UIOoXWzq_P"
      },
      "source": [
        "#Trying different learning rates"
      ],
      "id": "14UIOoXWzq_P"
    },
    {
      "cell_type": "markdown",
      "metadata": {
        "id": "RPMCVs8lcWSY"
      },
      "source": [
        "Model 3 was our best model so far, using 20 epochs, so we take it and apply different learning rates to see if we can get better results."
      ],
      "id": "RPMCVs8lcWSY"
    },
    {
      "cell_type": "code",
      "execution_count": 15,
      "metadata": {
        "colab": {
          "base_uri": "https://localhost:8080/"
        },
        "id": "inBcvI_-uvbt",
        "outputId": "8b55978e-c35c-4229-ffb3-fb8513c5d3a0"
      },
      "outputs": [
        {
          "output_type": "stream",
          "name": "stdout",
          "text": [
            "Epoch 1/20\n",
            "1594/1594 [==============================] - 16s 10ms/step - loss: 0.1616 - accuracy: 0.9507 - val_loss: 0.0767 - val_accuracy: 0.9757\n",
            "Epoch 2/20\n",
            "1594/1594 [==============================] - 16s 10ms/step - loss: 0.0607 - accuracy: 0.9819 - val_loss: 0.0645 - val_accuracy: 0.9803\n",
            "Epoch 3/20\n",
            "1594/1594 [==============================] - 16s 10ms/step - loss: 0.0430 - accuracy: 0.9865 - val_loss: 0.0595 - val_accuracy: 0.9832\n",
            "Epoch 4/20\n",
            "1594/1594 [==============================] - 16s 10ms/step - loss: 0.0325 - accuracy: 0.9896 - val_loss: 0.0624 - val_accuracy: 0.9852\n",
            "Epoch 5/20\n",
            "1594/1594 [==============================] - 16s 10ms/step - loss: 0.0286 - accuracy: 0.9905 - val_loss: 0.0567 - val_accuracy: 0.9850\n",
            "Epoch 6/20\n",
            "1594/1594 [==============================] - 16s 10ms/step - loss: 0.0228 - accuracy: 0.9925 - val_loss: 0.0600 - val_accuracy: 0.9864\n",
            "Epoch 7/20\n",
            "1594/1594 [==============================] - 16s 10ms/step - loss: 0.0197 - accuracy: 0.9937 - val_loss: 0.0592 - val_accuracy: 0.9872\n",
            "Epoch 8/20\n",
            "1594/1594 [==============================] - 16s 10ms/step - loss: 0.0188 - accuracy: 0.9941 - val_loss: 0.0730 - val_accuracy: 0.9852\n",
            "Epoch 9/20\n",
            "1594/1594 [==============================] - 16s 10ms/step - loss: 0.0142 - accuracy: 0.9955 - val_loss: 0.0626 - val_accuracy: 0.9871\n",
            "Epoch 10/20\n",
            "1594/1594 [==============================] - 16s 10ms/step - loss: 0.0121 - accuracy: 0.9959 - val_loss: 0.0715 - val_accuracy: 0.9871\n",
            "Epoch 11/20\n",
            "1594/1594 [==============================] - 16s 10ms/step - loss: 0.0122 - accuracy: 0.9961 - val_loss: 0.0723 - val_accuracy: 0.9868\n",
            "Epoch 12/20\n",
            "1594/1594 [==============================] - 16s 10ms/step - loss: 0.0092 - accuracy: 0.9971 - val_loss: 0.0806 - val_accuracy: 0.9881\n",
            "Epoch 13/20\n",
            "1594/1594 [==============================] - 15s 10ms/step - loss: 0.0132 - accuracy: 0.9962 - val_loss: 0.0720 - val_accuracy: 0.9879\n",
            "Epoch 14/20\n",
            "1594/1594 [==============================] - 15s 10ms/step - loss: 0.0149 - accuracy: 0.9959 - val_loss: 0.0802 - val_accuracy: 0.9873\n",
            "Epoch 15/20\n",
            "1594/1594 [==============================] - 15s 10ms/step - loss: 0.0098 - accuracy: 0.9968 - val_loss: 0.1011 - val_accuracy: 0.9871\n",
            "Epoch 16/20\n",
            "1594/1594 [==============================] - 15s 10ms/step - loss: 0.0215 - accuracy: 0.9941 - val_loss: 0.0920 - val_accuracy: 0.9854\n",
            "Epoch 17/20\n",
            "1594/1594 [==============================] - 15s 9ms/step - loss: 0.0286 - accuracy: 0.9928 - val_loss: 0.1166 - val_accuracy: 0.9821\n",
            "Epoch 18/20\n",
            "1594/1594 [==============================] - 15s 9ms/step - loss: 0.0261 - accuracy: 0.9931 - val_loss: 0.1136 - val_accuracy: 0.9824\n",
            "Epoch 19/20\n",
            "1594/1594 [==============================] - 15s 10ms/step - loss: 0.0181 - accuracy: 0.9950 - val_loss: 0.1505 - val_accuracy: 0.9797\n",
            "Epoch 20/20\n",
            "1594/1594 [==============================] - 15s 10ms/step - loss: 0.0190 - accuracy: 0.9952 - val_loss: 0.1050 - val_accuracy: 0.9858\n"
          ]
        }
      ],
      "source": [
        "model_4 = keras.models.clone_model(best_model)\n",
        "opt_1 = optimizers.SGD(learning_rate=0.05, momentum=0.9)\n",
        "model_4.compile(optimizer=opt_1, loss='categorical_crossentropy', metrics=['accuracy'])\n",
        "model_4_history = model_4.fit(X_train, y_train, epochs=20, batch_size=32, shuffle=True,validation_data=(X_val, y_val), verbose=1)\n",
        "saved_models.append(model_4)\n",
        "histories.append(model_4_history)"
      ],
      "id": "inBcvI_-uvbt"
    },
    {
      "cell_type": "code",
      "execution_count": 16,
      "metadata": {
        "colab": {
          "base_uri": "https://localhost:8080/"
        },
        "id": "25816a3d",
        "outputId": "74482fdc-2182-42c6-866c-a65212d2a435"
      },
      "outputs": [
        {
          "output_type": "stream",
          "name": "stdout",
          "text": [
            "Epoch 1/20\n",
            "1594/1594 [==============================] - 16s 10ms/step - loss: 0.6496 - accuracy: 0.8267 - val_loss: 0.2904 - val_accuracy: 0.9169\n",
            "Epoch 2/20\n",
            "1594/1594 [==============================] - 16s 10ms/step - loss: 0.2511 - accuracy: 0.9263 - val_loss: 0.2062 - val_accuracy: 0.9388\n",
            "Epoch 3/20\n",
            "1594/1594 [==============================] - 16s 10ms/step - loss: 0.1854 - accuracy: 0.9465 - val_loss: 0.1559 - val_accuracy: 0.9562\n",
            "Epoch 4/20\n",
            "1594/1594 [==============================] - 16s 10ms/step - loss: 0.1455 - accuracy: 0.9582 - val_loss: 0.1279 - val_accuracy: 0.9631\n",
            "Epoch 5/20\n",
            "1594/1594 [==============================] - 16s 10ms/step - loss: 0.1197 - accuracy: 0.9653 - val_loss: 0.1084 - val_accuracy: 0.9698\n",
            "Epoch 6/20\n",
            "1594/1594 [==============================] - 16s 10ms/step - loss: 0.1025 - accuracy: 0.9705 - val_loss: 0.0965 - val_accuracy: 0.9721\n",
            "Epoch 7/20\n",
            "1594/1594 [==============================] - 16s 10ms/step - loss: 0.0898 - accuracy: 0.9736 - val_loss: 0.0857 - val_accuracy: 0.9760\n",
            "Epoch 8/20\n",
            "1594/1594 [==============================] - 16s 10ms/step - loss: 0.0809 - accuracy: 0.9762 - val_loss: 0.0811 - val_accuracy: 0.9773\n",
            "Epoch 9/20\n",
            "1594/1594 [==============================] - 16s 10ms/step - loss: 0.0739 - accuracy: 0.9782 - val_loss: 0.0766 - val_accuracy: 0.9784\n",
            "Epoch 10/20\n",
            "1594/1594 [==============================] - 16s 10ms/step - loss: 0.0682 - accuracy: 0.9800 - val_loss: 0.0699 - val_accuracy: 0.9804\n",
            "Epoch 11/20\n",
            "1594/1594 [==============================] - 16s 10ms/step - loss: 0.0633 - accuracy: 0.9815 - val_loss: 0.0714 - val_accuracy: 0.9796\n",
            "Epoch 12/20\n",
            "1594/1594 [==============================] - 16s 10ms/step - loss: 0.0591 - accuracy: 0.9829 - val_loss: 0.0660 - val_accuracy: 0.9808\n",
            "Epoch 13/20\n",
            "1594/1594 [==============================] - 16s 10ms/step - loss: 0.0551 - accuracy: 0.9842 - val_loss: 0.0610 - val_accuracy: 0.9830\n",
            "Epoch 14/20\n",
            "1594/1594 [==============================] - 16s 10ms/step - loss: 0.0522 - accuracy: 0.9847 - val_loss: 0.0629 - val_accuracy: 0.9819\n",
            "Epoch 15/20\n",
            "1594/1594 [==============================] - 16s 10ms/step - loss: 0.0496 - accuracy: 0.9857 - val_loss: 0.0582 - val_accuracy: 0.9836\n",
            "Epoch 16/20\n",
            "1594/1594 [==============================] - 16s 10ms/step - loss: 0.0471 - accuracy: 0.9862 - val_loss: 0.0553 - val_accuracy: 0.9832\n",
            "Epoch 17/20\n",
            "1594/1594 [==============================] - 17s 10ms/step - loss: 0.0450 - accuracy: 0.9867 - val_loss: 0.0558 - val_accuracy: 0.9833\n",
            "Epoch 18/20\n",
            "1594/1594 [==============================] - 16s 10ms/step - loss: 0.0429 - accuracy: 0.9872 - val_loss: 0.0534 - val_accuracy: 0.9847\n",
            "Epoch 19/20\n",
            "1594/1594 [==============================] - 16s 10ms/step - loss: 0.0406 - accuracy: 0.9883 - val_loss: 0.0525 - val_accuracy: 0.9842\n",
            "Epoch 20/20\n",
            "1594/1594 [==============================] - 16s 10ms/step - loss: 0.0389 - accuracy: 0.9886 - val_loss: 0.0526 - val_accuracy: 0.9846\n"
          ]
        }
      ],
      "source": [
        "model_5 = keras.models.clone_model(best_model)\n",
        "model_5.compile(optimizer=opt_2, loss='categorical_crossentropy', metrics=['accuracy'])\n",
        "model_5_history = model_5.fit(X_train, y_train, epochs=20, batch_size=32, shuffle=True,validation_data=(X_val, y_val), verbose=1)\n",
        "saved_models.append(model_5)\n",
        "histories.append(model_5_history)"
      ],
      "id": "25816a3d"
    },
    {
      "cell_type": "code",
      "execution_count": 17,
      "metadata": {
        "colab": {
          "base_uri": "https://localhost:8080/"
        },
        "id": "b4585d13",
        "outputId": "c782c501-c082-4c95-ad46-ecbda790c02b"
      },
      "outputs": [
        {
          "output_type": "stream",
          "name": "stdout",
          "text": [
            "Epoch 1/20\n",
            "1594/1594 [==============================] - 16s 10ms/step - loss: 0.2439 - accuracy: 0.9289 - val_loss: 0.0908 - val_accuracy: 0.9724\n",
            "Epoch 2/20\n",
            "1594/1594 [==============================] - 16s 10ms/step - loss: 0.0728 - accuracy: 0.9779 - val_loss: 0.0686 - val_accuracy: 0.9791\n",
            "Epoch 3/20\n",
            "1594/1594 [==============================] - 16s 10ms/step - loss: 0.0512 - accuracy: 0.9840 - val_loss: 0.0516 - val_accuracy: 0.9849\n",
            "Epoch 4/20\n",
            "1594/1594 [==============================] - 16s 10ms/step - loss: 0.0399 - accuracy: 0.9877 - val_loss: 0.0430 - val_accuracy: 0.9876\n",
            "Epoch 5/20\n",
            "1594/1594 [==============================] - 16s 10ms/step - loss: 0.0312 - accuracy: 0.9904 - val_loss: 0.0463 - val_accuracy: 0.9871\n",
            "Epoch 6/20\n",
            "1594/1594 [==============================] - 16s 10ms/step - loss: 0.0264 - accuracy: 0.9915 - val_loss: 0.0438 - val_accuracy: 0.9871\n",
            "Epoch 7/20\n",
            "1594/1594 [==============================] - 16s 10ms/step - loss: 0.0208 - accuracy: 0.9938 - val_loss: 0.0387 - val_accuracy: 0.9886\n",
            "Epoch 8/20\n",
            "1594/1594 [==============================] - 16s 10ms/step - loss: 0.0171 - accuracy: 0.9948 - val_loss: 0.0381 - val_accuracy: 0.9888\n",
            "Epoch 9/20\n",
            "1594/1594 [==============================] - 16s 10ms/step - loss: 0.0139 - accuracy: 0.9959 - val_loss: 0.0441 - val_accuracy: 0.9883\n",
            "Epoch 10/20\n",
            "1594/1594 [==============================] - 16s 10ms/step - loss: 0.0111 - accuracy: 0.9967 - val_loss: 0.0384 - val_accuracy: 0.9890\n",
            "Epoch 11/20\n",
            "1594/1594 [==============================] - 16s 10ms/step - loss: 0.0087 - accuracy: 0.9977 - val_loss: 0.0453 - val_accuracy: 0.9882\n",
            "Epoch 12/20\n",
            "1594/1594 [==============================] - 16s 10ms/step - loss: 0.0071 - accuracy: 0.9982 - val_loss: 0.0427 - val_accuracy: 0.9891\n",
            "Epoch 13/20\n",
            "1594/1594 [==============================] - 16s 10ms/step - loss: 0.0065 - accuracy: 0.9984 - val_loss: 0.0389 - val_accuracy: 0.9898\n",
            "Epoch 14/20\n",
            "1594/1594 [==============================] - 16s 10ms/step - loss: 0.0048 - accuracy: 0.9989 - val_loss: 0.0412 - val_accuracy: 0.9897\n",
            "Epoch 15/20\n",
            "1594/1594 [==============================] - 16s 10ms/step - loss: 0.0042 - accuracy: 0.9991 - val_loss: 0.0417 - val_accuracy: 0.9907\n",
            "Epoch 16/20\n",
            "1594/1594 [==============================] - 16s 10ms/step - loss: 0.0028 - accuracy: 0.9996 - val_loss: 0.0417 - val_accuracy: 0.9909\n",
            "Epoch 17/20\n",
            "1594/1594 [==============================] - 16s 10ms/step - loss: 0.0027 - accuracy: 0.9996 - val_loss: 0.0433 - val_accuracy: 0.9902\n",
            "Epoch 18/20\n",
            "1594/1594 [==============================] - 16s 10ms/step - loss: 0.0017 - accuracy: 0.9998 - val_loss: 0.0435 - val_accuracy: 0.9903\n",
            "Epoch 19/20\n",
            "1594/1594 [==============================] - 16s 10ms/step - loss: 0.0014 - accuracy: 0.9999 - val_loss: 0.0444 - val_accuracy: 0.9907\n",
            "Epoch 20/20\n",
            "1594/1594 [==============================] - 16s 10ms/step - loss: 0.0012 - accuracy: 0.9999 - val_loss: 0.0483 - val_accuracy: 0.9896\n"
          ]
        }
      ],
      "source": [
        "model_6 = keras.models.clone_model(best_model)\n",
        "model_6.compile(optimizer=opt_3, loss='categorical_crossentropy', metrics=['accuracy'])\n",
        "model_6_history = model_6.fit(X_train, y_train, epochs=20, batch_size=32, shuffle=True,validation_data=(X_val, y_val), verbose=1)\n",
        "saved_models.append(model_6)\n",
        "histories.append(model_6_history)"
      ],
      "id": "b4585d13"
    },
    {
      "cell_type": "code",
      "execution_count": 18,
      "metadata": {
        "colab": {
          "base_uri": "https://localhost:8080/"
        },
        "id": "ee9Ub2DSQ-1r",
        "outputId": "bc0eb1e2-f76f-48d7-853b-276e2baf5823"
      },
      "outputs": [
        {
          "output_type": "stream",
          "name": "stdout",
          "text": [
            "313/313 [==============================] - 1s 4ms/step - loss: 0.2661 - accuracy: 0.9267\n",
            "313/313 [==============================] - 1s 4ms/step - loss: 0.2301 - accuracy: 0.9331\n",
            "313/313 [==============================] - 1s 4ms/step - loss: 0.1935 - accuracy: 0.9465\n",
            "313/313 [==============================] - 1s 4ms/step - loss: 0.0952 - accuracy: 0.9863\n",
            "313/313 [==============================] - 1s 4ms/step - loss: 0.0454 - accuracy: 0.9856\n",
            "313/313 [==============================] - 1s 4ms/step - loss: 0.0401 - accuracy: 0.9895\n",
            "model: 6 accuracy: 98.95 %\n"
          ]
        }
      ],
      "source": [
        "best_model, best_model_idx = evaluate_model(saved_models, X_test, y_test)"
      ],
      "id": "ee9Ub2DSQ-1r"
    },
    {
      "cell_type": "markdown",
      "metadata": {
        "id": "lfacKEPLzw8o"
      },
      "source": [
        "#Trying different architectures"
      ],
      "id": "lfacKEPLzw8o"
    },
    {
      "cell_type": "markdown",
      "metadata": {
        "id": "-rpxMJOFdCvL"
      },
      "source": [
        "Our last model was our best model, with 20 epochs and a learning rate of 0.01, we will try and explore different architectures."
      ],
      "id": "-rpxMJOFdCvL"
    },
    {
      "cell_type": "code",
      "execution_count": 19,
      "metadata": {
        "id": "42f32926"
      },
      "outputs": [],
      "source": [
        "model_7 = models.Sequential()\n",
        "model_7.add(layers.Conv2D(32, (3, 3), activation='relu', kernel_initializer='he_uniform', input_shape=(28, 28, 1)))\n",
        "model_7.add(layers.MaxPooling2D(pool_size=(2, 2), strides=(2, 2)))\n",
        "model_7.add(layers.Conv2D(32, (3, 3), activation='relu', kernel_initializer='he_uniform'))\n",
        "model_7.add(layers.MaxPooling2D(pool_size=(2, 2), strides=(2, 2)))\n",
        "model_7.add(layers.Flatten())\n",
        "model_7.add(layers.Dense(64, activation='relu', kernel_initializer='he_uniform'))\n",
        "model_7.add(layers.Dense(32, activation='relu', kernel_initializer='he_uniform'))\n",
        "model_7.add(layers.Dense(10, activation='softmax'))"
      ],
      "id": "42f32926"
    },
    {
      "cell_type": "code",
      "execution_count": 20,
      "metadata": {
        "colab": {
          "base_uri": "https://localhost:8080/"
        },
        "id": "DwmF_ats2X5c",
        "outputId": "77d0f476-b00f-4980-c3ad-7e1cdfb5836d"
      },
      "outputs": [
        {
          "output_type": "stream",
          "name": "stdout",
          "text": [
            "Epoch 1/20\n",
            "1594/1594 [==============================] - 39s 24ms/step - loss: 0.1926 - accuracy: 0.9403 - val_loss: 0.0794 - val_accuracy: 0.9749\n",
            "Epoch 2/20\n",
            "1594/1594 [==============================] - 39s 25ms/step - loss: 0.0622 - accuracy: 0.9807 - val_loss: 0.0579 - val_accuracy: 0.9818\n",
            "Epoch 3/20\n",
            "1594/1594 [==============================] - 39s 25ms/step - loss: 0.0424 - accuracy: 0.9869 - val_loss: 0.0544 - val_accuracy: 0.9827\n",
            "Epoch 4/20\n",
            "1594/1594 [==============================] - 39s 25ms/step - loss: 0.0333 - accuracy: 0.9892 - val_loss: 0.0420 - val_accuracy: 0.9880\n",
            "Epoch 5/20\n",
            "1594/1594 [==============================] - 39s 25ms/step - loss: 0.0245 - accuracy: 0.9919 - val_loss: 0.0400 - val_accuracy: 0.9881\n",
            "Epoch 6/20\n",
            "1594/1594 [==============================] - 39s 25ms/step - loss: 0.0201 - accuracy: 0.9935 - val_loss: 0.0421 - val_accuracy: 0.9883\n",
            "Epoch 7/20\n",
            "1594/1594 [==============================] - 40s 25ms/step - loss: 0.0169 - accuracy: 0.9945 - val_loss: 0.0533 - val_accuracy: 0.9870\n",
            "Epoch 8/20\n",
            "1594/1594 [==============================] - 40s 25ms/step - loss: 0.0138 - accuracy: 0.9958 - val_loss: 0.0412 - val_accuracy: 0.9884\n",
            "Epoch 9/20\n",
            "1594/1594 [==============================] - 40s 25ms/step - loss: 0.0099 - accuracy: 0.9972 - val_loss: 0.0465 - val_accuracy: 0.9886\n",
            "Epoch 10/20\n",
            "1594/1594 [==============================] - 39s 25ms/step - loss: 0.0109 - accuracy: 0.9964 - val_loss: 0.0421 - val_accuracy: 0.9897\n",
            "Epoch 11/20\n",
            "1594/1594 [==============================] - 39s 25ms/step - loss: 0.0107 - accuracy: 0.9965 - val_loss: 0.0445 - val_accuracy: 0.9884\n",
            "Epoch 12/20\n",
            "1594/1594 [==============================] - 39s 25ms/step - loss: 0.0079 - accuracy: 0.9975 - val_loss: 0.0484 - val_accuracy: 0.9879\n",
            "Epoch 13/20\n",
            "1594/1594 [==============================] - 39s 25ms/step - loss: 0.0061 - accuracy: 0.9980 - val_loss: 0.0451 - val_accuracy: 0.9900\n",
            "Epoch 14/20\n",
            "1594/1594 [==============================] - 40s 25ms/step - loss: 0.0053 - accuracy: 0.9981 - val_loss: 0.0453 - val_accuracy: 0.9900\n",
            "Epoch 15/20\n",
            "1594/1594 [==============================] - 40s 25ms/step - loss: 0.0045 - accuracy: 0.9983 - val_loss: 0.0587 - val_accuracy: 0.9860\n",
            "Epoch 16/20\n",
            "1594/1594 [==============================] - 40s 25ms/step - loss: 0.0054 - accuracy: 0.9982 - val_loss: 0.0556 - val_accuracy: 0.9864\n",
            "Epoch 17/20\n",
            "1594/1594 [==============================] - 39s 25ms/step - loss: 0.0064 - accuracy: 0.9976 - val_loss: 0.0511 - val_accuracy: 0.9888\n",
            "Epoch 18/20\n",
            "1594/1594 [==============================] - 39s 25ms/step - loss: 0.0022 - accuracy: 0.9993 - val_loss: 0.0503 - val_accuracy: 0.9903\n",
            "Epoch 19/20\n",
            "1594/1594 [==============================] - 39s 24ms/step - loss: 0.0011 - accuracy: 0.9997 - val_loss: 0.0407 - val_accuracy: 0.9920\n",
            "Epoch 20/20\n",
            "1594/1594 [==============================] - 40s 25ms/step - loss: 3.3999e-04 - accuracy: 1.0000 - val_loss: 0.0448 - val_accuracy: 0.9924\n"
          ]
        }
      ],
      "source": [
        "model_7.compile(optimizer=opt_3, loss='categorical_crossentropy', metrics=['accuracy'])\n",
        "model_7_history = model_7.fit(X_train, y_train, epochs=20, batch_size=32, shuffle=True,validation_data=(X_val, y_val), verbose=1)\n",
        "saved_models.append(model_7)\n",
        "histories.append(model_7_history)"
      ],
      "id": "DwmF_ats2X5c"
    },
    {
      "cell_type": "code",
      "execution_count": 21,
      "metadata": {
        "id": "WqT_Zr8uQUK2"
      },
      "outputs": [],
      "source": [
        "model_8 = models.Sequential()\n",
        "model_8.add(layers.Conv2D(16, (3, 3), strides = (2, 2),activation='relu', kernel_initializer='he_uniform', input_shape=(28, 28, 1)))\n",
        "model_8.add(layers.MaxPooling2D(pool_size=(2, 2), strides=(2, 2)))\n",
        "model_8.add(layers.Conv2D(32, (3, 3), strides = (2, 2),activation='relu', kernel_initializer='he_uniform'))\n",
        "model_8.add(layers.MaxPooling2D(pool_size=(2, 2), strides=(2, 2)))\n",
        "model_8.add(layers.Flatten())\n",
        "model_8.add(layers.Dense(64, activation='relu', kernel_initializer='he_uniform'))\n",
        "model_8.add(layers.Dense(32, activation='relu', kernel_initializer='he_uniform'))\n",
        "model_8.add(layers.Dense(10, activation='softmax'))"
      ],
      "id": "WqT_Zr8uQUK2"
    },
    {
      "cell_type": "code",
      "execution_count": 22,
      "metadata": {
        "colab": {
          "base_uri": "https://localhost:8080/"
        },
        "id": "3-k560kDQVps",
        "outputId": "90e5bbc8-8f28-48db-ac17-d125661523a6"
      },
      "outputs": [
        {
          "output_type": "stream",
          "name": "stdout",
          "text": [
            "Epoch 1/20\n",
            "1594/1594 [==============================] - 9s 6ms/step - loss: 0.4269 - accuracy: 0.8629 - val_loss: 0.1893 - val_accuracy: 0.9407\n",
            "Epoch 2/20\n",
            "1594/1594 [==============================] - 9s 6ms/step - loss: 0.1767 - accuracy: 0.9458 - val_loss: 0.1715 - val_accuracy: 0.9476\n",
            "Epoch 3/20\n",
            "1594/1594 [==============================] - 9s 5ms/step - loss: 0.1417 - accuracy: 0.9558 - val_loss: 0.1437 - val_accuracy: 0.9571\n",
            "Epoch 4/20\n",
            "1594/1594 [==============================] - 8s 5ms/step - loss: 0.1204 - accuracy: 0.9626 - val_loss: 0.1315 - val_accuracy: 0.9611\n",
            "Epoch 5/20\n",
            "1594/1594 [==============================] - 9s 5ms/step - loss: 0.1066 - accuracy: 0.9666 - val_loss: 0.1274 - val_accuracy: 0.9612\n",
            "Epoch 6/20\n",
            "1594/1594 [==============================] - 9s 6ms/step - loss: 0.0987 - accuracy: 0.9688 - val_loss: 0.1376 - val_accuracy: 0.9591\n",
            "Epoch 7/20\n",
            "1594/1594 [==============================] - 9s 6ms/step - loss: 0.0903 - accuracy: 0.9711 - val_loss: 0.1213 - val_accuracy: 0.9638\n",
            "Epoch 8/20\n",
            "1594/1594 [==============================] - 9s 6ms/step - loss: 0.0829 - accuracy: 0.9735 - val_loss: 0.1157 - val_accuracy: 0.9637\n",
            "Epoch 9/20\n",
            "1594/1594 [==============================] - 9s 5ms/step - loss: 0.0756 - accuracy: 0.9761 - val_loss: 0.1052 - val_accuracy: 0.9679\n",
            "Epoch 10/20\n",
            "1594/1594 [==============================] - 10s 6ms/step - loss: 0.0713 - accuracy: 0.9773 - val_loss: 0.1037 - val_accuracy: 0.9707\n",
            "Epoch 11/20\n",
            "1594/1594 [==============================] - 9s 6ms/step - loss: 0.0673 - accuracy: 0.9784 - val_loss: 0.1058 - val_accuracy: 0.9684\n",
            "Epoch 12/20\n",
            "1594/1594 [==============================] - 9s 6ms/step - loss: 0.0664 - accuracy: 0.9787 - val_loss: 0.1163 - val_accuracy: 0.9643\n",
            "Epoch 13/20\n",
            "1594/1594 [==============================] - 9s 6ms/step - loss: 0.0614 - accuracy: 0.9805 - val_loss: 0.1201 - val_accuracy: 0.9646\n",
            "Epoch 14/20\n",
            "1594/1594 [==============================] - 9s 6ms/step - loss: 0.0580 - accuracy: 0.9811 - val_loss: 0.1154 - val_accuracy: 0.9660\n",
            "Epoch 15/20\n",
            "1594/1594 [==============================] - 9s 6ms/step - loss: 0.0580 - accuracy: 0.9821 - val_loss: 0.0977 - val_accuracy: 0.9739\n",
            "Epoch 16/20\n",
            "1594/1594 [==============================] - 9s 6ms/step - loss: 0.0527 - accuracy: 0.9833 - val_loss: 0.1107 - val_accuracy: 0.9676\n",
            "Epoch 17/20\n",
            "1594/1594 [==============================] - 9s 6ms/step - loss: 0.0501 - accuracy: 0.9837 - val_loss: 0.1146 - val_accuracy: 0.9682\n",
            "Epoch 18/20\n",
            "1594/1594 [==============================] - 9s 6ms/step - loss: 0.0501 - accuracy: 0.9837 - val_loss: 0.1148 - val_accuracy: 0.9668\n",
            "Epoch 19/20\n",
            "1594/1594 [==============================] - 9s 6ms/step - loss: 0.0479 - accuracy: 0.9844 - val_loss: 0.1003 - val_accuracy: 0.9711\n",
            "Epoch 20/20\n",
            "1594/1594 [==============================] - 9s 6ms/step - loss: 0.0474 - accuracy: 0.9845 - val_loss: 0.1149 - val_accuracy: 0.9682\n"
          ]
        }
      ],
      "source": [
        "model_8.compile(optimizer=opt_3, loss='categorical_crossentropy', metrics=['accuracy'])\n",
        "model_8_history = model_8.fit(X_train, y_train, epochs=20, batch_size=32, shuffle=True,validation_data=(X_val, y_val), verbose=1)\n",
        "saved_models.append(model_8)\n",
        "histories.append(model_8_history)"
      ],
      "id": "3-k560kDQVps"
    },
    {
      "cell_type": "code",
      "execution_count": 23,
      "metadata": {
        "id": "abGTXD6xQWJy"
      },
      "outputs": [],
      "source": [
        "model_9 = models.Sequential()\n",
        "model_9.add(layers.Conv2D(32, (3, 3), activation='relu', kernel_initializer='he_uniform', input_shape=(28, 28, 1)))\n",
        "model_9.add(layers.MaxPooling2D(pool_size=(2, 2), strides=(2, 2)))\n",
        "model_9.add(layers.Conv2D(32, (5, 5), activation='relu', kernel_initializer='he_uniform'))\n",
        "model_9.add(layers.MaxPooling2D(pool_size=(2, 2), strides=(2, 2)))\n",
        "model_9.add(layers.Flatten())\n",
        "model_9.add(layers.Dense(32, activation='relu', kernel_initializer='he_uniform'))\n",
        "model_9.add(layers.Dense(10, activation='softmax'))"
      ],
      "id": "abGTXD6xQWJy"
    },
    {
      "cell_type": "code",
      "execution_count": 24,
      "metadata": {
        "colab": {
          "base_uri": "https://localhost:8080/"
        },
        "id": "5S8gC_2vQXXQ",
        "outputId": "1f793731-ef28-4e76-a0e2-f29cc311e391"
      },
      "outputs": [
        {
          "output_type": "stream",
          "name": "stdout",
          "text": [
            "Epoch 1/20\n",
            "1594/1594 [==============================] - 50s 31ms/step - loss: 0.1755 - accuracy: 0.9441 - val_loss: 0.0758 - val_accuracy: 0.9776\n",
            "Epoch 2/20\n",
            "1594/1594 [==============================] - 49s 31ms/step - loss: 0.0597 - accuracy: 0.9814 - val_loss: 0.0528 - val_accuracy: 0.9841\n",
            "Epoch 3/20\n",
            "1594/1594 [==============================] - 50s 31ms/step - loss: 0.0400 - accuracy: 0.9874 - val_loss: 0.0496 - val_accuracy: 0.9846\n",
            "Epoch 4/20\n",
            "1594/1594 [==============================] - 50s 31ms/step - loss: 0.0310 - accuracy: 0.9902 - val_loss: 0.0397 - val_accuracy: 0.9874\n",
            "Epoch 5/20\n",
            "1594/1594 [==============================] - 50s 31ms/step - loss: 0.0238 - accuracy: 0.9922 - val_loss: 0.0422 - val_accuracy: 0.9888\n",
            "Epoch 6/20\n",
            "1594/1594 [==============================] - 50s 31ms/step - loss: 0.0193 - accuracy: 0.9940 - val_loss: 0.0426 - val_accuracy: 0.9884\n",
            "Epoch 7/20\n",
            "1594/1594 [==============================] - 50s 31ms/step - loss: 0.0149 - accuracy: 0.9950 - val_loss: 0.0422 - val_accuracy: 0.9888\n",
            "Epoch 8/20\n",
            "1594/1594 [==============================] - 51s 32ms/step - loss: 0.0119 - accuracy: 0.9964 - val_loss: 0.0449 - val_accuracy: 0.9881\n",
            "Epoch 9/20\n",
            "1594/1594 [==============================] - 51s 32ms/step - loss: 0.0099 - accuracy: 0.9969 - val_loss: 0.0560 - val_accuracy: 0.9871\n",
            "Epoch 10/20\n",
            "1594/1594 [==============================] - 51s 32ms/step - loss: 0.0080 - accuracy: 0.9973 - val_loss: 0.0526 - val_accuracy: 0.9873\n",
            "Epoch 11/20\n",
            "1594/1594 [==============================] - 51s 32ms/step - loss: 0.0062 - accuracy: 0.9981 - val_loss: 0.0481 - val_accuracy: 0.9879\n",
            "Epoch 12/20\n",
            "1594/1594 [==============================] - 50s 32ms/step - loss: 0.0045 - accuracy: 0.9986 - val_loss: 0.0559 - val_accuracy: 0.9883\n",
            "Epoch 13/20\n",
            "1594/1594 [==============================] - 50s 32ms/step - loss: 0.0036 - accuracy: 0.9991 - val_loss: 0.0485 - val_accuracy: 0.9894\n",
            "Epoch 14/20\n",
            "1594/1594 [==============================] - 51s 32ms/step - loss: 0.0026 - accuracy: 0.9993 - val_loss: 0.0531 - val_accuracy: 0.9887\n",
            "Epoch 15/20\n",
            "1594/1594 [==============================] - 50s 32ms/step - loss: 0.0026 - accuracy: 0.9993 - val_loss: 0.0474 - val_accuracy: 0.9888\n",
            "Epoch 16/20\n",
            "1594/1594 [==============================] - 50s 31ms/step - loss: 0.0014 - accuracy: 0.9996 - val_loss: 0.0494 - val_accuracy: 0.9889\n",
            "Epoch 17/20\n",
            "1594/1594 [==============================] - 50s 32ms/step - loss: 6.5048e-04 - accuracy: 1.0000 - val_loss: 0.0503 - val_accuracy: 0.9897\n",
            "Epoch 18/20\n",
            "1594/1594 [==============================] - 50s 32ms/step - loss: 3.7613e-04 - accuracy: 1.0000 - val_loss: 0.0520 - val_accuracy: 0.9894\n",
            "Epoch 19/20\n",
            "1594/1594 [==============================] - 50s 31ms/step - loss: 2.0409e-04 - accuracy: 1.0000 - val_loss: 0.0526 - val_accuracy: 0.9888\n",
            "Epoch 20/20\n",
            "1594/1594 [==============================] - 50s 32ms/step - loss: 1.6018e-04 - accuracy: 1.0000 - val_loss: 0.0535 - val_accuracy: 0.9892\n"
          ]
        }
      ],
      "source": [
        "model_9.compile(optimizer=opt_3, loss='categorical_crossentropy', metrics=['accuracy'])\n",
        "model_9_history = model_9.fit(X_train, y_train, epochs=20, batch_size=32, shuffle=True,validation_data=(X_val, y_val), verbose=1)\n",
        "saved_models.append(model_9)\n",
        "histories.append(model_9_history)"
      ],
      "id": "5S8gC_2vQXXQ"
    },
    {
      "cell_type": "code",
      "execution_count": 25,
      "metadata": {
        "id": "2vhZDIUxcxL8"
      },
      "outputs": [],
      "source": [
        "model_10 = models.Sequential()\n",
        "model_10.add(layers.Conv2D(128, (3, 3), activation='relu', kernel_initializer='he_uniform', input_shape=(28, 28, 1)))\n",
        "model_10.add(layers.MaxPooling2D(pool_size=(2, 2), strides=(2, 2)))\n",
        "model_10.add(layers.Flatten())\n",
        "model_10.add(layers.Dense(32, activation='relu', kernel_initializer='he_uniform'))\n",
        "model_10.add(layers.Dense(10, activation='softmax'))"
      ],
      "id": "2vhZDIUxcxL8"
    },
    {
      "cell_type": "code",
      "execution_count": 26,
      "metadata": {
        "colab": {
          "base_uri": "https://localhost:8080/"
        },
        "id": "k1en4O-Rc2Ny",
        "outputId": "e55ee032-108a-4dce-effd-316381ea7399"
      },
      "outputs": [
        {
          "output_type": "stream",
          "name": "stdout",
          "text": [
            "Epoch 1/20\n",
            "1594/1594 [==============================] - 61s 38ms/step - loss: 0.2046 - accuracy: 0.9372 - val_loss: 0.0930 - val_accuracy: 0.9724\n",
            "Epoch 2/20\n",
            "1594/1594 [==============================] - 60s 38ms/step - loss: 0.0661 - accuracy: 0.9799 - val_loss: 0.0613 - val_accuracy: 0.9819\n",
            "Epoch 3/20\n",
            "1594/1594 [==============================] - 60s 38ms/step - loss: 0.0445 - accuracy: 0.9864 - val_loss: 0.0646 - val_accuracy: 0.9793\n",
            "Epoch 4/20\n",
            "1594/1594 [==============================] - 59s 37ms/step - loss: 0.0311 - accuracy: 0.9903 - val_loss: 0.0532 - val_accuracy: 0.9844\n",
            "Epoch 5/20\n",
            "1594/1594 [==============================] - 59s 37ms/step - loss: 0.0227 - accuracy: 0.9933 - val_loss: 0.0493 - val_accuracy: 0.9856\n",
            "Epoch 6/20\n",
            "1594/1594 [==============================] - 59s 37ms/step - loss: 0.0157 - accuracy: 0.9953 - val_loss: 0.0498 - val_accuracy: 0.9857\n",
            "Epoch 7/20\n",
            "1594/1594 [==============================] - 60s 38ms/step - loss: 0.0114 - accuracy: 0.9969 - val_loss: 0.0499 - val_accuracy: 0.9868\n",
            "Epoch 8/20\n",
            "1594/1594 [==============================] - 60s 37ms/step - loss: 0.0073 - accuracy: 0.9985 - val_loss: 0.0518 - val_accuracy: 0.9869\n",
            "Epoch 9/20\n",
            "1594/1594 [==============================] - 60s 37ms/step - loss: 0.0050 - accuracy: 0.9991 - val_loss: 0.0511 - val_accuracy: 0.9858\n",
            "Epoch 10/20\n",
            "1594/1594 [==============================] - 60s 37ms/step - loss: 0.0034 - accuracy: 0.9996 - val_loss: 0.0476 - val_accuracy: 0.9877\n",
            "Epoch 11/20\n",
            "1594/1594 [==============================] - 60s 37ms/step - loss: 0.0021 - accuracy: 0.9998 - val_loss: 0.0513 - val_accuracy: 0.9874\n",
            "Epoch 12/20\n",
            "1594/1594 [==============================] - 60s 38ms/step - loss: 0.0014 - accuracy: 0.9999 - val_loss: 0.0510 - val_accuracy: 0.9877\n",
            "Epoch 13/20\n",
            "1594/1594 [==============================] - 60s 38ms/step - loss: 0.0011 - accuracy: 1.0000 - val_loss: 0.0516 - val_accuracy: 0.9874\n",
            "Epoch 14/20\n",
            "1594/1594 [==============================] - 60s 38ms/step - loss: 8.7925e-04 - accuracy: 1.0000 - val_loss: 0.0527 - val_accuracy: 0.9877\n",
            "Epoch 15/20\n",
            "1594/1594 [==============================] - 61s 38ms/step - loss: 6.6276e-04 - accuracy: 1.0000 - val_loss: 0.0527 - val_accuracy: 0.9883\n",
            "Epoch 16/20\n",
            "1594/1594 [==============================] - 60s 38ms/step - loss: 5.6316e-04 - accuracy: 1.0000 - val_loss: 0.0540 - val_accuracy: 0.9881\n",
            "Epoch 17/20\n",
            "1594/1594 [==============================] - 60s 38ms/step - loss: 4.9471e-04 - accuracy: 1.0000 - val_loss: 0.0545 - val_accuracy: 0.9880\n",
            "Epoch 18/20\n",
            "1594/1594 [==============================] - 60s 38ms/step - loss: 4.4258e-04 - accuracy: 1.0000 - val_loss: 0.0552 - val_accuracy: 0.9880\n",
            "Epoch 19/20\n",
            "1594/1594 [==============================] - 61s 38ms/step - loss: 4.0744e-04 - accuracy: 1.0000 - val_loss: 0.0557 - val_accuracy: 0.9880\n",
            "Epoch 20/20\n",
            "1594/1594 [==============================] - 61s 38ms/step - loss: 3.7398e-04 - accuracy: 1.0000 - val_loss: 0.0562 - val_accuracy: 0.9874\n"
          ]
        }
      ],
      "source": [
        "model_10.compile(optimizer=opt_3, loss='categorical_crossentropy', metrics=['accuracy'])\n",
        "model_10_history = model_10.fit(X_train, y_train, epochs=20, batch_size=32, shuffle=True,validation_data=(X_val, y_val), verbose=1)\n",
        "saved_models.append(model_10)\n",
        "histories.append(model_10_history)"
      ],
      "id": "k1en4O-Rc2Ny"
    },
    {
      "cell_type": "code",
      "execution_count": 27,
      "metadata": {
        "colab": {
          "base_uri": "https://localhost:8080/"
        },
        "id": "l6M7d0Bhc6x6",
        "outputId": "057b2e88-ba54-4f85-b0ec-a7b28fb3bbba"
      },
      "outputs": [
        {
          "output_type": "stream",
          "name": "stdout",
          "text": [
            "313/313 [==============================] - 1s 4ms/step - loss: 0.2661 - accuracy: 0.9267\n",
            "313/313 [==============================] - 1s 4ms/step - loss: 0.2301 - accuracy: 0.9331\n",
            "313/313 [==============================] - 1s 4ms/step - loss: 0.1935 - accuracy: 0.9465\n",
            "313/313 [==============================] - 1s 4ms/step - loss: 0.0952 - accuracy: 0.9863\n",
            "313/313 [==============================] - 1s 4ms/step - loss: 0.0454 - accuracy: 0.9856\n",
            "313/313 [==============================] - 1s 4ms/step - loss: 0.0401 - accuracy: 0.9895\n",
            "313/313 [==============================] - 3s 8ms/step - loss: 0.0477 - accuracy: 0.9901\n",
            "313/313 [==============================] - 1s 3ms/step - loss: 0.1124 - accuracy: 0.9700\n",
            "313/313 [==============================] - 3s 9ms/step - loss: 0.0412 - accuracy: 0.9917\n",
            "313/313 [==============================] - 3s 10ms/step - loss: 0.0589 - accuracy: 0.9850\n",
            "model: 9 accuracy: 99.17 %\n"
          ]
        }
      ],
      "source": [
        "best_model, best_model_idx = evaluate_model(saved_models, X_test, y_test)"
      ],
      "id": "l6M7d0Bhc6x6"
    },
    {
      "cell_type": "markdown",
      "metadata": {
        "id": "1DOv_IDKZ1-G"
      },
      "source": [
        "#Trying different batch sizes"
      ],
      "id": "1DOv_IDKZ1-G"
    },
    {
      "cell_type": "markdown",
      "metadata": {
        "id": "oQIAn-kv7pjt"
      },
      "source": [
        "Our last model always seem to be our best model, reaching an accuarcy of 99.3,\n",
        "we used 20 epochs, a learning rate of 0.01 and our architecture was a single convultion layer containing 128 filters of size (3, 3) and a max pooling layer followed by a densle layer of 32 neurons.\n",
        "we will countinue with it and decide to change the batch size this time around."
      ],
      "id": "oQIAn-kv7pjt"
    },
    {
      "cell_type": "code",
      "execution_count": 28,
      "metadata": {
        "colab": {
          "base_uri": "https://localhost:8080/"
        },
        "id": "MGGK_G4aaFf1",
        "outputId": "d456723d-db09-47ac-eec1-6be5459be232"
      },
      "outputs": [
        {
          "output_type": "stream",
          "name": "stdout",
          "text": [
            "Epoch 1/20\n",
            "3188/3188 [==============================] - 60s 19ms/step - loss: 0.1340 - accuracy: 0.9589 - val_loss: 0.0576 - val_accuracy: 0.9830\n",
            "Epoch 2/20\n",
            "3188/3188 [==============================] - 59s 18ms/step - loss: 0.0486 - accuracy: 0.9849 - val_loss: 0.0465 - val_accuracy: 0.9861\n",
            "Epoch 3/20\n",
            "3188/3188 [==============================] - 61s 19ms/step - loss: 0.0346 - accuracy: 0.9890 - val_loss: 0.0365 - val_accuracy: 0.9889\n",
            "Epoch 4/20\n",
            "3188/3188 [==============================] - 59s 18ms/step - loss: 0.0259 - accuracy: 0.9920 - val_loss: 0.0426 - val_accuracy: 0.9888\n",
            "Epoch 5/20\n",
            "3188/3188 [==============================] - 60s 19ms/step - loss: 0.0219 - accuracy: 0.9929 - val_loss: 0.0455 - val_accuracy: 0.9880\n",
            "Epoch 6/20\n",
            "3188/3188 [==============================] - 59s 19ms/step - loss: 0.0155 - accuracy: 0.9952 - val_loss: 0.0423 - val_accuracy: 0.9893\n",
            "Epoch 7/20\n",
            "3188/3188 [==============================] - 58s 18ms/step - loss: 0.0134 - accuracy: 0.9954 - val_loss: 0.0468 - val_accuracy: 0.9876\n",
            "Epoch 8/20\n",
            "3188/3188 [==============================] - 59s 19ms/step - loss: 0.0105 - accuracy: 0.9965 - val_loss: 0.0443 - val_accuracy: 0.9874\n",
            "Epoch 9/20\n",
            "3188/3188 [==============================] - 59s 19ms/step - loss: 0.0082 - accuracy: 0.9973 - val_loss: 0.0442 - val_accuracy: 0.9881\n",
            "Epoch 10/20\n",
            "3188/3188 [==============================] - 60s 19ms/step - loss: 0.0075 - accuracy: 0.9975 - val_loss: 0.0511 - val_accuracy: 0.9894\n",
            "Epoch 11/20\n",
            "3188/3188 [==============================] - 60s 19ms/step - loss: 0.0067 - accuracy: 0.9980 - val_loss: 0.0493 - val_accuracy: 0.9891\n",
            "Epoch 12/20\n",
            "3188/3188 [==============================] - 59s 19ms/step - loss: 0.0044 - accuracy: 0.9985 - val_loss: 0.0499 - val_accuracy: 0.9903\n",
            "Epoch 13/20\n",
            "3188/3188 [==============================] - 59s 19ms/step - loss: 0.0058 - accuracy: 0.9981 - val_loss: 0.0448 - val_accuracy: 0.9889\n",
            "Epoch 14/20\n",
            "3188/3188 [==============================] - 59s 19ms/step - loss: 0.0047 - accuracy: 0.9983 - val_loss: 0.0487 - val_accuracy: 0.9887\n",
            "Epoch 15/20\n",
            "3188/3188 [==============================] - 59s 19ms/step - loss: 0.0026 - accuracy: 0.9991 - val_loss: 0.0500 - val_accuracy: 0.9898\n",
            "Epoch 16/20\n",
            "3188/3188 [==============================] - 58s 18ms/step - loss: 0.0021 - accuracy: 0.9992 - val_loss: 0.0548 - val_accuracy: 0.9907\n",
            "Epoch 17/20\n",
            "3188/3188 [==============================] - 59s 18ms/step - loss: 0.0012 - accuracy: 0.9996 - val_loss: 0.0611 - val_accuracy: 0.9889\n",
            "Epoch 18/20\n",
            "3188/3188 [==============================] - 59s 18ms/step - loss: 0.0048 - accuracy: 0.9983 - val_loss: 0.0600 - val_accuracy: 0.9883\n",
            "Epoch 19/20\n",
            "3188/3188 [==============================] - 59s 18ms/step - loss: 0.0028 - accuracy: 0.9990 - val_loss: 0.0708 - val_accuracy: 0.9873\n",
            "Epoch 20/20\n",
            "3188/3188 [==============================] - 59s 18ms/step - loss: 0.0042 - accuracy: 0.9987 - val_loss: 0.0710 - val_accuracy: 0.9872\n"
          ]
        }
      ],
      "source": [
        "model_11 = keras.models.clone_model(best_model)\n",
        "model_11.compile(optimizer=opt_3, loss='categorical_crossentropy', metrics=['accuracy'])\n",
        "model_11_history = model_11.fit(X_train, y_train, epochs=20, batch_size=16, shuffle=True,validation_data=(X_val, y_val), verbose=1)\n",
        "saved_models.append(model_11)\n",
        "histories.append(model_11_history)"
      ],
      "id": "MGGK_G4aaFf1"
    },
    {
      "cell_type": "code",
      "execution_count": 29,
      "metadata": {
        "colab": {
          "base_uri": "https://localhost:8080/"
        },
        "id": "59tn-mJbaVjM",
        "outputId": "50f4b20d-c3fa-4c1c-9c95-328583722085"
      },
      "outputs": [
        {
          "output_type": "stream",
          "name": "stdout",
          "text": [
            "Epoch 1/20\n",
            "797/797 [==============================] - 46s 57ms/step - loss: 0.2278 - accuracy: 0.9278 - val_loss: 0.1323 - val_accuracy: 0.9588\n",
            "Epoch 2/20\n",
            "797/797 [==============================] - 45s 56ms/step - loss: 0.0789 - accuracy: 0.9751 - val_loss: 0.0650 - val_accuracy: 0.9799\n",
            "Epoch 3/20\n",
            "797/797 [==============================] - 45s 56ms/step - loss: 0.0543 - accuracy: 0.9832 - val_loss: 0.0609 - val_accuracy: 0.9823\n",
            "Epoch 4/20\n",
            "797/797 [==============================] - 45s 56ms/step - loss: 0.0433 - accuracy: 0.9867 - val_loss: 0.0462 - val_accuracy: 0.9866\n",
            "Epoch 5/20\n",
            "797/797 [==============================] - 45s 57ms/step - loss: 0.0354 - accuracy: 0.9890 - val_loss: 0.0459 - val_accuracy: 0.9864\n",
            "Epoch 6/20\n",
            "797/797 [==============================] - 45s 56ms/step - loss: 0.0306 - accuracy: 0.9899 - val_loss: 0.0444 - val_accuracy: 0.9873\n",
            "Epoch 7/20\n",
            "797/797 [==============================] - 45s 57ms/step - loss: 0.0262 - accuracy: 0.9918 - val_loss: 0.0489 - val_accuracy: 0.9866\n",
            "Epoch 8/20\n",
            "797/797 [==============================] - 45s 57ms/step - loss: 0.0228 - accuracy: 0.9927 - val_loss: 0.0448 - val_accuracy: 0.9884\n",
            "Epoch 9/20\n",
            "797/797 [==============================] - 45s 56ms/step - loss: 0.0194 - accuracy: 0.9938 - val_loss: 0.0436 - val_accuracy: 0.9884\n",
            "Epoch 10/20\n",
            "797/797 [==============================] - 45s 56ms/step - loss: 0.0176 - accuracy: 0.9942 - val_loss: 0.0434 - val_accuracy: 0.9886\n",
            "Epoch 11/20\n",
            "797/797 [==============================] - 45s 56ms/step - loss: 0.0141 - accuracy: 0.9956 - val_loss: 0.0560 - val_accuracy: 0.9858\n",
            "Epoch 12/20\n",
            "797/797 [==============================] - 45s 56ms/step - loss: 0.0134 - accuracy: 0.9957 - val_loss: 0.0407 - val_accuracy: 0.9894\n",
            "Epoch 13/20\n",
            "797/797 [==============================] - 45s 56ms/step - loss: 0.0112 - accuracy: 0.9963 - val_loss: 0.0501 - val_accuracy: 0.9872\n",
            "Epoch 14/20\n",
            "797/797 [==============================] - 45s 56ms/step - loss: 0.0101 - accuracy: 0.9965 - val_loss: 0.0399 - val_accuracy: 0.9903\n",
            "Epoch 15/20\n",
            "797/797 [==============================] - 45s 56ms/step - loss: 0.0084 - accuracy: 0.9973 - val_loss: 0.0498 - val_accuracy: 0.9886\n",
            "Epoch 16/20\n",
            "797/797 [==============================] - 45s 56ms/step - loss: 0.0071 - accuracy: 0.9981 - val_loss: 0.0426 - val_accuracy: 0.9899\n",
            "Epoch 17/20\n",
            "797/797 [==============================] - 44s 56ms/step - loss: 0.0059 - accuracy: 0.9984 - val_loss: 0.0480 - val_accuracy: 0.9890\n",
            "Epoch 18/20\n",
            "797/797 [==============================] - 45s 56ms/step - loss: 0.0053 - accuracy: 0.9985 - val_loss: 0.0481 - val_accuracy: 0.9892\n",
            "Epoch 19/20\n",
            "797/797 [==============================] - 45s 56ms/step - loss: 0.0051 - accuracy: 0.9985 - val_loss: 0.0499 - val_accuracy: 0.9889\n",
            "Epoch 20/20\n",
            "797/797 [==============================] - 45s 56ms/step - loss: 0.0038 - accuracy: 0.9992 - val_loss: 0.0503 - val_accuracy: 0.9883\n"
          ]
        }
      ],
      "source": [
        "model_12 = keras.models.clone_model(best_model)\n",
        "model_12.compile(optimizer=opt_3, loss='categorical_crossentropy', metrics=['accuracy'])\n",
        "model_12_history = model_12.fit(X_train, y_train, epochs=20, batch_size=64, shuffle=True,validation_data=(X_val, y_val), verbose=1)\n",
        "saved_models.append(model_12)\n",
        "histories.append(model_12_history)"
      ],
      "id": "59tn-mJbaVjM"
    },
    {
      "cell_type": "code",
      "execution_count": 30,
      "metadata": {
        "colab": {
          "base_uri": "https://localhost:8080/"
        },
        "id": "yvFNxuR-8OB4",
        "outputId": "043f08d8-982a-44cc-a28c-20419056701d"
      },
      "outputs": [
        {
          "output_type": "stream",
          "name": "stdout",
          "text": [
            "313/313 [==============================] - 1s 4ms/step - loss: 0.2661 - accuracy: 0.9267\n",
            "313/313 [==============================] - 1s 3ms/step - loss: 0.2301 - accuracy: 0.9331\n",
            "313/313 [==============================] - 1s 4ms/step - loss: 0.1935 - accuracy: 0.9465\n",
            "313/313 [==============================] - 1s 4ms/step - loss: 0.0952 - accuracy: 0.9863\n",
            "313/313 [==============================] - 1s 4ms/step - loss: 0.0454 - accuracy: 0.9856\n",
            "313/313 [==============================] - 1s 4ms/step - loss: 0.0401 - accuracy: 0.9895\n",
            "313/313 [==============================] - 2s 8ms/step - loss: 0.0477 - accuracy: 0.9901\n",
            "313/313 [==============================] - 1s 2ms/step - loss: 0.1124 - accuracy: 0.9700\n",
            "313/313 [==============================] - 3s 9ms/step - loss: 0.0412 - accuracy: 0.9917\n",
            "313/313 [==============================] - 3s 10ms/step - loss: 0.0589 - accuracy: 0.9850\n",
            "313/313 [==============================] - 3s 9ms/step - loss: 0.0470 - accuracy: 0.9904\n",
            "313/313 [==============================] - 3s 9ms/step - loss: 0.0319 - accuracy: 0.9904\n",
            "model: 9 accuracy: 99.17 %\n"
          ]
        }
      ],
      "source": [
        "best_model, best_model_idx = evaluate_model(saved_models, X_test, y_test)"
      ],
      "id": "yvFNxuR-8OB4"
    },
    {
      "cell_type": "markdown",
      "metadata": {
        "id": "pSu91m-_bCB-"
      },
      "source": [
        "#Trying different activation functions"
      ],
      "id": "pSu91m-_bCB-"
    },
    {
      "cell_type": "markdown",
      "metadata": {
        "id": "vkUZVPpzEEGn"
      },
      "source": [
        "It seems taht we lucked out and started with the perfect batch size, because model 9 is still our best model, we will try and experiment with different activation functions to see if we can get a better result."
      ],
      "id": "vkUZVPpzEEGn"
    },
    {
      "cell_type": "code",
      "execution_count": 31,
      "metadata": {
        "id": "hu_Q_iaabE3E"
      },
      "outputs": [],
      "source": [
        "model_13 = models.Sequential()\n",
        "model_13.add(layers.Conv2D(32, (3, 3), activation='tanh', kernel_initializer='he_uniform', input_shape=(28, 28, 1)))\n",
        "model_13.add(layers.MaxPooling2D(pool_size=(2, 2), strides=(2, 2)))\n",
        "model_13.add(layers.Conv2D(32, (3, 3), activation='tanh', kernel_initializer='he_uniform'))\n",
        "model_13.add(layers.MaxPooling2D(pool_size=(2, 2), strides=(2, 2)))\n",
        "model_13.add(layers.Flatten())\n",
        "model_13.add(layers.Dense(64, activation='tanh', kernel_initializer='he_uniform'))\n",
        "model_13.add(layers.Dense(32, activation='tanh', kernel_initializer='he_uniform'))\n",
        "model_13.add(layers.Dense(10, activation='softmax'))"
      ],
      "id": "hu_Q_iaabE3E"
    },
    {
      "cell_type": "code",
      "execution_count": 32,
      "metadata": {
        "colab": {
          "base_uri": "https://localhost:8080/"
        },
        "id": "3LDVjCGabHQr",
        "outputId": "373b3fcc-7b06-4e2e-efc5-7d1681943dc7"
      },
      "outputs": [
        {
          "output_type": "stream",
          "name": "stdout",
          "text": [
            "Epoch 1/10\n",
            "1594/1594 [==============================] - 41s 26ms/step - loss: 0.1796 - accuracy: 0.9482 - val_loss: 0.0666 - val_accuracy: 0.9801\n",
            "Epoch 2/10\n",
            "1594/1594 [==============================] - 41s 26ms/step - loss: 0.0545 - accuracy: 0.9836 - val_loss: 0.0505 - val_accuracy: 0.9846\n",
            "Epoch 3/10\n",
            "1594/1594 [==============================] - 41s 26ms/step - loss: 0.0372 - accuracy: 0.9895 - val_loss: 0.0471 - val_accuracy: 0.9862\n",
            "Epoch 4/10\n",
            "1594/1594 [==============================] - 41s 26ms/step - loss: 0.0259 - accuracy: 0.9926 - val_loss: 0.0445 - val_accuracy: 0.9876\n",
            "Epoch 5/10\n",
            "1594/1594 [==============================] - 41s 26ms/step - loss: 0.0174 - accuracy: 0.9953 - val_loss: 0.0421 - val_accuracy: 0.9879\n",
            "Epoch 6/10\n",
            "1594/1594 [==============================] - 40s 25ms/step - loss: 0.0127 - accuracy: 0.9965 - val_loss: 0.0429 - val_accuracy: 0.9872\n",
            "Epoch 7/10\n",
            "1594/1594 [==============================] - 40s 25ms/step - loss: 0.0093 - accuracy: 0.9977 - val_loss: 0.0437 - val_accuracy: 0.9881\n",
            "Epoch 8/10\n",
            "1594/1594 [==============================] - 40s 25ms/step - loss: 0.0070 - accuracy: 0.9986 - val_loss: 0.0422 - val_accuracy: 0.9889\n",
            "Epoch 9/10\n",
            "1594/1594 [==============================] - 40s 25ms/step - loss: 0.0045 - accuracy: 0.9994 - val_loss: 0.0422 - val_accuracy: 0.9899\n",
            "Epoch 10/10\n",
            "1594/1594 [==============================] - 40s 25ms/step - loss: 0.0032 - accuracy: 0.9997 - val_loss: 0.0426 - val_accuracy: 0.9902\n"
          ]
        }
      ],
      "source": [
        "model_13.compile(optimizer=opt_3, loss='categorical_crossentropy', metrics=['accuracy'])\n",
        "model_13_history = model_13.fit(X_train, y_train, epochs=10, batch_size=32, shuffle=True,validation_data=(X_val, y_val), verbose=1)\n",
        "saved_models.append(model_13)\n",
        "histories.append(model_13_history)"
      ],
      "id": "3LDVjCGabHQr"
    },
    {
      "cell_type": "code",
      "execution_count": 33,
      "metadata": {
        "id": "EmwGbP4dbyuj"
      },
      "outputs": [],
      "source": [
        "model_14 = models.Sequential()\n",
        "model_14.add(layers.Conv2D(32, (3, 3), activation='selu', kernel_initializer='he_uniform', input_shape=(28, 28, 1)))\n",
        "model_14.add(layers.MaxPooling2D(pool_size=(2, 2), strides=(2, 2)))\n",
        "model_14.add(layers.Conv2D(32, (3, 3), activation='selu', kernel_initializer='he_uniform'))\n",
        "model_14.add(layers.MaxPooling2D(pool_size=(2, 2), strides=(2, 2)))\n",
        "model_14.add(layers.Flatten())\n",
        "model_14.add(layers.Dense(64, activation='selu', kernel_initializer='he_uniform'))\n",
        "model_14.add(layers.Dense(32, activation='selu', kernel_initializer='he_uniform'))\n",
        "model_14.add(layers.Dense(10, activation='softmax'))"
      ],
      "id": "EmwGbP4dbyuj"
    },
    {
      "cell_type": "code",
      "execution_count": 34,
      "metadata": {
        "colab": {
          "base_uri": "https://localhost:8080/"
        },
        "id": "eMhfWfi1bzqT",
        "outputId": "5522d5f4-9383-4a1d-a713-50f194b57cae"
      },
      "outputs": [
        {
          "output_type": "stream",
          "name": "stdout",
          "text": [
            "Epoch 1/10\n",
            "1594/1594 [==============================] - 45s 28ms/step - loss: 0.1498 - accuracy: 0.9544 - val_loss: 0.0660 - val_accuracy: 0.9800\n",
            "Epoch 2/10\n",
            "1594/1594 [==============================] - 45s 28ms/step - loss: 0.0527 - accuracy: 0.9840 - val_loss: 0.0544 - val_accuracy: 0.9842\n",
            "Epoch 3/10\n",
            "1594/1594 [==============================] - 45s 28ms/step - loss: 0.0346 - accuracy: 0.9887 - val_loss: 0.0505 - val_accuracy: 0.9848\n",
            "Epoch 4/10\n",
            "1594/1594 [==============================] - 45s 28ms/step - loss: 0.0246 - accuracy: 0.9923 - val_loss: 0.0577 - val_accuracy: 0.9849\n",
            "Epoch 5/10\n",
            "1594/1594 [==============================] - 45s 28ms/step - loss: 0.0179 - accuracy: 0.9943 - val_loss: 0.0742 - val_accuracy: 0.9831\n",
            "Epoch 6/10\n",
            "1594/1594 [==============================] - 46s 29ms/step - loss: 0.0140 - accuracy: 0.9954 - val_loss: 0.0481 - val_accuracy: 0.9891\n",
            "Epoch 7/10\n",
            "1594/1594 [==============================] - 46s 29ms/step - loss: 0.0104 - accuracy: 0.9967 - val_loss: 0.0451 - val_accuracy: 0.9897\n",
            "Epoch 8/10\n",
            "1594/1594 [==============================] - 46s 29ms/step - loss: 0.0064 - accuracy: 0.9981 - val_loss: 0.0541 - val_accuracy: 0.9883\n",
            "Epoch 9/10\n",
            "1594/1594 [==============================] - 46s 29ms/step - loss: 0.0053 - accuracy: 0.9983 - val_loss: 0.0509 - val_accuracy: 0.9894\n",
            "Epoch 10/10\n",
            "1594/1594 [==============================] - 46s 29ms/step - loss: 0.0045 - accuracy: 0.9987 - val_loss: 0.0540 - val_accuracy: 0.9897\n"
          ]
        }
      ],
      "source": [
        "model_14.compile(optimizer=opt_3, loss='categorical_crossentropy', metrics=['accuracy'])\n",
        "model_14_history = model_14.fit(X_train, y_train, epochs=10, batch_size=32, shuffle=True,validation_data=(X_val, y_val), verbose=1)\n",
        "saved_models.append(model_14)\n",
        "histories.append(model_14_history)"
      ],
      "id": "eMhfWfi1bzqT"
    },
    {
      "cell_type": "code",
      "execution_count": 35,
      "metadata": {
        "id": "r2GVQUDQb0TF"
      },
      "outputs": [],
      "source": [
        "from keras.layers import LeakyReLU\n",
        "model_15 = models.Sequential()\n",
        "model_15.add(layers.Conv2D(32, (3, 3), kernel_initializer='he_uniform', input_shape=(28, 28, 1)))\n",
        "model_15.add(LeakyReLU(alpha=0.05))\n",
        "model_15.add(layers.MaxPooling2D(pool_size=(2, 2), strides=(2, 2)))\n",
        "model_15.add(layers.Conv2D(32, (3, 3), kernel_initializer='he_uniform'))\n",
        "model_15.add(LeakyReLU(alpha=0.05))\n",
        "model_15.add(layers.MaxPooling2D(pool_size=(2, 2), strides=(2, 2)))\n",
        "model_15.add(layers.Flatten())\n",
        "model_15.add(layers.Dense(64, kernel_initializer='he_uniform'))\n",
        "model_15.add(LeakyReLU(alpha=0.05))\n",
        "model_15.add(layers.Dense(32, kernel_initializer='he_uniform'))\n",
        "model_15.add(LeakyReLU(alpha=0.05))\n",
        "model_15.add(layers.Dense(10, activation='softmax'))"
      ],
      "id": "r2GVQUDQb0TF"
    },
    {
      "cell_type": "code",
      "execution_count": 36,
      "metadata": {
        "colab": {
          "base_uri": "https://localhost:8080/"
        },
        "id": "Ml_LF3C5b1Oc",
        "outputId": "f60c6022-8da8-436f-abc6-7864ff68bcb8"
      },
      "outputs": [
        {
          "output_type": "stream",
          "name": "stdout",
          "text": [
            "Epoch 1/10\n",
            "1594/1594 [==============================] - 44s 27ms/step - loss: 0.1674 - accuracy: 0.9478 - val_loss: 0.0624 - val_accuracy: 0.9801\n",
            "Epoch 2/10\n",
            "1594/1594 [==============================] - 42s 26ms/step - loss: 0.0545 - accuracy: 0.9833 - val_loss: 0.0445 - val_accuracy: 0.9853\n",
            "Epoch 3/10\n",
            "1594/1594 [==============================] - 42s 26ms/step - loss: 0.0376 - accuracy: 0.9880 - val_loss: 0.0365 - val_accuracy: 0.9896\n",
            "Epoch 4/10\n",
            "1594/1594 [==============================] - 42s 26ms/step - loss: 0.0274 - accuracy: 0.9911 - val_loss: 0.0409 - val_accuracy: 0.9879\n",
            "Epoch 5/10\n",
            "1594/1594 [==============================] - 42s 26ms/step - loss: 0.0241 - accuracy: 0.9920 - val_loss: 0.0363 - val_accuracy: 0.9899\n",
            "Epoch 6/10\n",
            "1594/1594 [==============================] - 42s 26ms/step - loss: 0.0172 - accuracy: 0.9944 - val_loss: 0.0388 - val_accuracy: 0.9888\n",
            "Epoch 7/10\n",
            "1594/1594 [==============================] - 42s 26ms/step - loss: 0.0141 - accuracy: 0.9954 - val_loss: 0.0373 - val_accuracy: 0.9889\n",
            "Epoch 8/10\n",
            "1594/1594 [==============================] - 42s 26ms/step - loss: 0.0090 - accuracy: 0.9973 - val_loss: 0.0420 - val_accuracy: 0.9888\n",
            "Epoch 9/10\n",
            "1594/1594 [==============================] - 42s 27ms/step - loss: 0.0069 - accuracy: 0.9980 - val_loss: 0.0360 - val_accuracy: 0.9914\n",
            "Epoch 10/10\n",
            "1594/1594 [==============================] - 43s 27ms/step - loss: 0.0065 - accuracy: 0.9978 - val_loss: 0.0376 - val_accuracy: 0.9909\n"
          ]
        }
      ],
      "source": [
        "model_15.compile(optimizer=opt_3, loss='categorical_crossentropy', metrics=['accuracy'])\n",
        "model_15_history = model_15.fit(X_train, y_train, epochs=10, batch_size=32, shuffle=True,validation_data=(X_val, y_val), verbose=1)\n",
        "saved_models.append(model_15)\n",
        "histories.append(model_15_history)"
      ],
      "id": "Ml_LF3C5b1Oc"
    },
    {
      "cell_type": "code",
      "execution_count": 37,
      "metadata": {
        "colab": {
          "base_uri": "https://localhost:8080/"
        },
        "id": "ng7z1-pmFQtP",
        "outputId": "4ad59b3a-b748-43dc-c0be-04301f0da65a"
      },
      "outputs": [
        {
          "output_type": "stream",
          "name": "stdout",
          "text": [
            "313/313 [==============================] - 1s 4ms/step - loss: 0.2661 - accuracy: 0.9267\n",
            "313/313 [==============================] - 1s 4ms/step - loss: 0.2301 - accuracy: 0.9331\n",
            "313/313 [==============================] - 1s 3ms/step - loss: 0.1935 - accuracy: 0.9465\n",
            "313/313 [==============================] - 1s 4ms/step - loss: 0.0952 - accuracy: 0.9863\n",
            "313/313 [==============================] - 1s 3ms/step - loss: 0.0454 - accuracy: 0.9856\n",
            "313/313 [==============================] - 1s 4ms/step - loss: 0.0401 - accuracy: 0.9895\n",
            "313/313 [==============================] - 2s 8ms/step - loss: 0.0477 - accuracy: 0.9901\n",
            "313/313 [==============================] - 1s 2ms/step - loss: 0.1124 - accuracy: 0.9700\n",
            "313/313 [==============================] - 3s 9ms/step - loss: 0.0412 - accuracy: 0.9917\n",
            "313/313 [==============================] - 3s 10ms/step - loss: 0.0589 - accuracy: 0.9850\n",
            "313/313 [==============================] - 3s 9ms/step - loss: 0.0470 - accuracy: 0.9904\n",
            "313/313 [==============================] - 3s 9ms/step - loss: 0.0319 - accuracy: 0.9904\n",
            "313/313 [==============================] - 3s 8ms/step - loss: 0.0360 - accuracy: 0.9895\n",
            "313/313 [==============================] - 3s 9ms/step - loss: 0.0472 - accuracy: 0.9892\n",
            "313/313 [==============================] - 3s 9ms/step - loss: 0.0390 - accuracy: 0.9897\n",
            "model: 9 accuracy: 99.17 %\n"
          ]
        }
      ],
      "source": [
        "best_model, best_model_idx = evaluate_model(saved_models, X_test, y_test)"
      ],
      "id": "ng7z1-pmFQtP"
    },
    {
      "cell_type": "markdown",
      "metadata": {
        "id": "MJG73eMssu2y"
      },
      "source": [
        "#Trying different optimizers"
      ],
      "id": "MJG73eMssu2y"
    },
    {
      "cell_type": "code",
      "execution_count": 38,
      "metadata": {
        "colab": {
          "base_uri": "https://localhost:8080/"
        },
        "id": "2NExiLWEs25I",
        "outputId": "5534845e-5e02-4e58-bd2e-b90c83a6b311"
      },
      "outputs": [
        {
          "output_type": "stream",
          "name": "stdout",
          "text": [
            "Epoch 1/10\n",
            "1594/1594 [==============================] - 51s 32ms/step - loss: 0.1726 - accuracy: 0.9467 - val_loss: 0.0823 - val_accuracy: 0.9767\n",
            "Epoch 2/10\n",
            "1594/1594 [==============================] - 50s 32ms/step - loss: 0.0842 - accuracy: 0.9752 - val_loss: 0.1012 - val_accuracy: 0.9742\n",
            "Epoch 3/10\n",
            "1594/1594 [==============================] - 51s 32ms/step - loss: 0.0829 - accuracy: 0.9763 - val_loss: 0.1058 - val_accuracy: 0.9726\n",
            "Epoch 4/10\n",
            "1594/1594 [==============================] - 51s 32ms/step - loss: 0.0712 - accuracy: 0.9796 - val_loss: 0.0859 - val_accuracy: 0.9780\n",
            "Epoch 5/10\n",
            "1594/1594 [==============================] - 52s 33ms/step - loss: 0.0685 - accuracy: 0.9807 - val_loss: 0.0856 - val_accuracy: 0.9780\n",
            "Epoch 6/10\n",
            "1594/1594 [==============================] - 52s 32ms/step - loss: 0.0668 - accuracy: 0.9820 - val_loss: 0.0955 - val_accuracy: 0.9754\n",
            "Epoch 7/10\n",
            "1594/1594 [==============================] - 52s 33ms/step - loss: 0.0635 - accuracy: 0.9827 - val_loss: 0.1084 - val_accuracy: 0.9758\n",
            "Epoch 8/10\n",
            "1594/1594 [==============================] - 53s 33ms/step - loss: 0.0610 - accuracy: 0.9838 - val_loss: 0.0972 - val_accuracy: 0.9783\n",
            "Epoch 9/10\n",
            "1594/1594 [==============================] - 53s 33ms/step - loss: 0.0590 - accuracy: 0.9851 - val_loss: 0.1105 - val_accuracy: 0.9774\n",
            "Epoch 10/10\n",
            "1594/1594 [==============================] - 54s 34ms/step - loss: 0.0611 - accuracy: 0.9850 - val_loss: 0.0953 - val_accuracy: 0.9794\n"
          ]
        }
      ],
      "source": [
        "model_16 = keras.models.clone_model(best_model)\n",
        "model_16.compile(optimizer=opt_4, loss='categorical_crossentropy', metrics=['accuracy'])\n",
        "model_16_history = model_16.fit(X_train, y_train, epochs=10, batch_size=32, shuffle=True,validation_data=(X_val, y_val), verbose=1)\n",
        "saved_models.append(model_16)\n",
        "histories.append(model_16_history)"
      ],
      "id": "2NExiLWEs25I"
    },
    {
      "cell_type": "code",
      "execution_count": 39,
      "metadata": {
        "colab": {
          "base_uri": "https://localhost:8080/"
        },
        "id": "tlw1Bu6ztD-R",
        "outputId": "b788a12e-9fc9-4612-effc-0629a6dc2ac6"
      },
      "outputs": [
        {
          "output_type": "stream",
          "name": "stdout",
          "text": [
            "Epoch 1/10\n",
            "1594/1594 [==============================] - 55s 34ms/step - loss: 0.2049 - accuracy: 0.9457 - val_loss: 0.0929 - val_accuracy: 0.9740\n",
            "Epoch 2/10\n",
            "1594/1594 [==============================] - 53s 33ms/step - loss: 0.1148 - accuracy: 0.9714 - val_loss: 0.1190 - val_accuracy: 0.9759\n",
            "Epoch 3/10\n",
            "1594/1594 [==============================] - 53s 33ms/step - loss: 0.1097 - accuracy: 0.9749 - val_loss: 0.0983 - val_accuracy: 0.9721\n",
            "Epoch 4/10\n",
            "1594/1594 [==============================] - 53s 33ms/step - loss: 0.1038 - accuracy: 0.9774 - val_loss: 0.1248 - val_accuracy: 0.9687\n",
            "Epoch 5/10\n",
            "1594/1594 [==============================] - 53s 33ms/step - loss: 0.1091 - accuracy: 0.9780 - val_loss: 0.1142 - val_accuracy: 0.9803\n",
            "Epoch 6/10\n",
            "1594/1594 [==============================] - 54s 34ms/step - loss: 0.1119 - accuracy: 0.9785 - val_loss: 0.1519 - val_accuracy: 0.9737\n",
            "Epoch 7/10\n",
            "1594/1594 [==============================] - 54s 34ms/step - loss: 0.1103 - accuracy: 0.9799 - val_loss: 0.1133 - val_accuracy: 0.9698\n",
            "Epoch 8/10\n",
            "1594/1594 [==============================] - 52s 32ms/step - loss: 0.1166 - accuracy: 0.9797 - val_loss: 0.1285 - val_accuracy: 0.9792\n",
            "Epoch 9/10\n",
            "1594/1594 [==============================] - 52s 33ms/step - loss: 0.1107 - accuracy: 0.9801 - val_loss: 0.1160 - val_accuracy: 0.9783\n",
            "Epoch 10/10\n",
            "1594/1594 [==============================] - 52s 32ms/step - loss: 0.1091 - accuracy: 0.9823 - val_loss: 0.2211 - val_accuracy: 0.9797\n"
          ]
        }
      ],
      "source": [
        "model_17 = keras.models.clone_model(best_model)\n",
        "model_17.compile(optimizer=opt_5, loss='categorical_crossentropy', metrics=['accuracy'])\n",
        "model_17_history = model_17.fit(X_train, y_train, epochs=10, batch_size=32, shuffle=True,validation_data=(X_val, y_val), verbose=1)\n",
        "saved_models.append(model_17)\n",
        "histories.append(model_17_history)"
      ],
      "id": "tlw1Bu6ztD-R"
    },
    {
      "cell_type": "code",
      "execution_count": 40,
      "metadata": {
        "colab": {
          "base_uri": "https://localhost:8080/"
        },
        "id": "HUmk_ZImg0qx",
        "outputId": "3298b853-37a2-4213-ebbe-948209ccce6f"
      },
      "outputs": [
        {
          "output_type": "stream",
          "name": "stdout",
          "text": [
            "313/313 [==============================] - 1s 4ms/step - loss: 0.2661 - accuracy: 0.9267\n",
            "313/313 [==============================] - 1s 4ms/step - loss: 0.2301 - accuracy: 0.9331\n",
            "313/313 [==============================] - 1s 4ms/step - loss: 0.1935 - accuracy: 0.9465\n",
            "313/313 [==============================] - 1s 4ms/step - loss: 0.0952 - accuracy: 0.9863\n",
            "313/313 [==============================] - 1s 4ms/step - loss: 0.0454 - accuracy: 0.9856\n",
            "313/313 [==============================] - 1s 4ms/step - loss: 0.0401 - accuracy: 0.9895\n",
            "313/313 [==============================] - 3s 9ms/step - loss: 0.0477 - accuracy: 0.9901\n",
            "313/313 [==============================] - 1s 3ms/step - loss: 0.1124 - accuracy: 0.9700\n",
            "313/313 [==============================] - 3s 10ms/step - loss: 0.0412 - accuracy: 0.9917\n",
            "313/313 [==============================] - 3s 11ms/step - loss: 0.0589 - accuracy: 0.9850\n",
            "313/313 [==============================] - 3s 11ms/step - loss: 0.0470 - accuracy: 0.9904\n",
            "313/313 [==============================] - 3s 11ms/step - loss: 0.0319 - accuracy: 0.9904\n",
            "313/313 [==============================] - 3s 9ms/step - loss: 0.0360 - accuracy: 0.9895\n",
            "313/313 [==============================] - 3s 10ms/step - loss: 0.0472 - accuracy: 0.9892\n",
            "313/313 [==============================] - 3s 10ms/step - loss: 0.0390 - accuracy: 0.9897\n",
            "313/313 [==============================] - 3s 10ms/step - loss: 0.0893 - accuracy: 0.9804\n",
            "313/313 [==============================] - 3s 10ms/step - loss: 0.1865 - accuracy: 0.9816\n",
            "model: 9 accuracy: 99.17 %\n"
          ]
        }
      ],
      "source": [
        "best_model, best_model_idx = evaluate_model(saved_models, X_test, y_test)"
      ],
      "id": "HUmk_ZImg0qx"
    },
    {
      "cell_type": "markdown",
      "metadata": {
        "id": "dF9wUeZKyUrV"
      },
      "source": [
        "#Trying different dropout rates"
      ],
      "id": "dF9wUeZKyUrV"
    },
    {
      "cell_type": "markdown",
      "metadata": {
        "id": "x0VaA55EST5j"
      },
      "source": [
        "Model 9 is still our best model, we try adding dropout layers and see what diiference it will make."
      ],
      "id": "x0VaA55EST5j"
    },
    {
      "cell_type": "code",
      "execution_count": 41,
      "metadata": {
        "id": "KgbOhiYQyX3J"
      },
      "outputs": [],
      "source": [
        "from keras.layers import Dropout"
      ],
      "id": "KgbOhiYQyX3J"
    },
    {
      "cell_type": "code",
      "execution_count": 42,
      "metadata": {
        "id": "TeDcQcJ10GhB"
      },
      "outputs": [],
      "source": [
        "model_18 = models.Sequential()\n",
        "model_18.add(layers.Conv2D(32, (3, 3), activation='relu', kernel_initializer='he_uniform', input_shape=(28, 28, 1)))\n",
        "model_18.add(layers.MaxPooling2D(pool_size=(2, 2), strides=(2, 2)))\n",
        "model.add(Dropout(0.4))\n",
        "model_18.add(layers.Conv2D(32, (3, 3), activation='relu', kernel_initializer='he_uniform'))\n",
        "model_18.add(layers.MaxPooling2D(pool_size=(2, 2), strides=(2, 2)))\n",
        "model_18.add(layers.Flatten())\n",
        "model_18.add(layers.Dense(64, activation='relu', kernel_initializer='he_uniform'))\n",
        "model_18.add(layers.Dense(32, activation='relu', kernel_initializer='he_uniform'))\n",
        "model.add(Dropout(0.4))\n",
        "model_18.add(layers.Dense(10, activation='softmax'))"
      ],
      "id": "TeDcQcJ10GhB"
    },
    {
      "cell_type": "code",
      "execution_count": 43,
      "metadata": {
        "colab": {
          "base_uri": "https://localhost:8080/"
        },
        "id": "ps977F84yYgi",
        "outputId": "fce932e8-e575-472a-83b6-2efe4d7f1888"
      },
      "outputs": [
        {
          "output_type": "stream",
          "name": "stdout",
          "text": [
            "Epoch 1/10\n",
            "1594/1594 [==============================] - 42s 26ms/step - loss: 0.1665 - accuracy: 0.9473 - val_loss: 0.0636 - val_accuracy: 0.9808\n",
            "Epoch 2/10\n",
            "1594/1594 [==============================] - 42s 26ms/step - loss: 0.0561 - accuracy: 0.9827 - val_loss: 0.0422 - val_accuracy: 0.9872\n",
            "Epoch 3/10\n",
            "1594/1594 [==============================] - 42s 26ms/step - loss: 0.0411 - accuracy: 0.9867 - val_loss: 0.0485 - val_accuracy: 0.9864\n",
            "Epoch 4/10\n",
            "1594/1594 [==============================] - 41s 26ms/step - loss: 0.0317 - accuracy: 0.9902 - val_loss: 0.0376 - val_accuracy: 0.9892\n",
            "Epoch 5/10\n",
            "1594/1594 [==============================] - 42s 26ms/step - loss: 0.0241 - accuracy: 0.9923 - val_loss: 0.0372 - val_accuracy: 0.9890\n",
            "Epoch 6/10\n",
            "1594/1594 [==============================] - 41s 26ms/step - loss: 0.0186 - accuracy: 0.9938 - val_loss: 0.0406 - val_accuracy: 0.9894\n",
            "Epoch 7/10\n",
            "1594/1594 [==============================] - 41s 26ms/step - loss: 0.0154 - accuracy: 0.9949 - val_loss: 0.0413 - val_accuracy: 0.9890\n",
            "Epoch 8/10\n",
            "1594/1594 [==============================] - 41s 26ms/step - loss: 0.0128 - accuracy: 0.9960 - val_loss: 0.0377 - val_accuracy: 0.9908\n",
            "Epoch 9/10\n",
            "1594/1594 [==============================] - 41s 26ms/step - loss: 0.0098 - accuracy: 0.9971 - val_loss: 0.0405 - val_accuracy: 0.9902\n",
            "Epoch 10/10\n",
            "1594/1594 [==============================] - 42s 26ms/step - loss: 0.0063 - accuracy: 0.9980 - val_loss: 0.0387 - val_accuracy: 0.9901\n"
          ]
        }
      ],
      "source": [
        "opt_3 = optimizers.SGD(learning_rate=0.01, momentum=0.9)\n",
        "model_18.compile(optimizer=opt_3, loss='categorical_crossentropy', metrics=['accuracy'])\n",
        "model_18_history = model_18.fit(X_train, y_train, epochs=10, batch_size=32, shuffle=True,validation_data=(X_val, y_val), verbose=1)\n",
        "saved_models.append(model_18)\n",
        "histories.append(model_18_history)"
      ],
      "id": "ps977F84yYgi"
    },
    {
      "cell_type": "code",
      "execution_count": 44,
      "metadata": {
        "id": "Sn4-pa8X0GKh"
      },
      "outputs": [],
      "source": [
        "model_19 = models.Sequential()\n",
        "model_19.add(layers.Conv2D(32, (3, 3), activation='relu', kernel_initializer='he_uniform', input_shape=(28, 28, 1)))\n",
        "model_19.add(layers.MaxPooling2D(pool_size=(2, 2), strides=(2, 2)))\n",
        "model_19.add(layers.Conv2D(32, (3, 3), activation='relu', kernel_initializer='he_uniform'))\n",
        "model_19.add(layers.MaxPooling2D(pool_size=(2, 2), strides=(2, 2)))\n",
        "model_19.add(Dropout(0.4))\n",
        "model_19.add(layers.Flatten())\n",
        "model_19.add(layers.Dense(64, activation='relu', kernel_initializer='he_uniform'))\n",
        "model_19.add(Dropout(0.4))\n",
        "model_19.add(layers.Dense(32, activation='relu', kernel_initializer='he_uniform'))\n",
        "model_19.add(Dropout(0.4))\n",
        "model_19.add(layers.Dense(10, activation='softmax'))"
      ],
      "id": "Sn4-pa8X0GKh"
    },
    {
      "cell_type": "code",
      "execution_count": 45,
      "metadata": {
        "colab": {
          "base_uri": "https://localhost:8080/"
        },
        "id": "DaSdMeCb0Dq3",
        "outputId": "dd573898-a663-4170-ebf6-df6b0c45b1df"
      },
      "outputs": [
        {
          "output_type": "stream",
          "name": "stdout",
          "text": [
            "Epoch 1/10\n",
            "1594/1594 [==============================] - 42s 26ms/step - loss: 0.7549 - accuracy: 0.7572 - val_loss: 0.1407 - val_accuracy: 0.9596\n",
            "Epoch 2/10\n",
            "1594/1594 [==============================] - 40s 25ms/step - loss: 0.3416 - accuracy: 0.9037 - val_loss: 0.0968 - val_accuracy: 0.9749\n",
            "Epoch 3/10\n",
            "1594/1594 [==============================] - 40s 25ms/step - loss: 0.2662 - accuracy: 0.9278 - val_loss: 0.0775 - val_accuracy: 0.9783\n",
            "Epoch 4/10\n",
            "1594/1594 [==============================] - 40s 25ms/step - loss: 0.2398 - accuracy: 0.9352 - val_loss: 0.0702 - val_accuracy: 0.9818\n",
            "Epoch 5/10\n",
            "1594/1594 [==============================] - 40s 25ms/step - loss: 0.2050 - accuracy: 0.9455 - val_loss: 0.0658 - val_accuracy: 0.9834\n",
            "Epoch 6/10\n",
            "1594/1594 [==============================] - 40s 25ms/step - loss: 0.1865 - accuracy: 0.9495 - val_loss: 0.0686 - val_accuracy: 0.9822\n",
            "Epoch 7/10\n",
            "1594/1594 [==============================] - 40s 25ms/step - loss: 0.1787 - accuracy: 0.9515 - val_loss: 0.0553 - val_accuracy: 0.9850\n",
            "Epoch 8/10\n",
            "1594/1594 [==============================] - 40s 25ms/step - loss: 0.1680 - accuracy: 0.9544 - val_loss: 0.0499 - val_accuracy: 0.9879\n",
            "Epoch 9/10\n",
            "1594/1594 [==============================] - 40s 25ms/step - loss: 0.1610 - accuracy: 0.9566 - val_loss: 0.0472 - val_accuracy: 0.9884\n",
            "Epoch 10/10\n",
            "1594/1594 [==============================] - 40s 25ms/step - loss: 0.1535 - accuracy: 0.9590 - val_loss: 0.0581 - val_accuracy: 0.9866\n"
          ]
        }
      ],
      "source": [
        "opt_3 = optimizers.SGD(learning_rate=0.01, momentum=0.9)\n",
        "model_19.compile(optimizer=opt_3, loss='categorical_crossentropy', metrics=['accuracy'])\n",
        "model_19_history = model_19.fit(X_train, y_train, epochs=10, batch_size=32, shuffle=True,validation_data=(X_val, y_val), verbose=1)\n",
        "saved_models.append(model_19)\n",
        "histories.append(model_19_history)"
      ],
      "id": "DaSdMeCb0Dq3"
    },
    {
      "cell_type": "code",
      "execution_count": 46,
      "metadata": {
        "id": "_JEqrY5FTHWF"
      },
      "outputs": [],
      "source": [
        "model_20 = models.Sequential()\n",
        "model_20.add(layers.Conv2D(32, (3, 3), activation='relu', kernel_initializer='he_uniform', input_shape=(28, 28, 1)))\n",
        "model_20.add(layers.MaxPooling2D(pool_size=(2, 2), strides=(2, 2)))\n",
        "model_20.add(Dropout(0.75))\n",
        "model_20.add(layers.Conv2D(32, (3, 3), activation='relu', kernel_initializer='he_uniform'))\n",
        "model_20.add(layers.MaxPooling2D(pool_size=(2, 2), strides=(2, 2)))\n",
        "model_20.add(layers.Flatten())\n",
        "model_20.add(layers.Dense(64, activation='relu', kernel_initializer='he_uniform'))\n",
        "model_20.add(layers.Dense(32, activation='relu', kernel_initializer='he_uniform'))\n",
        "model_20.add(Dropout(0.75))\n",
        "model_20.add(layers.Dense(10, activation='softmax'))"
      ],
      "id": "_JEqrY5FTHWF"
    },
    {
      "cell_type": "code",
      "execution_count": 47,
      "metadata": {
        "colab": {
          "base_uri": "https://localhost:8080/"
        },
        "id": "u4P8SmskTHSz",
        "outputId": "8722ebf4-c5ce-4be1-b765-d14b2ade90a5"
      },
      "outputs": [
        {
          "output_type": "stream",
          "name": "stdout",
          "text": [
            "Epoch 1/10\n",
            "1594/1594 [==============================] - 45s 28ms/step - loss: 2.3066 - accuracy: 0.1106 - val_loss: 2.3019 - val_accuracy: 0.1101\n",
            "Epoch 2/10\n",
            "1594/1594 [==============================] - 43s 27ms/step - loss: 2.3019 - accuracy: 0.1124 - val_loss: 2.3027 - val_accuracy: 0.1101\n",
            "Epoch 3/10\n",
            "1594/1594 [==============================] - 44s 27ms/step - loss: 2.3019 - accuracy: 0.1118 - val_loss: 2.3021 - val_accuracy: 0.1101\n",
            "Epoch 4/10\n",
            "1594/1594 [==============================] - 44s 28ms/step - loss: 2.3018 - accuracy: 0.1121 - val_loss: 2.3025 - val_accuracy: 0.1101\n",
            "Epoch 5/10\n",
            "1594/1594 [==============================] - 44s 27ms/step - loss: 2.3018 - accuracy: 0.1111 - val_loss: 2.3017 - val_accuracy: 0.1101\n",
            "Epoch 6/10\n",
            "1594/1594 [==============================] - 43s 27ms/step - loss: 2.3019 - accuracy: 0.1118 - val_loss: 2.3025 - val_accuracy: 0.1101\n",
            "Epoch 7/10\n",
            "1594/1594 [==============================] - 44s 27ms/step - loss: 2.3018 - accuracy: 0.1118 - val_loss: 2.3023 - val_accuracy: 0.1101\n",
            "Epoch 8/10\n",
            "1594/1594 [==============================] - 44s 28ms/step - loss: 2.3018 - accuracy: 0.1113 - val_loss: 2.3028 - val_accuracy: 0.1101\n",
            "Epoch 9/10\n",
            "1594/1594 [==============================] - 43s 27ms/step - loss: 2.3017 - accuracy: 0.1119 - val_loss: 2.3026 - val_accuracy: 0.1070\n",
            "Epoch 10/10\n",
            "1594/1594 [==============================] - 43s 27ms/step - loss: 2.3018 - accuracy: 0.1121 - val_loss: 2.3025 - val_accuracy: 0.1101\n"
          ]
        }
      ],
      "source": [
        "opt_3 = optimizers.SGD(learning_rate=0.01, momentum=0.9)\n",
        "model_20.compile(optimizer=opt_3, loss='categorical_crossentropy', metrics=['accuracy'])\n",
        "model_20_history = model_20.fit(X_train, y_train, epochs=10, batch_size=32, shuffle=True,validation_data=(X_val, y_val), verbose=1)\n",
        "saved_models.append(model_20)\n",
        "histories.append(model_20_history)"
      ],
      "id": "u4P8SmskTHSz"
    },
    {
      "cell_type": "code",
      "execution_count": 48,
      "metadata": {
        "id": "302P0zoSTGko"
      },
      "outputs": [],
      "source": [
        "model_21 = models.Sequential()\n",
        "model_21.add(layers.Conv2D(32, (3, 3), activation='relu', kernel_initializer='he_uniform', input_shape=(28, 28, 1)))\n",
        "model_21.add(layers.MaxPooling2D(pool_size=(2, 2), strides=(2, 2)))\n",
        "model_21.add(layers.Conv2D(32, (3, 3), activation='relu', kernel_initializer='he_uniform'))\n",
        "model_21.add(layers.MaxPooling2D(pool_size=(2, 2), strides=(2, 2)))\n",
        "model_21.add(Dropout(0.75))\n",
        "model_21.add(layers.Flatten())\n",
        "model_21.add(layers.Dense(64, activation='relu', kernel_initializer='he_uniform'))\n",
        "model_21.add(Dropout(0.75))\n",
        "model_21.add(layers.Dense(32, activation='relu', kernel_initializer='he_uniform'))\n",
        "model_21.add(Dropout(0.75))\n",
        "model_21.add(layers.Dense(10, activation='softmax'))"
      ],
      "id": "302P0zoSTGko"
    },
    {
      "cell_type": "code",
      "execution_count": 49,
      "metadata": {
        "colab": {
          "base_uri": "https://localhost:8080/"
        },
        "id": "y-kbmEKuTGeN",
        "outputId": "0cfb7dd6-7997-43d7-d3bb-aed6ad0e0eda"
      },
      "outputs": [
        {
          "output_type": "stream",
          "name": "stdout",
          "text": [
            "Epoch 1/10\n",
            "1594/1594 [==============================] - 40s 25ms/step - loss: 2.1802 - accuracy: 0.2036 - val_loss: 1.7244 - val_accuracy: 0.5332\n",
            "Epoch 2/10\n",
            "1594/1594 [==============================] - 40s 25ms/step - loss: 1.8914 - accuracy: 0.3253 - val_loss: 1.2701 - val_accuracy: 0.6536\n",
            "Epoch 3/10\n",
            "1594/1594 [==============================] - 40s 25ms/step - loss: 1.7666 - accuracy: 0.3746 - val_loss: 1.1337 - val_accuracy: 0.6763\n",
            "Epoch 4/10\n",
            "1594/1594 [==============================] - 41s 26ms/step - loss: 1.6798 - accuracy: 0.4123 - val_loss: 1.0383 - val_accuracy: 0.7163\n",
            "Epoch 5/10\n",
            "1594/1594 [==============================] - 41s 26ms/step - loss: 1.6291 - accuracy: 0.4311 - val_loss: 0.8694 - val_accuracy: 0.7218\n",
            "Epoch 6/10\n",
            "1594/1594 [==============================] - 42s 26ms/step - loss: 1.6148 - accuracy: 0.4375 - val_loss: 0.8794 - val_accuracy: 0.7421\n",
            "Epoch 7/10\n",
            "1594/1594 [==============================] - 42s 26ms/step - loss: 1.6114 - accuracy: 0.4386 - val_loss: 1.1363 - val_accuracy: 0.6763\n",
            "Epoch 8/10\n",
            "1594/1594 [==============================] - 42s 26ms/step - loss: 1.5841 - accuracy: 0.4465 - val_loss: 0.9583 - val_accuracy: 0.7070\n",
            "Epoch 9/10\n",
            "1594/1594 [==============================] - 42s 26ms/step - loss: 1.5657 - accuracy: 0.4559 - val_loss: 0.9315 - val_accuracy: 0.7111\n",
            "Epoch 10/10\n",
            "1594/1594 [==============================] - 43s 27ms/step - loss: 1.5444 - accuracy: 0.4603 - val_loss: 0.8587 - val_accuracy: 0.6962\n"
          ]
        }
      ],
      "source": [
        "opt_3 = optimizers.SGD(learning_rate=0.01, momentum=0.9)\n",
        "model_21.compile(optimizer=opt_3, loss='categorical_crossentropy', metrics=['accuracy'])\n",
        "model_21_history = model_21.fit(X_train, y_train, epochs=10, batch_size=32, shuffle=True,validation_data=(X_val, y_val), verbose=1)\n",
        "saved_models.append(model_21)\n",
        "histories.append(model_21_history)"
      ],
      "id": "y-kbmEKuTGeN"
    },
    {
      "cell_type": "code",
      "execution_count": 50,
      "metadata": {
        "colab": {
          "base_uri": "https://localhost:8080/"
        },
        "id": "h9lWSGQ5TGTO",
        "outputId": "fc2154c8-3b65-4a0e-96cc-60201ac5402d"
      },
      "outputs": [
        {
          "output_type": "stream",
          "name": "stdout",
          "text": [
            "313/313 [==============================] - 1s 4ms/step - loss: 0.2661 - accuracy: 0.9267\n",
            "313/313 [==============================] - 1s 4ms/step - loss: 0.2301 - accuracy: 0.9331\n",
            "313/313 [==============================] - 1s 4ms/step - loss: 0.1935 - accuracy: 0.9465\n",
            "313/313 [==============================] - 1s 4ms/step - loss: 0.0952 - accuracy: 0.9863\n",
            "313/313 [==============================] - 1s 4ms/step - loss: 0.0454 - accuracy: 0.9856\n",
            "313/313 [==============================] - 1s 4ms/step - loss: 0.0401 - accuracy: 0.9895\n",
            "313/313 [==============================] - 3s 10ms/step - loss: 0.0477 - accuracy: 0.9901\n",
            "313/313 [==============================] - 1s 3ms/step - loss: 0.1124 - accuracy: 0.9700\n",
            "313/313 [==============================] - 3s 10ms/step - loss: 0.0412 - accuracy: 0.9917\n",
            "313/313 [==============================] - 3s 11ms/step - loss: 0.0589 - accuracy: 0.9850\n",
            "313/313 [==============================] - 3s 11ms/step - loss: 0.0470 - accuracy: 0.9904\n",
            "313/313 [==============================] - 3s 11ms/step - loss: 0.0319 - accuracy: 0.9904\n",
            "313/313 [==============================] - 3s 10ms/step - loss: 0.0360 - accuracy: 0.9895\n",
            "313/313 [==============================] - 3s 10ms/step - loss: 0.0472 - accuracy: 0.9892\n",
            "313/313 [==============================] - 3s 11ms/step - loss: 0.0390 - accuracy: 0.9897\n",
            "313/313 [==============================] - 3s 10ms/step - loss: 0.0893 - accuracy: 0.9804\n",
            "313/313 [==============================] - 3s 11ms/step - loss: 0.1865 - accuracy: 0.9816\n",
            "313/313 [==============================] - 3s 10ms/step - loss: 0.0406 - accuracy: 0.9890\n",
            "313/313 [==============================] - 3s 9ms/step - loss: 0.0437 - accuracy: 0.9878\n",
            "313/313 [==============================] - 3s 10ms/step - loss: 2.3021 - accuracy: 0.1135\n",
            "313/313 [==============================] - 3s 9ms/step - loss: 0.8436 - accuracy: 0.6993\n",
            "model: 9 accuracy: 99.17 %\n"
          ]
        }
      ],
      "source": [
        "best_model, best_model_idx = evaluate_model(saved_models, X_test, y_test)"
      ],
      "id": "h9lWSGQ5TGTO"
    },
    {
      "cell_type": "markdown",
      "metadata": {
        "id": "cnDDr4SkRNxI"
      },
      "source": [
        "#Models Summary"
      ],
      "id": "cnDDr4SkRNxI"
    },
    {
      "cell_type": "code",
      "execution_count": 51,
      "metadata": {
        "id": "Duzy_6BTi4ca",
        "colab": {
          "base_uri": "https://localhost:8080/"
        },
        "outputId": "dfd8420e-49f1-48d2-f35e-fec02891f9d0"
      },
      "outputs": [
        {
          "output_type": "stream",
          "name": "stdout",
          "text": [
            "model: 1\n",
            "Model: \"sequential\"\n",
            "_________________________________________________________________\n",
            " Layer (type)                Output Shape              Param #   \n",
            "=================================================================\n",
            " conv2d (Conv2D)             (None, 12, 12, 64)        1664      \n",
            "                                                                 \n",
            " max_pooling2d (MaxPooling2D  (None, 6, 6, 64)         0         \n",
            " )                                                               \n",
            "                                                                 \n",
            " flatten (Flatten)           (None, 2304)              0         \n",
            "                                                                 \n",
            " dense (Dense)               (None, 64)                147520    \n",
            "                                                                 \n",
            " dense_1 (Dense)             (None, 10)                650       \n",
            "                                                                 \n",
            "=================================================================\n",
            "Total params: 149,834\n",
            "Trainable params: 149,834\n",
            "Non-trainable params: 0\n",
            "_________________________________________________________________\n",
            "model: 2\n",
            "Model: \"sequential\"\n",
            "_________________________________________________________________\n",
            " Layer (type)                Output Shape              Param #   \n",
            "=================================================================\n",
            " conv2d (Conv2D)             (None, 12, 12, 64)        1664      \n",
            "                                                                 \n",
            " max_pooling2d (MaxPooling2D  (None, 6, 6, 64)         0         \n",
            " )                                                               \n",
            "                                                                 \n",
            " flatten (Flatten)           (None, 2304)              0         \n",
            "                                                                 \n",
            " dense (Dense)               (None, 64)                147520    \n",
            "                                                                 \n",
            " dense_1 (Dense)             (None, 10)                650       \n",
            "                                                                 \n",
            "=================================================================\n",
            "Total params: 149,834\n",
            "Trainable params: 149,834\n",
            "Non-trainable params: 0\n",
            "_________________________________________________________________\n",
            "model: 3\n",
            "Model: \"sequential\"\n",
            "_________________________________________________________________\n",
            " Layer (type)                Output Shape              Param #   \n",
            "=================================================================\n",
            " conv2d (Conv2D)             (None, 12, 12, 64)        1664      \n",
            "                                                                 \n",
            " max_pooling2d (MaxPooling2D  (None, 6, 6, 64)         0         \n",
            " )                                                               \n",
            "                                                                 \n",
            " flatten (Flatten)           (None, 2304)              0         \n",
            "                                                                 \n",
            " dense (Dense)               (None, 64)                147520    \n",
            "                                                                 \n",
            " dense_1 (Dense)             (None, 10)                650       \n",
            "                                                                 \n",
            "=================================================================\n",
            "Total params: 149,834\n",
            "Trainable params: 149,834\n",
            "Non-trainable params: 0\n",
            "_________________________________________________________________\n",
            "model: 4\n",
            "Model: \"sequential\"\n",
            "_________________________________________________________________\n",
            " Layer (type)                Output Shape              Param #   \n",
            "=================================================================\n",
            " conv2d (Conv2D)             (None, 12, 12, 64)        1664      \n",
            "                                                                 \n",
            " max_pooling2d (MaxPooling2D  (None, 6, 6, 64)         0         \n",
            " )                                                               \n",
            "                                                                 \n",
            " flatten (Flatten)           (None, 2304)              0         \n",
            "                                                                 \n",
            " dense (Dense)               (None, 64)                147520    \n",
            "                                                                 \n",
            " dense_1 (Dense)             (None, 10)                650       \n",
            "                                                                 \n",
            "=================================================================\n",
            "Total params: 149,834\n",
            "Trainable params: 149,834\n",
            "Non-trainable params: 0\n",
            "_________________________________________________________________\n",
            "model: 5\n",
            "Model: \"sequential\"\n",
            "_________________________________________________________________\n",
            " Layer (type)                Output Shape              Param #   \n",
            "=================================================================\n",
            " conv2d (Conv2D)             (None, 12, 12, 64)        1664      \n",
            "                                                                 \n",
            " max_pooling2d (MaxPooling2D  (None, 6, 6, 64)         0         \n",
            " )                                                               \n",
            "                                                                 \n",
            " flatten (Flatten)           (None, 2304)              0         \n",
            "                                                                 \n",
            " dense (Dense)               (None, 64)                147520    \n",
            "                                                                 \n",
            " dense_1 (Dense)             (None, 10)                650       \n",
            "                                                                 \n",
            "=================================================================\n",
            "Total params: 149,834\n",
            "Trainable params: 149,834\n",
            "Non-trainable params: 0\n",
            "_________________________________________________________________\n",
            "model: 6\n",
            "Model: \"sequential\"\n",
            "_________________________________________________________________\n",
            " Layer (type)                Output Shape              Param #   \n",
            "=================================================================\n",
            " conv2d (Conv2D)             (None, 12, 12, 64)        1664      \n",
            "                                                                 \n",
            " max_pooling2d (MaxPooling2D  (None, 6, 6, 64)         0         \n",
            " )                                                               \n",
            "                                                                 \n",
            " flatten (Flatten)           (None, 2304)              0         \n",
            "                                                                 \n",
            " dense (Dense)               (None, 64)                147520    \n",
            "                                                                 \n",
            " dense_1 (Dense)             (None, 10)                650       \n",
            "                                                                 \n",
            "=================================================================\n",
            "Total params: 149,834\n",
            "Trainable params: 149,834\n",
            "Non-trainable params: 0\n",
            "_________________________________________________________________\n",
            "model: 7\n",
            "Model: \"sequential_1\"\n",
            "_________________________________________________________________\n",
            " Layer (type)                Output Shape              Param #   \n",
            "=================================================================\n",
            " conv2d_1 (Conv2D)           (None, 26, 26, 32)        320       \n",
            "                                                                 \n",
            " max_pooling2d_1 (MaxPooling  (None, 13, 13, 32)       0         \n",
            " 2D)                                                             \n",
            "                                                                 \n",
            " conv2d_2 (Conv2D)           (None, 11, 11, 32)        9248      \n",
            "                                                                 \n",
            " max_pooling2d_2 (MaxPooling  (None, 5, 5, 32)         0         \n",
            " 2D)                                                             \n",
            "                                                                 \n",
            " flatten_1 (Flatten)         (None, 800)               0         \n",
            "                                                                 \n",
            " dense_2 (Dense)             (None, 64)                51264     \n",
            "                                                                 \n",
            " dense_3 (Dense)             (None, 32)                2080      \n",
            "                                                                 \n",
            " dense_4 (Dense)             (None, 10)                330       \n",
            "                                                                 \n",
            "=================================================================\n",
            "Total params: 63,242\n",
            "Trainable params: 63,242\n",
            "Non-trainable params: 0\n",
            "_________________________________________________________________\n",
            "model: 8\n",
            "Model: \"sequential_2\"\n",
            "_________________________________________________________________\n",
            " Layer (type)                Output Shape              Param #   \n",
            "=================================================================\n",
            " conv2d_3 (Conv2D)           (None, 13, 13, 16)        160       \n",
            "                                                                 \n",
            " max_pooling2d_3 (MaxPooling  (None, 6, 6, 16)         0         \n",
            " 2D)                                                             \n",
            "                                                                 \n",
            " conv2d_4 (Conv2D)           (None, 2, 2, 32)          4640      \n",
            "                                                                 \n",
            " max_pooling2d_4 (MaxPooling  (None, 1, 1, 32)         0         \n",
            " 2D)                                                             \n",
            "                                                                 \n",
            " flatten_2 (Flatten)         (None, 32)                0         \n",
            "                                                                 \n",
            " dense_5 (Dense)             (None, 64)                2112      \n",
            "                                                                 \n",
            " dense_6 (Dense)             (None, 32)                2080      \n",
            "                                                                 \n",
            " dense_7 (Dense)             (None, 10)                330       \n",
            "                                                                 \n",
            "=================================================================\n",
            "Total params: 9,322\n",
            "Trainable params: 9,322\n",
            "Non-trainable params: 0\n",
            "_________________________________________________________________\n",
            "model: 9\n",
            "Model: \"sequential_3\"\n",
            "_________________________________________________________________\n",
            " Layer (type)                Output Shape              Param #   \n",
            "=================================================================\n",
            " conv2d_5 (Conv2D)           (None, 26, 26, 32)        320       \n",
            "                                                                 \n",
            " max_pooling2d_5 (MaxPooling  (None, 13, 13, 32)       0         \n",
            " 2D)                                                             \n",
            "                                                                 \n",
            " conv2d_6 (Conv2D)           (None, 9, 9, 32)          25632     \n",
            "                                                                 \n",
            " max_pooling2d_6 (MaxPooling  (None, 4, 4, 32)         0         \n",
            " 2D)                                                             \n",
            "                                                                 \n",
            " flatten_3 (Flatten)         (None, 512)               0         \n",
            "                                                                 \n",
            " dense_8 (Dense)             (None, 32)                16416     \n",
            "                                                                 \n",
            " dense_9 (Dense)             (None, 10)                330       \n",
            "                                                                 \n",
            "=================================================================\n",
            "Total params: 42,698\n",
            "Trainable params: 42,698\n",
            "Non-trainable params: 0\n",
            "_________________________________________________________________\n",
            "model: 10\n",
            "Model: \"sequential_4\"\n",
            "_________________________________________________________________\n",
            " Layer (type)                Output Shape              Param #   \n",
            "=================================================================\n",
            " conv2d_7 (Conv2D)           (None, 26, 26, 128)       1280      \n",
            "                                                                 \n",
            " max_pooling2d_7 (MaxPooling  (None, 13, 13, 128)      0         \n",
            " 2D)                                                             \n",
            "                                                                 \n",
            " flatten_4 (Flatten)         (None, 21632)             0         \n",
            "                                                                 \n",
            " dense_10 (Dense)            (None, 32)                692256    \n",
            "                                                                 \n",
            " dense_11 (Dense)            (None, 10)                330       \n",
            "                                                                 \n",
            "=================================================================\n",
            "Total params: 693,866\n",
            "Trainable params: 693,866\n",
            "Non-trainable params: 0\n",
            "_________________________________________________________________\n",
            "model: 11\n",
            "Model: \"sequential_3\"\n",
            "_________________________________________________________________\n",
            " Layer (type)                Output Shape              Param #   \n",
            "=================================================================\n",
            " conv2d_5 (Conv2D)           (None, 26, 26, 32)        320       \n",
            "                                                                 \n",
            " max_pooling2d_5 (MaxPooling  (None, 13, 13, 32)       0         \n",
            " 2D)                                                             \n",
            "                                                                 \n",
            " conv2d_6 (Conv2D)           (None, 9, 9, 32)          25632     \n",
            "                                                                 \n",
            " max_pooling2d_6 (MaxPooling  (None, 4, 4, 32)         0         \n",
            " 2D)                                                             \n",
            "                                                                 \n",
            " flatten_3 (Flatten)         (None, 512)               0         \n",
            "                                                                 \n",
            " dense_8 (Dense)             (None, 32)                16416     \n",
            "                                                                 \n",
            " dense_9 (Dense)             (None, 10)                330       \n",
            "                                                                 \n",
            "=================================================================\n",
            "Total params: 42,698\n",
            "Trainable params: 42,698\n",
            "Non-trainable params: 0\n",
            "_________________________________________________________________\n",
            "model: 12\n",
            "Model: \"sequential_3\"\n",
            "_________________________________________________________________\n",
            " Layer (type)                Output Shape              Param #   \n",
            "=================================================================\n",
            " conv2d_5 (Conv2D)           (None, 26, 26, 32)        320       \n",
            "                                                                 \n",
            " max_pooling2d_5 (MaxPooling  (None, 13, 13, 32)       0         \n",
            " 2D)                                                             \n",
            "                                                                 \n",
            " conv2d_6 (Conv2D)           (None, 9, 9, 32)          25632     \n",
            "                                                                 \n",
            " max_pooling2d_6 (MaxPooling  (None, 4, 4, 32)         0         \n",
            " 2D)                                                             \n",
            "                                                                 \n",
            " flatten_3 (Flatten)         (None, 512)               0         \n",
            "                                                                 \n",
            " dense_8 (Dense)             (None, 32)                16416     \n",
            "                                                                 \n",
            " dense_9 (Dense)             (None, 10)                330       \n",
            "                                                                 \n",
            "=================================================================\n",
            "Total params: 42,698\n",
            "Trainable params: 42,698\n",
            "Non-trainable params: 0\n",
            "_________________________________________________________________\n",
            "model: 13\n",
            "Model: \"sequential_5\"\n",
            "_________________________________________________________________\n",
            " Layer (type)                Output Shape              Param #   \n",
            "=================================================================\n",
            " conv2d_8 (Conv2D)           (None, 26, 26, 32)        320       \n",
            "                                                                 \n",
            " max_pooling2d_8 (MaxPooling  (None, 13, 13, 32)       0         \n",
            " 2D)                                                             \n",
            "                                                                 \n",
            " conv2d_9 (Conv2D)           (None, 11, 11, 32)        9248      \n",
            "                                                                 \n",
            " max_pooling2d_9 (MaxPooling  (None, 5, 5, 32)         0         \n",
            " 2D)                                                             \n",
            "                                                                 \n",
            " flatten_5 (Flatten)         (None, 800)               0         \n",
            "                                                                 \n",
            " dense_12 (Dense)            (None, 64)                51264     \n",
            "                                                                 \n",
            " dense_13 (Dense)            (None, 32)                2080      \n",
            "                                                                 \n",
            " dense_14 (Dense)            (None, 10)                330       \n",
            "                                                                 \n",
            "=================================================================\n",
            "Total params: 63,242\n",
            "Trainable params: 63,242\n",
            "Non-trainable params: 0\n",
            "_________________________________________________________________\n",
            "model: 14\n",
            "Model: \"sequential_6\"\n",
            "_________________________________________________________________\n",
            " Layer (type)                Output Shape              Param #   \n",
            "=================================================================\n",
            " conv2d_10 (Conv2D)          (None, 26, 26, 32)        320       \n",
            "                                                                 \n",
            " max_pooling2d_10 (MaxPoolin  (None, 13, 13, 32)       0         \n",
            " g2D)                                                            \n",
            "                                                                 \n",
            " conv2d_11 (Conv2D)          (None, 11, 11, 32)        9248      \n",
            "                                                                 \n",
            " max_pooling2d_11 (MaxPoolin  (None, 5, 5, 32)         0         \n",
            " g2D)                                                            \n",
            "                                                                 \n",
            " flatten_6 (Flatten)         (None, 800)               0         \n",
            "                                                                 \n",
            " dense_15 (Dense)            (None, 64)                51264     \n",
            "                                                                 \n",
            " dense_16 (Dense)            (None, 32)                2080      \n",
            "                                                                 \n",
            " dense_17 (Dense)            (None, 10)                330       \n",
            "                                                                 \n",
            "=================================================================\n",
            "Total params: 63,242\n",
            "Trainable params: 63,242\n",
            "Non-trainable params: 0\n",
            "_________________________________________________________________\n",
            "model: 15\n",
            "Model: \"sequential_7\"\n",
            "_________________________________________________________________\n",
            " Layer (type)                Output Shape              Param #   \n",
            "=================================================================\n",
            " conv2d_12 (Conv2D)          (None, 26, 26, 32)        320       \n",
            "                                                                 \n",
            " leaky_re_lu (LeakyReLU)     (None, 26, 26, 32)        0         \n",
            "                                                                 \n",
            " max_pooling2d_12 (MaxPoolin  (None, 13, 13, 32)       0         \n",
            " g2D)                                                            \n",
            "                                                                 \n",
            " conv2d_13 (Conv2D)          (None, 11, 11, 32)        9248      \n",
            "                                                                 \n",
            " leaky_re_lu_1 (LeakyReLU)   (None, 11, 11, 32)        0         \n",
            "                                                                 \n",
            " max_pooling2d_13 (MaxPoolin  (None, 5, 5, 32)         0         \n",
            " g2D)                                                            \n",
            "                                                                 \n",
            " flatten_7 (Flatten)         (None, 800)               0         \n",
            "                                                                 \n",
            " dense_18 (Dense)            (None, 64)                51264     \n",
            "                                                                 \n",
            " leaky_re_lu_2 (LeakyReLU)   (None, 64)                0         \n",
            "                                                                 \n",
            " dense_19 (Dense)            (None, 32)                2080      \n",
            "                                                                 \n",
            " leaky_re_lu_3 (LeakyReLU)   (None, 32)                0         \n",
            "                                                                 \n",
            " dense_20 (Dense)            (None, 10)                330       \n",
            "                                                                 \n",
            "=================================================================\n",
            "Total params: 63,242\n",
            "Trainable params: 63,242\n",
            "Non-trainable params: 0\n",
            "_________________________________________________________________\n",
            "model: 16\n",
            "Model: \"sequential_3\"\n",
            "_________________________________________________________________\n",
            " Layer (type)                Output Shape              Param #   \n",
            "=================================================================\n",
            " conv2d_5 (Conv2D)           (None, 26, 26, 32)        320       \n",
            "                                                                 \n",
            " max_pooling2d_5 (MaxPooling  (None, 13, 13, 32)       0         \n",
            " 2D)                                                             \n",
            "                                                                 \n",
            " conv2d_6 (Conv2D)           (None, 9, 9, 32)          25632     \n",
            "                                                                 \n",
            " max_pooling2d_6 (MaxPooling  (None, 4, 4, 32)         0         \n",
            " 2D)                                                             \n",
            "                                                                 \n",
            " flatten_3 (Flatten)         (None, 512)               0         \n",
            "                                                                 \n",
            " dense_8 (Dense)             (None, 32)                16416     \n",
            "                                                                 \n",
            " dense_9 (Dense)             (None, 10)                330       \n",
            "                                                                 \n",
            "=================================================================\n",
            "Total params: 42,698\n",
            "Trainable params: 42,698\n",
            "Non-trainable params: 0\n",
            "_________________________________________________________________\n",
            "model: 17\n",
            "Model: \"sequential_3\"\n",
            "_________________________________________________________________\n",
            " Layer (type)                Output Shape              Param #   \n",
            "=================================================================\n",
            " conv2d_5 (Conv2D)           (None, 26, 26, 32)        320       \n",
            "                                                                 \n",
            " max_pooling2d_5 (MaxPooling  (None, 13, 13, 32)       0         \n",
            " 2D)                                                             \n",
            "                                                                 \n",
            " conv2d_6 (Conv2D)           (None, 9, 9, 32)          25632     \n",
            "                                                                 \n",
            " max_pooling2d_6 (MaxPooling  (None, 4, 4, 32)         0         \n",
            " 2D)                                                             \n",
            "                                                                 \n",
            " flatten_3 (Flatten)         (None, 512)               0         \n",
            "                                                                 \n",
            " dense_8 (Dense)             (None, 32)                16416     \n",
            "                                                                 \n",
            " dense_9 (Dense)             (None, 10)                330       \n",
            "                                                                 \n",
            "=================================================================\n",
            "Total params: 42,698\n",
            "Trainable params: 42,698\n",
            "Non-trainable params: 0\n",
            "_________________________________________________________________\n",
            "model: 18\n",
            "Model: \"sequential_8\"\n",
            "_________________________________________________________________\n",
            " Layer (type)                Output Shape              Param #   \n",
            "=================================================================\n",
            " conv2d_14 (Conv2D)          (None, 26, 26, 32)        320       \n",
            "                                                                 \n",
            " max_pooling2d_14 (MaxPoolin  (None, 13, 13, 32)       0         \n",
            " g2D)                                                            \n",
            "                                                                 \n",
            " conv2d_15 (Conv2D)          (None, 11, 11, 32)        9248      \n",
            "                                                                 \n",
            " max_pooling2d_15 (MaxPoolin  (None, 5, 5, 32)         0         \n",
            " g2D)                                                            \n",
            "                                                                 \n",
            " flatten_8 (Flatten)         (None, 800)               0         \n",
            "                                                                 \n",
            " dense_21 (Dense)            (None, 64)                51264     \n",
            "                                                                 \n",
            " dense_22 (Dense)            (None, 32)                2080      \n",
            "                                                                 \n",
            " dense_23 (Dense)            (None, 10)                330       \n",
            "                                                                 \n",
            "=================================================================\n",
            "Total params: 63,242\n",
            "Trainable params: 63,242\n",
            "Non-trainable params: 0\n",
            "_________________________________________________________________\n",
            "model: 19\n",
            "Model: \"sequential_9\"\n",
            "_________________________________________________________________\n",
            " Layer (type)                Output Shape              Param #   \n",
            "=================================================================\n",
            " conv2d_16 (Conv2D)          (None, 26, 26, 32)        320       \n",
            "                                                                 \n",
            " max_pooling2d_16 (MaxPoolin  (None, 13, 13, 32)       0         \n",
            " g2D)                                                            \n",
            "                                                                 \n",
            " conv2d_17 (Conv2D)          (None, 11, 11, 32)        9248      \n",
            "                                                                 \n",
            " max_pooling2d_17 (MaxPoolin  (None, 5, 5, 32)         0         \n",
            " g2D)                                                            \n",
            "                                                                 \n",
            " dropout_2 (Dropout)         (None, 5, 5, 32)          0         \n",
            "                                                                 \n",
            " flatten_9 (Flatten)         (None, 800)               0         \n",
            "                                                                 \n",
            " dense_24 (Dense)            (None, 64)                51264     \n",
            "                                                                 \n",
            " dropout_3 (Dropout)         (None, 64)                0         \n",
            "                                                                 \n",
            " dense_25 (Dense)            (None, 32)                2080      \n",
            "                                                                 \n",
            " dropout_4 (Dropout)         (None, 32)                0         \n",
            "                                                                 \n",
            " dense_26 (Dense)            (None, 10)                330       \n",
            "                                                                 \n",
            "=================================================================\n",
            "Total params: 63,242\n",
            "Trainable params: 63,242\n",
            "Non-trainable params: 0\n",
            "_________________________________________________________________\n",
            "model: 20\n",
            "Model: \"sequential_10\"\n",
            "_________________________________________________________________\n",
            " Layer (type)                Output Shape              Param #   \n",
            "=================================================================\n",
            " conv2d_18 (Conv2D)          (None, 26, 26, 32)        320       \n",
            "                                                                 \n",
            " max_pooling2d_18 (MaxPoolin  (None, 13, 13, 32)       0         \n",
            " g2D)                                                            \n",
            "                                                                 \n",
            " dropout_5 (Dropout)         (None, 13, 13, 32)        0         \n",
            "                                                                 \n",
            " conv2d_19 (Conv2D)          (None, 11, 11, 32)        9248      \n",
            "                                                                 \n",
            " max_pooling2d_19 (MaxPoolin  (None, 5, 5, 32)         0         \n",
            " g2D)                                                            \n",
            "                                                                 \n",
            " flatten_10 (Flatten)        (None, 800)               0         \n",
            "                                                                 \n",
            " dense_27 (Dense)            (None, 64)                51264     \n",
            "                                                                 \n",
            " dense_28 (Dense)            (None, 32)                2080      \n",
            "                                                                 \n",
            " dropout_6 (Dropout)         (None, 32)                0         \n",
            "                                                                 \n",
            " dense_29 (Dense)            (None, 10)                330       \n",
            "                                                                 \n",
            "=================================================================\n",
            "Total params: 63,242\n",
            "Trainable params: 63,242\n",
            "Non-trainable params: 0\n",
            "_________________________________________________________________\n",
            "model: 21\n",
            "Model: \"sequential_11\"\n",
            "_________________________________________________________________\n",
            " Layer (type)                Output Shape              Param #   \n",
            "=================================================================\n",
            " conv2d_20 (Conv2D)          (None, 26, 26, 32)        320       \n",
            "                                                                 \n",
            " max_pooling2d_20 (MaxPoolin  (None, 13, 13, 32)       0         \n",
            " g2D)                                                            \n",
            "                                                                 \n",
            " conv2d_21 (Conv2D)          (None, 11, 11, 32)        9248      \n",
            "                                                                 \n",
            " max_pooling2d_21 (MaxPoolin  (None, 5, 5, 32)         0         \n",
            " g2D)                                                            \n",
            "                                                                 \n",
            " dropout_7 (Dropout)         (None, 5, 5, 32)          0         \n",
            "                                                                 \n",
            " flatten_11 (Flatten)        (None, 800)               0         \n",
            "                                                                 \n",
            " dense_30 (Dense)            (None, 64)                51264     \n",
            "                                                                 \n",
            " dropout_8 (Dropout)         (None, 64)                0         \n",
            "                                                                 \n",
            " dense_31 (Dense)            (None, 32)                2080      \n",
            "                                                                 \n",
            " dropout_9 (Dropout)         (None, 32)                0         \n",
            "                                                                 \n",
            " dense_32 (Dense)            (None, 10)                330       \n",
            "                                                                 \n",
            "=================================================================\n",
            "Total params: 63,242\n",
            "Trainable params: 63,242\n",
            "Non-trainable params: 0\n",
            "_________________________________________________________________\n"
          ]
        }
      ],
      "source": [
        "summaries(saved_models)"
      ],
      "id": "Duzy_6BTi4ca"
    },
    {
      "cell_type": "code",
      "source": [
        "import pandas as pd\n",
        "\n",
        "pd.DataFrame(histories[best_model_idx].history).plot(figsize=(8, 5))\n",
        "plt.grid(True)\n",
        "plt.gca().set_ylim(0, 1)\n",
        "\n",
        "plt.show()"
      ],
      "metadata": {
        "colab": {
          "base_uri": "https://localhost:8080/",
          "height": 324
        },
        "id": "10GdxhZwr1kE",
        "outputId": "1a37eec7-af75-4049-a7e8-1108b8ce8245"
      },
      "id": "10GdxhZwr1kE",
      "execution_count": 52,
      "outputs": [
        {
          "output_type": "display_data",
          "data": {
            "text/plain": [
              "<Figure size 576x360 with 1 Axes>"
            ],
            "image/png": "[encoded data removed]"
          },
          "metadata": {
            "needs_background": "light"
          }
        }
      ]
    },
    {
      "cell_type": "markdown",
      "source": [
        "Summary of our best model, model 9 <br>\n",
        "number of epochs is 20 <br>\n",
        "size of batch is 32 <br>\n",
        "stochastic SGD with a learning rate of 0.1 and a momentum of 0.9 <br>\n",
        "we used ReLU as our activation fucntion in all the layers except for the outplut layer wher we used a softmax activation function <br>\n",
        "our architecture is as follow: <br>\n",
        "our first conc layer was 32 filters of size 3x3 followed by a max pool layer <br>\n",
        "the second conv layer is 32 filters of size 5x5 also followed by a max pool layer <br>\n",
        "we chose 1 FC layer consisting of 32 neurons followed by an output layer.\n",
        "\n"
      ],
      "metadata": {
        "id": "L2r1-Hq0Wf2z"
      },
      "id": "L2r1-Hq0Wf2z"
    }
  ],
  "metadata": {
    "colab": {
      "collapsed_sections": [
        "8_zCodYOt9Kd",
        "oXfn9o7xuijs",
        "3J8hwjmlCxtp",
        "14UIOoXWzq_P",
        "1DOv_IDKZ1-G",
        "pSu91m-_bCB-",
        "MJG73eMssu2y",
        "dF9wUeZKyUrV"
      ],
      "name": "CNN.ipynb",
      "provenance": [],
      "include_colab_link": true
    },
    "kernelspec": {
      "display_name": "Python 3 (ipykernel)",
      "language": "python",
      "name": "python3"
    },
    "language_info": {
      "codemirror_mode": {
        "name": "ipython",
        "version": 3
      },
      "file_extension": ".py",
      "mimetype": "text/x-python",
      "name": "python",
      "nbconvert_exporter": "python",
      "pygments_lexer": "ipython3",
      "version": "3.9.7"
    }
  },
  "nbformat": 4,
  "nbformat_minor": 5
}