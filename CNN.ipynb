{
 "cells": [
  {
   "cell_type": "markdown",
   "id": "45425864",
   "metadata": {
    "colab_type": "text",
    "id": "view-in-github"
   },
   "source": [
    "<a href=\"https://colab.research.google.com/github/Al-ameen007/CNN/blob/main/CNN.ipynb\" target=\"_parent\"><img src=\"https://colab.research.google.com/assets/colab-badge.svg\" alt=\"Open In Colab\"/></a>"
   ]
  },
  {
   "cell_type": "markdown",
   "id": "8_zCodYOt9Kd",
   "metadata": {
    "id": "8_zCodYOt9Kd"
   },
   "source": [
    "# Importing the data and some preprocessing"
   ]
  },
  {
   "cell_type": "code",
   "execution_count": 1,
   "id": "794a1cd9",
   "metadata": {
    "id": "794a1cd9"
   },
   "outputs": [],
   "source": [
    "import numpy as np\n",
    "from matplotlib import pyplot as plt\n",
    "import tensorflow \n",
    "from tensorflow import keras"
   ]
  },
  {
   "cell_type": "code",
   "execution_count": 2,
   "id": "1fee0949",
   "metadata": {
    "colab": {
     "base_uri": "https://localhost:8080/"
    },
    "id": "1fee0949",
    "outputId": "7c16f338-1b3b-4543-a19a-7a0be61f6d89"
   },
   "outputs": [],
   "source": [
    "from tensorflow.keras.datasets import mnist\n",
    "(X_train, y_train), (X_test, y_test) = mnist.load_data()"
   ]
  },
  {
   "cell_type": "code",
   "execution_count": 3,
   "id": "66db5679",
   "metadata": {
    "id": "66db5679"
   },
   "outputs": [],
   "source": [
    "# Normalizing the data and one-hot encoding the labels\n",
    "from tensorflow.keras.utils import to_categorical\n",
    "X_train = X_train.astype('float32') / 255.0\n",
    "X_test = X_test.astype('float32') / 255.0\n",
    "y_train = to_categorical(y_train)\n",
    "y_test = to_categorical(y_test)"
   ]
  },
  {
   "cell_type": "code",
   "execution_count": 4,
   "id": "c506d3b4",
   "metadata": {
    "id": "c506d3b4"
   },
   "outputs": [],
   "source": [
    "# Splitting the data into training and validation sets as we want to save the test set for the evaluation of the best model\n",
    "from sklearn.model_selection import train_test_split\n",
    "X_train, X_val, y_train, y_val = train_test_split(X_train, y_train, test_size=0.15, random_state=42)"
   ]
  },
  {
   "cell_type": "code",
   "execution_count": 5,
   "id": "24e242ff",
   "metadata": {
    "id": "24e242ff"
   },
   "outputs": [],
   "source": [
    "from keras import models\n",
    "from keras import layers\n",
    "from tensorflow.keras import optimizers"
   ]
  },
  {
   "cell_type": "code",
   "execution_count": 6,
   "id": "w09_wooZP5os",
   "metadata": {
    "id": "w09_wooZP5os"
   },
   "outputs": [],
   "source": [
    "saved_models = []\n",
    "histories = []"
   ]
  },
  {
   "cell_type": "markdown",
   "id": "oXfn9o7xuijs",
   "metadata": {
    "id": "oXfn9o7xuijs"
   },
   "source": [
    "# Base Model"
   ]
  },
  {
   "cell_type": "code",
   "execution_count": 7,
   "id": "46791caf",
   "metadata": {
    "id": "46791caf"
   },
   "outputs": [],
   "source": [
    "model = models.Sequential()\n",
    "model.add(layers.Conv2D(64, (5, 5), strides=(2, 2),activation='relu', kernel_initializer='truncated_normal', input_shape=(28, 28, 1)))\n",
    "model.add(layers.MaxPooling2D(pool_size=(2, 2), strides=(2, 2)))\n",
    "model.add(layers.Flatten())\n",
    "model.add(layers.Dense(64, activation='relu', kernel_initializer='he_uniform'))\n",
    "model.add(layers.Dense(10, activation='softmax'))"
   ]
  },
  {
   "cell_type": "code",
   "execution_count": 8,
   "id": "o2qwrmHo8erm",
   "metadata": {
    "id": "o2qwrmHo8erm"
   },
   "outputs": [],
   "source": [
    "opt = optimizers.SGD(learning_rate=0.0001, momentum=0.9)\n",
    "opt_1 = optimizers.SGD(learning_rate=0.05, momentum=0.9)\n",
    "opt_2 = optimizers.SGD(learning_rate=0.001, momentum=0.9)\n",
    "opt_3 = optimizers.SGD(learning_rate=0.01, momentum=0.9)\n",
    "opt_4 = optimizers.Adam(learning_rate=0.01, beta_1=0.9, beta_2=0.999)\n",
    "opt_5 = optimizers.RMSprop(learning_rate=0.01, rho=0.9, momentum=0.1,)"
   ]
  },
  {
   "cell_type": "code",
   "execution_count": 9,
   "id": "YB5JmuuzDpiU",
   "metadata": {
    "id": "YB5JmuuzDpiU"
   },
   "outputs": [],
   "source": [
    "def evaluate_model(saved_models, X, y):\n",
    "  best_model, best_model_idx = saved_models[0], 0\n",
    "  best_accuracy= (best_model.evaluate(X, y, verbose=1))[1]\n",
    "  for i in range(1, len(saved_models)):\n",
    "    loss, acc = saved_models[i].evaluate(X, y, verbose=1)\n",
    "    if acc > best_accuracy:\n",
    "      best_model, best_model_idx , best_accuracy= saved_models[i], i, acc\n",
    "  print('model: ' + str(best_model_idx + 1), 'accuracy: ' + str('%.2f'%(best_accuracy * 100) + ' %'))\n",
    "  return best_model, best_model_idx"
   ]
  },
  {
   "cell_type": "code",
   "execution_count": 10,
   "id": "DTy9l7jbaR3u",
   "metadata": {
    "id": "DTy9l7jbaR3u"
   },
   "outputs": [],
   "source": [
    "def summaries(saved_models):\n",
    "  for i in range(0, len(saved_models)):\n",
    "    print('model: ' + str(i + 1))\n",
    "    saved_models[i].summary()"
   ]
  },
  {
   "cell_type": "markdown",
   "id": "3J8hwjmlCxtp",
   "metadata": {
    "id": "3J8hwjmlCxtp"
   },
   "source": [
    "# Trying differnt number of epochs"
   ]
  },
  {
   "cell_type": "code",
   "execution_count": 11,
   "id": "3JLhPzqhC-v7",
   "metadata": {
    "colab": {
     "base_uri": "https://localhost:8080/"
    },
    "id": "3JLhPzqhC-v7",
    "outputId": "b6547917-246c-4e9a-b678-a72312ddd9ea"
   },
   "outputs": [
    {
     "name": "stdout",
     "output_type": "stream",
     "text": [
      "Epoch 1/10\n",
      "1594/1594 [==============================] - 10s 5ms/step - loss: 2.1314 - accuracy: 0.4138 - val_loss: 1.8247 - val_accuracy: 0.6716\n",
      "Epoch 2/10\n",
      "1594/1594 [==============================] - 10s 6ms/step - loss: 1.3077 - accuracy: 0.7370 - val_loss: 0.8850 - val_accuracy: 0.7961\n",
      "Epoch 3/10\n",
      "1594/1594 [==============================] - 8s 5ms/step - loss: 0.6993 - accuracy: 0.8255 - val_loss: 0.5736 - val_accuracy: 0.8510\n",
      "Epoch 4/10\n",
      "1594/1594 [==============================] - 8s 5ms/step - loss: 0.5114 - accuracy: 0.8624 - val_loss: 0.4612 - val_accuracy: 0.8751\n",
      "Epoch 5/10\n",
      "1594/1594 [==============================] - 8s 5ms/step - loss: 0.4318 - accuracy: 0.8793 - val_loss: 0.4025 - val_accuracy: 0.8856\n",
      "Epoch 6/10\n",
      "1594/1594 [==============================] - 8s 5ms/step - loss: 0.3870 - accuracy: 0.8891 - val_loss: 0.3660 - val_accuracy: 0.8958\n",
      "Epoch 7/10\n",
      "1594/1594 [==============================] - 8s 5ms/step - loss: 0.3569 - accuracy: 0.8975 - val_loss: 0.3398 - val_accuracy: 0.9009\n",
      "Epoch 8/10\n",
      "1594/1594 [==============================] - 8s 5ms/step - loss: 0.3343 - accuracy: 0.9030 - val_loss: 0.3200 - val_accuracy: 0.9074\n",
      "Epoch 9/10\n",
      "1594/1594 [==============================] - 8s 5ms/step - loss: 0.3161 - accuracy: 0.9085 - val_loss: 0.3037 - val_accuracy: 0.9121\n",
      "Epoch 10/10\n",
      "1594/1594 [==============================] - 8s 5ms/step - loss: 0.3008 - accuracy: 0.9128 - val_loss: 0.2892 - val_accuracy: 0.9169\n"
     ]
    }
   ],
   "source": [
    "model_1 = keras.models.clone_model(model)\n",
    "model_1.compile(optimizer=opt, loss='categorical_crossentropy', metrics=['accuracy'])\n",
    "model_1_history = model_1.fit(X_train, y_train, epochs=10, batch_size=32, shuffle=True,validation_data=(X_val, y_val), verbose=1)\n",
    "saved_models.append(model_1)\n",
    "histories.append(model_1_history)"
   ]
  },
  {
   "cell_type": "code",
   "execution_count": 12,
   "id": "32hYEF52DLGJ",
   "metadata": {
    "colab": {
     "base_uri": "https://localhost:8080/"
    },
    "id": "32hYEF52DLGJ",
    "outputId": "1957466e-167c-483f-9102-83854d77a5d9"
   },
   "outputs": [
    {
     "name": "stdout",
     "output_type": "stream",
     "text": [
      "Epoch 1/15\n",
      "1594/1594 [==============================] - 8s 5ms/step - loss: 2.0256 - accuracy: 0.4934 - val_loss: 1.6045 - val_accuracy: 0.6970\n",
      "Epoch 2/15\n",
      "1594/1594 [==============================] - 10s 6ms/step - loss: 1.0736 - accuracy: 0.7930 - val_loss: 0.7248 - val_accuracy: 0.8326\n",
      "Epoch 3/15\n",
      "1594/1594 [==============================] - 9s 6ms/step - loss: 0.5953 - accuracy: 0.8544 - val_loss: 0.5121 - val_accuracy: 0.8660\n",
      "Epoch 4/15\n",
      "1594/1594 [==============================] - 9s 6ms/step - loss: 0.4646 - accuracy: 0.8758 - val_loss: 0.4275 - val_accuracy: 0.8799\n",
      "Epoch 5/15\n",
      "1594/1594 [==============================] - 9s 5ms/step - loss: 0.4053 - accuracy: 0.8872 - val_loss: 0.3822 - val_accuracy: 0.8899\n",
      "Epoch 6/15\n",
      "1594/1594 [==============================] - 8s 5ms/step - loss: 0.3700 - accuracy: 0.8940 - val_loss: 0.3536 - val_accuracy: 0.8992\n",
      "Epoch 7/15\n",
      "1594/1594 [==============================] - 8s 5ms/step - loss: 0.3453 - accuracy: 0.9013 - val_loss: 0.3309 - val_accuracy: 0.9047\n",
      "Epoch 8/15\n",
      "1594/1594 [==============================] - 8s 5ms/step - loss: 0.3262 - accuracy: 0.9053 - val_loss: 0.3141 - val_accuracy: 0.9083\n",
      "Epoch 9/15\n",
      "1594/1594 [==============================] - 8s 5ms/step - loss: 0.3102 - accuracy: 0.9092 - val_loss: 0.3003 - val_accuracy: 0.9120\n",
      "Epoch 10/15\n",
      "1594/1594 [==============================] - 8s 5ms/step - loss: 0.2966 - accuracy: 0.9124 - val_loss: 0.2864 - val_accuracy: 0.9149\n",
      "Epoch 11/15\n",
      "1594/1594 [==============================] - 8s 5ms/step - loss: 0.2842 - accuracy: 0.9166 - val_loss: 0.2746 - val_accuracy: 0.9204\n",
      "Epoch 12/15\n",
      "1594/1594 [==============================] - 8s 5ms/step - loss: 0.2728 - accuracy: 0.9199 - val_loss: 0.2636 - val_accuracy: 0.9238\n",
      "Epoch 13/15\n",
      "1594/1594 [==============================] - 8s 5ms/step - loss: 0.2620 - accuracy: 0.9234 - val_loss: 0.2547 - val_accuracy: 0.9264\n",
      "Epoch 14/15\n",
      "1594/1594 [==============================] - 8s 5ms/step - loss: 0.2525 - accuracy: 0.9261 - val_loss: 0.2442 - val_accuracy: 0.9297\n",
      "Epoch 15/15\n",
      "1594/1594 [==============================] - 8s 5ms/step - loss: 0.2434 - accuracy: 0.9288 - val_loss: 0.2351 - val_accuracy: 0.9339\n"
     ]
    }
   ],
   "source": [
    "model_2 = keras.models.clone_model(model)\n",
    "model_2.compile(optimizer=opt, loss='categorical_crossentropy', metrics=['accuracy'])\n",
    "model_2_history = model_2.fit(X_train, y_train, epochs=15, batch_size=32, shuffle=True,validation_data=(X_val, y_val), verbose=1)\n",
    "saved_models.append(model_2)\n",
    "histories.append(model_2_history)"
   ]
  },
  {
   "cell_type": "code",
   "execution_count": 13,
   "id": "Dy6ABdwbDLzB",
   "metadata": {
    "colab": {
     "base_uri": "https://localhost:8080/"
    },
    "id": "Dy6ABdwbDLzB",
    "outputId": "44b96071-e568-4611-d0c4-e945944def6d"
   },
   "outputs": [
    {
     "name": "stdout",
     "output_type": "stream",
     "text": [
      "Epoch 1/20\n",
      "1594/1594 [==============================] - 10s 6ms/step - loss: 2.1320 - accuracy: 0.3622 - val_loss: 1.8361 - val_accuracy: 0.6187\n",
      "Epoch 2/20\n",
      "1594/1594 [==============================] - 9s 5ms/step - loss: 1.3153 - accuracy: 0.7428 - val_loss: 0.8773 - val_accuracy: 0.8066\n",
      "Epoch 3/20\n",
      "1594/1594 [==============================] - 8s 5ms/step - loss: 0.6767 - accuracy: 0.8388 - val_loss: 0.5496 - val_accuracy: 0.8630\n",
      "Epoch 4/20\n",
      "1594/1594 [==============================] - 8s 5ms/step - loss: 0.4880 - accuracy: 0.8721 - val_loss: 0.4388 - val_accuracy: 0.8846\n",
      "Epoch 5/20\n",
      "1594/1594 [==============================] - 8s 5ms/step - loss: 0.4123 - accuracy: 0.8874 - val_loss: 0.3857 - val_accuracy: 0.8954\n",
      "Epoch 6/20\n",
      "1594/1594 [==============================] - 8s 5ms/step - loss: 0.3708 - accuracy: 0.8967 - val_loss: 0.3517 - val_accuracy: 0.9011\n",
      "Epoch 7/20\n",
      "1594/1594 [==============================] - 8s 5ms/step - loss: 0.3429 - accuracy: 0.9034 - val_loss: 0.3285 - val_accuracy: 0.9056\n",
      "Epoch 8/20\n",
      "1594/1594 [==============================] - 8s 5ms/step - loss: 0.3224 - accuracy: 0.9085 - val_loss: 0.3088 - val_accuracy: 0.9096\n",
      "Epoch 9/20\n",
      "1594/1594 [==============================] - 9s 5ms/step - loss: 0.3061 - accuracy: 0.9127 - val_loss: 0.2952 - val_accuracy: 0.9150\n",
      "Epoch 10/20\n",
      "1594/1594 [==============================] - 8s 5ms/step - loss: 0.2922 - accuracy: 0.9161 - val_loss: 0.2819 - val_accuracy: 0.9181\n",
      "Epoch 11/20\n",
      "1594/1594 [==============================] - 9s 6ms/step - loss: 0.2803 - accuracy: 0.9195 - val_loss: 0.2720 - val_accuracy: 0.9209\n",
      "Epoch 12/20\n",
      "1594/1594 [==============================] - 8s 5ms/step - loss: 0.2696 - accuracy: 0.9225 - val_loss: 0.2597 - val_accuracy: 0.9243\n",
      "Epoch 13/20\n",
      "1594/1594 [==============================] - 8s 5ms/step - loss: 0.2597 - accuracy: 0.9251 - val_loss: 0.2505 - val_accuracy: 0.9274\n",
      "Epoch 14/20\n",
      "1594/1594 [==============================] - 9s 5ms/step - loss: 0.2503 - accuracy: 0.9280 - val_loss: 0.2416 - val_accuracy: 0.9296\n",
      "Epoch 15/20\n",
      "1594/1594 [==============================] - 8s 5ms/step - loss: 0.2418 - accuracy: 0.9305 - val_loss: 0.2339 - val_accuracy: 0.9327\n",
      "Epoch 16/20\n",
      "1594/1594 [==============================] - 9s 5ms/step - loss: 0.2337 - accuracy: 0.9330 - val_loss: 0.2254 - val_accuracy: 0.9342\n",
      "Epoch 17/20\n",
      "1594/1594 [==============================] - 8s 5ms/step - loss: 0.2259 - accuracy: 0.9349 - val_loss: 0.2193 - val_accuracy: 0.9359\n",
      "Epoch 18/20\n",
      "1594/1594 [==============================] - 8s 5ms/step - loss: 0.2192 - accuracy: 0.9369 - val_loss: 0.2121 - val_accuracy: 0.9383\n",
      "Epoch 19/20\n",
      "1594/1594 [==============================] - 9s 5ms/step - loss: 0.2122 - accuracy: 0.9393 - val_loss: 0.2058 - val_accuracy: 0.9400\n",
      "Epoch 20/20\n",
      "1594/1594 [==============================] - 8s 5ms/step - loss: 0.2057 - accuracy: 0.9408 - val_loss: 0.1996 - val_accuracy: 0.9411\n"
     ]
    }
   ],
   "source": [
    "model_3 = keras.models.clone_model(model)\n",
    "model_3.compile(optimizer=opt, loss='categorical_crossentropy', metrics=['accuracy'])\n",
    "model_3_history = model_3.fit(X_train, y_train, epochs=20, batch_size=32, shuffle=True,validation_data=(X_val, y_val), verbose=1)\n",
    "saved_models.append(model_3)\n",
    "histories.append(model_3_history)"
   ]
  },
  {
   "cell_type": "code",
   "execution_count": 14,
   "id": "sVzI96YfOMi8",
   "metadata": {
    "colab": {
     "base_uri": "https://localhost:8080/"
    },
    "id": "sVzI96YfOMi8",
    "outputId": "34fb430b-59a1-4338-ab83-51bade6fc89c"
   },
   "outputs": [
    {
     "name": "stdout",
     "output_type": "stream",
     "text": [
      "313/313 [==============================] - 1s 3ms/step - loss: 0.2747 - accuracy: 0.9218\n",
      "313/313 [==============================] - 1s 2ms/step - loss: 0.2245 - accuracy: 0.9350\n",
      "313/313 [==============================] - 1s 2ms/step - loss: 0.1915 - accuracy: 0.9464\n",
      "model: 3 accuracy: 94.64 %\n"
     ]
    }
   ],
   "source": [
    "best_model, best_model_idx = evaluate_model(saved_models, X_test, y_test)"
   ]
  },
  {
   "cell_type": "code",
   "execution_count": 15,
   "id": "inBcvI_-uvbt",
   "metadata": {
    "colab": {
     "base_uri": "https://localhost:8080/"
    },
    "id": "inBcvI_-uvbt",
    "outputId": "8b55978e-c35c-4229-ffb3-fb8513c5d3a0"
   },
   "outputs": [
    {
     "name": "stdout",
     "output_type": "stream",
     "text": [
      "Epoch 1/20\n",
      "1594/1594 [==============================] - 9s 5ms/step - loss: 0.1611 - accuracy: 0.9499 - val_loss: 0.1067 - val_accuracy: 0.9678\n",
      "Epoch 2/20\n",
      "1594/1594 [==============================] - 9s 5ms/step - loss: 0.0618 - accuracy: 0.9815 - val_loss: 0.0602 - val_accuracy: 0.9819\n",
      "Epoch 3/20\n",
      "1594/1594 [==============================] - 8s 5ms/step - loss: 0.0420 - accuracy: 0.9868 - val_loss: 0.0636 - val_accuracy: 0.9816\n",
      "Epoch 4/20\n",
      "1594/1594 [==============================] - 8s 5ms/step - loss: 0.0335 - accuracy: 0.9891 - val_loss: 0.0948 - val_accuracy: 0.9781\n",
      "Epoch 5/20\n",
      "1594/1594 [==============================] - 9s 6ms/step - loss: 0.0281 - accuracy: 0.9908 - val_loss: 0.0565 - val_accuracy: 0.9852\n",
      "Epoch 6/20\n",
      "1594/1594 [==============================] - 9s 5ms/step - loss: 0.0228 - accuracy: 0.9926 - val_loss: 0.0850 - val_accuracy: 0.9817\n",
      "Epoch 7/20\n",
      "1594/1594 [==============================] - 9s 6ms/step - loss: 0.0153 - accuracy: 0.9950 - val_loss: 0.0621 - val_accuracy: 0.9860\n",
      "Epoch 8/20\n",
      "1594/1594 [==============================] - 9s 5ms/step - loss: 0.0127 - accuracy: 0.9957 - val_loss: 0.0720 - val_accuracy: 0.9850\n",
      "Epoch 9/20\n",
      "1594/1594 [==============================] - 9s 5ms/step - loss: 0.0105 - accuracy: 0.9967 - val_loss: 0.0714 - val_accuracy: 0.9861\n",
      "Epoch 10/20\n",
      "1594/1594 [==============================] - 9s 5ms/step - loss: 0.0108 - accuracy: 0.9965 - val_loss: 0.0764 - val_accuracy: 0.9861\n",
      "Epoch 11/20\n",
      "1594/1594 [==============================] - 8s 5ms/step - loss: 0.0122 - accuracy: 0.9959 - val_loss: 0.0709 - val_accuracy: 0.9870\n",
      "Epoch 12/20\n",
      "1594/1594 [==============================] - 8s 5ms/step - loss: 0.0165 - accuracy: 0.9952 - val_loss: 0.0743 - val_accuracy: 0.9879\n",
      "Epoch 13/20\n",
      "1594/1594 [==============================] - 9s 6ms/step - loss: 0.0131 - accuracy: 0.9960 - val_loss: 0.0745 - val_accuracy: 0.9870\n",
      "Epoch 14/20\n",
      "1594/1594 [==============================] - 9s 6ms/step - loss: 0.0090 - accuracy: 0.9971 - val_loss: 0.0711 - val_accuracy: 0.9880\n",
      "Epoch 15/20\n",
      "1594/1594 [==============================] - 9s 6ms/step - loss: 0.0128 - accuracy: 0.9964 - val_loss: 0.0813 - val_accuracy: 0.9874\n",
      "Epoch 16/20\n",
      "1594/1594 [==============================] - 8s 5ms/step - loss: 0.0142 - accuracy: 0.9959 - val_loss: 0.1033 - val_accuracy: 0.9823\n",
      "Epoch 17/20\n",
      "1594/1594 [==============================] - 8s 5ms/step - loss: 0.0171 - accuracy: 0.9953 - val_loss: 0.0910 - val_accuracy: 0.9872\n",
      "Epoch 18/20\n",
      "1594/1594 [==============================] - 9s 5ms/step - loss: 0.0149 - accuracy: 0.9959 - val_loss: 0.1445 - val_accuracy: 0.9809\n",
      "Epoch 19/20\n",
      "1594/1594 [==============================] - 9s 5ms/step - loss: 0.0192 - accuracy: 0.9951 - val_loss: 0.1056 - val_accuracy: 0.9851\n",
      "Epoch 20/20\n",
      "1594/1594 [==============================] - 8s 5ms/step - loss: 0.0176 - accuracy: 0.9953 - val_loss: 0.1352 - val_accuracy: 0.9807\n"
     ]
    }
   ],
   "source": [
    "model_4 = keras.models.clone_model(best_model)\n",
    "opt_1 = optimizers.SGD(learning_rate=0.05, momentum=0.9)\n",
    "model_4.compile(optimizer=opt_1, loss='categorical_crossentropy', metrics=['accuracy'])\n",
    "model_4_history = model_4.fit(X_train, y_train, epochs=20, batch_size=32, shuffle=True,validation_data=(X_val, y_val), verbose=1)\n",
    "saved_models.append(model_4)\n",
    "histories.append(model_4_history)"
   ]
  },
  {
   "cell_type": "code",
   "execution_count": 16,
   "id": "25816a3d",
   "metadata": {
    "colab": {
     "base_uri": "https://localhost:8080/"
    },
    "id": "25816a3d",
    "outputId": "74482fdc-2182-42c6-866c-a65212d2a435"
   },
   "outputs": [
    {
     "name": "stdout",
     "output_type": "stream",
     "text": [
      "Epoch 1/20\n",
      "1594/1594 [==============================] - 9s 6ms/step - loss: 0.6835 - accuracy: 0.8201 - val_loss: 0.2945 - val_accuracy: 0.9124\n",
      "Epoch 2/20\n",
      "1594/1594 [==============================] - 8s 5ms/step - loss: 0.2544 - accuracy: 0.9258 - val_loss: 0.2096 - val_accuracy: 0.9410\n",
      "Epoch 3/20\n",
      "1594/1594 [==============================] - 8s 5ms/step - loss: 0.1830 - accuracy: 0.9473 - val_loss: 0.1572 - val_accuracy: 0.9543\n",
      "Epoch 4/20\n",
      "1594/1594 [==============================] - 9s 5ms/step - loss: 0.1426 - accuracy: 0.9587 - val_loss: 0.1254 - val_accuracy: 0.9648\n",
      "Epoch 5/20\n",
      "1594/1594 [==============================] - 9s 6ms/step - loss: 0.1166 - accuracy: 0.9665 - val_loss: 0.1122 - val_accuracy: 0.9679\n",
      "Epoch 6/20\n",
      "1594/1594 [==============================] - 9s 5ms/step - loss: 0.1005 - accuracy: 0.9709 - val_loss: 0.0988 - val_accuracy: 0.9730\n",
      "Epoch 7/20\n",
      "1594/1594 [==============================] - 9s 5ms/step - loss: 0.0882 - accuracy: 0.9749 - val_loss: 0.0821 - val_accuracy: 0.9772\n",
      "Epoch 8/20\n",
      "1594/1594 [==============================] - 9s 5ms/step - loss: 0.0799 - accuracy: 0.9767 - val_loss: 0.0803 - val_accuracy: 0.9770\n",
      "Epoch 9/20\n",
      "1594/1594 [==============================] - 9s 6ms/step - loss: 0.0727 - accuracy: 0.9791 - val_loss: 0.0709 - val_accuracy: 0.9807\n",
      "Epoch 10/20\n",
      "1594/1594 [==============================] - 9s 5ms/step - loss: 0.0666 - accuracy: 0.9806 - val_loss: 0.0705 - val_accuracy: 0.9808\n",
      "Epoch 11/20\n",
      "1594/1594 [==============================] - 8s 5ms/step - loss: 0.0622 - accuracy: 0.9820 - val_loss: 0.0685 - val_accuracy: 0.9792\n",
      "Epoch 12/20\n",
      "1594/1594 [==============================] - 9s 5ms/step - loss: 0.0586 - accuracy: 0.9827 - val_loss: 0.0620 - val_accuracy: 0.9826\n",
      "Epoch 13/20\n",
      "1594/1594 [==============================] - 9s 5ms/step - loss: 0.0546 - accuracy: 0.9844 - val_loss: 0.0605 - val_accuracy: 0.9833\n",
      "Epoch 14/20\n",
      "1594/1594 [==============================] - 9s 5ms/step - loss: 0.0517 - accuracy: 0.9846 - val_loss: 0.0573 - val_accuracy: 0.9833\n",
      "Epoch 15/20\n",
      "1594/1594 [==============================] - 8s 5ms/step - loss: 0.0487 - accuracy: 0.9859 - val_loss: 0.0603 - val_accuracy: 0.9822\n",
      "Epoch 16/20\n",
      "1594/1594 [==============================] - 9s 6ms/step - loss: 0.0464 - accuracy: 0.9862 - val_loss: 0.0562 - val_accuracy: 0.9834\n",
      "Epoch 17/20\n",
      "1594/1594 [==============================] - 9s 5ms/step - loss: 0.0442 - accuracy: 0.9873 - val_loss: 0.0617 - val_accuracy: 0.9799\n",
      "Epoch 18/20\n",
      "1594/1594 [==============================] - 9s 6ms/step - loss: 0.0425 - accuracy: 0.9870 - val_loss: 0.0559 - val_accuracy: 0.9827\n",
      "Epoch 19/20\n",
      "1594/1594 [==============================] - 9s 6ms/step - loss: 0.0403 - accuracy: 0.9878 - val_loss: 0.0482 - val_accuracy: 0.9868\n",
      "Epoch 20/20\n",
      "1594/1594 [==============================] - 9s 5ms/step - loss: 0.0389 - accuracy: 0.9882 - val_loss: 0.0474 - val_accuracy: 0.9869\n"
     ]
    }
   ],
   "source": [
    "model_5 = keras.models.clone_model(best_model)\n",
    "model_5.compile(optimizer=opt_2, loss='categorical_crossentropy', metrics=['accuracy'])\n",
    "model_5_history = model_5.fit(X_train, y_train, epochs=20, batch_size=32, shuffle=True,validation_data=(X_val, y_val), verbose=1)\n",
    "saved_models.append(model_5)\n",
    "histories.append(model_5_history)"
   ]
  },
  {
   "cell_type": "code",
   "execution_count": 17,
   "id": "b4585d13",
   "metadata": {
    "colab": {
     "base_uri": "https://localhost:8080/"
    },
    "id": "b4585d13",
    "outputId": "c782c501-c082-4c95-ad46-ecbda790c02b"
   },
   "outputs": [
    {
     "name": "stdout",
     "output_type": "stream",
     "text": [
      "Epoch 1/20\n",
      "1594/1594 [==============================] - 9s 5ms/step - loss: 0.2418 - accuracy: 0.9258 - val_loss: 0.0880 - val_accuracy: 0.9750\n",
      "Epoch 2/20\n",
      "1594/1594 [==============================] - 8s 5ms/step - loss: 0.0724 - accuracy: 0.9781 - val_loss: 0.0628 - val_accuracy: 0.9814\n",
      "Epoch 3/20\n",
      "1594/1594 [==============================] - 9s 6ms/step - loss: 0.0503 - accuracy: 0.9849 - val_loss: 0.0571 - val_accuracy: 0.9830\n",
      "Epoch 4/20\n",
      "1594/1594 [==============================] - 9s 5ms/step - loss: 0.0397 - accuracy: 0.9878 - val_loss: 0.0503 - val_accuracy: 0.9847\n",
      "Epoch 5/20\n",
      "1594/1594 [==============================] - 9s 5ms/step - loss: 0.0318 - accuracy: 0.9902 - val_loss: 0.0402 - val_accuracy: 0.9891\n",
      "Epoch 6/20\n",
      "1594/1594 [==============================] - 8s 5ms/step - loss: 0.0260 - accuracy: 0.9920 - val_loss: 0.0400 - val_accuracy: 0.9889\n",
      "Epoch 7/20\n",
      "1594/1594 [==============================] - 9s 5ms/step - loss: 0.0218 - accuracy: 0.9929 - val_loss: 0.0418 - val_accuracy: 0.9881\n",
      "Epoch 8/20\n",
      "1594/1594 [==============================] - 8s 5ms/step - loss: 0.0181 - accuracy: 0.9946 - val_loss: 0.0405 - val_accuracy: 0.9894\n",
      "Epoch 9/20\n",
      "1594/1594 [==============================] - 9s 6ms/step - loss: 0.0146 - accuracy: 0.9958 - val_loss: 0.0482 - val_accuracy: 0.9868\n",
      "Epoch 10/20\n",
      "1594/1594 [==============================] - 9s 5ms/step - loss: 0.0121 - accuracy: 0.9967 - val_loss: 0.0394 - val_accuracy: 0.9892\n",
      "Epoch 11/20\n",
      "1594/1594 [==============================] - 9s 5ms/step - loss: 0.0095 - accuracy: 0.9976 - val_loss: 0.0413 - val_accuracy: 0.9894\n",
      "Epoch 12/20\n",
      "1594/1594 [==============================] - 9s 6ms/step - loss: 0.0079 - accuracy: 0.9981 - val_loss: 0.0442 - val_accuracy: 0.9889\n",
      "Epoch 13/20\n",
      "1594/1594 [==============================] - 9s 6ms/step - loss: 0.0064 - accuracy: 0.9985 - val_loss: 0.0435 - val_accuracy: 0.9898\n",
      "Epoch 14/20\n",
      "1594/1594 [==============================] - 9s 5ms/step - loss: 0.0051 - accuracy: 0.9989 - val_loss: 0.0441 - val_accuracy: 0.9897\n",
      "Epoch 15/20\n",
      "1594/1594 [==============================] - 8s 5ms/step - loss: 0.0036 - accuracy: 0.9995 - val_loss: 0.0427 - val_accuracy: 0.9900\n",
      "Epoch 16/20\n",
      "1594/1594 [==============================] - 8s 5ms/step - loss: 0.0038 - accuracy: 0.9991 - val_loss: 0.0467 - val_accuracy: 0.9899\n",
      "Epoch 17/20\n",
      "1594/1594 [==============================] - 8s 5ms/step - loss: 0.0031 - accuracy: 0.9994 - val_loss: 0.0499 - val_accuracy: 0.9894\n",
      "Epoch 18/20\n",
      "1594/1594 [==============================] - 9s 5ms/step - loss: 0.0020 - accuracy: 0.9997 - val_loss: 0.0447 - val_accuracy: 0.9892\n",
      "Epoch 19/20\n",
      "1594/1594 [==============================] - 9s 6ms/step - loss: 0.0017 - accuracy: 0.9998 - val_loss: 0.0457 - val_accuracy: 0.9898\n",
      "Epoch 20/20\n",
      "1594/1594 [==============================] - 9s 6ms/step - loss: 0.0013 - accuracy: 0.9998 - val_loss: 0.0467 - val_accuracy: 0.9901\n"
     ]
    }
   ],
   "source": [
    "model_6 = keras.models.clone_model(best_model)\n",
    "model_6.compile(optimizer=opt_3, loss='categorical_crossentropy', metrics=['accuracy'])\n",
    "model_6_history = model_6.fit(X_train, y_train, epochs=20, batch_size=32, shuffle=True,validation_data=(X_val, y_val), verbose=1)\n",
    "saved_models.append(model_6)\n",
    "histories.append(model_6_history)"
   ]
  },
  {
   "cell_type": "code",
   "execution_count": 18,
   "id": "ee9Ub2DSQ-1r",
   "metadata": {
    "colab": {
     "base_uri": "https://localhost:8080/"
    },
    "id": "ee9Ub2DSQ-1r",
    "outputId": "bc0eb1e2-f76f-48d7-853b-276e2baf5823"
   },
   "outputs": [
    {
     "name": "stdout",
     "output_type": "stream",
     "text": [
      "313/313 [==============================] - 1s 2ms/step - loss: 0.2747 - accuracy: 0.9218\n",
      "313/313 [==============================] - 1s 2ms/step - loss: 0.2245 - accuracy: 0.9350\n",
      "313/313 [==============================] - 1s 2ms/step - loss: 0.1915 - accuracy: 0.9464\n",
      "313/313 [==============================] - 1s 2ms/step - loss: 0.1254 - accuracy: 0.9810\n",
      "313/313 [==============================] - 1s 2ms/step - loss: 0.0440 - accuracy: 0.9844\n",
      "313/313 [==============================] - 1s 2ms/step - loss: 0.0414 - accuracy: 0.9902\n",
      "model: 6 accuracy: 99.02 %\n"
     ]
    }
   ],
   "source": [
    "best_model, best_model_idx = evaluate_model(saved_models, X_test, y_test)"
   ]
  },
  {
   "cell_type": "markdown",
   "id": "lfacKEPLzw8o",
   "metadata": {
    "id": "lfacKEPLzw8o"
   },
   "source": [
    "# Trying different architectures"
   ]
  },
  {
   "cell_type": "code",
   "execution_count": 19,
   "id": "42f32926",
   "metadata": {
    "id": "42f32926"
   },
   "outputs": [],
   "source": [
    "model_7 = models.Sequential()\n",
    "model_7.add(layers.Conv2D(32, (3, 3), activation='relu', kernel_initializer='he_uniform', input_shape=(28, 28, 1)))\n",
    "model_7.add(layers.MaxPooling2D(pool_size=(2, 2), strides=(2, 2)))\n",
    "model_7.add(layers.Conv2D(32, (3, 3), activation='relu', kernel_initializer='he_uniform'))\n",
    "model_7.add(layers.MaxPooling2D(pool_size=(2, 2), strides=(2, 2)))\n",
    "model_7.add(layers.Flatten())\n",
    "model_7.add(layers.Dense(64, activation='relu', kernel_initializer='he_uniform'))\n",
    "model_7.add(layers.Dense(32, activation='relu', kernel_initializer='he_uniform'))\n",
    "model_7.add(layers.Dense(10, activation='softmax'))"
   ]
  },
  {
   "cell_type": "code",
   "execution_count": 20,
   "id": "DwmF_ats2X5c",
   "metadata": {
    "colab": {
     "base_uri": "https://localhost:8080/"
    },
    "id": "DwmF_ats2X5c",
    "outputId": "77d0f476-b00f-4980-c3ad-7e1cdfb5836d"
   },
   "outputs": [
    {
     "name": "stdout",
     "output_type": "stream",
     "text": [
      "Epoch 1/20\n",
      "1594/1594 [==============================] - 21s 13ms/step - loss: 0.1854 - accuracy: 0.9411 - val_loss: 0.0796 - val_accuracy: 0.9773\n",
      "Epoch 2/20\n",
      "1594/1594 [==============================] - 20s 13ms/step - loss: 0.0611 - accuracy: 0.9813 - val_loss: 0.0471 - val_accuracy: 0.9872\n",
      "Epoch 3/20\n",
      "1594/1594 [==============================] - 21s 13ms/step - loss: 0.0439 - accuracy: 0.9862 - val_loss: 0.0431 - val_accuracy: 0.9871\n",
      "Epoch 4/20\n",
      "1594/1594 [==============================] - 21s 13ms/step - loss: 0.0343 - accuracy: 0.9893 - val_loss: 0.0402 - val_accuracy: 0.9889\n",
      "Epoch 5/20\n",
      "1594/1594 [==============================] - 20s 13ms/step - loss: 0.0249 - accuracy: 0.9918 - val_loss: 0.0357 - val_accuracy: 0.9898\n",
      "Epoch 6/20\n",
      "1594/1594 [==============================] - 21s 13ms/step - loss: 0.0222 - accuracy: 0.9928 - val_loss: 0.0453 - val_accuracy: 0.9878\n",
      "Epoch 7/20\n",
      "1594/1594 [==============================] - 20s 13ms/step - loss: 0.0169 - accuracy: 0.9943 - val_loss: 0.0565 - val_accuracy: 0.9838\n",
      "Epoch 8/20\n",
      "1594/1594 [==============================] - 20s 12ms/step - loss: 0.0150 - accuracy: 0.9949 - val_loss: 0.0440 - val_accuracy: 0.9880\n",
      "Epoch 9/20\n",
      "1594/1594 [==============================] - 21s 13ms/step - loss: 0.0115 - accuracy: 0.9964 - val_loss: 0.0473 - val_accuracy: 0.9888\n",
      "Epoch 10/20\n",
      "1594/1594 [==============================] - 20s 13ms/step - loss: 0.0095 - accuracy: 0.9970 - val_loss: 0.0551 - val_accuracy: 0.9859\n",
      "Epoch 11/20\n",
      "1594/1594 [==============================] - 20s 13ms/step - loss: 0.0067 - accuracy: 0.9978 - val_loss: 0.0450 - val_accuracy: 0.9898\n",
      "Epoch 12/20\n",
      "1594/1594 [==============================] - 21s 13ms/step - loss: 0.0068 - accuracy: 0.9978 - val_loss: 0.0442 - val_accuracy: 0.9894\n",
      "Epoch 13/20\n",
      "1594/1594 [==============================] - 21s 13ms/step - loss: 0.0062 - accuracy: 0.9980 - val_loss: 0.0455 - val_accuracy: 0.9897\n",
      "Epoch 14/20\n",
      "1594/1594 [==============================] - 20s 13ms/step - loss: 0.0052 - accuracy: 0.9982 - val_loss: 0.0469 - val_accuracy: 0.9907\n",
      "Epoch 15/20\n",
      "1594/1594 [==============================] - 21s 13ms/step - loss: 0.0041 - accuracy: 0.9986 - val_loss: 0.0467 - val_accuracy: 0.9912\n",
      "Epoch 16/20\n",
      "1594/1594 [==============================] - 20s 12ms/step - loss: 0.0015 - accuracy: 0.9996 - val_loss: 0.0527 - val_accuracy: 0.9906\n",
      "Epoch 17/20\n",
      "1594/1594 [==============================] - 20s 12ms/step - loss: 7.6882e-04 - accuracy: 0.9999 - val_loss: 0.0501 - val_accuracy: 0.9908\n",
      "Epoch 18/20\n",
      "1594/1594 [==============================] - 21s 13ms/step - loss: 4.4150e-04 - accuracy: 0.9999 - val_loss: 0.0515 - val_accuracy: 0.9919\n",
      "Epoch 19/20\n",
      "1594/1594 [==============================] - 21s 13ms/step - loss: 2.7979e-04 - accuracy: 1.0000 - val_loss: 0.0521 - val_accuracy: 0.9909\n",
      "Epoch 20/20\n",
      "1594/1594 [==============================] - 21s 13ms/step - loss: 1.3360e-04 - accuracy: 1.0000 - val_loss: 0.0529 - val_accuracy: 0.9909\n"
     ]
    }
   ],
   "source": [
    "model_7.compile(optimizer=opt_3, loss='categorical_crossentropy', metrics=['accuracy'])\n",
    "model_7_history = model_7.fit(X_train, y_train, epochs=20, batch_size=32, shuffle=True,validation_data=(X_val, y_val), verbose=1)\n",
    "saved_models.append(model_7)\n",
    "histories.append(model_7_history)"
   ]
  },
  {
   "cell_type": "code",
   "execution_count": 21,
   "id": "WqT_Zr8uQUK2",
   "metadata": {
    "id": "WqT_Zr8uQUK2"
   },
   "outputs": [],
   "source": [
    "model_8 = models.Sequential()\n",
    "model_8.add(layers.Conv2D(16, (3, 3), strides = (2, 2),activation='relu', kernel_initializer='he_uniform', input_shape=(28, 28, 1)))\n",
    "model_8.add(layers.MaxPooling2D(pool_size=(2, 2), strides=(2, 2)))\n",
    "model_8.add(layers.Conv2D(32, (3, 3), strides = (2, 2),activation='relu', kernel_initializer='he_uniform'))\n",
    "model_8.add(layers.MaxPooling2D(pool_size=(2, 2), strides=(2, 2)))\n",
    "model_8.add(layers.Flatten())\n",
    "model_8.add(layers.Dense(64, activation='relu', kernel_initializer='he_uniform'))\n",
    "model_8.add(layers.Dense(32, activation='relu', kernel_initializer='he_uniform'))\n",
    "model_8.add(layers.Dense(10, activation='softmax'))"
   ]
  },
  {
   "cell_type": "code",
   "execution_count": 22,
   "id": "3-k560kDQVps",
   "metadata": {
    "colab": {
     "base_uri": "https://localhost:8080/"
    },
    "id": "3-k560kDQVps",
    "outputId": "90e5bbc8-8f28-48db-ac17-d125661523a6"
   },
   "outputs": [
    {
     "name": "stdout",
     "output_type": "stream",
     "text": [
      "Epoch 1/20\n",
      "1594/1594 [==============================] - 6s 3ms/step - loss: 0.4185 - accuracy: 0.8664 - val_loss: 0.2485 - val_accuracy: 0.9246\n",
      "Epoch 2/20\n",
      "1594/1594 [==============================] - 5s 3ms/step - loss: 0.1789 - accuracy: 0.9443 - val_loss: 0.1633 - val_accuracy: 0.9477\n",
      "Epoch 3/20\n",
      "1594/1594 [==============================] - 5s 3ms/step - loss: 0.1384 - accuracy: 0.9574 - val_loss: 0.1646 - val_accuracy: 0.9516\n",
      "Epoch 4/20\n",
      "1594/1594 [==============================] - 5s 3ms/step - loss: 0.1185 - accuracy: 0.9638 - val_loss: 0.1313 - val_accuracy: 0.9598\n",
      "Epoch 5/20\n",
      "1594/1594 [==============================] - 5s 3ms/step - loss: 0.1057 - accuracy: 0.9674 - val_loss: 0.1494 - val_accuracy: 0.9541\n",
      "Epoch 6/20\n",
      "1594/1594 [==============================] - 5s 3ms/step - loss: 0.0958 - accuracy: 0.9702 - val_loss: 0.1306 - val_accuracy: 0.9619\n",
      "Epoch 7/20\n",
      "1594/1594 [==============================] - 5s 3ms/step - loss: 0.0907 - accuracy: 0.9705 - val_loss: 0.1076 - val_accuracy: 0.9698\n",
      "Epoch 8/20\n",
      "1594/1594 [==============================] - 5s 3ms/step - loss: 0.0833 - accuracy: 0.9740 - val_loss: 0.1104 - val_accuracy: 0.9687\n",
      "Epoch 9/20\n",
      "1594/1594 [==============================] - 5s 3ms/step - loss: 0.0774 - accuracy: 0.9756 - val_loss: 0.1102 - val_accuracy: 0.9682\n",
      "Epoch 10/20\n",
      "1594/1594 [==============================] - 5s 3ms/step - loss: 0.0730 - accuracy: 0.9769 - val_loss: 0.1064 - val_accuracy: 0.9678\n",
      "Epoch 11/20\n",
      "1594/1594 [==============================] - 5s 3ms/step - loss: 0.0697 - accuracy: 0.9774 - val_loss: 0.1052 - val_accuracy: 0.9699\n",
      "Epoch 12/20\n",
      "1594/1594 [==============================] - 5s 3ms/step - loss: 0.0639 - accuracy: 0.9793 - val_loss: 0.1118 - val_accuracy: 0.9701\n",
      "Epoch 13/20\n",
      "1594/1594 [==============================] - 5s 3ms/step - loss: 0.0647 - accuracy: 0.9791 - val_loss: 0.1180 - val_accuracy: 0.9671\n",
      "Epoch 14/20\n",
      "1594/1594 [==============================] - 6s 4ms/step - loss: 0.0614 - accuracy: 0.9802 - val_loss: 0.1265 - val_accuracy: 0.9654\n",
      "Epoch 15/20\n",
      "1594/1594 [==============================] - 6s 4ms/step - loss: 0.0562 - accuracy: 0.9818 - val_loss: 0.1090 - val_accuracy: 0.9689\n",
      "Epoch 16/20\n",
      "1594/1594 [==============================] - 5s 3ms/step - loss: 0.0548 - accuracy: 0.9825 - val_loss: 0.1180 - val_accuracy: 0.9669\n",
      "Epoch 17/20\n",
      "1594/1594 [==============================] - 6s 3ms/step - loss: 0.0569 - accuracy: 0.9810 - val_loss: 0.1130 - val_accuracy: 0.9684\n",
      "Epoch 18/20\n",
      "1594/1594 [==============================] - 6s 4ms/step - loss: 0.0528 - accuracy: 0.9835 - val_loss: 0.1166 - val_accuracy: 0.9668\n",
      "Epoch 19/20\n",
      "1594/1594 [==============================] - 6s 4ms/step - loss: 0.0502 - accuracy: 0.9837 - val_loss: 0.1275 - val_accuracy: 0.9661\n",
      "Epoch 20/20\n",
      "1594/1594 [==============================] - 5s 3ms/step - loss: 0.0516 - accuracy: 0.9828 - val_loss: 0.1228 - val_accuracy: 0.9639\n"
     ]
    }
   ],
   "source": [
    "model_8.compile(optimizer=opt_3, loss='categorical_crossentropy', metrics=['accuracy'])\n",
    "model_8_history = model_8.fit(X_train, y_train, epochs=20, batch_size=32, shuffle=True,validation_data=(X_val, y_val), verbose=1)\n",
    "saved_models.append(model_8)\n",
    "histories.append(model_8_history)"
   ]
  },
  {
   "cell_type": "code",
   "execution_count": 23,
   "id": "abGTXD6xQWJy",
   "metadata": {
    "id": "abGTXD6xQWJy"
   },
   "outputs": [],
   "source": [
    "model_9 = models.Sequential()\n",
    "model_9.add(layers.Conv2D(32, (3, 3), activation='relu', kernel_initializer='he_uniform', input_shape=(28, 28, 1)))\n",
    "model_9.add(layers.MaxPooling2D(pool_size=(2, 2), strides=(2, 2)))\n",
    "model_9.add(layers.Conv2D(32, (5, 5), activation='relu', kernel_initializer='he_uniform'))\n",
    "model_9.add(layers.MaxPooling2D(pool_size=(2, 2), strides=(2, 2)))\n",
    "model_9.add(layers.Flatten())\n",
    "model_9.add(layers.Dense(32, activation='relu', kernel_initializer='he_uniform'))\n",
    "model_9.add(layers.Dense(10, activation='softmax'))"
   ]
  },
  {
   "cell_type": "code",
   "execution_count": 24,
   "id": "5S8gC_2vQXXQ",
   "metadata": {
    "colab": {
     "base_uri": "https://localhost:8080/"
    },
    "id": "5S8gC_2vQXXQ",
    "outputId": "1f793731-ef28-4e76-a0e2-f29cc311e391"
   },
   "outputs": [
    {
     "name": "stdout",
     "output_type": "stream",
     "text": [
      "Epoch 1/20\n",
      "1594/1594 [==============================] - 27s 17ms/step - loss: 0.1639 - accuracy: 0.9476 - val_loss: 0.0640 - val_accuracy: 0.9813\n",
      "Epoch 2/20\n",
      "1594/1594 [==============================] - 26s 16ms/step - loss: 0.0604 - accuracy: 0.9816 - val_loss: 0.0580 - val_accuracy: 0.9829\n",
      "Epoch 3/20\n",
      "1594/1594 [==============================] - 27s 17ms/step - loss: 0.0419 - accuracy: 0.9865 - val_loss: 0.0512 - val_accuracy: 0.9852\n",
      "Epoch 4/20\n",
      "1594/1594 [==============================] - 25s 16ms/step - loss: 0.0326 - accuracy: 0.9897 - val_loss: 0.0445 - val_accuracy: 0.9879\n",
      "Epoch 5/20\n",
      "1594/1594 [==============================] - 27s 17ms/step - loss: 0.0249 - accuracy: 0.9922 - val_loss: 0.0432 - val_accuracy: 0.9887\n",
      "Epoch 6/20\n",
      "1594/1594 [==============================] - 27s 17ms/step - loss: 0.0192 - accuracy: 0.9941 - val_loss: 0.0429 - val_accuracy: 0.9878\n",
      "Epoch 7/20\n",
      "1594/1594 [==============================] - 24s 15ms/step - loss: 0.0156 - accuracy: 0.9951 - val_loss: 0.0390 - val_accuracy: 0.9891\n",
      "Epoch 8/20\n",
      "1594/1594 [==============================] - 24s 15ms/step - loss: 0.0117 - accuracy: 0.9963 - val_loss: 0.0543 - val_accuracy: 0.9862\n",
      "Epoch 9/20\n",
      "1594/1594 [==============================] - 24s 15ms/step - loss: 0.0103 - accuracy: 0.9970 - val_loss: 0.0441 - val_accuracy: 0.9877\n",
      "Epoch 10/20\n",
      "1594/1594 [==============================] - 24s 15ms/step - loss: 0.0088 - accuracy: 0.9972 - val_loss: 0.0495 - val_accuracy: 0.9884\n",
      "Epoch 11/20\n",
      "1594/1594 [==============================] - 23s 14ms/step - loss: 0.0069 - accuracy: 0.9980 - val_loss: 0.0440 - val_accuracy: 0.9900\n",
      "Epoch 12/20\n",
      "1594/1594 [==============================] - 23s 15ms/step - loss: 0.0045 - accuracy: 0.9989 - val_loss: 0.0469 - val_accuracy: 0.9899\n",
      "Epoch 13/20\n",
      "1594/1594 [==============================] - 23s 15ms/step - loss: 0.0038 - accuracy: 0.9992 - val_loss: 0.0450 - val_accuracy: 0.9894\n",
      "Epoch 14/20\n",
      "1594/1594 [==============================] - 23s 15ms/step - loss: 0.0018 - accuracy: 0.9996 - val_loss: 0.0445 - val_accuracy: 0.9906\n",
      "Epoch 15/20\n",
      "1594/1594 [==============================] - 23s 15ms/step - loss: 0.0014 - accuracy: 0.9998 - val_loss: 0.0461 - val_accuracy: 0.9906\n",
      "Epoch 16/20\n",
      "1594/1594 [==============================] - 24s 15ms/step - loss: 0.0010 - accuracy: 0.9998 - val_loss: 0.0492 - val_accuracy: 0.9903\n",
      "Epoch 17/20\n",
      "1594/1594 [==============================] - 24s 15ms/step - loss: 4.6682e-04 - accuracy: 1.0000 - val_loss: 0.0477 - val_accuracy: 0.9917\n",
      "Epoch 18/20\n",
      "1594/1594 [==============================] - 23s 15ms/step - loss: 3.9357e-04 - accuracy: 1.0000 - val_loss: 0.0485 - val_accuracy: 0.9919\n",
      "Epoch 19/20\n",
      "1594/1594 [==============================] - 24s 15ms/step - loss: 2.5402e-04 - accuracy: 1.0000 - val_loss: 0.0504 - val_accuracy: 0.9914\n",
      "Epoch 20/20\n",
      "1594/1594 [==============================] - 24s 15ms/step - loss: 2.0733e-04 - accuracy: 1.0000 - val_loss: 0.0508 - val_accuracy: 0.9920\n"
     ]
    }
   ],
   "source": [
    "model_9.compile(optimizer=opt_3, loss='categorical_crossentropy', metrics=['accuracy'])\n",
    "model_9_history = model_9.fit(X_train, y_train, epochs=20, batch_size=32, shuffle=True,validation_data=(X_val, y_val), verbose=1)\n",
    "saved_models.append(model_9)\n",
    "histories.append(model_9_history)"
   ]
  },
  {
   "cell_type": "code",
   "execution_count": 25,
   "id": "2vhZDIUxcxL8",
   "metadata": {
    "id": "2vhZDIUxcxL8"
   },
   "outputs": [],
   "source": [
    "model_10 = models.Sequential()\n",
    "model_10.add(layers.Conv2D(128, (3, 3), activation='relu', kernel_initializer='he_uniform', input_shape=(28, 28, 1)))\n",
    "model_10.add(layers.MaxPooling2D(pool_size=(2, 2), strides=(2, 2)))\n",
    "model_10.add(layers.Flatten())\n",
    "model_10.add(layers.Dense(32, activation='relu', kernel_initializer='he_uniform'))\n",
    "model_10.add(layers.Dense(10, activation='softmax'))"
   ]
  },
  {
   "cell_type": "code",
   "execution_count": 26,
   "id": "k1en4O-Rc2Ny",
   "metadata": {
    "colab": {
     "base_uri": "https://localhost:8080/"
    },
    "id": "k1en4O-Rc2Ny",
    "outputId": "e55ee032-108a-4dce-effd-316381ea7399"
   },
   "outputs": [
    {
     "name": "stdout",
     "output_type": "stream",
     "text": [
      "Epoch 1/20\n",
      "1594/1594 [==============================] - 38s 24ms/step - loss: 0.2286 - accuracy: 0.9293 - val_loss: 0.0931 - val_accuracy: 0.9716\n",
      "Epoch 2/20\n",
      "1594/1594 [==============================] - 37s 23ms/step - loss: 0.0761 - accuracy: 0.9774 - val_loss: 0.0691 - val_accuracy: 0.9791\n",
      "Epoch 3/20\n",
      "1594/1594 [==============================] - 37s 23ms/step - loss: 0.0518 - accuracy: 0.9844 - val_loss: 0.0602 - val_accuracy: 0.9821\n",
      "Epoch 4/20\n",
      "1594/1594 [==============================] - 37s 24ms/step - loss: 0.0368 - accuracy: 0.9886 - val_loss: 0.0624 - val_accuracy: 0.9822\n",
      "Epoch 5/20\n",
      "1594/1594 [==============================] - 38s 24ms/step - loss: 0.0285 - accuracy: 0.9907 - val_loss: 0.0635 - val_accuracy: 0.9809\n",
      "Epoch 6/20\n",
      "1594/1594 [==============================] - 38s 24ms/step - loss: 0.0205 - accuracy: 0.9936 - val_loss: 0.0637 - val_accuracy: 0.9828\n",
      "Epoch 7/20\n",
      "1594/1594 [==============================] - 37s 23ms/step - loss: 0.0149 - accuracy: 0.9954 - val_loss: 0.0582 - val_accuracy: 0.9846\n",
      "Epoch 8/20\n",
      "1594/1594 [==============================] - 37s 23ms/step - loss: 0.0109 - accuracy: 0.9969 - val_loss: 0.0637 - val_accuracy: 0.9830\n",
      "Epoch 9/20\n",
      "1594/1594 [==============================] - 37s 23ms/step - loss: 0.0073 - accuracy: 0.9983 - val_loss: 0.0639 - val_accuracy: 0.9840\n",
      "Epoch 10/20\n",
      "1594/1594 [==============================] - 38s 24ms/step - loss: 0.0048 - accuracy: 0.9992 - val_loss: 0.0687 - val_accuracy: 0.9841\n",
      "Epoch 11/20\n",
      "1594/1594 [==============================] - 37s 23ms/step - loss: 0.0029 - accuracy: 0.9997 - val_loss: 0.0652 - val_accuracy: 0.9839\n",
      "Epoch 12/20\n",
      "1594/1594 [==============================] - 37s 23ms/step - loss: 0.0021 - accuracy: 0.9998 - val_loss: 0.0675 - val_accuracy: 0.9847\n",
      "Epoch 13/20\n",
      "1594/1594 [==============================] - 37s 23ms/step - loss: 0.0014 - accuracy: 0.9999 - val_loss: 0.0665 - val_accuracy: 0.9846\n",
      "Epoch 14/20\n",
      "1594/1594 [==============================] - 37s 23ms/step - loss: 0.0010 - accuracy: 1.0000 - val_loss: 0.0662 - val_accuracy: 0.9849\n",
      "Epoch 15/20\n",
      "1594/1594 [==============================] - 38s 24ms/step - loss: 8.7517e-04 - accuracy: 1.0000 - val_loss: 0.0664 - val_accuracy: 0.9849\n",
      "Epoch 16/20\n",
      "1594/1594 [==============================] - 37s 23ms/step - loss: 6.9162e-04 - accuracy: 1.0000 - val_loss: 0.0682 - val_accuracy: 0.9844\n",
      "Epoch 17/20\n",
      "1594/1594 [==============================] - 39s 24ms/step - loss: 6.0142e-04 - accuracy: 1.0000 - val_loss: 0.0685 - val_accuracy: 0.9847\n",
      "Epoch 18/20\n",
      "1594/1594 [==============================] - 37s 23ms/step - loss: 5.4151e-04 - accuracy: 1.0000 - val_loss: 0.0690 - val_accuracy: 0.9847\n",
      "Epoch 19/20\n",
      "1594/1594 [==============================] - 37s 23ms/step - loss: 4.7345e-04 - accuracy: 1.0000 - val_loss: 0.0695 - val_accuracy: 0.9846\n",
      "Epoch 20/20\n",
      "1594/1594 [==============================] - 37s 23ms/step - loss: 4.3666e-04 - accuracy: 1.0000 - val_loss: 0.0708 - val_accuracy: 0.9846\n"
     ]
    }
   ],
   "source": [
    "model_10.compile(optimizer=opt_3, loss='categorical_crossentropy', metrics=['accuracy'])\n",
    "model_10_history = model_10.fit(X_train, y_train, epochs=20, batch_size=32, shuffle=True,validation_data=(X_val, y_val), verbose=1)\n",
    "saved_models.append(model_10)\n",
    "histories.append(model_10_history)"
   ]
  },
  {
   "cell_type": "code",
   "execution_count": 27,
   "id": "l6M7d0Bhc6x6",
   "metadata": {
    "colab": {
     "base_uri": "https://localhost:8080/"
    },
    "id": "l6M7d0Bhc6x6",
    "outputId": "057b2e88-ba54-4f85-b0ec-a7b28fb3bbba"
   },
   "outputs": [
    {
     "name": "stdout",
     "output_type": "stream",
     "text": [
      "313/313 [==============================] - 1s 2ms/step - loss: 0.2747 - accuracy: 0.9218\n",
      "313/313 [==============================] - 1s 3ms/step - loss: 0.2245 - accuracy: 0.9350\n",
      "313/313 [==============================] - 1s 2ms/step - loss: 0.1915 - accuracy: 0.9464\n",
      "313/313 [==============================] - 1s 2ms/step - loss: 0.1254 - accuracy: 0.9810\n",
      "313/313 [==============================] - 1s 2ms/step - loss: 0.0440 - accuracy: 0.9844\n",
      "313/313 [==============================] - 1s 3ms/step - loss: 0.0414 - accuracy: 0.9902\n",
      "313/313 [==============================] - 1s 3ms/step - loss: 0.0405 - accuracy: 0.9901\n",
      "313/313 [==============================] - 0s 1ms/step - loss: 0.1271 - accuracy: 0.9642\n",
      "313/313 [==============================] - 1s 4ms/step - loss: 0.0366 - accuracy: 0.9921\n",
      "313/313 [==============================] - 2s 8ms/step - loss: 0.0565 - accuracy: 0.9861\n",
      "model: 9 accuracy: 99.21 %\n"
     ]
    }
   ],
   "source": [
    "best_model, best_model_idx = evaluate_model(saved_models, X_test, y_test)"
   ]
  },
  {
   "cell_type": "markdown",
   "id": "1DOv_IDKZ1-G",
   "metadata": {
    "id": "1DOv_IDKZ1-G"
   },
   "source": [
    "#Trying different batch sizes"
   ]
  },
  {
   "cell_type": "code",
   "execution_count": 28,
   "id": "MGGK_G4aaFf1",
   "metadata": {
    "colab": {
     "base_uri": "https://localhost:8080/"
    },
    "id": "MGGK_G4aaFf1",
    "outputId": "d456723d-db09-47ac-eec1-6be5459be232"
   },
   "outputs": [
    {
     "name": "stdout",
     "output_type": "stream",
     "text": [
      "Epoch 1/20\n",
      "3188/3188 [==============================] - 28s 9ms/step - loss: 0.1456 - accuracy: 0.9548 - val_loss: 0.0603 - val_accuracy: 0.9814\n",
      "Epoch 2/20\n",
      "3188/3188 [==============================] - 28s 9ms/step - loss: 0.0521 - accuracy: 0.9837 - val_loss: 0.0505 - val_accuracy: 0.9856\n",
      "Epoch 3/20\n",
      "3188/3188 [==============================] - 28s 9ms/step - loss: 0.0366 - accuracy: 0.9886 - val_loss: 0.0564 - val_accuracy: 0.9823\n",
      "Epoch 4/20\n",
      "3188/3188 [==============================] - 28s 9ms/step - loss: 0.0292 - accuracy: 0.9909 - val_loss: 0.0569 - val_accuracy: 0.9834\n",
      "Epoch 5/20\n",
      "3188/3188 [==============================] - 28s 9ms/step - loss: 0.0238 - accuracy: 0.9928 - val_loss: 0.0394 - val_accuracy: 0.9883\n",
      "Epoch 6/20\n",
      "3188/3188 [==============================] - 28s 9ms/step - loss: 0.0196 - accuracy: 0.9933 - val_loss: 0.0459 - val_accuracy: 0.9874\n",
      "Epoch 7/20\n",
      "3188/3188 [==============================] - 28s 9ms/step - loss: 0.0159 - accuracy: 0.9951 - val_loss: 0.0440 - val_accuracy: 0.9883\n",
      "Epoch 8/20\n",
      "3188/3188 [==============================] - 28s 9ms/step - loss: 0.0141 - accuracy: 0.9953 - val_loss: 0.0466 - val_accuracy: 0.9872\n",
      "Epoch 9/20\n",
      "3188/3188 [==============================] - 28s 9ms/step - loss: 0.0107 - accuracy: 0.9968 - val_loss: 0.0435 - val_accuracy: 0.9894\n",
      "Epoch 10/20\n",
      "3188/3188 [==============================] - 28s 9ms/step - loss: 0.0090 - accuracy: 0.9970 - val_loss: 0.0533 - val_accuracy: 0.9866\n",
      "Epoch 11/20\n",
      "3188/3188 [==============================] - 31s 10ms/step - loss: 0.0088 - accuracy: 0.9972 - val_loss: 0.0383 - val_accuracy: 0.9907\n",
      "Epoch 12/20\n",
      "3188/3188 [==============================] - 31s 10ms/step - loss: 0.0097 - accuracy: 0.9966 - val_loss: 0.0479 - val_accuracy: 0.9888\n",
      "Epoch 13/20\n",
      "3188/3188 [==============================] - 28s 9ms/step - loss: 0.0081 - accuracy: 0.9977 - val_loss: 0.0504 - val_accuracy: 0.9893\n",
      "Epoch 14/20\n",
      "3188/3188 [==============================] - 28s 9ms/step - loss: 0.0052 - accuracy: 0.9984 - val_loss: 0.0577 - val_accuracy: 0.9888\n",
      "Epoch 15/20\n",
      "3188/3188 [==============================] - 28s 9ms/step - loss: 0.0024 - accuracy: 0.9994 - val_loss: 0.0535 - val_accuracy: 0.9910\n",
      "Epoch 16/20\n",
      "3188/3188 [==============================] - 28s 9ms/step - loss: 0.0020 - accuracy: 0.9995 - val_loss: 0.0586 - val_accuracy: 0.9892\n",
      "Epoch 17/20\n",
      "3188/3188 [==============================] - 30s 9ms/step - loss: 0.0024 - accuracy: 0.9992 - val_loss: 0.0524 - val_accuracy: 0.9909\n",
      "Epoch 18/20\n",
      "3188/3188 [==============================] - 28s 9ms/step - loss: 6.2363e-04 - accuracy: 1.0000 - val_loss: 0.0511 - val_accuracy: 0.9910\n",
      "Epoch 19/20\n",
      "3188/3188 [==============================] - 34s 11ms/step - loss: 4.6952e-04 - accuracy: 0.9999 - val_loss: 0.0536 - val_accuracy: 0.9918\n",
      "Epoch 20/20\n",
      "3188/3188 [==============================] - 30s 9ms/step - loss: 1.3946e-04 - accuracy: 1.0000 - val_loss: 0.0526 - val_accuracy: 0.9917\n"
     ]
    }
   ],
   "source": [
    "model_11 = keras.models.clone_model(best_model)\n",
    "model_11.compile(optimizer=opt_3, loss='categorical_crossentropy', metrics=['accuracy'])\n",
    "model_11_history = model_11.fit(X_train, y_train, epochs=20, batch_size=16, shuffle=True,validation_data=(X_val, y_val), verbose=1)\n",
    "saved_models.append(model_11)\n",
    "histories.append(model_11_history)"
   ]
  },
  {
   "cell_type": "code",
   "execution_count": 29,
   "id": "59tn-mJbaVjM",
   "metadata": {
    "colab": {
     "base_uri": "https://localhost:8080/"
    },
    "id": "59tn-mJbaVjM",
    "outputId": "50f4b20d-c3fa-4c1c-9c95-328583722085"
   },
   "outputs": [
    {
     "name": "stdout",
     "output_type": "stream",
     "text": [
      "Epoch 1/20\n",
      "797/797 [==============================] - 21s 26ms/step - loss: 0.2312 - accuracy: 0.9260 - val_loss: 0.0868 - val_accuracy: 0.9743\n",
      "Epoch 2/20\n",
      "797/797 [==============================] - 21s 26ms/step - loss: 0.0718 - accuracy: 0.9778 - val_loss: 0.0647 - val_accuracy: 0.9813\n",
      "Epoch 3/20\n",
      "797/797 [==============================] - 22s 27ms/step - loss: 0.0524 - accuracy: 0.9838 - val_loss: 0.0626 - val_accuracy: 0.9797\n",
      "Epoch 4/20\n",
      "797/797 [==============================] - 22s 28ms/step - loss: 0.0422 - accuracy: 0.9867 - val_loss: 0.0451 - val_accuracy: 0.9870\n",
      "Epoch 5/20\n",
      "797/797 [==============================] - 21s 26ms/step - loss: 0.0351 - accuracy: 0.9891 - val_loss: 0.0429 - val_accuracy: 0.9874\n",
      "Epoch 6/20\n",
      "797/797 [==============================] - 21s 26ms/step - loss: 0.0291 - accuracy: 0.9907 - val_loss: 0.0453 - val_accuracy: 0.9866\n",
      "Epoch 7/20\n",
      "797/797 [==============================] - 21s 26ms/step - loss: 0.0239 - accuracy: 0.9927 - val_loss: 0.0451 - val_accuracy: 0.9866\n",
      "Epoch 8/20\n",
      "797/797 [==============================] - 21s 26ms/step - loss: 0.0215 - accuracy: 0.9931 - val_loss: 0.0415 - val_accuracy: 0.9892\n",
      "Epoch 9/20\n",
      "797/797 [==============================] - 23s 29ms/step - loss: 0.0185 - accuracy: 0.9942 - val_loss: 0.0428 - val_accuracy: 0.9874\n",
      "Epoch 10/20\n",
      "797/797 [==============================] - 22s 28ms/step - loss: 0.0159 - accuracy: 0.9950 - val_loss: 0.0420 - val_accuracy: 0.9879\n",
      "Epoch 11/20\n",
      "797/797 [==============================] - 21s 26ms/step - loss: 0.0131 - accuracy: 0.9961 - val_loss: 0.0440 - val_accuracy: 0.9879\n",
      "Epoch 12/20\n",
      "797/797 [==============================] - 21s 26ms/step - loss: 0.0115 - accuracy: 0.9968 - val_loss: 0.0431 - val_accuracy: 0.9892\n",
      "Epoch 13/20\n",
      "797/797 [==============================] - 21s 26ms/step - loss: 0.0100 - accuracy: 0.9968 - val_loss: 0.0417 - val_accuracy: 0.9893\n",
      "Epoch 14/20\n",
      "797/797 [==============================] - 21s 26ms/step - loss: 0.0090 - accuracy: 0.9973 - val_loss: 0.0442 - val_accuracy: 0.9884\n",
      "Epoch 15/20\n",
      "797/797 [==============================] - 21s 26ms/step - loss: 0.0075 - accuracy: 0.9979 - val_loss: 0.0495 - val_accuracy: 0.9873\n",
      "Epoch 16/20\n",
      "797/797 [==============================] - 21s 26ms/step - loss: 0.0059 - accuracy: 0.9986 - val_loss: 0.0562 - val_accuracy: 0.9859\n",
      "Epoch 17/20\n",
      "797/797 [==============================] - 21s 26ms/step - loss: 0.0047 - accuracy: 0.9990 - val_loss: 0.0452 - val_accuracy: 0.9897\n",
      "Epoch 18/20\n",
      "797/797 [==============================] - 21s 26ms/step - loss: 0.0043 - accuracy: 0.9990 - val_loss: 0.0511 - val_accuracy: 0.9880\n",
      "Epoch 19/20\n",
      "797/797 [==============================] - 21s 26ms/step - loss: 0.0030 - accuracy: 0.9994 - val_loss: 0.0487 - val_accuracy: 0.9889\n",
      "Epoch 20/20\n",
      "797/797 [==============================] - 21s 26ms/step - loss: 0.0024 - accuracy: 0.9996 - val_loss: 0.0518 - val_accuracy: 0.9892\n"
     ]
    }
   ],
   "source": [
    "model_12 = keras.models.clone_model(best_model)\n",
    "model_12.compile(optimizer=opt_3, loss='categorical_crossentropy', metrics=['accuracy'])\n",
    "model_12_history = model_12.fit(X_train, y_train, epochs=20, batch_size=64, shuffle=True,validation_data=(X_val, y_val), verbose=1)\n",
    "saved_models.append(model_12)\n",
    "histories.append(model_12_history)"
   ]
  },
  {
   "cell_type": "code",
   "execution_count": 30,
   "id": "yvFNxuR-8OB4",
   "metadata": {
    "colab": {
     "base_uri": "https://localhost:8080/"
    },
    "id": "yvFNxuR-8OB4",
    "outputId": "043f08d8-982a-44cc-a28c-20419056701d"
   },
   "outputs": [
    {
     "name": "stdout",
     "output_type": "stream",
     "text": [
      "313/313 [==============================] - 1s 2ms/step - loss: 0.2747 - accuracy: 0.9218\n",
      "313/313 [==============================] - 1s 2ms/step - loss: 0.2245 - accuracy: 0.9350\n",
      "313/313 [==============================] - 1s 2ms/step - loss: 0.1915 - accuracy: 0.9464\n",
      "313/313 [==============================] - 1s 2ms/step - loss: 0.1254 - accuracy: 0.9810\n",
      "313/313 [==============================] - 1s 2ms/step - loss: 0.0440 - accuracy: 0.9844\n",
      "313/313 [==============================] - 1s 2ms/step - loss: 0.0414 - accuracy: 0.9902\n",
      "313/313 [==============================] - 1s 4ms/step - loss: 0.0405 - accuracy: 0.9901\n",
      "313/313 [==============================] - 0s 1ms/step - loss: 0.1271 - accuracy: 0.9642\n",
      "313/313 [==============================] - 1s 4ms/step - loss: 0.0366 - accuracy: 0.9921\n",
      "313/313 [==============================] - 2s 7ms/step - loss: 0.0565 - accuracy: 0.9861\n",
      "313/313 [==============================] - 1s 4ms/step - loss: 0.0500 - accuracy: 0.9905\n",
      "313/313 [==============================] - 1s 4ms/step - loss: 0.0425 - accuracy: 0.9905\n",
      "model: 9 accuracy: 99.21 %\n"
     ]
    }
   ],
   "source": [
    "best_model, best_model_idx = evaluate_model(saved_models, X_test, y_test)"
   ]
  },
  {
   "cell_type": "markdown",
   "id": "pSu91m-_bCB-",
   "metadata": {
    "id": "pSu91m-_bCB-"
   },
   "source": [
    "# Trying different activation functions"
   ]
  },
  {
   "cell_type": "code",
   "execution_count": 31,
   "id": "hu_Q_iaabE3E",
   "metadata": {
    "id": "hu_Q_iaabE3E"
   },
   "outputs": [],
   "source": [
    "model_13 = models.Sequential()\n",
    "model_13.add(layers.Conv2D(32, (3, 3), activation='sigmoid', kernel_initializer=tensorflow.keras.initializers.GlorotNormal(), input_shape=(28, 28, 1)))\n",
    "model_13.add(layers.MaxPooling2D(pool_size=(2, 2), strides=(2, 2)))\n",
    "model_13.add(layers.Conv2D(32, (3, 3), activation='sigmoid', kernel_initializer=tensorflow.keras.initializers.GlorotNormal()))\n",
    "model_13.add(layers.MaxPooling2D(pool_size=(2, 2), strides=(2, 2)))\n",
    "model_13.add(layers.Flatten())\n",
    "model_13.add(layers.Dense(64, activation='sigmoid', kernel_initializer=tensorflow.keras.initializers.GlorotNormal()))\n",
    "model_13.add(layers.Dense(32, activation='sigmoid', kernel_initializer=tensorflow.keras.initializers.GlorotNormal()))\n",
    "model_13.add(layers.Dense(10, activation='softmax'))"
   ]
  },
  {
   "cell_type": "code",
   "execution_count": 32,
   "id": "3LDVjCGabHQr",
   "metadata": {
    "colab": {
     "base_uri": "https://localhost:8080/"
    },
    "id": "3LDVjCGabHQr",
    "outputId": "373b3fcc-7b06-4e2e-efc5-7d1681943dc7"
   },
   "outputs": [
    {
     "name": "stdout",
     "output_type": "stream",
     "text": [
      "Epoch 1/10\n",
      "1594/1594 [==============================] - 20s 12ms/step - loss: 2.3080 - accuracy: 0.1058 - val_loss: 2.3036 - val_accuracy: 0.1070\n",
      "Epoch 2/10\n",
      "1594/1594 [==============================] - 20s 12ms/step - loss: 2.3036 - accuracy: 0.1086 - val_loss: 2.3020 - val_accuracy: 0.1101\n",
      "Epoch 3/10\n",
      "1594/1594 [==============================] - 20s 12ms/step - loss: 2.3005 - accuracy: 0.1138 - val_loss: 2.2964 - val_accuracy: 0.1122\n",
      "Epoch 4/10\n",
      "1594/1594 [==============================] - 19s 12ms/step - loss: 1.8831 - accuracy: 0.3407 - val_loss: 0.9687 - val_accuracy: 0.6964\n",
      "Epoch 5/10\n",
      "1594/1594 [==============================] - 19s 12ms/step - loss: 0.5969 - accuracy: 0.8240 - val_loss: 0.3709 - val_accuracy: 0.8940\n",
      "Epoch 6/10\n",
      "1594/1594 [==============================] - 19s 12ms/step - loss: 0.2893 - accuracy: 0.9170 - val_loss: 0.2065 - val_accuracy: 0.9440\n",
      "Epoch 7/10\n",
      "1594/1594 [==============================] - 19s 12ms/step - loss: 0.1844 - accuracy: 0.9456 - val_loss: 0.1554 - val_accuracy: 0.9551\n",
      "Epoch 8/10\n",
      "1594/1594 [==============================] - 19s 12ms/step - loss: 0.1406 - accuracy: 0.9587 - val_loss: 0.1225 - val_accuracy: 0.9658\n",
      "Epoch 9/10\n",
      "1594/1594 [==============================] - 19s 12ms/step - loss: 0.1167 - accuracy: 0.9652 - val_loss: 0.1020 - val_accuracy: 0.9689\n",
      "Epoch 10/10\n",
      "1594/1594 [==============================] - 19s 12ms/step - loss: 0.1008 - accuracy: 0.9706 - val_loss: 0.0922 - val_accuracy: 0.9734\n"
     ]
    }
   ],
   "source": [
    "model_13.compile(optimizer=opt_3, loss='categorical_crossentropy', metrics=['accuracy'])\n",
    "model_13_history = model_13.fit(X_train, y_train, epochs=10, batch_size=32, shuffle=True,validation_data=(X_val, y_val), verbose=1)\n",
    "saved_models.append(model_13)\n",
    "histories.append(model_13_history)"
   ]
  },
  {
   "cell_type": "code",
   "execution_count": 33,
   "id": "EmwGbP4dbyuj",
   "metadata": {
    "id": "EmwGbP4dbyuj"
   },
   "outputs": [],
   "source": [
    "model_14 = models.Sequential()\n",
    "model_14.add(layers.Conv2D(32, (3, 3), activation='selu', kernel_initializer= tensorflow.keras.initializers.LecunNormal(), input_shape=(28, 28, 1)))\n",
    "model_14.add(layers.MaxPooling2D(pool_size=(2, 2), strides=(2, 2)))\n",
    "model_14.add(layers.Conv2D(32, (3, 3), activation='selu', kernel_initializer= tensorflow.keras.initializers.LecunNormal()))\n",
    "model_14.add(layers.MaxPooling2D(pool_size=(2, 2), strides=(2, 2)))\n",
    "model_14.add(layers.Flatten())\n",
    "model_14.add(layers.Dense(64, activation='selu', kernel_initializer= tensorflow.keras.initializers.LecunNormal()))\n",
    "model_14.add(layers.Dense(32, activation='selu', kernel_initializer= tensorflow.keras.initializers.LecunNormal()))\n",
    "model_14.add(layers.Dense(10, activation='softmax'))"
   ]
  },
  {
   "cell_type": "code",
   "execution_count": 34,
   "id": "eMhfWfi1bzqT",
   "metadata": {
    "colab": {
     "base_uri": "https://localhost:8080/"
    },
    "id": "eMhfWfi1bzqT",
    "outputId": "5522d5f4-9383-4a1d-a713-50f194b57cae"
   },
   "outputs": [
    {
     "name": "stdout",
     "output_type": "stream",
     "text": [
      "Epoch 1/10\n",
      "1594/1594 [==============================] - 22s 13ms/step - loss: 0.1444 - accuracy: 0.9551 - val_loss: 0.0809 - val_accuracy: 0.9748\n",
      "Epoch 2/10\n",
      "1594/1594 [==============================] - 21s 13ms/step - loss: 0.0545 - accuracy: 0.9833 - val_loss: 0.0471 - val_accuracy: 0.9863\n",
      "Epoch 3/10\n",
      "1594/1594 [==============================] - 21s 13ms/step - loss: 0.0382 - accuracy: 0.9875 - val_loss: 0.0452 - val_accuracy: 0.9867\n",
      "Epoch 4/10\n",
      "1594/1594 [==============================] - 21s 13ms/step - loss: 0.0277 - accuracy: 0.9909 - val_loss: 0.0457 - val_accuracy: 0.9884\n",
      "Epoch 5/10\n",
      "1594/1594 [==============================] - 21s 13ms/step - loss: 0.0203 - accuracy: 0.9931 - val_loss: 0.0614 - val_accuracy: 0.9839\n",
      "Epoch 6/10\n",
      "1594/1594 [==============================] - 21s 13ms/step - loss: 0.0152 - accuracy: 0.9950 - val_loss: 0.0464 - val_accuracy: 0.9899\n",
      "Epoch 7/10\n",
      "1594/1594 [==============================] - 21s 13ms/step - loss: 0.0129 - accuracy: 0.9956 - val_loss: 0.0550 - val_accuracy: 0.9879\n",
      "Epoch 8/10\n",
      "1594/1594 [==============================] - 21s 13ms/step - loss: 0.0106 - accuracy: 0.9968 - val_loss: 0.0588 - val_accuracy: 0.9879\n",
      "Epoch 9/10\n",
      "1594/1594 [==============================] - 21s 13ms/step - loss: 0.0076 - accuracy: 0.9977 - val_loss: 0.0685 - val_accuracy: 0.9858\n",
      "Epoch 10/10\n",
      "1594/1594 [==============================] - 21s 13ms/step - loss: 0.0053 - accuracy: 0.9983 - val_loss: 0.0572 - val_accuracy: 0.9887\n"
     ]
    }
   ],
   "source": [
    "model_14.compile(optimizer=opt_3, loss='categorical_crossentropy', metrics=['accuracy'])\n",
    "model_14_history = model_14.fit(X_train, y_train, epochs=10, batch_size=32, shuffle=True,validation_data=(X_val, y_val), verbose=1)\n",
    "saved_models.append(model_14)\n",
    "histories.append(model_14_history)"
   ]
  },
  {
   "cell_type": "code",
   "execution_count": 35,
   "id": "r2GVQUDQb0TF",
   "metadata": {
    "id": "r2GVQUDQb0TF"
   },
   "outputs": [],
   "source": [
    "from keras.layers import LeakyReLU\n",
    "model_15 = models.Sequential()\n",
    "model_15.add(layers.Conv2D(32, (3, 3), kernel_initializer='he_uniform', input_shape=(28, 28, 1)))\n",
    "model_15.add(LeakyReLU(alpha=0.05))\n",
    "model_15.add(layers.MaxPooling2D(pool_size=(2, 2), strides=(2, 2)))\n",
    "model_15.add(layers.Conv2D(32, (3, 3), kernel_initializer='he_uniform'))\n",
    "model_15.add(LeakyReLU(alpha=0.05))\n",
    "model_15.add(layers.MaxPooling2D(pool_size=(2, 2), strides=(2, 2)))\n",
    "model_15.add(layers.Flatten())\n",
    "model_15.add(layers.Dense(64, kernel_initializer='he_uniform'))\n",
    "model_15.add(LeakyReLU(alpha=0.05))\n",
    "model_15.add(layers.Dense(32, kernel_initializer='he_uniform'))\n",
    "model_15.add(LeakyReLU(alpha=0.05))\n",
    "model_15.add(layers.Dense(10, activation='softmax'))"
   ]
  },
  {
   "cell_type": "code",
   "execution_count": 36,
   "id": "Ml_LF3C5b1Oc",
   "metadata": {
    "colab": {
     "base_uri": "https://localhost:8080/"
    },
    "id": "Ml_LF3C5b1Oc",
    "outputId": "f60c6022-8da8-436f-abc6-7864ff68bcb8"
   },
   "outputs": [
    {
     "name": "stdout",
     "output_type": "stream",
     "text": [
      "Epoch 1/10\n",
      "1594/1594 [==============================] - 21s 13ms/step - loss: 0.1669 - accuracy: 0.9471 - val_loss: 0.0730 - val_accuracy: 0.9790\n",
      "Epoch 2/10\n",
      "1594/1594 [==============================] - 20s 12ms/step - loss: 0.0587 - accuracy: 0.9820 - val_loss: 0.0533 - val_accuracy: 0.9841\n",
      "Epoch 3/10\n",
      "1594/1594 [==============================] - 20s 12ms/step - loss: 0.0403 - accuracy: 0.9880 - val_loss: 0.0606 - val_accuracy: 0.9822\n",
      "Epoch 4/10\n",
      "1594/1594 [==============================] - 20s 12ms/step - loss: 0.0300 - accuracy: 0.9905 - val_loss: 0.0404 - val_accuracy: 0.9889\n",
      "Epoch 5/10\n",
      "1594/1594 [==============================] - 20s 13ms/step - loss: 0.0244 - accuracy: 0.9922 - val_loss: 0.0451 - val_accuracy: 0.9873\n",
      "Epoch 6/10\n",
      "1594/1594 [==============================] - 20s 12ms/step - loss: 0.0189 - accuracy: 0.9940 - val_loss: 0.0407 - val_accuracy: 0.9901\n",
      "Epoch 7/10\n",
      "1594/1594 [==============================] - 20s 12ms/step - loss: 0.0148 - accuracy: 0.9951 - val_loss: 0.0461 - val_accuracy: 0.9888\n",
      "Epoch 8/10\n",
      "1594/1594 [==============================] - 20s 12ms/step - loss: 0.0113 - accuracy: 0.9963 - val_loss: 0.0451 - val_accuracy: 0.9894\n",
      "Epoch 9/10\n",
      "1594/1594 [==============================] - 20s 13ms/step - loss: 0.0086 - accuracy: 0.9970 - val_loss: 0.0418 - val_accuracy: 0.9900\n",
      "Epoch 10/10\n",
      "1594/1594 [==============================] - 20s 13ms/step - loss: 0.0082 - accuracy: 0.9973 - val_loss: 0.0552 - val_accuracy: 0.9873\n"
     ]
    }
   ],
   "source": [
    "model_15.compile(optimizer=opt_3, loss='categorical_crossentropy', metrics=['accuracy'])\n",
    "model_15_history = model_15.fit(X_train, y_train, epochs=10, batch_size=32, shuffle=True,validation_data=(X_val, y_val), verbose=1)\n",
    "saved_models.append(model_15)\n",
    "histories.append(model_15_history)"
   ]
  },
  {
   "cell_type": "code",
   "execution_count": 37,
   "id": "ng7z1-pmFQtP",
   "metadata": {
    "colab": {
     "base_uri": "https://localhost:8080/"
    },
    "id": "ng7z1-pmFQtP",
    "outputId": "4ad59b3a-b748-43dc-c0be-04301f0da65a"
   },
   "outputs": [
    {
     "name": "stdout",
     "output_type": "stream",
     "text": [
      "313/313 [==============================] - 1s 2ms/step - loss: 0.2747 - accuracy: 0.9218\n",
      "313/313 [==============================] - 1s 2ms/step - loss: 0.2245 - accuracy: 0.9350\n",
      "313/313 [==============================] - 1s 2ms/step - loss: 0.1915 - accuracy: 0.9464\n",
      "313/313 [==============================] - 1s 2ms/step - loss: 0.1254 - accuracy: 0.9810\n",
      "313/313 [==============================] - 1s 2ms/step - loss: 0.0440 - accuracy: 0.9844\n",
      "313/313 [==============================] - 1s 2ms/step - loss: 0.0414 - accuracy: 0.9902\n",
      "313/313 [==============================] - 1s 4ms/step - loss: 0.0405 - accuracy: 0.9901\n",
      "313/313 [==============================] - 1s 2ms/step - loss: 0.1271 - accuracy: 0.9642\n",
      "313/313 [==============================] - 1s 4ms/step - loss: 0.0366 - accuracy: 0.9921\n",
      "313/313 [==============================] - 2s 7ms/step - loss: 0.0565 - accuracy: 0.9861\n",
      "313/313 [==============================] - 1s 4ms/step - loss: 0.0500 - accuracy: 0.9905\n",
      "313/313 [==============================] - 1s 4ms/step - loss: 0.0425 - accuracy: 0.9905\n",
      "313/313 [==============================] - 1s 4ms/step - loss: 0.0929 - accuracy: 0.9728\n",
      "313/313 [==============================] - 1s 4ms/step - loss: 0.0435 - accuracy: 0.9901\n",
      "313/313 [==============================] - 1s 4ms/step - loss: 0.0492 - accuracy: 0.9862\n",
      "model: 9 accuracy: 99.21 %\n"
     ]
    }
   ],
   "source": [
    "best_model, best_model_idx = evaluate_model(saved_models, X_test, y_test)"
   ]
  },
  {
   "cell_type": "markdown",
   "id": "MJG73eMssu2y",
   "metadata": {
    "id": "MJG73eMssu2y"
   },
   "source": [
    "# Trying different optimizers"
   ]
  },
  {
   "cell_type": "code",
   "execution_count": 38,
   "id": "2NExiLWEs25I",
   "metadata": {
    "colab": {
     "base_uri": "https://localhost:8080/"
    },
    "id": "2NExiLWEs25I",
    "outputId": "5534845e-5e02-4e58-bd2e-b90c83a6b311"
   },
   "outputs": [
    {
     "name": "stdout",
     "output_type": "stream",
     "text": [
      "Epoch 1/10\n",
      "1594/1594 [==============================] - 24s 15ms/step - loss: 0.2367 - accuracy: 0.9268 - val_loss: 0.0848 - val_accuracy: 0.9756\n",
      "Epoch 2/10\n",
      "1594/1594 [==============================] - 23s 14ms/step - loss: 0.1042 - accuracy: 0.9692 - val_loss: 0.0875 - val_accuracy: 0.9772\n",
      "Epoch 3/10\n",
      "1594/1594 [==============================] - 23s 14ms/step - loss: 0.0905 - accuracy: 0.9741 - val_loss: 0.0993 - val_accuracy: 0.9718\n",
      "Epoch 4/10\n",
      "1594/1594 [==============================] - 23s 14ms/step - loss: 0.0827 - accuracy: 0.9774 - val_loss: 0.0750 - val_accuracy: 0.9788\n",
      "Epoch 5/10\n",
      "1594/1594 [==============================] - 23s 14ms/step - loss: 0.0808 - accuracy: 0.9774 - val_loss: 0.1030 - val_accuracy: 0.9762\n",
      "Epoch 6/10\n",
      "1594/1594 [==============================] - 23s 14ms/step - loss: 0.0761 - accuracy: 0.9790 - val_loss: 0.0866 - val_accuracy: 0.9778\n",
      "Epoch 7/10\n",
      "1594/1594 [==============================] - 23s 14ms/step - loss: 0.0745 - accuracy: 0.9793 - val_loss: 0.1036 - val_accuracy: 0.9751\n",
      "Epoch 8/10\n",
      "1594/1594 [==============================] - 23s 14ms/step - loss: 0.0696 - accuracy: 0.9805 - val_loss: 0.1014 - val_accuracy: 0.9770\n",
      "Epoch 9/10\n",
      "1594/1594 [==============================] - 23s 14ms/step - loss: 0.0680 - accuracy: 0.9820 - val_loss: 0.0933 - val_accuracy: 0.9782\n",
      "Epoch 10/10\n",
      "1594/1594 [==============================] - 23s 14ms/step - loss: 0.0617 - accuracy: 0.9833 - val_loss: 0.1020 - val_accuracy: 0.9753\n"
     ]
    }
   ],
   "source": [
    "model_16 = keras.models.clone_model(best_model)\n",
    "model_16.compile(optimizer=opt_4, loss='categorical_crossentropy', metrics=['accuracy'])\n",
    "model_16_history = model_16.fit(X_train, y_train, epochs=10, batch_size=32, shuffle=True,validation_data=(X_val, y_val), verbose=1)\n",
    "saved_models.append(model_16)\n",
    "histories.append(model_16_history)"
   ]
  },
  {
   "cell_type": "code",
   "execution_count": 39,
   "id": "tlw1Bu6ztD-R",
   "metadata": {
    "colab": {
     "base_uri": "https://localhost:8080/"
    },
    "id": "tlw1Bu6ztD-R",
    "outputId": "b788a12e-9fc9-4612-effc-0629a6dc2ac6"
   },
   "outputs": [
    {
     "name": "stdout",
     "output_type": "stream",
     "text": [
      "Epoch 1/10\n",
      "1594/1594 [==============================] - 23s 14ms/step - loss: 0.2101 - accuracy: 0.9435 - val_loss: 0.1315 - val_accuracy: 0.9640\n",
      "Epoch 2/10\n",
      "1594/1594 [==============================] - 26s 16ms/step - loss: 0.1130 - accuracy: 0.9716 - val_loss: 0.0877 - val_accuracy: 0.9759\n",
      "Epoch 3/10\n",
      "1594/1594 [==============================] - 35s 22ms/step - loss: 0.1127 - accuracy: 0.9744 - val_loss: 0.1223 - val_accuracy: 0.9749\n",
      "Epoch 4/10\n",
      "1594/1594 [==============================] - 33s 20ms/step - loss: 0.1114 - accuracy: 0.9757 - val_loss: 0.1116 - val_accuracy: 0.9713\n",
      "Epoch 5/10\n",
      "1594/1594 [==============================] - 26s 16ms/step - loss: 0.1085 - accuracy: 0.9767 - val_loss: 0.1145 - val_accuracy: 0.9806\n",
      "Epoch 6/10\n",
      "1594/1594 [==============================] - 38s 24ms/step - loss: 0.1189 - accuracy: 0.9763 - val_loss: 0.1381 - val_accuracy: 0.9712\n",
      "Epoch 7/10\n",
      "1594/1594 [==============================] - 39s 24ms/step - loss: 0.1219 - accuracy: 0.9769 - val_loss: 0.2226 - val_accuracy: 0.9670\n",
      "Epoch 8/10\n",
      "1594/1594 [==============================] - 43s 27ms/step - loss: 0.1176 - accuracy: 0.9782 - val_loss: 0.2154 - val_accuracy: 0.9672\n",
      "Epoch 9/10\n",
      "1594/1594 [==============================] - 38s 24ms/step - loss: 0.1185 - accuracy: 0.9781 - val_loss: 0.1454 - val_accuracy: 0.9728\n",
      "Epoch 10/10\n",
      "1594/1594 [==============================] - 41s 26ms/step - loss: 0.1200 - accuracy: 0.9782 - val_loss: 0.1501 - val_accuracy: 0.9751\n"
     ]
    }
   ],
   "source": [
    "model_17 = keras.models.clone_model(best_model)\n",
    "model_17.compile(optimizer=opt_5, loss='categorical_crossentropy', metrics=['accuracy'])\n",
    "model_17_history = model_17.fit(X_train, y_train, epochs=10, batch_size=32, shuffle=True,validation_data=(X_val, y_val), verbose=1)\n",
    "saved_models.append(model_17)\n",
    "histories.append(model_17_history)"
   ]
  },
  {
   "cell_type": "code",
   "execution_count": 40,
   "id": "HUmk_ZImg0qx",
   "metadata": {
    "colab": {
     "base_uri": "https://localhost:8080/"
    },
    "id": "HUmk_ZImg0qx",
    "outputId": "3298b853-37a2-4213-ebbe-948209ccce6f"
   },
   "outputs": [
    {
     "name": "stdout",
     "output_type": "stream",
     "text": [
      "313/313 [==============================] - 1s 4ms/step - loss: 0.2747 - accuracy: 0.9218\n",
      "313/313 [==============================] - 1s 4ms/step - loss: 0.2245 - accuracy: 0.9350\n",
      "313/313 [==============================] - 1s 4ms/step - loss: 0.1915 - accuracy: 0.9464\n",
      "313/313 [==============================] - 1s 4ms/step - loss: 0.1254 - accuracy: 0.9810\n",
      "313/313 [==============================] - 1s 4ms/step - loss: 0.0440 - accuracy: 0.9844\n",
      "313/313 [==============================] - 1s 4ms/step - loss: 0.0414 - accuracy: 0.9902\n",
      "313/313 [==============================] - 2s 6ms/step - loss: 0.0405 - accuracy: 0.9901\n",
      "313/313 [==============================] - 1s 2ms/step - loss: 0.1271 - accuracy: 0.9642\n",
      "313/313 [==============================] - 2s 6ms/step - loss: 0.0366 - accuracy: 0.9921\n",
      "313/313 [==============================] - 4s 12ms/step - loss: 0.0565 - accuracy: 0.9861\n",
      "313/313 [==============================] - 2s 7ms/step - loss: 0.0500 - accuracy: 0.9905\n",
      "313/313 [==============================] - 2s 7ms/step - loss: 0.0425 - accuracy: 0.9905\n",
      "313/313 [==============================] - 2s 7ms/step - loss: 0.0929 - accuracy: 0.9728\n",
      "313/313 [==============================] - 2s 7ms/step - loss: 0.0435 - accuracy: 0.9901\n",
      "313/313 [==============================] - 2s 7ms/step - loss: 0.0492 - accuracy: 0.9862\n",
      "313/313 [==============================] - 2s 7ms/step - loss: 0.0890 - accuracy: 0.9771\n",
      "313/313 [==============================] - 2s 7ms/step - loss: 0.1317 - accuracy: 0.9752\n",
      "model: 9 accuracy: 99.21 %\n"
     ]
    }
   ],
   "source": [
    "best_model, best_model_idx = evaluate_model(saved_models, X_test, y_test)"
   ]
  },
  {
   "cell_type": "markdown",
   "id": "dF9wUeZKyUrV",
   "metadata": {
    "id": "dF9wUeZKyUrV"
   },
   "source": [
    "# Trying different dropout rates"
   ]
  },
  {
   "cell_type": "code",
   "execution_count": 41,
   "id": "KgbOhiYQyX3J",
   "metadata": {
    "id": "KgbOhiYQyX3J"
   },
   "outputs": [],
   "source": [
    "from keras.layers import Dropout"
   ]
  },
  {
   "cell_type": "code",
   "execution_count": 42,
   "id": "TeDcQcJ10GhB",
   "metadata": {
    "id": "TeDcQcJ10GhB"
   },
   "outputs": [],
   "source": [
    "model_18 = models.Sequential()\n",
    "model_18.add(layers.Conv2D(32, (3, 3), activation='relu', kernel_initializer='he_uniform', input_shape=(28, 28, 1)))\n",
    "model_18.add(layers.MaxPooling2D(pool_size=(2, 2), strides=(2, 2)))\n",
    "model.add(Dropout(0.4))\n",
    "model_18.add(layers.Conv2D(32, (3, 3), activation='relu', kernel_initializer='he_uniform'))\n",
    "model_18.add(layers.MaxPooling2D(pool_size=(2, 2), strides=(2, 2)))\n",
    "model_18.add(layers.Flatten())\n",
    "model_18.add(layers.Dense(64, activation='relu', kernel_initializer='he_uniform'))\n",
    "model_18.add(layers.Dense(32, activation='relu', kernel_initializer='he_uniform'))\n",
    "model.add(Dropout(0.4))\n",
    "model_18.add(layers.Dense(10, activation='softmax'))"
   ]
  },
  {
   "cell_type": "code",
   "execution_count": 43,
   "id": "ps977F84yYgi",
   "metadata": {
    "colab": {
     "base_uri": "https://localhost:8080/"
    },
    "id": "ps977F84yYgi",
    "outputId": "fce932e8-e575-472a-83b6-2efe4d7f1888"
   },
   "outputs": [
    {
     "name": "stdout",
     "output_type": "stream",
     "text": [
      "Epoch 1/10\n",
      "1594/1594 [==============================] - 33s 20ms/step - loss: 0.1825 - accuracy: 0.9413 - val_loss: 0.0612 - val_accuracy: 0.9802\n",
      "Epoch 2/10\n",
      "1594/1594 [==============================] - 32s 20ms/step - loss: 0.0558 - accuracy: 0.9831 - val_loss: 0.0475 - val_accuracy: 0.9861\n",
      "Epoch 3/10\n",
      "1594/1594 [==============================] - 31s 20ms/step - loss: 0.0392 - accuracy: 0.9878 - val_loss: 0.0478 - val_accuracy: 0.9869\n",
      "Epoch 4/10\n",
      "1594/1594 [==============================] - 31s 19ms/step - loss: 0.0303 - accuracy: 0.9904 - val_loss: 0.0490 - val_accuracy: 0.9860\n",
      "Epoch 5/10\n",
      "1594/1594 [==============================] - 30s 19ms/step - loss: 0.0226 - accuracy: 0.9928 - val_loss: 0.0383 - val_accuracy: 0.9894\n",
      "Epoch 6/10\n",
      "1594/1594 [==============================] - 30s 19ms/step - loss: 0.0186 - accuracy: 0.9941 - val_loss: 0.0462 - val_accuracy: 0.9884\n",
      "Epoch 7/10\n",
      "1594/1594 [==============================] - 30s 19ms/step - loss: 0.0140 - accuracy: 0.9957 - val_loss: 0.0434 - val_accuracy: 0.9890\n",
      "Epoch 8/10\n",
      "1594/1594 [==============================] - 29s 18ms/step - loss: 0.0112 - accuracy: 0.9963 - val_loss: 0.0430 - val_accuracy: 0.9894\n",
      "Epoch 9/10\n",
      "1594/1594 [==============================] - 30s 19ms/step - loss: 0.0097 - accuracy: 0.9967 - val_loss: 0.0479 - val_accuracy: 0.9892\n",
      "Epoch 10/10\n",
      "1594/1594 [==============================] - 29s 18ms/step - loss: 0.0091 - accuracy: 0.9972 - val_loss: 0.0558 - val_accuracy: 0.9876\n"
     ]
    }
   ],
   "source": [
    "opt_3 = optimizers.SGD(learning_rate=0.01, momentum=0.9)\n",
    "model_18.compile(optimizer=opt_3, loss='categorical_crossentropy', metrics=['accuracy'])\n",
    "model_18_history = model_18.fit(X_train, y_train, epochs=10, batch_size=32, shuffle=True,validation_data=(X_val, y_val), verbose=1)\n",
    "saved_models.append(model_18)\n",
    "histories.append(model_18_history)"
   ]
  },
  {
   "cell_type": "code",
   "execution_count": 44,
   "id": "Sn4-pa8X0GKh",
   "metadata": {
    "id": "Sn4-pa8X0GKh"
   },
   "outputs": [],
   "source": [
    "model_19 = models.Sequential()\n",
    "model_19.add(layers.Conv2D(32, (3, 3), activation='relu', kernel_initializer='he_uniform', input_shape=(28, 28, 1)))\n",
    "model_19.add(layers.MaxPooling2D(pool_size=(2, 2), strides=(2, 2)))\n",
    "model_19.add(layers.Conv2D(32, (3, 3), activation='relu', kernel_initializer='he_uniform'))\n",
    "model_19.add(layers.MaxPooling2D(pool_size=(2, 2), strides=(2, 2)))\n",
    "model_19.add(Dropout(0.4))\n",
    "model_19.add(layers.Flatten())\n",
    "model_19.add(layers.Dense(64, activation='relu', kernel_initializer='he_uniform'))\n",
    "model_19.add(Dropout(0.4))\n",
    "model_19.add(layers.Dense(32, activation='relu', kernel_initializer='he_uniform'))\n",
    "model_19.add(Dropout(0.4))\n",
    "model_19.add(layers.Dense(10, activation='softmax'))"
   ]
  },
  {
   "cell_type": "code",
   "execution_count": 45,
   "id": "DaSdMeCb0Dq3",
   "metadata": {
    "colab": {
     "base_uri": "https://localhost:8080/"
    },
    "id": "DaSdMeCb0Dq3",
    "outputId": "dd573898-a663-4170-ebf6-df6b0c45b1df"
   },
   "outputs": [
    {
     "name": "stdout",
     "output_type": "stream",
     "text": [
      "Epoch 1/10\n",
      "1594/1594 [==============================] - 32s 19ms/step - loss: 0.7106 - accuracy: 0.7762 - val_loss: 0.1127 - val_accuracy: 0.9716\n",
      "Epoch 2/10\n",
      "1594/1594 [==============================] - 31s 19ms/step - loss: 0.3142 - accuracy: 0.9148 - val_loss: 0.0846 - val_accuracy: 0.9772\n",
      "Epoch 3/10\n",
      "1594/1594 [==============================] - 31s 19ms/step - loss: 0.2516 - accuracy: 0.9333 - val_loss: 0.0856 - val_accuracy: 0.9784\n",
      "Epoch 4/10\n",
      "1594/1594 [==============================] - 31s 20ms/step - loss: 0.2237 - accuracy: 0.9429 - val_loss: 0.0631 - val_accuracy: 0.9829\n",
      "Epoch 5/10\n",
      "1594/1594 [==============================] - 31s 20ms/step - loss: 0.1968 - accuracy: 0.9482 - val_loss: 0.0598 - val_accuracy: 0.9846\n",
      "Epoch 6/10\n",
      "1594/1594 [==============================] - 31s 19ms/step - loss: 0.1807 - accuracy: 0.9530 - val_loss: 0.0600 - val_accuracy: 0.9851\n",
      "Epoch 7/10\n",
      "1594/1594 [==============================] - 31s 20ms/step - loss: 0.1651 - accuracy: 0.9555 - val_loss: 0.0536 - val_accuracy: 0.9871\n",
      "Epoch 8/10\n",
      "1594/1594 [==============================] - 31s 19ms/step - loss: 0.1645 - accuracy: 0.9571 - val_loss: 0.0556 - val_accuracy: 0.9853\n",
      "Epoch 9/10\n",
      "1594/1594 [==============================] - 31s 20ms/step - loss: 0.1500 - accuracy: 0.9606 - val_loss: 0.0512 - val_accuracy: 0.9872\n",
      "Epoch 10/10\n",
      "1594/1594 [==============================] - 31s 19ms/step - loss: 0.1466 - accuracy: 0.9623 - val_loss: 0.0468 - val_accuracy: 0.9858\n"
     ]
    }
   ],
   "source": [
    "opt_3 = optimizers.SGD(learning_rate=0.01, momentum=0.9)\n",
    "model_19.compile(optimizer=opt_3, loss='categorical_crossentropy', metrics=['accuracy'])\n",
    "model_19_history = model_19.fit(X_train, y_train, epochs=10, batch_size=32, shuffle=True,validation_data=(X_val, y_val), verbose=1)\n",
    "saved_models.append(model_19)\n",
    "histories.append(model_19_history)"
   ]
  },
  {
   "cell_type": "code",
   "execution_count": 46,
   "id": "_JEqrY5FTHWF",
   "metadata": {
    "id": "_JEqrY5FTHWF"
   },
   "outputs": [],
   "source": [
    "model_20 = models.Sequential()\n",
    "model_20.add(layers.Conv2D(32, (3, 3), activation='relu', kernel_initializer='he_uniform', input_shape=(28, 28, 1)))\n",
    "model_20.add(layers.MaxPooling2D(pool_size=(2, 2), strides=(2, 2)))\n",
    "model_20.add(Dropout(0.75))\n",
    "model_20.add(layers.Conv2D(32, (3, 3), activation='relu', kernel_initializer='he_uniform'))\n",
    "model_20.add(layers.MaxPooling2D(pool_size=(2, 2), strides=(2, 2)))\n",
    "model_20.add(layers.Flatten())\n",
    "model_20.add(layers.Dense(64, activation='relu', kernel_initializer='he_uniform'))\n",
    "model_20.add(layers.Dense(32, activation='relu', kernel_initializer='he_uniform'))\n",
    "model_20.add(Dropout(0.75))\n",
    "model_20.add(layers.Dense(10, activation='softmax'))"
   ]
  },
  {
   "cell_type": "code",
   "execution_count": 47,
   "id": "u4P8SmskTHSz",
   "metadata": {
    "colab": {
     "base_uri": "https://localhost:8080/"
    },
    "id": "u4P8SmskTHSz",
    "outputId": "8722ebf4-c5ce-4be1-b765-d14b2ade90a5"
   },
   "outputs": [
    {
     "name": "stdout",
     "output_type": "stream",
     "text": [
      "Epoch 1/10\n",
      "1594/1594 [==============================] - 35s 22ms/step - loss: 2.3083 - accuracy: 0.1099 - val_loss: 2.3021 - val_accuracy: 0.1101\n",
      "Epoch 2/10\n",
      "1594/1594 [==============================] - 32s 20ms/step - loss: 2.3019 - accuracy: 0.1120 - val_loss: 2.3017 - val_accuracy: 0.1101\n",
      "Epoch 3/10\n",
      "1594/1594 [==============================] - 34s 21ms/step - loss: 2.3020 - accuracy: 0.1122 - val_loss: 2.3019 - val_accuracy: 0.1101\n",
      "Epoch 4/10\n",
      "1594/1594 [==============================] - 34s 21ms/step - loss: 2.3018 - accuracy: 0.1120 - val_loss: 2.3036 - val_accuracy: 0.1101\n",
      "Epoch 5/10\n",
      "1594/1594 [==============================] - 34s 21ms/step - loss: 2.3020 - accuracy: 0.1108 - val_loss: 2.3021 - val_accuracy: 0.1101\n",
      "Epoch 6/10\n",
      "1594/1594 [==============================] - 35s 22ms/step - loss: 2.3019 - accuracy: 0.1121 - val_loss: 2.3017 - val_accuracy: 0.1101\n",
      "Epoch 7/10\n",
      "1594/1594 [==============================] - 33s 21ms/step - loss: 2.3018 - accuracy: 0.1114 - val_loss: 2.3020 - val_accuracy: 0.1101\n",
      "Epoch 8/10\n",
      "1594/1594 [==============================] - 34s 21ms/step - loss: 2.3017 - accuracy: 0.1125 - val_loss: 2.3024 - val_accuracy: 0.1101\n",
      "Epoch 9/10\n",
      "1594/1594 [==============================] - 35s 22ms/step - loss: 2.3019 - accuracy: 0.1113 - val_loss: 2.3020 - val_accuracy: 0.1101\n",
      "Epoch 10/10\n",
      "1594/1594 [==============================] - 33s 21ms/step - loss: 2.3020 - accuracy: 0.1118 - val_loss: 2.3017 - val_accuracy: 0.1101\n"
     ]
    }
   ],
   "source": [
    "opt_3 = optimizers.SGD(learning_rate=0.01, momentum=0.9)\n",
    "model_20.compile(optimizer=opt_3, loss='categorical_crossentropy', metrics=['accuracy'])\n",
    "model_20_history = model_20.fit(X_train, y_train, epochs=10, batch_size=32, shuffle=True,validation_data=(X_val, y_val), verbose=1)\n",
    "saved_models.append(model_20)\n",
    "histories.append(model_20_history)"
   ]
  },
  {
   "cell_type": "code",
   "execution_count": 48,
   "id": "302P0zoSTGko",
   "metadata": {
    "id": "302P0zoSTGko"
   },
   "outputs": [],
   "source": [
    "model_21 = models.Sequential()\n",
    "model_21.add(layers.Conv2D(32, (3, 3), activation='relu', kernel_initializer='he_uniform', input_shape=(28, 28, 1)))\n",
    "model_21.add(layers.MaxPooling2D(pool_size=(2, 2), strides=(2, 2)))\n",
    "model_21.add(layers.Conv2D(32, (3, 3), activation='relu', kernel_initializer='he_uniform'))\n",
    "model_21.add(layers.MaxPooling2D(pool_size=(2, 2), strides=(2, 2)))\n",
    "model_21.add(Dropout(0.75))\n",
    "model_21.add(layers.Flatten())\n",
    "model_21.add(layers.Dense(64, activation='relu', kernel_initializer='he_uniform'))\n",
    "model_21.add(Dropout(0.75))\n",
    "model_21.add(layers.Dense(32, activation='relu', kernel_initializer='he_uniform'))\n",
    "model_21.add(Dropout(0.75))\n",
    "model_21.add(layers.Dense(10, activation='softmax'))"
   ]
  },
  {
   "cell_type": "code",
   "execution_count": 49,
   "id": "y-kbmEKuTGeN",
   "metadata": {
    "colab": {
     "base_uri": "https://localhost:8080/"
    },
    "id": "y-kbmEKuTGeN",
    "outputId": "0cfb7dd6-7997-43d7-d3bb-aed6ad0e0eda"
   },
   "outputs": [
    {
     "name": "stdout",
     "output_type": "stream",
     "text": [
      "Epoch 1/10\n",
      "1594/1594 [==============================] - 32s 19ms/step - loss: 2.2660 - accuracy: 0.1560 - val_loss: 2.1480 - val_accuracy: 0.2104\n",
      "Epoch 2/10\n",
      "1594/1594 [==============================] - 31s 19ms/step - loss: 2.1103 - accuracy: 0.2335 - val_loss: 1.8052 - val_accuracy: 0.4060\n",
      "Epoch 3/10\n",
      "1594/1594 [==============================] - 32s 20ms/step - loss: 1.9159 - accuracy: 0.3112 - val_loss: 1.3479 - val_accuracy: 0.5923\n",
      "Epoch 4/10\n",
      "1594/1594 [==============================] - 31s 20ms/step - loss: 1.7474 - accuracy: 0.3742 - val_loss: 1.2676 - val_accuracy: 0.5572\n",
      "Epoch 5/10\n",
      "1594/1594 [==============================] - 31s 20ms/step - loss: 1.6839 - accuracy: 0.4070 - val_loss: 1.0103 - val_accuracy: 0.6494\n",
      "Epoch 6/10\n",
      "1594/1594 [==============================] - 30s 19ms/step - loss: 1.6188 - accuracy: 0.4267 - val_loss: 1.0479 - val_accuracy: 0.6204\n",
      "Epoch 7/10\n",
      "1594/1594 [==============================] - 31s 19ms/step - loss: 1.5735 - accuracy: 0.4466 - val_loss: 0.9275 - val_accuracy: 0.6500\n",
      "Epoch 8/10\n",
      "1594/1594 [==============================] - 30s 19ms/step - loss: 1.5376 - accuracy: 0.4633 - val_loss: 0.7590 - val_accuracy: 0.7577\n",
      "Epoch 9/10\n",
      "1594/1594 [==============================] - 31s 19ms/step - loss: 1.5068 - accuracy: 0.4754 - val_loss: 0.7627 - val_accuracy: 0.7777\n",
      "Epoch 10/10\n",
      "1594/1594 [==============================] - 36s 22ms/step - loss: 1.4697 - accuracy: 0.4923 - val_loss: 0.7633 - val_accuracy: 0.7550\n"
     ]
    }
   ],
   "source": [
    "opt_3 = optimizers.SGD(learning_rate=0.01, momentum=0.9)\n",
    "model_21.compile(optimizer=opt_3, loss='categorical_crossentropy', metrics=['accuracy'])\n",
    "model_21_history = model_21.fit(X_train, y_train, epochs=10, batch_size=32, shuffle=True,validation_data=(X_val, y_val), verbose=1)\n",
    "saved_models.append(model_21)\n",
    "histories.append(model_21_history)"
   ]
  },
  {
   "cell_type": "code",
   "execution_count": 50,
   "id": "h9lWSGQ5TGTO",
   "metadata": {
    "colab": {
     "base_uri": "https://localhost:8080/"
    },
    "id": "h9lWSGQ5TGTO",
    "outputId": "fc2154c8-3b65-4a0e-96cc-60201ac5402d"
   },
   "outputs": [
    {
     "name": "stdout",
     "output_type": "stream",
     "text": [
      "313/313 [==============================] - 1s 4ms/step - loss: 0.2747 - accuracy: 0.9218\n",
      "313/313 [==============================] - 1s 4ms/step - loss: 0.2245 - accuracy: 0.9350\n",
      "313/313 [==============================] - 1s 4ms/step - loss: 0.1915 - accuracy: 0.9464\n",
      "313/313 [==============================] - 1s 4ms/step - loss: 0.1254 - accuracy: 0.9810\n",
      "313/313 [==============================] - 1s 4ms/step - loss: 0.0440 - accuracy: 0.9844\n",
      "313/313 [==============================] - 1s 4ms/step - loss: 0.0414 - accuracy: 0.9902\n",
      "313/313 [==============================] - 2s 6ms/step - loss: 0.0405 - accuracy: 0.9901\n",
      "313/313 [==============================] - 1s 3ms/step - loss: 0.1271 - accuracy: 0.9642\n",
      "313/313 [==============================] - 2s 6ms/step - loss: 0.0366 - accuracy: 0.9921\n",
      "313/313 [==============================] - 4s 12ms/step - loss: 0.0565 - accuracy: 0.9861\n",
      "313/313 [==============================] - 2s 6ms/step - loss: 0.0500 - accuracy: 0.9905\n",
      "313/313 [==============================] - 2s 6ms/step - loss: 0.0425 - accuracy: 0.9905\n",
      "313/313 [==============================] - 2s 6ms/step - loss: 0.0929 - accuracy: 0.9728\n",
      "313/313 [==============================] - 2s 7ms/step - loss: 0.0435 - accuracy: 0.9901\n",
      "313/313 [==============================] - 2s 6ms/step - loss: 0.0492 - accuracy: 0.9862\n",
      "313/313 [==============================] - 2s 5ms/step - loss: 0.0890 - accuracy: 0.9771\n",
      "313/313 [==============================] - 2s 6ms/step - loss: 0.1317 - accuracy: 0.9752\n",
      "313/313 [==============================] - 2s 6ms/step - loss: 0.0602 - accuracy: 0.9851\n",
      "313/313 [==============================] - 2s 6ms/step - loss: 0.0430 - accuracy: 0.9877\n",
      "313/313 [==============================] - 2s 6ms/step - loss: 2.3014 - accuracy: 0.1135\n",
      "313/313 [==============================] - 2s 6ms/step - loss: 0.7521 - accuracy: 0.7579\n",
      "model: 9 accuracy: 99.21 %\n"
     ]
    }
   ],
   "source": [
    "best_model, best_model_idx = evaluate_model(saved_models, X_test, y_test)"
   ]
  },
  {
   "cell_type": "markdown",
   "id": "cnDDr4SkRNxI",
   "metadata": {
    "id": "cnDDr4SkRNxI"
   },
   "source": [
    "# Models Summary"
   ]
  },
  {
   "cell_type": "code",
   "execution_count": 51,
   "id": "Duzy_6BTi4ca",
   "metadata": {
    "colab": {
     "base_uri": "https://localhost:8080/"
    },
    "id": "Duzy_6BTi4ca",
    "outputId": "dfd8420e-49f1-48d2-f35e-fec02891f9d0"
   },
   "outputs": [
    {
     "name": "stdout",
     "output_type": "stream",
     "text": [
      "model: 1\n",
      "Model: \"sequential\"\n",
      "_________________________________________________________________\n",
      " Layer (type)                Output Shape              Param #   \n",
      "=================================================================\n",
      " conv2d (Conv2D)             (None, 12, 12, 64)        1664      \n",
      "                                                                 \n",
      " max_pooling2d (MaxPooling2D  (None, 6, 6, 64)         0         \n",
      " )                                                               \n",
      "                                                                 \n",
      " flatten (Flatten)           (None, 2304)              0         \n",
      "                                                                 \n",
      " dense (Dense)               (None, 64)                147520    \n",
      "                                                                 \n",
      " dense_1 (Dense)             (None, 10)                650       \n",
      "                                                                 \n",
      "=================================================================\n",
      "Total params: 149,834\n",
      "Trainable params: 149,834\n",
      "Non-trainable params: 0\n",
      "_________________________________________________________________\n",
      "model: 2\n",
      "Model: \"sequential\"\n",
      "_________________________________________________________________\n",
      " Layer (type)                Output Shape              Param #   \n",
      "=================================================================\n",
      " conv2d (Conv2D)             (None, 12, 12, 64)        1664      \n",
      "                                                                 \n",
      " max_pooling2d (MaxPooling2D  (None, 6, 6, 64)         0         \n",
      " )                                                               \n",
      "                                                                 \n",
      " flatten (Flatten)           (None, 2304)              0         \n",
      "                                                                 \n",
      " dense (Dense)               (None, 64)                147520    \n",
      "                                                                 \n",
      " dense_1 (Dense)             (None, 10)                650       \n",
      "                                                                 \n",
      "=================================================================\n",
      "Total params: 149,834\n",
      "Trainable params: 149,834\n",
      "Non-trainable params: 0\n",
      "_________________________________________________________________\n",
      "model: 3\n",
      "Model: \"sequential\"\n",
      "_________________________________________________________________\n",
      " Layer (type)                Output Shape              Param #   \n",
      "=================================================================\n",
      " conv2d (Conv2D)             (None, 12, 12, 64)        1664      \n",
      "                                                                 \n",
      " max_pooling2d (MaxPooling2D  (None, 6, 6, 64)         0         \n",
      " )                                                               \n",
      "                                                                 \n",
      " flatten (Flatten)           (None, 2304)              0         \n",
      "                                                                 \n",
      " dense (Dense)               (None, 64)                147520    \n",
      "                                                                 \n",
      " dense_1 (Dense)             (None, 10)                650       \n",
      "                                                                 \n",
      "=================================================================\n",
      "Total params: 149,834\n",
      "Trainable params: 149,834\n",
      "Non-trainable params: 0\n",
      "_________________________________________________________________\n",
      "model: 4\n",
      "Model: \"sequential\"\n",
      "_________________________________________________________________\n",
      " Layer (type)                Output Shape              Param #   \n",
      "=================================================================\n",
      " conv2d (Conv2D)             (None, 12, 12, 64)        1664      \n",
      "                                                                 \n",
      " max_pooling2d (MaxPooling2D  (None, 6, 6, 64)         0         \n",
      " )                                                               \n",
      "                                                                 \n",
      " flatten (Flatten)           (None, 2304)              0         \n",
      "                                                                 \n",
      " dense (Dense)               (None, 64)                147520    \n",
      "                                                                 \n",
      " dense_1 (Dense)             (None, 10)                650       \n",
      "                                                                 \n",
      "=================================================================\n",
      "Total params: 149,834\n",
      "Trainable params: 149,834\n",
      "Non-trainable params: 0\n",
      "_________________________________________________________________\n",
      "model: 5\n",
      "Model: \"sequential\"\n",
      "_________________________________________________________________\n",
      " Layer (type)                Output Shape              Param #   \n",
      "=================================================================\n",
      " conv2d (Conv2D)             (None, 12, 12, 64)        1664      \n",
      "                                                                 \n",
      " max_pooling2d (MaxPooling2D  (None, 6, 6, 64)         0         \n",
      " )                                                               \n",
      "                                                                 \n",
      " flatten (Flatten)           (None, 2304)              0         \n",
      "                                                                 \n",
      " dense (Dense)               (None, 64)                147520    \n",
      "                                                                 \n",
      " dense_1 (Dense)             (None, 10)                650       \n",
      "                                                                 \n",
      "=================================================================\n",
      "Total params: 149,834\n",
      "Trainable params: 149,834\n",
      "Non-trainable params: 0\n",
      "_________________________________________________________________\n",
      "model: 6\n",
      "Model: \"sequential\"\n",
      "_________________________________________________________________\n",
      " Layer (type)                Output Shape              Param #   \n",
      "=================================================================\n",
      " conv2d (Conv2D)             (None, 12, 12, 64)        1664      \n",
      "                                                                 \n",
      " max_pooling2d (MaxPooling2D  (None, 6, 6, 64)         0         \n",
      " )                                                               \n",
      "                                                                 \n",
      " flatten (Flatten)           (None, 2304)              0         \n",
      "                                                                 \n",
      " dense (Dense)               (None, 64)                147520    \n",
      "                                                                 \n",
      " dense_1 (Dense)             (None, 10)                650       \n",
      "                                                                 \n",
      "=================================================================\n",
      "Total params: 149,834\n",
      "Trainable params: 149,834\n",
      "Non-trainable params: 0\n",
      "_________________________________________________________________\n",
      "model: 7\n",
      "Model: \"sequential_1\"\n",
      "_________________________________________________________________\n",
      " Layer (type)                Output Shape              Param #   \n",
      "=================================================================\n",
      " conv2d_1 (Conv2D)           (None, 26, 26, 32)        320       \n",
      "                                                                 \n",
      " max_pooling2d_1 (MaxPooling  (None, 13, 13, 32)       0         \n",
      " 2D)                                                             \n",
      "                                                                 \n",
      " conv2d_2 (Conv2D)           (None, 11, 11, 32)        9248      \n",
      "                                                                 \n",
      " max_pooling2d_2 (MaxPooling  (None, 5, 5, 32)         0         \n",
      " 2D)                                                             \n",
      "                                                                 \n",
      " flatten_1 (Flatten)         (None, 800)               0         \n",
      "                                                                 \n",
      " dense_2 (Dense)             (None, 64)                51264     \n",
      "                                                                 \n",
      " dense_3 (Dense)             (None, 32)                2080      \n",
      "                                                                 \n"
     ]
    },
    {
     "name": "stdout",
     "output_type": "stream",
     "text": [
      " dense_4 (Dense)             (None, 10)                330       \n",
      "                                                                 \n",
      "=================================================================\n",
      "Total params: 63,242\n",
      "Trainable params: 63,242\n",
      "Non-trainable params: 0\n",
      "_________________________________________________________________\n",
      "model: 8\n",
      "Model: \"sequential_2\"\n",
      "_________________________________________________________________\n",
      " Layer (type)                Output Shape              Param #   \n",
      "=================================================================\n",
      " conv2d_3 (Conv2D)           (None, 13, 13, 16)        160       \n",
      "                                                                 \n",
      " max_pooling2d_3 (MaxPooling  (None, 6, 6, 16)         0         \n",
      " 2D)                                                             \n",
      "                                                                 \n",
      " conv2d_4 (Conv2D)           (None, 2, 2, 32)          4640      \n",
      "                                                                 \n",
      " max_pooling2d_4 (MaxPooling  (None, 1, 1, 32)         0         \n",
      " 2D)                                                             \n",
      "                                                                 \n",
      " flatten_2 (Flatten)         (None, 32)                0         \n",
      "                                                                 \n",
      " dense_5 (Dense)             (None, 64)                2112      \n",
      "                                                                 \n",
      " dense_6 (Dense)             (None, 32)                2080      \n",
      "                                                                 \n",
      " dense_7 (Dense)             (None, 10)                330       \n",
      "                                                                 \n",
      "=================================================================\n",
      "Total params: 9,322\n",
      "Trainable params: 9,322\n",
      "Non-trainable params: 0\n",
      "_________________________________________________________________\n",
      "model: 9\n",
      "Model: \"sequential_3\"\n",
      "_________________________________________________________________\n",
      " Layer (type)                Output Shape              Param #   \n",
      "=================================================================\n",
      " conv2d_5 (Conv2D)           (None, 26, 26, 32)        320       \n",
      "                                                                 \n",
      " max_pooling2d_5 (MaxPooling  (None, 13, 13, 32)       0         \n",
      " 2D)                                                             \n",
      "                                                                 \n",
      " conv2d_6 (Conv2D)           (None, 9, 9, 32)          25632     \n",
      "                                                                 \n",
      " max_pooling2d_6 (MaxPooling  (None, 4, 4, 32)         0         \n",
      " 2D)                                                             \n",
      "                                                                 \n",
      " flatten_3 (Flatten)         (None, 512)               0         \n",
      "                                                                 \n",
      " dense_8 (Dense)             (None, 32)                16416     \n",
      "                                                                 \n",
      " dense_9 (Dense)             (None, 10)                330       \n",
      "                                                                 \n",
      "=================================================================\n",
      "Total params: 42,698\n",
      "Trainable params: 42,698\n",
      "Non-trainable params: 0\n",
      "_________________________________________________________________\n",
      "model: 10\n",
      "Model: \"sequential_4\"\n",
      "_________________________________________________________________\n",
      " Layer (type)                Output Shape              Param #   \n",
      "=================================================================\n",
      " conv2d_7 (Conv2D)           (None, 26, 26, 128)       1280      \n",
      "                                                                 \n",
      " max_pooling2d_7 (MaxPooling  (None, 13, 13, 128)      0         \n",
      " 2D)                                                             \n",
      "                                                                 \n",
      " flatten_4 (Flatten)         (None, 21632)             0         \n",
      "                                                                 \n",
      " dense_10 (Dense)            (None, 32)                692256    \n",
      "                                                                 \n",
      " dense_11 (Dense)            (None, 10)                330       \n",
      "                                                                 \n",
      "=================================================================\n",
      "Total params: 693,866\n",
      "Trainable params: 693,866\n",
      "Non-trainable params: 0\n",
      "_________________________________________________________________\n",
      "model: 11\n",
      "Model: \"sequential_3\"\n",
      "_________________________________________________________________\n",
      " Layer (type)                Output Shape              Param #   \n",
      "=================================================================\n",
      " conv2d_5 (Conv2D)           (None, 26, 26, 32)        320       \n",
      "                                                                 \n",
      " max_pooling2d_5 (MaxPooling  (None, 13, 13, 32)       0         \n",
      " 2D)                                                             \n",
      "                                                                 \n",
      " conv2d_6 (Conv2D)           (None, 9, 9, 32)          25632     \n",
      "                                                                 \n",
      " max_pooling2d_6 (MaxPooling  (None, 4, 4, 32)         0         \n",
      " 2D)                                                             \n",
      "                                                                 \n",
      " flatten_3 (Flatten)         (None, 512)               0         \n",
      "                                                                 \n",
      " dense_8 (Dense)             (None, 32)                16416     \n",
      "                                                                 \n",
      " dense_9 (Dense)             (None, 10)                330       \n",
      "                                                                 \n",
      "=================================================================\n",
      "Total params: 42,698\n",
      "Trainable params: 42,698\n",
      "Non-trainable params: 0\n",
      "_________________________________________________________________\n",
      "model: 12\n",
      "Model: \"sequential_3\"\n",
      "_________________________________________________________________\n",
      " Layer (type)                Output Shape              Param #   \n",
      "=================================================================\n",
      " conv2d_5 (Conv2D)           (None, 26, 26, 32)        320       \n",
      "                                                                 \n",
      " max_pooling2d_5 (MaxPooling  (None, 13, 13, 32)       0         \n",
      " 2D)                                                             \n",
      "                                                                 \n",
      " conv2d_6 (Conv2D)           (None, 9, 9, 32)          25632     \n",
      "                                                                 \n",
      " max_pooling2d_6 (MaxPooling  (None, 4, 4, 32)         0         \n",
      " 2D)                                                             \n",
      "                                                                 \n",
      " flatten_3 (Flatten)         (None, 512)               0         \n",
      "                                                                 \n",
      " dense_8 (Dense)             (None, 32)                16416     \n",
      "                                                                 \n",
      " dense_9 (Dense)             (None, 10)                330       \n",
      "                                                                 \n",
      "=================================================================\n",
      "Total params: 42,698\n",
      "Trainable params: 42,698\n",
      "Non-trainable params: 0\n",
      "_________________________________________________________________\n",
      "model: 13\n",
      "Model: \"sequential_5\"\n",
      "_________________________________________________________________\n",
      " Layer (type)                Output Shape              Param #   \n",
      "=================================================================\n",
      " conv2d_8 (Conv2D)           (None, 26, 26, 32)        320       \n",
      "                                                                 \n",
      " max_pooling2d_8 (MaxPooling  (None, 13, 13, 32)       0         \n",
      " 2D)                                                             \n",
      "                                                                 \n",
      " conv2d_9 (Conv2D)           (None, 11, 11, 32)        9248      \n"
     ]
    },
    {
     "name": "stdout",
     "output_type": "stream",
     "text": [
      "                                                                 \n",
      " max_pooling2d_9 (MaxPooling  (None, 5, 5, 32)         0         \n",
      " 2D)                                                             \n",
      "                                                                 \n",
      " flatten_5 (Flatten)         (None, 800)               0         \n",
      "                                                                 \n",
      " dense_12 (Dense)            (None, 64)                51264     \n",
      "                                                                 \n",
      " dense_13 (Dense)            (None, 32)                2080      \n",
      "                                                                 \n",
      " dense_14 (Dense)            (None, 10)                330       \n",
      "                                                                 \n",
      "=================================================================\n",
      "Total params: 63,242\n",
      "Trainable params: 63,242\n",
      "Non-trainable params: 0\n",
      "_________________________________________________________________\n",
      "model: 14\n",
      "Model: \"sequential_6\"\n",
      "_________________________________________________________________\n",
      " Layer (type)                Output Shape              Param #   \n",
      "=================================================================\n",
      " conv2d_10 (Conv2D)          (None, 26, 26, 32)        320       \n",
      "                                                                 \n",
      " max_pooling2d_10 (MaxPoolin  (None, 13, 13, 32)       0         \n",
      " g2D)                                                            \n",
      "                                                                 \n",
      " conv2d_11 (Conv2D)          (None, 11, 11, 32)        9248      \n",
      "                                                                 \n",
      " max_pooling2d_11 (MaxPoolin  (None, 5, 5, 32)         0         \n",
      " g2D)                                                            \n",
      "                                                                 \n",
      " flatten_6 (Flatten)         (None, 800)               0         \n",
      "                                                                 \n",
      " dense_15 (Dense)            (None, 64)                51264     \n",
      "                                                                 \n",
      " dense_16 (Dense)            (None, 32)                2080      \n",
      "                                                                 \n",
      " dense_17 (Dense)            (None, 10)                330       \n",
      "                                                                 \n",
      "=================================================================\n",
      "Total params: 63,242\n",
      "Trainable params: 63,242\n",
      "Non-trainable params: 0\n",
      "_________________________________________________________________\n",
      "model: 15\n",
      "Model: \"sequential_7\"\n",
      "_________________________________________________________________\n",
      " Layer (type)                Output Shape              Param #   \n",
      "=================================================================\n",
      " conv2d_12 (Conv2D)          (None, 26, 26, 32)        320       \n",
      "                                                                 \n",
      " leaky_re_lu (LeakyReLU)     (None, 26, 26, 32)        0         \n",
      "                                                                 \n",
      " max_pooling2d_12 (MaxPoolin  (None, 13, 13, 32)       0         \n",
      " g2D)                                                            \n",
      "                                                                 \n",
      " conv2d_13 (Conv2D)          (None, 11, 11, 32)        9248      \n",
      "                                                                 \n",
      " leaky_re_lu_1 (LeakyReLU)   (None, 11, 11, 32)        0         \n",
      "                                                                 \n",
      " max_pooling2d_13 (MaxPoolin  (None, 5, 5, 32)         0         \n",
      " g2D)                                                            \n",
      "                                                                 \n",
      " flatten_7 (Flatten)         (None, 800)               0         \n",
      "                                                                 \n",
      " dense_18 (Dense)            (None, 64)                51264     \n",
      "                                                                 \n",
      " leaky_re_lu_2 (LeakyReLU)   (None, 64)                0         \n",
      "                                                                 \n",
      " dense_19 (Dense)            (None, 32)                2080      \n",
      "                                                                 \n",
      " leaky_re_lu_3 (LeakyReLU)   (None, 32)                0         \n",
      "                                                                 \n",
      " dense_20 (Dense)            (None, 10)                330       \n",
      "                                                                 \n",
      "=================================================================\n",
      "Total params: 63,242\n",
      "Trainable params: 63,242\n",
      "Non-trainable params: 0\n",
      "_________________________________________________________________\n",
      "model: 16\n",
      "Model: \"sequential_3\"\n",
      "_________________________________________________________________\n",
      " Layer (type)                Output Shape              Param #   \n",
      "=================================================================\n",
      " conv2d_5 (Conv2D)           (None, 26, 26, 32)        320       \n",
      "                                                                 \n",
      " max_pooling2d_5 (MaxPooling  (None, 13, 13, 32)       0         \n",
      " 2D)                                                             \n",
      "                                                                 \n",
      " conv2d_6 (Conv2D)           (None, 9, 9, 32)          25632     \n",
      "                                                                 \n",
      " max_pooling2d_6 (MaxPooling  (None, 4, 4, 32)         0         \n",
      " 2D)                                                             \n",
      "                                                                 \n",
      " flatten_3 (Flatten)         (None, 512)               0         \n",
      "                                                                 \n",
      " dense_8 (Dense)             (None, 32)                16416     \n",
      "                                                                 \n",
      " dense_9 (Dense)             (None, 10)                330       \n",
      "                                                                 \n",
      "=================================================================\n",
      "Total params: 42,698\n",
      "Trainable params: 42,698\n",
      "Non-trainable params: 0\n",
      "_________________________________________________________________\n",
      "model: 17\n",
      "Model: \"sequential_3\"\n",
      "_________________________________________________________________\n",
      " Layer (type)                Output Shape              Param #   \n",
      "=================================================================\n",
      " conv2d_5 (Conv2D)           (None, 26, 26, 32)        320       \n",
      "                                                                 \n",
      " max_pooling2d_5 (MaxPooling  (None, 13, 13, 32)       0         \n",
      " 2D)                                                             \n",
      "                                                                 \n",
      " conv2d_6 (Conv2D)           (None, 9, 9, 32)          25632     \n",
      "                                                                 \n",
      " max_pooling2d_6 (MaxPooling  (None, 4, 4, 32)         0         \n",
      " 2D)                                                             \n",
      "                                                                 \n",
      " flatten_3 (Flatten)         (None, 512)               0         \n",
      "                                                                 \n",
      " dense_8 (Dense)             (None, 32)                16416     \n",
      "                                                                 \n",
      " dense_9 (Dense)             (None, 10)                330       \n",
      "                                                                 \n",
      "=================================================================\n",
      "Total params: 42,698\n",
      "Trainable params: 42,698\n",
      "Non-trainable params: 0\n",
      "_________________________________________________________________\n",
      "model: 18\n",
      "Model: \"sequential_8\"\n",
      "_________________________________________________________________\n",
      " Layer (type)                Output Shape              Param #   \n",
      "=================================================================\n",
      " conv2d_14 (Conv2D)          (None, 26, 26, 32)        320       \n",
      "                                                                 \n",
      " max_pooling2d_14 (MaxPoolin  (None, 13, 13, 32)       0         \n",
      " g2D)                                                            \n"
     ]
    },
    {
     "name": "stdout",
     "output_type": "stream",
     "text": [
      "                                                                 \n",
      " conv2d_15 (Conv2D)          (None, 11, 11, 32)        9248      \n",
      "                                                                 \n",
      " max_pooling2d_15 (MaxPoolin  (None, 5, 5, 32)         0         \n",
      " g2D)                                                            \n",
      "                                                                 \n",
      " flatten_8 (Flatten)         (None, 800)               0         \n",
      "                                                                 \n",
      " dense_21 (Dense)            (None, 64)                51264     \n",
      "                                                                 \n",
      " dense_22 (Dense)            (None, 32)                2080      \n",
      "                                                                 \n",
      " dense_23 (Dense)            (None, 10)                330       \n",
      "                                                                 \n",
      "=================================================================\n",
      "Total params: 63,242\n",
      "Trainable params: 63,242\n",
      "Non-trainable params: 0\n",
      "_________________________________________________________________\n",
      "model: 19\n",
      "Model: \"sequential_9\"\n",
      "_________________________________________________________________\n",
      " Layer (type)                Output Shape              Param #   \n",
      "=================================================================\n",
      " conv2d_16 (Conv2D)          (None, 26, 26, 32)        320       \n",
      "                                                                 \n",
      " max_pooling2d_16 (MaxPoolin  (None, 13, 13, 32)       0         \n",
      " g2D)                                                            \n",
      "                                                                 \n",
      " conv2d_17 (Conv2D)          (None, 11, 11, 32)        9248      \n",
      "                                                                 \n",
      " max_pooling2d_17 (MaxPoolin  (None, 5, 5, 32)         0         \n",
      " g2D)                                                            \n",
      "                                                                 \n",
      " dropout_2 (Dropout)         (None, 5, 5, 32)          0         \n",
      "                                                                 \n",
      " flatten_9 (Flatten)         (None, 800)               0         \n",
      "                                                                 \n",
      " dense_24 (Dense)            (None, 64)                51264     \n",
      "                                                                 \n",
      " dropout_3 (Dropout)         (None, 64)                0         \n",
      "                                                                 \n",
      " dense_25 (Dense)            (None, 32)                2080      \n",
      "                                                                 \n",
      " dropout_4 (Dropout)         (None, 32)                0         \n",
      "                                                                 \n",
      " dense_26 (Dense)            (None, 10)                330       \n",
      "                                                                 \n",
      "=================================================================\n",
      "Total params: 63,242\n",
      "Trainable params: 63,242\n",
      "Non-trainable params: 0\n",
      "_________________________________________________________________\n",
      "model: 20\n",
      "Model: \"sequential_10\"\n",
      "_________________________________________________________________\n",
      " Layer (type)                Output Shape              Param #   \n",
      "=================================================================\n",
      " conv2d_18 (Conv2D)          (None, 26, 26, 32)        320       \n",
      "                                                                 \n",
      " max_pooling2d_18 (MaxPoolin  (None, 13, 13, 32)       0         \n",
      " g2D)                                                            \n",
      "                                                                 \n",
      " dropout_5 (Dropout)         (None, 13, 13, 32)        0         \n",
      "                                                                 \n",
      " conv2d_19 (Conv2D)          (None, 11, 11, 32)        9248      \n",
      "                                                                 \n",
      " max_pooling2d_19 (MaxPoolin  (None, 5, 5, 32)         0         \n",
      " g2D)                                                            \n",
      "                                                                 \n",
      " flatten_10 (Flatten)        (None, 800)               0         \n",
      "                                                                 \n",
      " dense_27 (Dense)            (None, 64)                51264     \n",
      "                                                                 \n",
      " dense_28 (Dense)            (None, 32)                2080      \n",
      "                                                                 \n",
      " dropout_6 (Dropout)         (None, 32)                0         \n",
      "                                                                 \n",
      " dense_29 (Dense)            (None, 10)                330       \n",
      "                                                                 \n",
      "=================================================================\n",
      "Total params: 63,242\n",
      "Trainable params: 63,242\n",
      "Non-trainable params: 0\n",
      "_________________________________________________________________\n",
      "model: 21\n",
      "Model: \"sequential_11\"\n",
      "_________________________________________________________________\n",
      " Layer (type)                Output Shape              Param #   \n",
      "=================================================================\n",
      " conv2d_20 (Conv2D)          (None, 26, 26, 32)        320       \n",
      "                                                                 \n",
      " max_pooling2d_20 (MaxPoolin  (None, 13, 13, 32)       0         \n",
      " g2D)                                                            \n",
      "                                                                 \n",
      " conv2d_21 (Conv2D)          (None, 11, 11, 32)        9248      \n",
      "                                                                 \n",
      " max_pooling2d_21 (MaxPoolin  (None, 5, 5, 32)         0         \n",
      " g2D)                                                            \n",
      "                                                                 \n",
      " dropout_7 (Dropout)         (None, 5, 5, 32)          0         \n",
      "                                                                 \n",
      " flatten_11 (Flatten)        (None, 800)               0         \n",
      "                                                                 \n",
      " dense_30 (Dense)            (None, 64)                51264     \n",
      "                                                                 \n",
      " dropout_8 (Dropout)         (None, 64)                0         \n",
      "                                                                 \n",
      " dense_31 (Dense)            (None, 32)                2080      \n",
      "                                                                 \n",
      " dropout_9 (Dropout)         (None, 32)                0         \n",
      "                                                                 \n",
      " dense_32 (Dense)            (None, 10)                330       \n",
      "                                                                 \n",
      "=================================================================\n",
      "Total params: 63,242\n",
      "Trainable params: 63,242\n",
      "Non-trainable params: 0\n",
      "_________________________________________________________________\n"
     ]
    }
   ],
   "source": [
    "summaries(saved_models)"
   ]
  },
  {
   "cell_type": "code",
   "execution_count": 52,
   "id": "10GdxhZwr1kE",
   "metadata": {
    "colab": {
     "base_uri": "https://localhost:8080/",
     "height": 324
    },
    "id": "10GdxhZwr1kE",
    "outputId": "1a37eec7-af75-4049-a7e8-1108b8ce8245"
   },
   "outputs": [
    {
     "data": {
      "image/png": "[encoded data removed]",
      "text/plain": [
       "<Figure size 576x360 with 1 Axes>"
      ]
     },
     "metadata": {
      "needs_background": "light"
     },
     "output_type": "display_data"
    }
   ],
   "source": [
    "import pandas as pd\n",
    "\n",
    "pd.DataFrame(histories[best_model_idx].history).plot(figsize=(8, 5))\n",
    "plt.grid(True)\n",
    "plt.gca().set_ylim(0, 1)\n",
    "\n",
    "plt.show()"
   ]
  },
  {
   "cell_type": "markdown",
   "id": "L2r1-Hq0Wf2z",
   "metadata": {
    "id": "L2r1-Hq0Wf2z"
   },
   "source": [
    "Summary of our best model, model 9 <br>\n",
    "number of epochs is 20 <br>\n",
    "size of batch is 32 <br>\n",
    "stochastic SGD with a learning rate of 0.1 and a momentum of 0.9 <br>\n",
    "we used ReLU as our activation fucntion in all the layers except for the outplut layer wher we used a softmax activation function <br>\n",
    "our architecture is as follow: <br>\n",
    "our first conc layer was 32 filters of size 3x3 followed by a max pool layer <br>\n",
    "the second conv layer is 32 filters of size 5x5 also followed by a max pool layer <br>\n",
    "we chose 1 FC layer consisting of 32 neurons followed by an output layer.\n",
    "\n"
   ]
  }
 ],
 "metadata": {
  "colab": {
   "collapsed_sections": [
    "8_zCodYOt9Kd",
    "oXfn9o7xuijs",
    "3J8hwjmlCxtp",
    "14UIOoXWzq_P",
    "1DOv_IDKZ1-G",
    "pSu91m-_bCB-",
    "MJG73eMssu2y",
    "dF9wUeZKyUrV"
   ],
   "include_colab_link": true,
   "name": "CNN.ipynb",
   "provenance": []
  },
  "kernelspec": {
   "display_name": "Python 3 (ipykernel)",
   "language": "python",
   "name": "python3"
  },
  "language_info": {
   "codemirror_mode": {
    "name": "ipython",
    "version": 3
   },
   "file_extension": ".py",
   "mimetype": "text/x-python",
   "name": "python",
   "nbconvert_exporter": "python",
   "pygments_lexer": "ipython3",
   "version": "3.9.7"
  }
 },
 "nbformat": 4,
 "nbformat_minor": 5
}
