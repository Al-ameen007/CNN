{
  "cells": [
    {
      "cell_type": "markdown",
      "source": [
        "#Importing the data and some preprocessing"
      ],
      "metadata": {
        "id": "8_zCodYOt9Kd"
      },
      "id": "8_zCodYOt9Kd"
    },
    {
      "cell_type": "code",
      "execution_count": 1,
      "id": "794a1cd9",
      "metadata": {
        "id": "794a1cd9"
      },
      "outputs": [],
      "source": [
        "import numpy as np\n",
        "from matplotlib import pyplot as plt\n",
        "import tensorflow\n",
        "from tensorflow import keras"
      ]
    },
    {
      "cell_type": "code",
      "execution_count": 2,
      "id": "1fee0949",
      "metadata": {
        "id": "1fee0949",
        "colab": {
          "base_uri": "https://localhost:8080/"
        },
        "outputId": "7b550c1b-fb6a-47f1-9076-8ef586e871f6"
      },
      "outputs": [
        {
          "output_type": "stream",
          "name": "stdout",
          "text": [
            "Downloading data from https://storage.googleapis.com/tensorflow/tf-keras-datasets/mnist.npz\n",
            "11493376/11490434 [==============================] - 0s 0us/step\n",
            "11501568/11490434 [==============================] - 0s 0us/step\n"
          ]
        }
      ],
      "source": [
        "from tensorflow.keras.datasets import mnist\n",
        "(X_train, y_train), (X_test, y_test) = mnist.load_data()"
      ]
    },
    {
      "cell_type": "code",
      "execution_count": 3,
      "id": "66db5679",
      "metadata": {
        "id": "66db5679"
      },
      "outputs": [],
      "source": [
        "# Normalizing the data and one-hot encoding the labels\n",
        "from tensorflow.keras.utils import to_categorical\n",
        "X_train = X_train.astype('float32') / 255.0\n",
        "X_test = X_test.astype('float32') / 255.0\n",
        "y_train = to_categorical(y_train)\n",
        "y_test = to_categorical(y_test)"
      ]
    },
    {
      "cell_type": "code",
      "execution_count": 4,
      "id": "c506d3b4",
      "metadata": {
        "id": "c506d3b4"
      },
      "outputs": [],
      "source": [
        "# Splitting the data into training and validation sets as we want to save the test set for the evaluation of the best model\n",
        "from sklearn.model_selection import train_test_split\n",
        "X_train, X_val, y_train, y_val = train_test_split(X_train, y_train, test_size=0.15, random_state=42)"
      ]
    },
    {
      "cell_type": "code",
      "execution_count": 5,
      "id": "24e242ff",
      "metadata": {
        "id": "24e242ff"
      },
      "outputs": [],
      "source": [
        "from keras import models\n",
        "from keras import layers\n",
        "from tensorflow.keras import optimizers"
      ]
    },
    {
      "cell_type": "code",
      "source": [
        "saved_models = []\n",
        "accuracies = []"
      ],
      "metadata": {
        "id": "w09_wooZP5os"
      },
      "id": "w09_wooZP5os",
      "execution_count": 6,
      "outputs": []
    },
    {
      "cell_type": "markdown",
      "source": [
        "#Base Model"
      ],
      "metadata": {
        "id": "oXfn9o7xuijs"
      },
      "id": "oXfn9o7xuijs"
    },
    {
      "cell_type": "code",
      "execution_count": 7,
      "id": "46791caf",
      "metadata": {
        "id": "46791caf"
      },
      "outputs": [],
      "source": [
        "model = models.Sequential()\n",
        "model.add(layers.Conv2D(64, (5, 5), strides=(2, 2),activation='relu', kernel_initializer='truncated_normal', input_shape=(28, 28, 1)))\n",
        "model.add(layers.MaxPooling2D(pool_size=(2, 2), strides=(2, 2)))\n",
        "model.add(layers.Flatten())\n",
        "model.add(layers.Dense(64, activation='relu', kernel_initializer='he_uniform'))\n",
        "model.add(layers.Dense(10, activation='softmax'))"
      ]
    },
    {
      "cell_type": "markdown",
      "source": [
        "#Trying different learning rates"
      ],
      "metadata": {
        "id": "14UIOoXWzq_P"
      },
      "id": "14UIOoXWzq_P"
    },
    {
      "cell_type": "code",
      "source": [
        "model_1 = keras.models.clone_model(model)\n",
        "opt_1 = optimizers.SGD(learning_rate=0.05, momentum=0.9)\n",
        "model_1.compile(optimizer=opt_1, loss='categorical_crossentropy', metrics=['accuracy'])\n",
        "history = model_1.fit(X_train, y_train, epochs=10, batch_size=32, shuffle=True,validation_data=(X_val, y_val), verbose=1)\n",
        "saved_models.append(model_1)"
      ],
      "metadata": {
        "colab": {
          "base_uri": "https://localhost:8080/"
        },
        "id": "inBcvI_-uvbt",
        "outputId": "5a781c31-b339-44e8-c11a-85158192bfff"
      },
      "id": "inBcvI_-uvbt",
      "execution_count": 8,
      "outputs": [
        {
          "output_type": "stream",
          "name": "stdout",
          "text": [
            "Epoch 1/10\n",
            "1594/1594 [==============================] - 21s 13ms/step - loss: 0.1571 - accuracy: 0.9514 - val_loss: 0.0829 - val_accuracy: 0.9754\n",
            "Epoch 2/10\n",
            "1594/1594 [==============================] - 13s 8ms/step - loss: 0.0604 - accuracy: 0.9812 - val_loss: 0.0810 - val_accuracy: 0.9760\n",
            "Epoch 3/10\n",
            "1594/1594 [==============================] - 13s 8ms/step - loss: 0.0418 - accuracy: 0.9868 - val_loss: 0.0575 - val_accuracy: 0.9830\n",
            "Epoch 4/10\n",
            "1594/1594 [==============================] - 13s 8ms/step - loss: 0.0351 - accuracy: 0.9890 - val_loss: 0.0456 - val_accuracy: 0.9874\n",
            "Epoch 5/10\n",
            "1594/1594 [==============================] - 13s 8ms/step - loss: 0.0254 - accuracy: 0.9915 - val_loss: 0.0634 - val_accuracy: 0.9849\n",
            "Epoch 6/10\n",
            "1594/1594 [==============================] - 13s 8ms/step - loss: 0.0233 - accuracy: 0.9928 - val_loss: 0.0554 - val_accuracy: 0.9863\n",
            "Epoch 7/10\n",
            "1594/1594 [==============================] - 13s 8ms/step - loss: 0.0176 - accuracy: 0.9944 - val_loss: 0.0776 - val_accuracy: 0.9848\n",
            "Epoch 8/10\n",
            "1594/1594 [==============================] - 14s 8ms/step - loss: 0.0160 - accuracy: 0.9949 - val_loss: 0.0611 - val_accuracy: 0.9858\n",
            "Epoch 9/10\n",
            "1594/1594 [==============================] - 13s 8ms/step - loss: 0.0161 - accuracy: 0.9946 - val_loss: 0.0737 - val_accuracy: 0.9841\n",
            "Epoch 10/10\n",
            "1594/1594 [==============================] - 14s 9ms/step - loss: 0.0185 - accuracy: 0.9937 - val_loss: 0.0715 - val_accuracy: 0.9840\n"
          ]
        }
      ]
    },
    {
      "cell_type": "code",
      "execution_count": 9,
      "id": "25816a3d",
      "metadata": {
        "colab": {
          "base_uri": "https://localhost:8080/"
        },
        "id": "25816a3d",
        "outputId": "0238dbb0-5ac5-49f2-c5bc-ef5442ef4d15"
      },
      "outputs": [
        {
          "output_type": "stream",
          "name": "stdout",
          "text": [
            "Epoch 1/10\n",
            "1594/1594 [==============================] - 14s 9ms/step - loss: 0.6820 - accuracy: 0.8164 - val_loss: 0.2993 - val_accuracy: 0.9141\n",
            "Epoch 2/10\n",
            "1594/1594 [==============================] - 13s 8ms/step - loss: 0.2604 - accuracy: 0.9233 - val_loss: 0.2097 - val_accuracy: 0.9409\n",
            "Epoch 3/10\n",
            "1594/1594 [==============================] - 13s 8ms/step - loss: 0.1893 - accuracy: 0.9458 - val_loss: 0.1576 - val_accuracy: 0.9561\n",
            "Epoch 4/10\n",
            "1594/1594 [==============================] - 14s 8ms/step - loss: 0.1461 - accuracy: 0.9582 - val_loss: 0.1311 - val_accuracy: 0.9632\n",
            "Epoch 5/10\n",
            "1594/1594 [==============================] - 15s 9ms/step - loss: 0.1188 - accuracy: 0.9656 - val_loss: 0.1057 - val_accuracy: 0.9699\n",
            "Epoch 6/10\n",
            "1594/1594 [==============================] - 15s 9ms/step - loss: 0.1020 - accuracy: 0.9706 - val_loss: 0.0932 - val_accuracy: 0.9738\n",
            "Epoch 7/10\n",
            "1594/1594 [==============================] - 15s 9ms/step - loss: 0.0889 - accuracy: 0.9741 - val_loss: 0.0832 - val_accuracy: 0.9766\n",
            "Epoch 8/10\n",
            "1594/1594 [==============================] - 15s 9ms/step - loss: 0.0797 - accuracy: 0.9770 - val_loss: 0.0746 - val_accuracy: 0.9797\n",
            "Epoch 9/10\n",
            "1594/1594 [==============================] - 15s 9ms/step - loss: 0.0720 - accuracy: 0.9797 - val_loss: 0.0698 - val_accuracy: 0.9821\n",
            "Epoch 10/10\n",
            "1594/1594 [==============================] - 15s 9ms/step - loss: 0.0658 - accuracy: 0.9813 - val_loss: 0.0711 - val_accuracy: 0.9816\n"
          ]
        }
      ],
      "source": [
        "model_2 = keras.models.clone_model(model)\n",
        "opt_2 = optimizers.SGD(learning_rate=0.001, momentum=0.9)\n",
        "model_2.compile(optimizer=opt_2, loss='categorical_crossentropy', metrics=['accuracy'])\n",
        "history = model_2.fit(X_train, y_train, epochs=10, batch_size=32, shuffle=True,validation_data=(X_val, y_val), verbose=1)\n",
        "saved_models.append(model_2)"
      ]
    },
    {
      "cell_type": "code",
      "execution_count": 10,
      "id": "b4585d13",
      "metadata": {
        "colab": {
          "base_uri": "https://localhost:8080/"
        },
        "id": "b4585d13",
        "outputId": "b7752030-543f-465f-d284-a23f1f4cfd70"
      },
      "outputs": [
        {
          "output_type": "stream",
          "name": "stdout",
          "text": [
            "Epoch 1/10\n",
            "1594/1594 [==============================] - 16s 10ms/step - loss: 0.2480 - accuracy: 0.9239 - val_loss: 0.0798 - val_accuracy: 0.9780\n",
            "Epoch 2/10\n",
            "1594/1594 [==============================] - 15s 9ms/step - loss: 0.0730 - accuracy: 0.9778 - val_loss: 0.0585 - val_accuracy: 0.9830\n",
            "Epoch 3/10\n",
            "1594/1594 [==============================] - 15s 10ms/step - loss: 0.0508 - accuracy: 0.9846 - val_loss: 0.0555 - val_accuracy: 0.9848\n",
            "Epoch 4/10\n",
            "1594/1594 [==============================] - 15s 9ms/step - loss: 0.0396 - accuracy: 0.9875 - val_loss: 0.0481 - val_accuracy: 0.9847\n",
            "Epoch 5/10\n",
            "1594/1594 [==============================] - 14s 9ms/step - loss: 0.0307 - accuracy: 0.9908 - val_loss: 0.0563 - val_accuracy: 0.9832\n",
            "Epoch 6/10\n",
            "1594/1594 [==============================] - 15s 9ms/step - loss: 0.0256 - accuracy: 0.9917 - val_loss: 0.0505 - val_accuracy: 0.9863\n",
            "Epoch 7/10\n",
            "1594/1594 [==============================] - 15s 9ms/step - loss: 0.0209 - accuracy: 0.9937 - val_loss: 0.0452 - val_accuracy: 0.9870\n",
            "Epoch 8/10\n",
            "1594/1594 [==============================] - 15s 10ms/step - loss: 0.0173 - accuracy: 0.9947 - val_loss: 0.0415 - val_accuracy: 0.9889\n",
            "Epoch 9/10\n",
            "1594/1594 [==============================] - 15s 9ms/step - loss: 0.0129 - accuracy: 0.9963 - val_loss: 0.0437 - val_accuracy: 0.9872\n",
            "Epoch 10/10\n",
            "1594/1594 [==============================] - 15s 9ms/step - loss: 0.0110 - accuracy: 0.9968 - val_loss: 0.0409 - val_accuracy: 0.9897\n"
          ]
        }
      ],
      "source": [
        "model_3 = keras.models.clone_model(model)\n",
        "opt_3 = optimizers.SGD(learning_rate=0.01, momentum=0.9)\n",
        "model_3.compile(optimizer=opt_3, loss='categorical_crossentropy', metrics=['accuracy'])\n",
        "history = model_3.fit(X_train, y_train, epochs=10, batch_size=32, shuffle=True,validation_data=(X_val, y_val), verbose=1)\n",
        "saved_models.append(model_3)"
      ]
    },
    {
      "cell_type": "markdown",
      "source": [
        "#Trying different architectures"
      ],
      "metadata": {
        "id": "lfacKEPLzw8o"
      },
      "id": "lfacKEPLzw8o"
    },
    {
      "cell_type": "code",
      "execution_count": 11,
      "id": "42f32926",
      "metadata": {
        "id": "42f32926"
      },
      "outputs": [],
      "source": [
        "model_4 = models.Sequential()\n",
        "model_4.add(layers.Conv2D(32, (3, 3), activation='relu', kernel_initializer='he_uniform', input_shape=(28, 28, 1)))\n",
        "model_4.add(layers.MaxPooling2D(pool_size=(2, 2), strides=(2, 2)))\n",
        "model_4.add(layers.Conv2D(32, (3, 3), activation='relu', kernel_initializer='he_uniform'))\n",
        "model_4.add(layers.MaxPooling2D(pool_size=(2, 2), strides=(2, 2)))\n",
        "model_4.add(layers.Flatten())\n",
        "model_4.add(layers.Dense(64, activation='relu', kernel_initializer='he_uniform'))\n",
        "model_4.add(layers.Dense(32, activation='relu', kernel_initializer='he_uniform'))\n",
        "model_4.add(layers.Dense(10, activation='softmax'))"
      ]
    },
    {
      "cell_type": "code",
      "source": [
        "opt_4 = optimizers.SGD(learning_rate=0.01, momentum=0.9)\n",
        "model_4.compile(optimizer=opt_4, loss='categorical_crossentropy', metrics=['accuracy'])\n",
        "history = model_4.fit(X_train, y_train, epochs=10, batch_size=32, shuffle=True,validation_data=(X_val, y_val), verbose=1)\n",
        "saved_models.append(model_4)"
      ],
      "metadata": {
        "colab": {
          "base_uri": "https://localhost:8080/"
        },
        "id": "DwmF_ats2X5c",
        "outputId": "b73889bb-812b-4506-94bd-3aa9ae577cca"
      },
      "id": "DwmF_ats2X5c",
      "execution_count": 12,
      "outputs": [
        {
          "output_type": "stream",
          "name": "stdout",
          "text": [
            "Epoch 1/10\n",
            "1594/1594 [==============================] - 36s 22ms/step - loss: 0.1718 - accuracy: 0.9459 - val_loss: 0.0693 - val_accuracy: 0.9781\n",
            "Epoch 2/10\n",
            "1594/1594 [==============================] - 36s 22ms/step - loss: 0.0543 - accuracy: 0.9829 - val_loss: 0.0455 - val_accuracy: 0.9873\n",
            "Epoch 3/10\n",
            "1594/1594 [==============================] - 36s 22ms/step - loss: 0.0376 - accuracy: 0.9884 - val_loss: 0.0456 - val_accuracy: 0.9879\n",
            "Epoch 4/10\n",
            "1594/1594 [==============================] - 35s 22ms/step - loss: 0.0295 - accuracy: 0.9911 - val_loss: 0.0413 - val_accuracy: 0.9876\n",
            "Epoch 5/10\n",
            "1594/1594 [==============================] - 35s 22ms/step - loss: 0.0232 - accuracy: 0.9924 - val_loss: 0.0434 - val_accuracy: 0.9886\n",
            "Epoch 6/10\n",
            "1594/1594 [==============================] - 35s 22ms/step - loss: 0.0180 - accuracy: 0.9940 - val_loss: 0.0498 - val_accuracy: 0.9868\n",
            "Epoch 7/10\n",
            "1594/1594 [==============================] - 35s 22ms/step - loss: 0.0145 - accuracy: 0.9955 - val_loss: 0.0426 - val_accuracy: 0.9893\n",
            "Epoch 8/10\n",
            "1594/1594 [==============================] - 35s 22ms/step - loss: 0.0117 - accuracy: 0.9963 - val_loss: 0.0427 - val_accuracy: 0.9898\n",
            "Epoch 9/10\n",
            "1594/1594 [==============================] - 35s 22ms/step - loss: 0.0091 - accuracy: 0.9971 - val_loss: 0.0384 - val_accuracy: 0.9897\n",
            "Epoch 10/10\n",
            "1594/1594 [==============================] - 35s 22ms/step - loss: 0.0070 - accuracy: 0.9976 - val_loss: 0.0508 - val_accuracy: 0.9883\n"
          ]
        }
      ]
    },
    {
      "cell_type": "code",
      "source": [
        "model_5 = models.Sequential()\n",
        "model_5.add(layers.Conv2D(16, (3, 3), strides = (2, 2),activation='relu', kernel_initializer='he_uniform', input_shape=(28, 28, 1)))\n",
        "model_5.add(layers.MaxPooling2D(pool_size=(2, 2), strides=(2, 2)))\n",
        "model_5.add(layers.Conv2D(32, (3, 3), strides = (2, 2),activation='relu', kernel_initializer='he_uniform'))\n",
        "model_5.add(layers.MaxPooling2D(pool_size=(2, 2), strides=(2, 2)))\n",
        "model_5.add(layers.Flatten())\n",
        "model_5.add(layers.Dense(64, activation='relu', kernel_initializer='he_uniform'))\n",
        "model_5.add(layers.Dense(32, activation='relu', kernel_initializer='he_uniform'))\n",
        "model_5.add(layers.Dense(10, activation='softmax'))"
      ],
      "metadata": {
        "id": "WqT_Zr8uQUK2"
      },
      "id": "WqT_Zr8uQUK2",
      "execution_count": 13,
      "outputs": []
    },
    {
      "cell_type": "code",
      "source": [
        "opt_5 = optimizers.SGD(learning_rate=0.01, momentum=0.9)\n",
        "model_5.compile(optimizer=opt_5, loss='categorical_crossentropy', metrics=['accuracy'])\n",
        "history = model_5.fit(X_train, y_train, epochs=10, batch_size=32, shuffle=True,validation_data=(X_val, y_val), verbose=1)\n",
        "saved_models.append(model_5)"
      ],
      "metadata": {
        "colab": {
          "base_uri": "https://localhost:8080/"
        },
        "id": "3-k560kDQVps",
        "outputId": "6130db8d-2e21-4dda-f86a-bf9776899de1"
      },
      "id": "3-k560kDQVps",
      "execution_count": 14,
      "outputs": [
        {
          "output_type": "stream",
          "name": "stdout",
          "text": [
            "Epoch 1/10\n",
            "1594/1594 [==============================] - 8s 5ms/step - loss: 0.4492 - accuracy: 0.8544 - val_loss: 0.2170 - val_accuracy: 0.9340\n",
            "Epoch 2/10\n",
            "1594/1594 [==============================] - 7s 5ms/step - loss: 0.1883 - accuracy: 0.9411 - val_loss: 0.1870 - val_accuracy: 0.9441\n",
            "Epoch 3/10\n",
            "1594/1594 [==============================] - 7s 5ms/step - loss: 0.1504 - accuracy: 0.9530 - val_loss: 0.1464 - val_accuracy: 0.9540\n",
            "Epoch 4/10\n",
            "1594/1594 [==============================] - 7s 5ms/step - loss: 0.1257 - accuracy: 0.9614 - val_loss: 0.1291 - val_accuracy: 0.9620\n",
            "Epoch 5/10\n",
            "1594/1594 [==============================] - 7s 5ms/step - loss: 0.1123 - accuracy: 0.9643 - val_loss: 0.1387 - val_accuracy: 0.9577\n",
            "Epoch 6/10\n",
            "1594/1594 [==============================] - 8s 5ms/step - loss: 0.1029 - accuracy: 0.9677 - val_loss: 0.1190 - val_accuracy: 0.9639\n",
            "Epoch 7/10\n",
            "1594/1594 [==============================] - 8s 5ms/step - loss: 0.0950 - accuracy: 0.9700 - val_loss: 0.1113 - val_accuracy: 0.9662\n",
            "Epoch 8/10\n",
            "1594/1594 [==============================] - 8s 5ms/step - loss: 0.0887 - accuracy: 0.9722 - val_loss: 0.1151 - val_accuracy: 0.9666\n",
            "Epoch 9/10\n",
            "1594/1594 [==============================] - 8s 5ms/step - loss: 0.0801 - accuracy: 0.9747 - val_loss: 0.1117 - val_accuracy: 0.9656\n",
            "Epoch 10/10\n",
            "1594/1594 [==============================] - 8s 5ms/step - loss: 0.0758 - accuracy: 0.9755 - val_loss: 0.1154 - val_accuracy: 0.9666\n"
          ]
        }
      ]
    },
    {
      "cell_type": "code",
      "source": [
        "model_6 = models.Sequential()\n",
        "model_6.add(layers.Conv2D(32, (3, 3), activation='relu', kernel_initializer='he_uniform', input_shape=(28, 28, 1)))\n",
        "model_6.add(layers.MaxPooling2D(pool_size=(2, 2), strides=(2, 2)))\n",
        "model_6.add(layers.Conv2D(32, (5, 5), activation='relu', kernel_initializer='he_uniform'))\n",
        "model_6.add(layers.MaxPooling2D(pool_size=(2, 2), strides=(2, 2)))\n",
        "model_6.add(layers.Flatten())\n",
        "model_6.add(layers.Dense(32, activation='relu', kernel_initializer='he_uniform'))\n",
        "model_6.add(layers.Dense(10, activation='softmax'))"
      ],
      "metadata": {
        "id": "abGTXD6xQWJy"
      },
      "id": "abGTXD6xQWJy",
      "execution_count": 15,
      "outputs": []
    },
    {
      "cell_type": "code",
      "source": [
        "opt_6 = optimizers.SGD(learning_rate=0.01, momentum=0.9)\n",
        "model_6.compile(optimizer=opt_6, loss='categorical_crossentropy', metrics=['accuracy'])\n",
        "history = model_6.fit(X_train, y_train, epochs=10, batch_size=32, shuffle=True,validation_data=(X_val, y_val), verbose=1)\n",
        "saved_models.append(model_6)"
      ],
      "metadata": {
        "colab": {
          "base_uri": "https://localhost:8080/"
        },
        "id": "5S8gC_2vQXXQ",
        "outputId": "b4958d6f-9752-4c33-9953-e1e782b17495"
      },
      "id": "5S8gC_2vQXXQ",
      "execution_count": null,
      "outputs": [
        {
          "output_type": "stream",
          "name": "stdout",
          "text": [
            "Epoch 1/10\n",
            "1040/1594 [==================>...........] - ETA: 14s - loss: 0.2405 - accuracy: 0.9245"
          ]
        }
      ]
    },
    {
      "cell_type": "markdown",
      "source": [
        "#Trying different batch sizes"
      ],
      "metadata": {
        "id": "1DOv_IDKZ1-G"
      },
      "id": "1DOv_IDKZ1-G"
    },
    {
      "cell_type": "code",
      "source": [
        "model_7 = keras.models.clone_model(model_4)\n",
        "opt_7 = optimizers.SGD(learning_rate=0.01, momentum=0.9)\n",
        "model_7.compile(optimizer=opt_7, loss='categorical_crossentropy', metrics=['accuracy'])\n",
        "history = model_7.fit(X_train, y_train, epochs=10, batch_size=64, shuffle=True,validation_data=(X_val, y_val), verbose=1)\n",
        "saved_models.append(model_7)"
      ],
      "metadata": {
        "id": "xX-bP8w8Z5MT"
      },
      "id": "xX-bP8w8Z5MT",
      "execution_count": null,
      "outputs": []
    },
    {
      "cell_type": "code",
      "source": [
        "model_8 = keras.models.clone_model(model_4)\n",
        "opt_8 = optimizers.SGD(learning_rate=0.01, momentum=0.9)\n",
        "model_8.compile(optimizer=opt_8, loss='categorical_crossentropy', metrics=['accuracy'])\n",
        "history = model_8.fit(X_train, y_train, epochs=10, batch_size=16, shuffle=True,validation_data=(X_val, y_val), verbose=1)\n",
        "saved_models.append(model_8)"
      ],
      "metadata": {
        "id": "MGGK_G4aaFf1"
      },
      "id": "MGGK_G4aaFf1",
      "execution_count": null,
      "outputs": []
    },
    {
      "cell_type": "code",
      "source": [
        "model_9 = keras.models.clone_model(model_4)\n",
        "opt_9 = optimizers.SGD(learning_rate=0.01, momentum=0.9)\n",
        "model_9.compile(optimizer=opt_9, loss='categorical_crossentropy', metrics=['accuracy'])\n",
        "history = model_9.fit(X_train, y_train, epochs=10, batch_size=64, shuffle=True,validation_data=(X_val, y_val), verbose=1)\n",
        "saved_models.append(model_9)"
      ],
      "metadata": {
        "id": "59tn-mJbaVjM"
      },
      "id": "59tn-mJbaVjM",
      "execution_count": null,
      "outputs": []
    },
    {
      "cell_type": "code",
      "source": [
        "model_10 = keras.models.clone_model(model_4)\n",
        "opt_10 = optimizers.SGD(learning_rate=0.01, momentum=0.9)\n",
        "model_10.compile(optimizer=opt_10, loss='categorical_crossentropy', metrics=['accuracy'])\n",
        "history = model_10.fit(X_train, y_train, epochs=10, batch_size=128, shuffle=True,validation_data=(X_val, y_val), verbose=1)\n",
        "saved_models.append(model_10)"
      ],
      "metadata": {
        "id": "GUbEm8hOaniN"
      },
      "id": "GUbEm8hOaniN",
      "execution_count": null,
      "outputs": []
    },
    {
      "cell_type": "markdown",
      "source": [
        "#Models Evaluation"
      ],
      "metadata": {
        "id": "cnDDr4SkRNxI"
      },
      "id": "cnDDr4SkRNxI"
    },
    {
      "cell_type": "code",
      "source": [
        "from operator import itemgetter\n",
        "for model in saved_models:\n",
        "  acc = model.evaluate(X_test, y_test, verbose = 0)\n",
        "  accuracies.append(acc)\n",
        "  print(acc[1] * 100)\n",
        "\n",
        "sorted(accuracies, key=itemgetter(1))\n",
        "print(accuracies[0][1])"
      ],
      "metadata": {
        "id": "R1e2WPRS-0Gl"
      },
      "id": "R1e2WPRS-0Gl",
      "execution_count": null,
      "outputs": []
    }
  ],
  "metadata": {
    "kernelspec": {
      "display_name": "Python 3 (ipykernel)",
      "language": "python",
      "name": "python3"
    },
    "language_info": {
      "codemirror_mode": {
        "name": "ipython",
        "version": 3
      },
      "file_extension": ".py",
      "mimetype": "text/x-python",
      "name": "python",
      "nbconvert_exporter": "python",
      "pygments_lexer": "ipython3",
      "version": "3.9.7"
    },
    "colab": {
      "name": "CNN.ipynb",
      "provenance": [],
      "collapsed_sections": [
        "8_zCodYOt9Kd",
        "oXfn9o7xuijs",
        "14UIOoXWzq_P",
        "lfacKEPLzw8o",
        "1DOv_IDKZ1-G",
        "cnDDr4SkRNxI"
      ]
    }
  },
  "nbformat": 4,
  "nbformat_minor": 5
}